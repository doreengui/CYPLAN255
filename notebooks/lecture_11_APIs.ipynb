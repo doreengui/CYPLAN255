{
 "cells": [
  {
   "cell_type": "markdown",
   "metadata": {
    "slideshow": {
     "slide_type": "slide"
    }
   },
   "source": [
    "# CYPLAN255\n",
    "### Urban Informatics and Visualization"
   ]
  },
  {
   "cell_type": "markdown",
   "metadata": {
    "slideshow": {
     "slide_type": "slide"
    }
   },
   "source": [
    "HIT RECORD and TRANSCRIBE"
   ]
  },
  {
   "cell_type": "markdown",
   "metadata": {
    "slideshow": {
     "slide_type": "slide"
    }
   },
   "source": [
    "# Lecture 11 -- APIs <img src=\"https://i.imgur.com/wNMULZP.jpg\" width=550 align='right' title=\"Man Standing in the Lumberyard of Seattle Cedar Lumber Manufacturing, Alfred Eisenstaedt (1939)\">\n",
    "******\n",
    "March 2, 2022 "
   ]
  },
  {
   "cell_type": "markdown",
   "metadata": {
    "slideshow": {
     "slide_type": "slide"
    }
   },
   "source": [
    "# Agenda\n",
    "1. Announcements\n",
    "2. Intro to APIs\n",
    "3. Using APIs with Python\n",
    "4. For next time\n",
    "5. Questions\n"
   ]
  },
  {
   "cell_type": "markdown",
   "metadata": {
    "slideshow": {
     "slide_type": "slide"
    }
   },
   "source": [
    "# 1. Announcements"
   ]
  },
  {
   "cell_type": "markdown",
   "metadata": {
    "slideshow": {
     "slide_type": "fragment"
    }
   },
   "source": [
    "- Final Project released tonight\n",
    "- Assignment 4 (project proposal + initial analysis) due March 13\n",
    "- GitHub Pages tutorial"
   ]
  },
  {
   "cell_type": "markdown",
   "metadata": {
    "slideshow": {
     "slide_type": "slide"
    }
   },
   "source": [
    "# 2. Intro to APIs"
   ]
  },
  {
   "cell_type": "markdown",
   "metadata": {
    "slideshow": {
     "slide_type": "fragment"
    }
   },
   "source": [
    "- What's an API?\n",
    "- Examples\n",
    "- Why are APIs useful?\n",
    "- Types of APIs and API responses"
   ]
  },
  {
   "cell_type": "markdown",
   "metadata": {
    "slideshow": {
     "slide_type": "slide"
    }
   },
   "source": [
    "## 2.1. What's an API?"
   ]
  },
  {
   "cell_type": "markdown",
   "metadata": {
    "slideshow": {
     "slide_type": "fragment"
    }
   },
   "source": [
    "- **A**pplication\n",
    "  - software, product, or service\n",
    "- **P**rogramming\n",
    "  - we're going to be writing code\n",
    "- **I**nterface\n",
    "  - a point where two systems, subjects, organizations, etc. meet and interact"
   ]
  },
  {
   "cell_type": "markdown",
   "metadata": {
    "slideshow": {
     "slide_type": "slide"
    }
   },
   "source": [
    "APIs are _transactional_, kind of like ordering food at a restaurant:\n",
    " 1. client requests an item from the menu\n",
    " 2. waiter takes the order and tells the cook what to make\n",
    " 3. cook prepares the item and gives it to the server\n",
    " 4. server brings client the item they ordered\n",
    "\n",
    "\n",
    "In this analogy, the **waiter** + **menu** + **server** constitute the **API**"
   ]
  },
  {
   "cell_type": "markdown",
   "metadata": {
    "slideshow": {
     "slide_type": "slide"
    }
   },
   "source": [
    "## 2.2 Examples"
   ]
  },
  {
   "cell_type": "markdown",
   "metadata": {
    "slideshow": {
     "slide_type": "fragment"
    }
   },
   "source": [
    "<center><img src=\"images/api1.png\" width=75%></center>"
   ]
  },
  {
   "cell_type": "markdown",
   "metadata": {
    "slideshow": {
     "slide_type": "slide"
    }
   },
   "source": [
    "<center><img src=\"images/api2.png\" width=75%></center>"
   ]
  },
  {
   "cell_type": "markdown",
   "metadata": {
    "slideshow": {
     "slide_type": "slide"
    }
   },
   "source": [
    "<center><img src=\"images/api3.png\" width=75%></center>"
   ]
  },
  {
   "cell_type": "markdown",
   "metadata": {
    "slideshow": {
     "slide_type": "fragment"
    }
   },
   "source": [
    "Yes, even pandas is an API!"
   ]
  },
  {
   "cell_type": "markdown",
   "metadata": {
    "slideshow": {
     "slide_type": "slide"
    }
   },
   "source": [
    "## 2.3 Why is an APIs useful? i.e. why do companies publish them?"
   ]
  },
  {
   "cell_type": "markdown",
   "metadata": {
    "slideshow": {
     "slide_type": "fragment"
    }
   },
   "source": [
    "- Standardizes the access points to a service or piece of software\n",
    "  - No ordering \"off the menu\"\n",
    "- Allows proprietary details to remain private\n",
    "  - The ingredients in the chef's secret sauce are never revealed\n",
    "- The implementation details do not matter to the client\n",
    "  - Customer doesn't need or want to be able to cook the dish themselves"
   ]
  },
  {
   "cell_type": "markdown",
   "metadata": {
    "slideshow": {
     "slide_type": "slide"
    }
   },
   "source": [
    "## 2.4 Types of APIs"
   ]
  },
  {
   "cell_type": "markdown",
   "metadata": {
    "slideshow": {
     "slide_type": "fragment"
    }
   },
   "source": [
    "1. APIs in a programming language\n",
    "  - Functions: `my_function()`\n",
    "  - Arguments/parameters: `my_function(args=x)`\n",
    "  - Function returns a value\n",
    "2. APIs over the web\n",
    "  - URL endpoints: `http://my.domain/endpoint`\n",
    "  - Query parameters: `http://my.domain/endpoint?args=x`\n",
    "  - HTTP request returns a value"
   ]
  },
  {
   "cell_type": "markdown",
   "metadata": {
    "slideshow": {
     "slide_type": "slide"
    }
   },
   "source": [
    "### 2.4.1 REST APIs"
   ]
  },
  {
   "cell_type": "markdown",
   "metadata": {
    "slideshow": {
     "slide_type": "fragment"
    }
   },
   "source": [
    "The most common type of API you'll encounter on the web is the **REST** API. REST APIs define a limited set of operations for transferring data between a **client** and a **server** using **HTTP**."
   ]
  },
  {
   "cell_type": "markdown",
   "metadata": {
    "slideshow": {
     "slide_type": "fragment"
    }
   },
   "source": [
    "<img src=\"https://phpenthusiast.com/theme/assets/images/blog/what_is_rest_api.png?021019a\" width=80%>"
   ]
  },
  {
   "cell_type": "markdown",
   "metadata": {
    "slideshow": {
     "slide_type": "slide"
    }
   },
   "source": [
    "## 2.5 API Response Objects"
   ]
  },
  {
   "cell_type": "markdown",
   "metadata": {
    "slideshow": {
     "slide_type": "fragment"
    }
   },
   "source": [
    "We've primarily been dealing with _tabular_ data so far (columns and rows), but most APIs on the web will return data in a **hierarchical** format like **JSON** or **XML**."
   ]
  },
  {
   "cell_type": "markdown",
   "metadata": {
    "slideshow": {
     "slide_type": "fragment"
    }
   },
   "source": [
    "<center><img src=\"images/api4.png\" width=500></center>"
   ]
  },
  {
   "cell_type": "markdown",
   "metadata": {
    "slideshow": {
     "slide_type": "slide"
    }
   },
   "source": [
    "JSON stands for **JavaScript Object Notation**. Since JavaScript is the \"language of the web\", most of the data you'll get from web APIs will be formatted as JSON.\n",
    "\n",
    "There's nothing special or fancy or scary about JSON: _it's just nested dictionaries_."
   ]
  },
  {
   "cell_type": "markdown",
   "metadata": {
    "slideshow": {
     "slide_type": "fragment"
    }
   },
   "source": [
    "_**JSON IS JUST NESTED DICTIONARIES**_"
   ]
  },
  {
   "cell_type": "markdown",
   "metadata": {
    "slideshow": {
     "slide_type": "fragment"
    }
   },
   "source": [
    "This means its super easy to work with JSON in Python. "
   ]
  },
  {
   "cell_type": "markdown",
   "metadata": {
    "slideshow": {
     "slide_type": "slide"
    }
   },
   "source": [
    "For example, Python comes with its own built-in module for reading and writing JSON files:\n",
    "\n",
    "```python\n",
    "import json\n",
    "```"
   ]
  },
  {
   "cell_type": "markdown",
   "metadata": {
    "slideshow": {
     "slide_type": "slide"
    }
   },
   "source": [
    "This is JSON:\n",
    "\n",
    "```javascript\n",
    "{\n",
    "  \"firstName\": \"Jason\",\n",
    "  \"lastName\": \"Response\",\n",
    "  \"address\": {\n",
    "    \"streetAddress\": \"404 Error Street\",\n",
    "    \"city\": \"\",\n",
    "    \"state\": \"Null Island\",\n",
    "    \"postalCode\": \"10100-0100\"\n",
    "  }\n",
    "  \"spouse\": null\n",
    "}\n",
    "```"
   ]
  },
  {
   "cell_type": "markdown",
   "metadata": {
    "slideshow": {
     "slide_type": "slide"
    }
   },
   "source": [
    "# 3. APIs, Python, and you"
   ]
  },
  {
   "cell_type": "markdown",
   "metadata": {
    "slideshow": {
     "slide_type": "slide"
    }
   },
   "source": [
    "## 3.1 Using the `requests` library"
   ]
  },
  {
   "cell_type": "markdown",
   "metadata": {
    "slideshow": {
     "slide_type": "fragment"
    }
   },
   "source": [
    "`requests` is my library of choice for querying API endpoints and URLs in Python. If you don't yet have it installed go ahead and do that now. Check out the [documentation](https://docs.python-requests.org/en/latest/).\n",
    "\n",
    "Using requests is as simple as:\n",
    "```python\n",
    "requests.get(\"https://my.domain/endpoint\")\n",
    "```\n",
    "\n",
    "It can get a bit more complicated than that if, for example, an API requires authentication, or if you want to `POST` rather than `GET` data. But we don't need to worry about that for now."
   ]
  },
  {
   "cell_type": "markdown",
   "metadata": {
    "slideshow": {
     "slide_type": "slide"
    }
   },
   "source": [
    "## 3.2. SF Trees"
   ]
  },
  {
   "cell_type": "markdown",
   "metadata": {
    "slideshow": {
     "slide_type": "fragment"
    }
   },
   "source": [
    "Let's get some street tree data from the San Francisco Open Data Portal and use it to practice with APIs. First, our imports:"
   ]
  },
  {
   "cell_type": "code",
   "execution_count": 1,
   "metadata": {
    "slideshow": {
     "slide_type": "fragment"
    }
   },
   "outputs": [],
   "source": [
    "import pandas as pd\n",
    "import json      # library for working with JSON-formatted text strings\n",
    "import requests  # library for accessing content from web URLs\n",
    "import pprint    # library for cleanly printing Python data structures\n",
    "pp = pprint.PrettyPrinter()"
   ]
  },
  {
   "cell_type": "markdown",
   "metadata": {
    "slideshow": {
     "slide_type": "slide"
    }
   },
   "source": [
    "Take a moment to familiarize yourself with the API endpoint we'll be using by reading the documentation:\n",
    "https://data.sfgov.org/City-Infrastructure/Tree-Caretakers-in-San-Francisco/frdy-nem6\n",
    "\n",
    "Under Export / SODA (Socrata Open Data API) we can see the API endpoint url, and the columns available. This is the \"menu\" in our restaurant analogy.\n",
    "\n",
    "Now let's download the data:"
   ]
  },
  {
   "cell_type": "code",
   "execution_count": 2,
   "metadata": {
    "slideshow": {
     "slide_type": "fragment"
    }
   },
   "outputs": [],
   "source": [
    "endpoint_url = \"https://data.sfgov.org/resource/frdy-nem6.json\"\n",
    "response = requests.get(endpoint_url)"
   ]
  },
  {
   "cell_type": "markdown",
   "metadata": {
    "slideshow": {
     "slide_type": "fragment"
    }
   },
   "source": [
    "Now let's take a look at what we got:"
   ]
  },
  {
   "cell_type": "code",
   "execution_count": 3,
   "metadata": {
    "slideshow": {
     "slide_type": "fragment"
    }
   },
   "outputs": [
    {
     "data": {
      "text/plain": [
       "<Response [200]>"
      ]
     },
     "execution_count": 3,
     "metadata": {},
     "output_type": "execute_result"
    }
   ],
   "source": [
    "response"
   ]
  },
  {
   "cell_type": "markdown",
   "metadata": {
    "slideshow": {
     "slide_type": "slide"
    }
   },
   "source": [
    "We can use the `response.text` command to just look at the first 500 characters of the response object:"
   ]
  },
  {
   "cell_type": "code",
   "execution_count": 4,
   "metadata": {
    "slideshow": {
     "slide_type": "fragment"
    }
   },
   "outputs": [
    {
     "name": "stdout",
     "output_type": "stream",
     "text": [
      "<class 'str'>\n",
      "[ {\n",
      "  \"siteorder\" : \"1\",\n",
      "  \"xcoord\" : \"6016267.25355\",\n",
      "  \"location\" : {\n",
      "    \"latitude\" : \"37.73636162009325\",\n",
      "    \"human_address\" : \"{\\\"address\\\": \\\"\\\", \\\"city\\\": \\\"\\\", \\\"state\\\": \\\"\\\", \\\"zip\\\": \\\"\\\"}\",\n",
      "    \"needs_recoding\" : false,\n",
      "    \"longitude\" : \"-122.38620200123\"\n",
      "  },\n",
      "  \"qlegalstatus\" : \"DPW Maintained\",\n",
      "  \"ycoord\" : \"2096084.36716\",\n",
      "  \"planttype\" : \"Tree\",\n",
      "  \"dbh\" : \"16\",\n",
      "  \"qaddress\" : \"9 Young Ct\",\n",
      "  \"latitude\" : \"37.73636162009325\",\n",
      "  \"qcaretaker\" : \"Private\",\n",
      "  \"qsiteinfo\" : \"Sidewalk\n"
     ]
    }
   ],
   "source": [
    "results = response.text\n",
    "print(type(results))\n",
    "print(results[:500])"
   ]
  },
  {
   "cell_type": "markdown",
   "metadata": {
    "slideshow": {
     "slide_type": "slide"
    }
   },
   "source": [
    "We can use Python's `json` module to convert that string into a dictionary (or list of dictionaries):"
   ]
  },
  {
   "cell_type": "code",
   "execution_count": 5,
   "metadata": {
    "scrolled": true,
    "slideshow": {
     "slide_type": "fragment"
    }
   },
   "outputs": [
    {
     "name": "stdout",
     "output_type": "stream",
     "text": [
      "[{'siteorder': '1', 'xcoord': '6016267.25355', 'location': {'latitude': '37.73636162009325', 'human_address': '{\"address\": \"\", \"city\": \"\", \"state\": \"\", \"zip\": \"\"}', 'needs_recoding': False, 'longitude': '-122.38620200123'}, 'qlegalstatus': 'DPW Maintained', 'ycoord': '2096084.36716', 'planttype': 'Tree', 'dbh': '16', 'qaddress': '9 Young Ct', 'latitude': '37.73636162009325', 'qcaretaker': 'Private', 'qsiteinfo': 'Sidewalk: Curb side : Cutout', 'longitude': '-122.38620200123', 'qspecies': 'Pyrus calleryana :: Ornamental Pear', 'plotsize': 'Width 3ft', 'treeid': '196949'}, {'siteorder': '1', 'xcoord': '5993354.86667', 'location': {'latitude': '37.73839153834396', 'human_address': '{\"address\": \"\", \"city\": \"\", \"state\": \"\", \"zip\": \"\"}', 'needs_recoding': False, 'longitude': '-122.4655069999494'}, 'qlegalstatus': 'DPW Maintained', 'ycoord': '2097295.22775', 'planttype': 'Tree', 'dbh': '2', 'qaddress': '9 Yerba Buena Ave', 'latitude': '37.73839153834396', 'qcaretaker': 'Private', 'qsiteinfo': 'Sidewalk: Curb side : Yard', 'longitude': '-122.4655069999494', 'qspecies': 'Acer rubrum :: Red Maple', 'plotsize': 'Width 4ft', 'treeid': '203422'}, {'siteorder': '1', 'xcoord': '5993642.27748', 'location': {'latitude': '37.73775178646406', 'human_address': '{\"address\": \"\", \"city\": \"\", \"state\": \"\", \"zip\": \"\"}', 'needs_recoding': False, 'longitude': '-122.46449593033032'}, 'plantdate': '2016-02-24T00:00:00.000', 'qlegalstatus': 'Significant Tree', 'ycoord': '2097056.19499', 'planttype': 'Tree', 'dbh': '3', 'qaddress': '9x Yerba Buena Ave', 'latitude': '37.73775178646406', 'qcaretaker': 'Private', 'permitnotes': 'Permit Number 776557', 'qsiteinfo': 'Sidewalk: Curb side : Cutout', 'longitude': '-122.46449593033032', 'qspecies': 'Acer rubrum :: Red Maple', 'treeid': '115737'}]\n",
      "<class 'list'>\n"
     ]
    }
   ],
   "source": [
    "# parse the string into a Python dictionary (loads = \"load string\")\n",
    "data = json.loads(results)\n",
    "print(data[:3])\n",
    "print(type(data))"
   ]
  },
  {
   "cell_type": "markdown",
   "metadata": {
    "slideshow": {
     "slide_type": "slide"
    }
   },
   "source": [
    "Pretty Print makes this a bit easier to read:"
   ]
  },
  {
   "cell_type": "code",
   "execution_count": 6,
   "metadata": {
    "scrolled": true,
    "slideshow": {
     "slide_type": "fragment"
    }
   },
   "outputs": [
    {
     "name": "stdout",
     "output_type": "stream",
     "text": [
      "[{'dbh': '16',\n",
      "  'latitude': '37.73636162009325',\n",
      "  'location': {'human_address': '{\"address\": \"\", \"city\": \"\", \"state\": \"\", '\n",
      "                                '\"zip\": \"\"}',\n",
      "               'latitude': '37.73636162009325',\n",
      "               'longitude': '-122.38620200123',\n",
      "               'needs_recoding': False},\n",
      "  'longitude': '-122.38620200123',\n",
      "  'planttype': 'Tree',\n",
      "  'plotsize': 'Width 3ft',\n",
      "  'qaddress': '9 Young Ct',\n",
      "  'qcaretaker': 'Private',\n",
      "  'qlegalstatus': 'DPW Maintained',\n",
      "  'qsiteinfo': 'Sidewalk: Curb side : Cutout',\n",
      "  'qspecies': 'Pyrus calleryana :: Ornamental Pear',\n",
      "  'siteorder': '1',\n",
      "  'treeid': '196949',\n",
      "  'xcoord': '6016267.25355',\n",
      "  'ycoord': '2096084.36716'},\n",
      " {'dbh': '2',\n",
      "  'latitude': '37.73839153834396',\n",
      "  'location': {'human_address': '{\"address\": \"\", \"city\": \"\", \"state\": \"\", '\n",
      "                                '\"zip\": \"\"}',\n",
      "               'latitude': '37.73839153834396',\n",
      "               'longitude': '-122.4655069999494',\n",
      "               'needs_recoding': False},\n",
      "  'longitude': '-122.4655069999494',\n",
      "  'planttype': 'Tree',\n",
      "  'plotsize': 'Width 4ft',\n",
      "  'qaddress': '9 Yerba Buena Ave',\n",
      "  'qcaretaker': 'Private',\n",
      "  'qlegalstatus': 'DPW Maintained',\n",
      "  'qsiteinfo': 'Sidewalk: Curb side : Yard',\n",
      "  'qspecies': 'Acer rubrum :: Red Maple',\n",
      "  'siteorder': '1',\n",
      "  'treeid': '203422',\n",
      "  'xcoord': '5993354.86667',\n",
      "  'ycoord': '2097295.22775'},\n",
      " {'dbh': '3',\n",
      "  'latitude': '37.73775178646406',\n",
      "  'location': {'human_address': '{\"address\": \"\", \"city\": \"\", \"state\": \"\", '\n",
      "                                '\"zip\": \"\"}',\n",
      "               'latitude': '37.73775178646406',\n",
      "               'longitude': '-122.46449593033032',\n",
      "               'needs_recoding': False},\n",
      "  'longitude': '-122.46449593033032',\n",
      "  'permitnotes': 'Permit Number 776557',\n",
      "  'plantdate': '2016-02-24T00:00:00.000',\n",
      "  'planttype': 'Tree',\n",
      "  'qaddress': '9x Yerba Buena Ave',\n",
      "  'qcaretaker': 'Private',\n",
      "  'qlegalstatus': 'Significant Tree',\n",
      "  'qsiteinfo': 'Sidewalk: Curb side : Cutout',\n",
      "  'qspecies': 'Acer rubrum :: Red Maple',\n",
      "  'siteorder': '1',\n",
      "  'treeid': '115737',\n",
      "  'xcoord': '5993642.27748',\n",
      "  'ycoord': '2097056.19499'}]\n"
     ]
    }
   ],
   "source": [
    "pp.pprint(data[:3])"
   ]
  },
  {
   "cell_type": "markdown",
   "metadata": {
    "slideshow": {
     "slide_type": "slide"
    }
   },
   "source": [
    "Pandas makes it easy to work with JSON since it's already so used to working with dictionaries:"
   ]
  },
  {
   "cell_type": "code",
   "execution_count": 7,
   "metadata": {
    "slideshow": {
     "slide_type": "fragment"
    }
   },
   "outputs": [
    {
     "data": {
      "text/html": [
       "<div>\n",
       "<style scoped>\n",
       "    .dataframe tbody tr th:only-of-type {\n",
       "        vertical-align: middle;\n",
       "    }\n",
       "\n",
       "    .dataframe tbody tr th {\n",
       "        vertical-align: top;\n",
       "    }\n",
       "\n",
       "    .dataframe thead th {\n",
       "        text-align: right;\n",
       "    }\n",
       "</style>\n",
       "<table border=\"1\" class=\"dataframe\">\n",
       "  <thead>\n",
       "    <tr style=\"text-align: right;\">\n",
       "      <th></th>\n",
       "      <th>qspecies</th>\n",
       "      <th>latitude</th>\n",
       "      <th>longitude</th>\n",
       "    </tr>\n",
       "  </thead>\n",
       "  <tbody>\n",
       "    <tr>\n",
       "      <th>0</th>\n",
       "      <td>Pyrus calleryana :: Ornamental Pear</td>\n",
       "      <td>37.73636162009325</td>\n",
       "      <td>-122.38620200123</td>\n",
       "    </tr>\n",
       "    <tr>\n",
       "      <th>1</th>\n",
       "      <td>Acer rubrum :: Red Maple</td>\n",
       "      <td>37.73839153834396</td>\n",
       "      <td>-122.4655069999494</td>\n",
       "    </tr>\n",
       "    <tr>\n",
       "      <th>2</th>\n",
       "      <td>Acer rubrum :: Red Maple</td>\n",
       "      <td>37.73775178646406</td>\n",
       "      <td>-122.46449593033032</td>\n",
       "    </tr>\n",
       "    <tr>\n",
       "      <th>3</th>\n",
       "      <td>Eucalyptus sideroxylon :: Red Ironbark</td>\n",
       "      <td>37.739218948518214</td>\n",
       "      <td>-122.3778693642827</td>\n",
       "    </tr>\n",
       "    <tr>\n",
       "      <th>4</th>\n",
       "      <td>Eucalyptus nicholii :: Nichol's Willow-Leafed ...</td>\n",
       "      <td>37.739218948518214</td>\n",
       "      <td>-122.3778693642827</td>\n",
       "    </tr>\n",
       "  </tbody>\n",
       "</table>\n",
       "</div>"
      ],
      "text/plain": [
       "                                            qspecies            latitude  \\\n",
       "0                Pyrus calleryana :: Ornamental Pear   37.73636162009325   \n",
       "1                           Acer rubrum :: Red Maple   37.73839153834396   \n",
       "2                           Acer rubrum :: Red Maple   37.73775178646406   \n",
       "3             Eucalyptus sideroxylon :: Red Ironbark  37.739218948518214   \n",
       "4  Eucalyptus nicholii :: Nichol's Willow-Leafed ...  37.739218948518214   \n",
       "\n",
       "             longitude  \n",
       "0     -122.38620200123  \n",
       "1   -122.4655069999494  \n",
       "2  -122.46449593033032  \n",
       "3   -122.3778693642827  \n",
       "4   -122.3778693642827  "
      ]
     },
     "execution_count": 7,
     "metadata": {},
     "output_type": "execute_result"
    }
   ],
   "source": [
    "pd.DataFrame.from_records(data, columns=['qspecies', 'latitude','longitude']).head()"
   ]
  },
  {
   "cell_type": "markdown",
   "metadata": {
    "slideshow": {
     "slide_type": "slide"
    }
   },
   "source": [
    "But perhaps it would have been easier to work directly with the JSON output of our response object instead of using `response.text` and `json.loads()`:"
   ]
  },
  {
   "cell_type": "code",
   "execution_count": 8,
   "metadata": {},
   "outputs": [
    {
     "data": {
      "text/html": [
       "<div>\n",
       "<style scoped>\n",
       "    .dataframe tbody tr th:only-of-type {\n",
       "        vertical-align: middle;\n",
       "    }\n",
       "\n",
       "    .dataframe tbody tr th {\n",
       "        vertical-align: top;\n",
       "    }\n",
       "\n",
       "    .dataframe thead th {\n",
       "        text-align: right;\n",
       "    }\n",
       "</style>\n",
       "<table border=\"1\" class=\"dataframe\">\n",
       "  <thead>\n",
       "    <tr style=\"text-align: right;\">\n",
       "      <th></th>\n",
       "      <th>qspecies</th>\n",
       "      <th>latitude</th>\n",
       "      <th>longitude</th>\n",
       "    </tr>\n",
       "  </thead>\n",
       "  <tbody>\n",
       "    <tr>\n",
       "      <th>0</th>\n",
       "      <td>Pyrus calleryana :: Ornamental Pear</td>\n",
       "      <td>37.73636162009325</td>\n",
       "      <td>-122.38620200123</td>\n",
       "    </tr>\n",
       "    <tr>\n",
       "      <th>1</th>\n",
       "      <td>Acer rubrum :: Red Maple</td>\n",
       "      <td>37.73839153834396</td>\n",
       "      <td>-122.4655069999494</td>\n",
       "    </tr>\n",
       "    <tr>\n",
       "      <th>2</th>\n",
       "      <td>Acer rubrum :: Red Maple</td>\n",
       "      <td>37.73775178646406</td>\n",
       "      <td>-122.46449593033032</td>\n",
       "    </tr>\n",
       "    <tr>\n",
       "      <th>3</th>\n",
       "      <td>Eucalyptus sideroxylon :: Red Ironbark</td>\n",
       "      <td>37.739218948518214</td>\n",
       "      <td>-122.3778693642827</td>\n",
       "    </tr>\n",
       "    <tr>\n",
       "      <th>4</th>\n",
       "      <td>Eucalyptus nicholii :: Nichol's Willow-Leafed ...</td>\n",
       "      <td>37.739218948518214</td>\n",
       "      <td>-122.3778693642827</td>\n",
       "    </tr>\n",
       "  </tbody>\n",
       "</table>\n",
       "</div>"
      ],
      "text/plain": [
       "                                            qspecies            latitude  \\\n",
       "0                Pyrus calleryana :: Ornamental Pear   37.73636162009325   \n",
       "1                           Acer rubrum :: Red Maple   37.73839153834396   \n",
       "2                           Acer rubrum :: Red Maple   37.73775178646406   \n",
       "3             Eucalyptus sideroxylon :: Red Ironbark  37.739218948518214   \n",
       "4  Eucalyptus nicholii :: Nichol's Willow-Leafed ...  37.739218948518214   \n",
       "\n",
       "             longitude  \n",
       "0     -122.38620200123  \n",
       "1   -122.4655069999494  \n",
       "2  -122.46449593033032  \n",
       "3   -122.3778693642827  \n",
       "4   -122.3778693642827  "
      ]
     },
     "execution_count": 8,
     "metadata": {},
     "output_type": "execute_result"
    }
   ],
   "source": [
    "pd.DataFrame.from_dict(response.json())[['qspecies', 'latitude','longitude']].head()"
   ]
  },
  {
   "cell_type": "markdown",
   "metadata": {
    "slideshow": {
     "slide_type": "slide"
    }
   },
   "source": [
    "But perhaps it would have been even _easier_ if we had made our request directly from pandas in the first place:"
   ]
  },
  {
   "cell_type": "code",
   "execution_count": 9,
   "metadata": {
    "slideshow": {
     "slide_type": "fragment"
    }
   },
   "outputs": [
    {
     "data": {
      "text/html": [
       "<div>\n",
       "<style scoped>\n",
       "    .dataframe tbody tr th:only-of-type {\n",
       "        vertical-align: middle;\n",
       "    }\n",
       "\n",
       "    .dataframe tbody tr th {\n",
       "        vertical-align: top;\n",
       "    }\n",
       "\n",
       "    .dataframe thead th {\n",
       "        text-align: right;\n",
       "    }\n",
       "</style>\n",
       "<table border=\"1\" class=\"dataframe\">\n",
       "  <thead>\n",
       "    <tr style=\"text-align: right;\">\n",
       "      <th></th>\n",
       "      <th>qspecies</th>\n",
       "      <th>latitude</th>\n",
       "      <th>longitude</th>\n",
       "    </tr>\n",
       "  </thead>\n",
       "  <tbody>\n",
       "    <tr>\n",
       "      <th>0</th>\n",
       "      <td>Pyrus calleryana :: Ornamental Pear</td>\n",
       "      <td>37.736362</td>\n",
       "      <td>-122.386202</td>\n",
       "    </tr>\n",
       "    <tr>\n",
       "      <th>1</th>\n",
       "      <td>Acer rubrum :: Red Maple</td>\n",
       "      <td>37.738392</td>\n",
       "      <td>-122.465507</td>\n",
       "    </tr>\n",
       "    <tr>\n",
       "      <th>2</th>\n",
       "      <td>Acer rubrum :: Red Maple</td>\n",
       "      <td>37.737752</td>\n",
       "      <td>-122.464496</td>\n",
       "    </tr>\n",
       "    <tr>\n",
       "      <th>3</th>\n",
       "      <td>Eucalyptus nicholii :: Nichol's Willow-Leafed ...</td>\n",
       "      <td>37.739219</td>\n",
       "      <td>-122.377869</td>\n",
       "    </tr>\n",
       "    <tr>\n",
       "      <th>4</th>\n",
       "      <td>Eucalyptus nicholii :: Nichol's Willow-Leafed ...</td>\n",
       "      <td>37.739219</td>\n",
       "      <td>-122.377869</td>\n",
       "    </tr>\n",
       "  </tbody>\n",
       "</table>\n",
       "</div>"
      ],
      "text/plain": [
       "                                            qspecies   latitude   longitude\n",
       "0                Pyrus calleryana :: Ornamental Pear  37.736362 -122.386202\n",
       "1                           Acer rubrum :: Red Maple  37.738392 -122.465507\n",
       "2                           Acer rubrum :: Red Maple  37.737752 -122.464496\n",
       "3  Eucalyptus nicholii :: Nichol's Willow-Leafed ...  37.739219 -122.377869\n",
       "4  Eucalyptus nicholii :: Nichol's Willow-Leafed ...  37.739219 -122.377869"
      ]
     },
     "execution_count": 9,
     "metadata": {},
     "output_type": "execute_result"
    }
   ],
   "source": [
    "pd.read_json(endpoint_url)[['qspecies', 'latitude','longitude']].head()"
   ]
  },
  {
   "cell_type": "markdown",
   "metadata": {
    "slideshow": {
     "slide_type": "slide"
    }
   },
   "source": [
    "### 3.3. Exercise: Police Stops in San Francisco\n",
    "\n",
    "Let's examine a second dataset from the San Francisco Open Data Portal for practice: police stops.\n",
    "\n",
    "Go to the City Open Data Portal and get the url for a JSON request for the Police Stops dataset.  Here is a shortcut to the dataset: https://data.sfgov.org/Public-Safety/Police-Department-Calls-for-Service/hz9m-tj6z\n",
    "\n",
    "Use the methods we just learned for loading the data and creating a DataFrame. Explore the data using techniques from previous homeworks and lectures. For example, you could generate some summary statistics, or make some charts. What if you made a scatter plot where the x and y axes were the latitude and longitude columns from the traffic stop data, respectively? "
   ]
  },
  {
   "cell_type": "code",
   "execution_count": 10,
   "metadata": {},
   "outputs": [],
   "source": [
    "police_stop_url = \"https://data.sfgov.org/resource/hz9m-tj6z.json\"\n",
    "response = requests.get(police_stop_url)"
   ]
  },
  {
   "cell_type": "code",
   "execution_count": 11,
   "metadata": {},
   "outputs": [
    {
     "data": {
      "text/plain": [
       "'[{\"crime_id\":\"161080584\",\"original_crimetype_name\":\"Poss\",\"report_date\":\"2016-04-17T00:00:00.000\",\"call_date\":\"2016-04-17T00:00:00.000\",\"offense_date\":\"2016-04-17T00:00:00.000\",\"call_time\":\"05:23\",\"call_dttm\":\"2016-04-17T05:23:00.000\",\"disposition\":\"NOM\",\"address\":\"0 Block Of Evelyn Wy\",\"city\":\"San Francisco\",\"state\":\"CA\",\"agency_id\":\"1\",\"address_type\":\"Premise Address\"}\\n,{\"crime_id\":\"190123549\",\"original_crimetype_name\":\"Rep\",\"report_date\":\"2019-01-12T00:00:00.000\",\"call_date\":\"2019-01-12T00:00:00.000\",\"offense_date\":\"2019-01-12T00:00:00.000\",\"call_time\":\"20:36\",\"call_dttm\":\"2019-01-12T20:36:00.000\",\"disposition\":\"HAN\",\"address\":\"600 Block Of Eddy St\",\"city\":\"San Francisco\",\"state\":\"CA\",\"agency_id\":\"1\",\"address_type\":\"Premise Address\"}\\n,{\"crime_id\":\"161100690\",\"original_crimetype_name\":\"911\",\"report_date\":\"2016-04-19T00:00:00.000\",\"call_date\":\"2016-04-19T00:00:00.000\",\"offense_date\":\"2016-04-19T00:00:00.000\",\"call_time\":\"07:45\",\"call_dttm\":\"2016-04-19T07:45:00.000\",\"disposition\":\"ADV\",\"address\":\"1700 Block Of Jerrold Av\",\"city\":\"San Francisco\",\"state\":\"CA\",\"agency_id\":\"1\",\"address_type\":\"Premise Address\"}\\n,{\"crime_id\":\"190021594\",\"original_crimetype_name\":\"Ug\",\"report_date\":\"2019-01-02T00:00:00.000\",\"call_date\":\"2019-01-02T00:00:00.000\",\"offense_date\":\"2019-01-02T00:00:00.000\",\"call_time\":\"12:04\",\"call_dttm\":\"2019-01-02T12:04:00.000\",\"disposition\":\"HAN\",\"address\":\"400 Block Of Eddy St\",\"city\":\"San Francisco\",\"state\":\"CA\",\"agency_id\":\"1\",\"address_type\":\"Premise Address\"}\\n,{\"crime_id\":\"193041800\",\"original_crimetype_name\":\"Traf Violation Cite\",\"report_date\":\"2019-10-31T00:00:00.000\",\"call_date\":\"2019-10-31T00:00:00.000\",\"offense_date\":\"2019-10-31T00:00:00.000\",\"call_time\":\"12:30\",\"call_dttm\":\"2019-10-31T12:30:00.000\",\"disposition\":\"GOA\",\"address\":\"Bowdoin St/silver Av\",\"city\":\"San Francisco\",\"state\":\"CA\",\"agency_id\":\"1\",\"address_type\":\"Intersection\"}\\n,{\"crime_id\":\"190043447\",\"original_crimetype_name\":\"Npat\",\"report_date\":\"2019-01-04T00:00:00.000\",\"call_date\":\"2019-01-04T00:00:00.000\",\"offense_date\":\"2019-01-04T00:00:00.000\",\"call_time\":\"20:23\",\"call_dttm\":\"2019-01-04T20:23:00.000\",\"disposition\":\"HAN\",\"address\":\"400 Block Of Larkin St\",\"city\":\"San Francisco\",\"state\":\"CA\",\"agency_id\":\"1\",\"address_type\":\"Premise Address\"}\\n,{\"crime_id\":\"193372521\",\"original_crimetype_name\":\"Well Being Check\",\"report_date\":\"2019-12-03T00:00:00.000\",\"call_date\":\"2019-12-03T00:00:00.000\",\"offense_date\":\"2019-12-03T00:00:00.000\",\"call_time\":\"15:15\",\"call_dttm\":\"2019-12-03T15:15:00.000\",\"disposition\":\"UTL\",\"address\":\"Harrison St/8th St\",\"city\":\"San Francisco\",\"state\":\"CA\",\"agency_id\":\"1\",\"address_type\":\"Intersection\"}\\n,{\"crime_id\":\"190102016\",\"original_crimetype_name\":\"Traffic Stop\",\"report_date\":\"2019-01-10T00:00:00.000\",\"call_date\":\"2019-01-10T00:00:00.000\",\"offense_date\":\"2019-01-10T00:00:00.000\",\"call_time\":\"13:13\",\"call_dttm\":\"2019-01-10T13:13:00.000\",\"disposition\":\"CIT\",\"address\":\"5th St/bryant St\",\"city\":\"San Francisco\",\"state\":\"CA\",\"agency_id\":\"1\",\"address_type\":\"Intersection\"}\\n,{\"crime_id\":\"160921166\",\"original_crimetype_name\":\"Passing Call\",\"report_date\":\"2016-04-01T00:00:00.000\",\"call_date\":\"2016-04-01T00:00:00.000\",\"offense_date\":\"2016-04-01T00:00:00.000\",\"call_time\":\"10:20\",\"call_dttm\":\"2016-04-01T10:20:00.000\",\"disposition\":\"HAN\",\"address\":\"200 Block Of Jefferson St\",\"city\":\"San Francisco\",\"state\":\"CA\",\"agency_id\":\"1\",\"address_type\":\"Common Location\",\"common_location\":\"Pier 45\"}\\n,{\"crime_id\":\"190132758\",\"original_crimetype_name\":\"Traf Violation Cite\",\"report_date\":\"2019-01-13T00:00:00.000\",\"call_date\":\"2019-01-13T00:00:00.000\",\"offense_date\":\"2019-01-13T00:00:00.000\",\"call_time\":\"18:04\",\"call_dttm\":\"2019-01-13T18:04:00.000\",\"disposition\":\"CIT\",\"address\":\"1400 Block Of 26th Av\",\"city\":\"San Francisco\",\"state\":\"CA\",\"agency_id\":\"1\",\"address_type\":\"Premise Address\"}\\n,{\"crime_id\":\"190021406\",\"original_crimetype_name\":\"Veh Accident\",\"report_date\":\"2019-01-02T00:00:00.000\",\"call_date\":\"2019-01-02T00:00:00.000\",\"offense_date\":\"2019-01-02T00:00:00.000\",\"call_time\":\"11:17\",\"call_dttm\":\"2019-01-02T11:17:00.000\",\"disposition\":\"REP\",\"address\":\"Visitacion Av/bayshore Bl\",\"city\":\"San Francisco\",\"state\":\"CA\",\"agency_id\":\"1\",\"address_type\":\"Intersection\"}\\n,{\"crime_id\":\"190111166\",\"original_crimetype_name\":\"Homeless Complaint\",\"report_date\":\"2019-01-11T00:00:00.000\",\"call_date\":\"2019-01-11T00:00:00.000\",\"offense_date\":\"2019-01-11T00:00:00.000\",\"call_time\":\"10:00\",\"call_dttm\":\"2019-01-11T10:00:00.000\",\"disposition\":\"ADV\",\"address\":\"Sloat Bl/45th Av\",\"city\":\"San Francisco\",\"state\":\"CA\",\"agency_id\":\"1\",\"address_type\":\"Intersection\"}\\n,{\"crime_id\":\"160931767\",\"original_crimetype_name\":\"Ro Viol\",\"report_date\":\"2016-04-02T00:00:00.000\",\"call_date\":\"2016-04-02T00:00:00.000\",\"offense_date\":\"2016-04-02T00:00:00.000\",\"call_time\":\"13:13\",\"call_dttm\":\"2016-04-02T13:13:00.000\",\"disposition\":\"HAN\",\"address\":\"500 Block Of Alvarado St\",\"city\":\"San Francisco\",\"state\":\"CA\",\"agency_id\":\"1\",\"address_type\":\"Premise Address\"}\\n,{\"crime_id\":\"160933201\",\"original_crimetype_name\":\"Vehicle Alarm\",\"report_date\":\"2016-04-02T00:00:00.000\",\"call_date\":\"2016-04-02T00:00:00.000\",\"offense_date\":\"2016-04-02T00:00:00.000\",\"call_time\":\"19:52\",\"call_dttm\":\"2016-04-02T19:52:00.000\",\"disposition\":\"UTL\",\"address\":\"700 Block Of Clipper St\",\"city\":\"San Francisco\",\"state\":\"CA\",\"agency_id\":\"1\",\"address_type\":\"Premise Address\"}\\n,{\"crime_id\":\"190143900\",\"original_crimetype_name\":\"Passing Call\",\"report_date\":\"2019-01-14T00:00:00.000\",\"call_date\":\"2019-01-14T00:00:00.000\",\"offense_date\":\"2019-01-14T00:00:00.000\",\"call_time\":\"22:30\",\"call_dttm\":\"2019-01-14T22:30:00.000\",\"disposition\":\"Not recorded\",\"address\":\"Block Of Irving St\",\"city\":\"San Francisco\",\"state\":\"CA\",\"agency_id\":\"1\",\"address_type\":\"Premise Address\"}\\n,{\"crime_id\":\"190152358\",\"original_crimetype_name\":\"Traffic Stop\",\"report_date\":\"2019-01-15T00:00:00.000\",\"call_date\":\"2019-01-15T00:00:00.000\",\"offense_date\":\"2019-01-15T00:00:00.000\",\"call_time\":\"14:56\",\"call_dttm\":\"2019-01-15T14:56:00.000\",\"disposition\":\"ADV\",\"address\":\"Santa Clara Av/monterey Bl\",\"city\":\"San Francisco\",\"state\":\"CA\",\"agency_id\":\"1\",\"address_type\":\"Intersection\"}\\n,{\"crime_id\":\"190210457\",\"original_crimetype_name\":\"X\",\"report_date\":\"2019-01-21T00:00:00.000\",\"call_date\":\"2019-01-21T00:00:00.000\",\"offense_date\":\"2019-01-21T00:00:00.000\",\"call_time\":\"05:34\",\"call_dttm\":\"2019-01-21T05:34:00.000\",\"disposition\":\"REP\",\"address\":\"Grove St/franklin St\",\"city\":\"San Francisco\",\"state\":\"CA\",\"agency_id\":\"1\",\"address_type\":\"Intersection\"}\\n,{\"crime_id\":\"193373043\",\"original_crimetype_name\":\"586\",\"report_date\":\"2019-12-03T00:00:00.000\",\"call_date\":\"2019-12-03T00:00:00.000\",\"offense_date\":\"2019-12-03T00:00:00.000\",\"call_time\":\"17:20\",\"call_dttm\":\"2019-12-03T17:20:00.000\",\"disposition\":\"HAN\",\"address\":\"19th Av/holloway Av\",\"city\":\"San Francisco\",\"state\":\"CA\",\"agency_id\":\"1\",\"address_type\":\"Intersection\"}\\n,{\"crime_id\":\"190114144\",\"original_crimetype_name\":\"Well Being Check\",\"report_date\":\"2019-01-11T00:00:00.000\",\"call_date\":\"2019-01-11T00:00:00.000\",\"offense_date\":\"2019-01-11T00:00:00.000\",\"call_time\":\"23:10\",\"call_dttm\":\"2019-01-11T23:10:00.000\",\"disposition\":\"HAN\",\"address\":\"1700 Block Of Washington St\",\"city\":\"San Francisco\",\"state\":\"CA\",\"agency_id\":\"1\",\"address_type\":\"Premise Address\"}\\n,{\"crime_id\":\"160933440\",\"original_crimetype_name\":\"22500f\",\"report_date\":\"2016-04-02T00:00:00.000\",\"call_date\":\"2016-04-02T00:00:00.000\",\"offense_date\":\"2016-04-02T00:00:00.000\",\"call_time\":\"21:12\",\"call_dttm\":\"2016-04-02T21:12:00.000\",\"disposition\":\"CIT\",\"address\":\"1500 Block Of 21st Av\",\"city\":\"San Francisco\",\"state\":\"CA\",\"agency_id\":\"1\",\"address_type\":\"Premise Address\"}\\n,{\"crime_id\":\"161063064\",\"original_crimetype_name\":\"22500e\",\"report_date\":\"2016-04-15T00:00:00.000\",\"call_date\":\"2016-04-15T00:00:00.000\",\"offense_date\":\"2016-04-15T00:00:00.000\",\"call_time\":\"18:07\",\"call_dttm\":\"2016-04-15T18:07:00.000\",\"disposition\":\"CIT\",\"address\":\"1800 Block Of Pacific Av\",\"city\":\"San Francisco\",\"state\":\"CA\",\"agency_id\":\"1\",\"address_type\":\"Premise Address\"}\\n,{\"crime_id\":\"190112728\",\"original_crimetype_name\":\"Nabor\",\"report_date\":\"2019-01-11T00:00:00.000\",\"call_date\":\"2019-01-11T00:00:00.000\",\"offense_date\":\"2019-01-11T00:00:00.000\",\"call_time\":\"16:36\",\"call_dttm\":\"2019-01-11T16:36:00.000\",\"disposition\":\"UTL\",\"address\":\"500 Block Of Ellis St\",\"city\":\"San Francisco\",\"state\":\"CA\",\"agency_id\":\"1\",\"address_type\":\"Premise Address\"}\\n,{\"crime_id\":\"190152364\",\"original_crimetype_name\":\"22500f\",\"report_date\":\"2019-01-15T00:00:00.000\",\"call_date\":\"2019-01-15T00:00:00.000\",\"offense_date\":\"2019-01-15T00:00:00.000\",\"call_time\":\"14:57\",\"call_dttm\":\"2019-01-15T14:57:00.000\",\"disposition\":\"GOA\",\"address\":\"400 Block Of Peru Av\",\"city\":\"San Francisco\",\"state\":\"CA\",\"agency_id\":\"1\",\"address_type\":\"Premise Address\"}\\n,{\"crime_id\":\"160943082\",\"original_crimetype_name\":\"Petty Theft\",\"report_date\":\"2016-04-03T00:00:00.000\",\"call_date\":\"2016-04-03T00:00:00.000\",\"offense_date\":\"2016-04-03T00:00:00.000\",\"call_time\":\"19:19\",\"call_dttm\":\"2016-04-03T19:19:00.000\",\"disposition\":\"GOA\",\"address\":\"400 Block Of Grant Av\",\"city\":\"San Francisco\",\"state\":\"CA\",\"agency_id\":\"1\",\"address_type\":\"Premise Address\"}\\n,{\"crime_id\":\"190152906\",\"original_crimetype_name\":\"Traffic Stop\",\"report_date\":\"2019-01-15T00:00:00.000\",\"call_date\":\"2019-01-15T00:00:00.000\",\"offense_date\":\"2019-01-15T00:00:00.000\",\"call_time\":\"17:21\",\"call_dttm\":\"2019-01-15T17:21:00.000\",\"disposition\":\"CIT\",\"address\":\"2nd St/bryant St\",\"city\":\"San Francisco\",\"state\":\"CA\",\"agency_id\":\"1\",\"address_type\":\"Intersection\"}\\n,{\"crime_id\":\"183651650\",\"original_crimetype_name\":\"Nabor\",\"report_date\":\"2018-12-31T00:00:00.000\",\"call_date\":\"2018-12-31T00:00:00.000\",\"offense_date\":\"2018-12-31T00:00:00.000\",\"call_time\":\"13:15\",\"call_dttm\":\"2018-12-31T13:15:00.000\",\"disposition\":\"UTL\",\"address\":\"3900 Block Of 17th St\",\"city\":\"San Francisco\",\"state\":\"CA\",\"agency_id\":\"1\",\"address_type\":\"Premise Address\"}\\n,{\"crime_id\":\"190030129\",\"original_crimetype_name\":\"Suspicious Person\",\"report_date\":\"2019-01-03T00:00:00.000\",\"call_date\":\"2019-01-03T00:00:00.000\",\"offense_date\":\"2019-01-03T00:00:00.000\",\"call_time\":\"01:26\",\"call_dttm\":\"2019-01-03T01:26:00.000\",\"disposition\":\"CIT\",\"address\":\"Russ St/howard St\",\"city\":\"San Francisco\",\"state\":\"CA\",\"agency_id\":\"1\",\"address_type\":\"Intersection\"}\\n,{\"crime_id\":\"190120131\",\"original_crimetype_name\":\"Traffic Stop\",\"report_date\":\"2019-01-12T00:00:00.000\",\"call_date\":\"2019-01-12T00:00:00.000\",\"offense_date\":\"2019-01-12T00:00:00.000\",\"call_time\":\"01:04\",\"call_dttm\":\"2019-01-12T01:04:00.000\",\"disposition\":\"ADV\",\"address\":\"4000 Block Of Mission St\",\"city\":\"San Francisco\",\"state\":\"CA\",\"agency_id\":\"1\",\"address_type\":\"Premise Address\"}\\n,{\"crime_id\":\"160950016\",\"original_crimetype_name\":\"Passing Call\",\"report_date\":\"2016-04-04T00:00:00.000\",\"call_date\":\"2016-04-04T00:00:00.000\",\"offense_date\":\"2016-04-04T00:00:00.000\",\"call_time\":\"00:11\",\"call_dttm\":\"2016-04-04T00:11:00.000\",\"disposition\":\"HAN\",\"address\":\"Bernal Heights\",\"state\":\"CA\",\"agency_id\":\"1\",\"address_type\":\"Geo-Override\"}\\n,{\"crime_id\":\"161063113\",\"original_crimetype_name\":\"Passing Call\",\"report_date\":\"2016-04-15T00:00:00.000\",\"call_date\":\"2016-04-15T00:00:00.000\",\"offense_date\":\"2016-04-15T00:00:00.000\",\"call_time\":\"18:22\",\"call_dttm\":\"2016-04-15T18:22:00.000\",\"disposition\":\"Not recorded\",\"address\":\"3rdst/palou\",\"state\":\"CA\",\"agency_id\":\"1\",\"address_type\":\"Geo-Override\"}\\n,{\"crime_id\":\"190152365\",\"original_crimetype_name\":\"Passing Call\",\"report_date\":\"2019-01-15T00:00:00.000\",\"call_date\":\"2019-01-15T00:00:00.000\",\"offense_date\":\"2019-01-15T00:00:00.000\",\"call_time\":\"14:58\",\"call_dttm\":\"2019-01-15T14:58:00.000\",\"disposition\":\"Not recorded\",\"address\":\"100 Block Of Music Concourse Dr\",\"city\":\"San Francisco\",\"state\":\"CA\",\"agency_id\":\"1\",\"address_type\":\"Common Location\",\"common_location\":\"Music Concourse, Sf\"}\\n,{\"crime_id\":\"190162272\",\"original_crimetype_name\":\"Passing Call\",\"report_date\":\"2019-01-16T00:00:00.000\",\"call_date\":\"2019-01-16T00:00:00.000\",\"offense_date\":\"2019-01-16T00:00:00.000\",\"call_time\":\"14:47\",\"call_dttm\":\"2019-01-16T14:47:00.000\",\"disposition\":\"HAN\",\"address\":\"100 Blk Beaver St\",\"city\":\"San Francisco\",\"state\":\"CA\",\"agency_id\":\"1\",\"address_type\":\"Geo-Override\"}\\n,{\"crime_id\":\"160950734\",\"original_crimetype_name\":\"Indecent Exposure\",\"report_date\":\"2016-04-04T00:00:00.000\",\"call_date\":\"2016-04-04T00:00:00.000\",\"offense_date\":\"2016-04-04T00:00:00.000\",\"call_time\":\"08:22\",\"call_dttm\":\"2016-04-04T08:22:00.000\",\"disposition\":\"HAN\",\"address\":\"San Bruno Av/burrows St\",\"city\":\"San Francisco\",\"state\":\"CA\",\"agency_id\":\"1\",\"address_type\":\"Intersection\"}\\n,{\"crime_id\":\"193333512\",\"original_crimetype_name\":\"Auto Boost / Strip\",\"report_date\":\"2019-11-29T00:00:00.000\",\"call_date\":\"2019-11-29T00:00:00.000\",\"offense_date\":\"2019-11-29T00:00:00.000\",\"call_time\":\"23:37\",\"call_dttm\":\"2019-11-29T23:37:00.000\",\"disposition\":\"REP\",\"address\":\"Mission St/new Montgomery St\",\"city\":\"San Francisco\",\"state\":\"CA\",\"agency_id\":\"1\",\"address_type\":\"Intersection\"}\\n,{\"crime_id\":\"193361580\",\"original_crimetype_name\":\"Sexual Assault Juve\",\"report_date\":\"2019-12-02T00:00:00.000\",\"call_date\":\"2019-12-02T00:00:00.000\",\"offense_date\":\"2019-12-02T00:00:00.000\",\"call_time\":\"11:44\",\"call_dttm\":\"2019-12-02T11:44:00.000\",\"disposition\":\"REP\",\"address\":\"900 Block Of Bryant St\",\"city\":\"San Francisco\",\"state\":\"CA\",\"agency_id\":\"1\",\"address_type\":\"Premise Address\"}\\n,{\"crime_id\":\"190051675\",\"original_crimetype_name\":\"Traf Violation Cite\",\"report_date\":\"2019-01-05T00:00:00.000\",\"call_date\":\"2019-01-05T00:00:00.000\",\"offense_date\":\"2019-01-05T00:00:00.000\",\"call_time\":\"13:38\",\"call_dttm\":\"2019-01-05T13:38:00.000\",\"disposition\":\"GOA\",\"address\":\"2000 Block Of Lyon St\",\"city\":\"San Francisco\",\"state\":\"CA\",\"agency_id\":\"1\",\"address_type\":\"Premise Address\"}\\n,{\"crime_id\":\"190010902\",\"original_crimetype_name\":\"Well Being Check\",\"report_date\":\"2019-01-01T00:00:00.000\",\"call_date\":\"2019-01-01T00:00:00.000\",\"offense_date\":\"2019-01-01T00:00:00.000\",\"call_time\":\"04:49\",\"call_dttm\":\"2019-01-01T04:49:00.000\",\"disposition\":\"GOA\",\"address\":\"33rd Av/rivera St\",\"city\":\"San Francisco\",\"state\":\"CA\",\"agency_id\":\"1\",\"address_type\":\"Intersection\"}\\n,{\"crime_id\":\"190022081\",\"original_crimetype_name\":\"Audible Alarm\",\"report_date\":\"2019-01-02T00:00:00.000\",\"call_date\":\"2019-01-02T00:00:00.000\",\"offense_date\":\"2019-01-02T00:00:00.000\",\"call_time\":\"14:06\",\"call_dttm\":\"2019-01-02T14:06:00.000\",\"disposition\":\"PAS\",\"address\":\"200 Block Of Topaz Wy\",\"city\":\"San Francisco\",\"state\":\"CA\",\"agency_id\":\"1\",\"address_type\":\"Premise Address\"}\\n,{\"crime_id\":\"190120775\",\"original_crimetype_name\":\"Audible Alarm\",\"report_date\":\"2019-01-12T00:00:00.000\",\"call_date\":\"2019-01-12T00:00:00.000\",\"offense_date\":\"2019-01-12T00:00:00.000\",\"call_time\":\"07:48\",\"call_dttm\":\"2019-01-12T07:48:00.000\",\"disposition\":\"NCR\",\"address\":\"600 Block Of Natoma St\",\"city\":\"San Francisco\",\"state\":\"CA\",\"agency_id\":\"1\",\"address_type\":\"Premise Address\"}\\n,{\"crime_id\":\"160940893\",\"original_crimetype_name\":\"Dw\",\"report_date\":\"2016-04-03T00:00:00.000\",\"call_date\":\"2016-04-03T00:00:00.000\",\"offense_date\":\"2016-04-03T00:00:00.000\",\"call_time\":\"08:02\",\"call_dttm\":\"2016-04-03T08:02:00.000\",\"disposition\":\"CAN\",\"address\":\"2100 Block Of 33rd Av\",\"city\":\"San Francisco\",\"state\":\"CA\",\"agency_id\":\"1\",\"address_type\":\"Premise Address\"}\\n,{\"crime_id\":\"161063836\",\"original_crimetype_name\":\"Rep\",\"report_date\":\"2016-04-15T00:00:00.000\",\"call_date\":\"2016-04-15T00:00:00.000\",\"offense_date\":\"2016-04-15T00:00:00.000\",\"call_time\":\"21:54\",\"call_dttm\":\"2016-04-15T21:54:00.000\",\"disposition\":\"REP\",\"address\":\"400 Block Of Argonaut Av\",\"city\":\"San Francisco\",\"state\":\"CA\",\"agency_id\":\"1\",\"address_type\":\"Premise Address\"}\\n,{\"crime_id\":\"190152366\",\"original_crimetype_name\":\"Auto Boost / Strip\",\"report_date\":\"2019-01-15T00:00:00.000\",\"call_date\":\"2019-01-15T00:00:00.000\",\"offense_date\":\"2019-01-15T00:00:00.000\",\"call_time\":\"14:58\",\"call_dttm\":\"2019-01-15T14:58:00.000\",\"disposition\":\"REP\",\"address\":\"Guerrero St/14th St\",\"city\":\"San Francisco\",\"state\":\"CA\",\"agency_id\":\"1\",\"address_type\":\"Intersection\"}\\n,{\"crime_id\":\"190070206\",\"original_crimetype_name\":\"417\",\"report_date\":\"2019-01-07T00:00:00.000\",\"call_date\":\"2019-01-07T00:00:00.000\",\"offense_date\":\"2019-01-07T00:00:00.000\",\"call_time\":\"02:23\",\"call_dttm\":\"2019-01-07T02:23:00.000\",\"disposition\":\"HAN\",\"address\":\"1500 Block Of Pine St\",\"city\":\"San Francisco\",\"state\":\"CA\",\"agency_id\":\"1\",\"address_type\":\"Premise Address\"}\\n,{\"crime_id\":\"190161851\",\"original_crimetype_name\":\"Attempt\",\"report_date\":\"2019-01-16T00:00:00.000\",\"call_date\":\"2019-01-16T00:00:00.000\",\"offense_date\":\"2019-01-16T00:00:00.000\",\"call_time\":\"12:44\",\"call_dttm\":\"2019-01-16T12:44:00.000\",\"disposition\":\"HAN\",\"address\":\"Jones St/pine St\",\"city\":\"San Francisco\",\"state\":\"CA\",\"agency_id\":\"1\",\"address_type\":\"Intersection\"}\\n,{\"crime_id\":\"193042285\",\"original_crimetype_name\":\"Traf Violation Cite\",\"report_date\":\"2019-10-31T00:00:00.000\",\"call_date\":\"2019-10-31T00:00:00.000\",\"offense_date\":\"2019-10-31T00:00:00.000\",\"call_time\":\"14:41\",\"call_dttm\":\"2019-10-31T14:41:00.000\",\"disposition\":\"GOA\",\"address\":\"300 Block Of Raymond Av\",\"city\":\"San Francisco\",\"state\":\"CA\",\"agency_id\":\"1\",\"address_type\":\"Premise Address\"}\\n,{\"crime_id\":\"193330882\",\"original_crimetype_name\":\"Audible Alarm\",\"report_date\":\"2019-11-29T00:00:00.000\",\"call_date\":\"2019-11-29T00:00:00.000\",\"offense_date\":\"2019-11-29T00:00:00.000\",\"call_time\":\"09:54\",\"call_dttm\":\"2019-11-29T09:54:00.000\",\"disposition\":\"HAN\",\"address\":\"200 Block Of Gold Mine Dr\",\"city\":\"San Francisco\",\"state\":\"CA\",\"agency_id\":\"1\",\"address_type\":\"Premise Address\"}\\n,{\"crime_id\":\"190073688\",\"original_crimetype_name\":\"Meet W/citizen\",\"report_date\":\"2019-01-07T00:00:00.000\",\"call_date\":\"2019-01-07T00:00:00.000\",\"offense_date\":\"2019-01-07T00:00:00.000\",\"call_time\":\"22:00\",\"call_dttm\":\"2019-01-07T22:00:00.000\",\"disposition\":\"HAN\",\"address\":\"Potrero Av/16th St\",\"city\":\"San Francisco\",\"state\":\"CA\",\"agency_id\":\"1\",\"address_type\":\"Intersection\"}\\n,{\"crime_id\":\"190173084\",\"original_crimetype_name\":\"Well Being Check\",\"report_date\":\"2019-01-17T00:00:00.000\",\"call_date\":\"2019-01-17T00:00:00.000\",\"offense_date\":\"2019-01-17T00:00:00.000\",\"call_time\":\"17:17\",\"call_dttm\":\"2019-01-17T17:17:00.000\",\"disposition\":\"HAN\",\"address\":\"400 Block Of Turk St\",\"city\":\"San Francisco\",\"state\":\"CA\",\"agency_id\":\"1\",\"address_type\":\"Premise Address\"}\\n,{\"crime_id\":\"190202288\",\"original_crimetype_name\":\"22500e\",\"report_date\":\"2019-01-20T00:00:00.000\",\"call_date\":\"2019-01-20T00:00:00.000\",\"offense_date\":\"2019-01-20T00:00:00.000\",\"call_time\":\"16:22\",\"call_dttm\":\"2019-01-20T16:22:00.000\",\"disposition\":\"CAN\",\"address\":\"2500 Block Of 42nd Av\",\"city\":\"San Francisco\",\"state\":\"CA\",\"agency_id\":\"1\",\"address_type\":\"Premise Address\"}\\n,{\"crime_id\":\"190211122\",\"original_crimetype_name\":\"Homeless Complaint\",\"report_date\":\"2019-01-21T00:00:00.000\",\"call_date\":\"2019-01-21T00:00:00.000\",\"offense_date\":\"2019-01-21T00:00:00.000\",\"call_time\":\"09:54\",\"call_dttm\":\"2019-01-21T09:54:00.000\",\"disposition\":\"HAN\",\"address\":\"985 York Street\",\"state\":\"CA\",\"agency_id\":\"1\",\"address_type\":\"Geo-Override\"}\\n,{\"crime_id\":\"193042693\",\"original_crimetype_name\":\"Npa\",\"report_date\":\"2019-10-31T00:00:00.000\",\"call_date\":\"2019-10-31T00:00:00.000\",\"offense_date\":\"2019-10-31T00:00:00.000\",\"call_time\":\"16:19\",\"call_dttm\":\"2019-10-31T16:19:00.000\",\"disposition\":\"GOA\",\"address\":\"3600 Block Of Keith St\",\"city\":\"San Francisco\",\"state\":\"CA\",\"agency_id\":\"1\",\"address_type\":\"Premise Address\"}\\n,{\"crime_id\":\"193043172\",\"original_crimetype_name\":\"22500f\",\"report_date\":\"2019-10-31T00:00:00.000\",\"call_date\":\"2019-10-31T00:00:00.000\",\"offense_date\":\"2019-10-31T00:00:00.000\",\"call_time\":\"17:55\",\"call_dttm\":\"2019-10-31T17:55:00.000\",\"disposition\":\"GOA\",\"address\":\"2200 Block Of 28th Av\",\"city\":\"San Francisco\",\"state\":\"CA\",\"agency_id\":\"1\",\"address_type\":\"Premise Address\"}\\n,{\"crime_id\":\"193374183\",\"original_crimetype_name\":\"518\",\"report_date\":\"2019-12-03T00:00:00.000\",\"call_date\":\"2019-12-03T00:00:00.000\",\"offense_date\":\"2019-12-03T00:00:00.000\",\"call_time\":\"22:48\",\"call_dttm\":\"2019-12-03T22:48:00.000\",\"disposition\":\"GOA\",\"address\":\"Harrison St/6th St\",\"city\":\"San Francisco\",\"state\":\"CA\",\"agency_id\":\"1\",\"address_type\":\"Intersection\"}\\n,{\"crime_id\":\"190040178\",\"original_crimetype_name\":\"601\",\"report_date\":\"2019-01-04T00:00:00.000\",\"call_date\":\"2019-01-04T00:00:00.000\",\"offense_date\":\"2019-01-04T00:00:00.000\",\"call_time\":\"01:54\",\"call_dttm\":\"2019-01-04T01:54:00.000\",\"disposition\":\"UTL\",\"address\":\"Hyde St/ofarrell St\",\"city\":\"San Francisco\",\"state\":\"CA\",\"agency_id\":\"1\",\"address_type\":\"Intersection\"}\\n,{\"crime_id\":\"190121909\",\"original_crimetype_name\":\"22500e\",\"report_date\":\"2019-01-12T00:00:00.000\",\"call_date\":\"2019-01-12T00:00:00.000\",\"offense_date\":\"2019-01-12T00:00:00.000\",\"call_time\":\"13:33\",\"call_dttm\":\"2019-01-12T13:33:00.000\",\"disposition\":\"CAN\",\"address\":\"0 Block Of Teddy Av\",\"city\":\"San Francisco\",\"state\":\"CA\",\"agency_id\":\"1\",\"address_type\":\"Premise Address\"}\\n,{\"crime_id\":\"190082119\",\"original_crimetype_name\":\"22500f\",\"report_date\":\"2019-01-08T00:00:00.000\",\"call_date\":\"2019-01-08T00:00:00.000\",\"offense_date\":\"2019-01-08T00:00:00.000\",\"call_time\":\"14:47\",\"call_dttm\":\"2019-01-08T14:47:00.000\",\"disposition\":\"GOA\",\"address\":\"200 Block Of Caselli Av\",\"city\":\"San Francisco\",\"state\":\"CA\",\"agency_id\":\"1\",\"address_type\":\"Premise Address\"}\\n,{\"crime_id\":\"190143904\",\"original_crimetype_name\":\"Traf Violation Cite\",\"report_date\":\"2019-01-14T00:00:00.000\",\"call_date\":\"2019-01-14T00:00:00.000\",\"offense_date\":\"2019-01-14T00:00:00.000\",\"call_time\":\"22:31\",\"call_dttm\":\"2019-01-14T22:31:00.000\",\"disposition\":\"Not recorded\",\"address\":\"500 Block Of Brunswick St\",\"city\":\"San Francisco\",\"state\":\"CA\",\"agency_id\":\"1\",\"address_type\":\"Premise Address\"}\\n,{\"crime_id\":\"193264599\",\"original_crimetype_name\":\"Fight No Weapon\",\"report_date\":\"2019-11-22T00:00:00.000\",\"call_date\":\"2019-11-22T00:00:00.000\",\"offense_date\":\"2019-11-22T00:00:00.000\",\"call_time\":\"23:51\",\"call_dttm\":\"2019-11-22T23:51:00.000\",\"disposition\":\"HAN\",\"address\":\"500 Block Of Ellis St\",\"city\":\"San Francisco\",\"state\":\"CA\",\"agency_id\":\"1\",\"address_type\":\"Premise Address\"}\\n,{\"crime_id\":\"193281755\",\"original_crimetype_name\":\"Traf Violation Cite\",\"report_date\":\"2019-11-24T00:00:00.000\",\"call_date\":\"2019-11-24T00:00:00.000\",\"offense_date\":\"2019-11-24T00:00:00.000\",\"call_time\":\"13:34\",\"call_dttm\":\"2019-11-24T13:34:00.000\",\"disposition\":\"CIT\",\"address\":\"Thrift St/capitol Av\",\"city\":\"San Francisco\",\"state\":\"CA\",\"agency_id\":\"1\",\"address_type\":\"Intersection\"}\\n,{\"crime_id\":\"160920282\",\"original_crimetype_name\":\"Wanted Vehicle / Sub\",\"report_date\":\"2016-04-01T00:00:00.000\",\"call_date\":\"2016-04-01T00:00:00.000\",\"offense_date\":\"2016-04-01T00:00:00.000\",\"call_time\":\"03:06\",\"call_dttm\":\"2016-04-01T03:06:00.000\",\"disposition\":\"HAN\",\"address\":\"2400 Block Of 14th Av\",\"city\":\"San Francisco\",\"state\":\"CA\",\"agency_id\":\"1\",\"address_type\":\"Premise Address\"}\\n,{\"crime_id\":\"190071195\",\"original_crimetype_name\":\"Meet W/citizen\",\"report_date\":\"2019-01-07T00:00:00.000\",\"call_date\":\"2019-01-07T00:00:00.000\",\"offense_date\":\"2019-01-07T00:00:00.000\",\"call_time\":\"10:35\",\"call_dttm\":\"2019-01-07T10:35:00.000\",\"disposition\":\"HAN\",\"address\":\"Geary Bl/17th Av\",\"city\":\"San Francisco\",\"state\":\"CA\",\"agency_id\":\"1\",\"address_type\":\"Intersection\"}\\n,{\"crime_id\":\"160952415\",\"original_crimetype_name\":\"Suspicious Person\",\"report_date\":\"2016-04-04T00:00:00.000\",\"call_date\":\"2016-04-04T00:00:00.000\",\"offense_date\":\"2016-04-04T00:00:00.000\",\"call_time\":\"15:17\",\"call_dttm\":\"2016-04-04T15:17:00.000\",\"disposition\":\"HAN\",\"address\":\"200 Block Of Beaumont Av\",\"city\":\"San Francisco\",\"state\":\"CA\",\"agency_id\":\"1\",\"address_type\":\"Premise Address\"}\\n,{\"crime_id\":\"190030131\",\"original_crimetype_name\":\"Construction\",\"report_date\":\"2019-01-03T00:00:00.000\",\"call_date\":\"2019-01-03T00:00:00.000\",\"offense_date\":\"2019-01-03T00:00:00.000\",\"call_time\":\"01:25\",\"call_dttm\":\"2019-01-03T01:25:00.000\",\"disposition\":\"NOM\",\"address\":\"Geary Bl/masonic Av\",\"city\":\"San Francisco\",\"state\":\"CA\",\"agency_id\":\"1\",\"address_type\":\"Intersection\"}\\n,{\"crime_id\":\"193043467\",\"original_crimetype_name\":\"Guitar\",\"report_date\":\"2019-10-31T00:00:00.000\",\"call_date\":\"2019-10-31T00:00:00.000\",\"offense_date\":\"2019-10-31T00:00:00.000\",\"call_time\":\"19:04\",\"call_dttm\":\"2019-10-31T19:04:00.000\",\"disposition\":\"GOA\",\"address\":\"200 Block Of Caselli Av\",\"city\":\"San Francisco\",\"state\":\"CA\",\"agency_id\":\"1\",\"address_type\":\"Premise Address\"}\\n,{\"crime_id\":\"193043564\",\"original_crimetype_name\":\"Traf Violation Cite\",\"report_date\":\"2019-10-31T00:00:00.000\",\"call_date\":\"2019-10-31T00:00:00.000\",\"offense_date\":\"2019-10-31T00:00:00.000\",\"call_time\":\"19:31\",\"call_dttm\":\"2019-10-31T19:31:00.000\",\"disposition\":\"GOA\",\"address\":\"100 Block Of Swiss Av\",\"city\":\"San Francisco\",\"state\":\"CA\",\"agency_id\":\"1\",\"address_type\":\"Premise Address\"}\\n,{\"crime_id\":\"193043716\",\"original_crimetype_name\":\"Traf Violation Cite\",\"report_date\":\"2019-10-31T00:00:00.000\",\"call_date\":\"2019-10-31T00:00:00.000\",\"offense_date\":\"2019-10-31T00:00:00.000\",\"call_time\":\"20:11\",\"call_dttm\":\"2019-10-31T20:11:00.000\",\"disposition\":\"GOA\",\"address\":\"400 Block Of Athens St\",\"city\":\"San Francisco\",\"state\":\"CA\",\"agency_id\":\"1\",\"address_type\":\"Premise Address\"}\\n,{\"crime_id\":\"193043905\",\"original_crimetype_name\":\"Petty Theft\",\"report_date\":\"2019-10-31T00:00:00.000\",\"call_date\":\"2019-10-31T00:00:00.000\",\"offense_date\":\"2019-10-31T00:00:00.000\",\"call_time\":\"20:53\",\"call_dttm\":\"2019-10-31T20:53:00.000\",\"disposition\":\"GOA\",\"address\":\"4600 Block Of Mission St\",\"city\":\"San Francisco\",\"state\":\"CA\",\"agency_id\":\"1\",\"address_type\":\"Premise Address\"}\\n,{\"crime_id\":\"193361583\",\"original_crimetype_name\":\"Traf Violation Tow\",\"report_date\":\"2019-12-02T00:00:00.000\",\"call_date\":\"2019-12-02T00:00:00.000\",\"offense_date\":\"2019-12-02T00:00:00.000\",\"call_time\":\"11:44\",\"call_dttm\":\"2019-12-02T11:44:00.000\",\"disposition\":\"GOA\",\"address\":\"Burnett Av/dixie Al\",\"city\":\"San Francisco\",\"state\":\"CA\",\"agency_id\":\"1\",\"address_type\":\"Intersection\"}\\n,{\"crime_id\":\"190182656\",\"original_crimetype_name\":\"586\",\"report_date\":\"2019-01-18T00:00:00.000\",\"call_date\":\"2019-01-18T00:00:00.000\",\"offense_date\":\"2019-01-18T00:00:00.000\",\"call_time\":\"16:05\",\"call_dttm\":\"2019-01-18T16:05:00.000\",\"disposition\":\"HAN\",\"address\":\"Battery St/green St\",\"city\":\"San Francisco\",\"state\":\"CA\",\"agency_id\":\"1\",\"address_type\":\"Intersection\"}\\n,{\"crime_id\":\"160952886\",\"original_crimetype_name\":\"Homeless Complaint\",\"report_date\":\"2016-04-04T00:00:00.000\",\"call_date\":\"2016-04-04T00:00:00.000\",\"offense_date\":\"2016-04-04T00:00:00.000\",\"call_time\":\"17:14\",\"call_dttm\":\"2016-04-04T17:14:00.000\",\"disposition\":\"Not recorded\",\"address\":\"200 Block Of Myrtle St\",\"city\":\"San Francisco\",\"state\":\"CA\",\"agency_id\":\"1\",\"address_type\":\"Premise Address\"}\\n,{\"crime_id\":\"160953435\",\"original_crimetype_name\":\"Well Being Check\",\"report_date\":\"2016-04-04T00:00:00.000\",\"call_date\":\"2016-04-04T00:00:00.000\",\"offense_date\":\"2016-04-04T00:00:00.000\",\"call_time\":\"19:31\",\"call_dttm\":\"2016-04-04T19:31:00.000\",\"disposition\":\"NOM\",\"address\":\"100 Block Of Saint Marys Av\",\"city\":\"San Francisco\",\"state\":\"CA\",\"agency_id\":\"1\",\"address_type\":\"Premise Address\"}\\n,{\"crime_id\":\"160961011\",\"original_crimetype_name\":\"Jo\",\"report_date\":\"2016-04-05T00:00:00.000\",\"call_date\":\"2016-04-05T00:00:00.000\",\"offense_date\":\"2016-04-05T00:00:00.000\",\"call_time\":\"09:32\",\"call_dttm\":\"2016-04-05T09:32:00.000\",\"disposition\":\"HAN\",\"address\":\"600 Block Of Joost Av\",\"city\":\"San Francisco\",\"state\":\"CA\",\"agency_id\":\"1\",\"address_type\":\"Premise Address\"}\\n,{\"crime_id\":\"193043963\",\"original_crimetype_name\":\"22500f\",\"report_date\":\"2019-10-31T00:00:00.000\",\"call_date\":\"2019-10-31T00:00:00.000\",\"offense_date\":\"2019-10-31T00:00:00.000\",\"call_time\":\"21:09\",\"call_dttm\":\"2019-10-31T21:09:00.000\",\"disposition\":\"GOA\",\"address\":\"100 Block Of Harvard St\",\"city\":\"San Francisco\",\"state\":\"CA\",\"agency_id\":\"1\",\"address_type\":\"Premise Address\"}\\n,{\"crime_id\":\"193044049\",\"original_crimetype_name\":\"Traf Violation Cite\",\"report_date\":\"2019-10-31T00:00:00.000\",\"call_date\":\"2019-10-31T00:00:00.000\",\"offense_date\":\"2019-10-31T00:00:00.000\",\"call_time\":\"21:32\",\"call_dttm\":\"2019-10-31T21:32:00.000\",\"disposition\":\"GOA\",\"address\":\"100 Block Of La Grande Av\",\"city\":\"San Francisco\",\"state\":\"CA\",\"agency_id\":\"1\",\"address_type\":\"Premise Address\"}\\n,{\"crime_id\":\"193320107\",\"original_crimetype_name\":\"311\",\"report_date\":\"2019-11-28T00:00:00.000\",\"call_date\":\"2019-11-28T00:00:00.000\",\"offense_date\":\"2019-11-28T00:00:00.000\",\"call_time\":\"01:11\",\"call_dttm\":\"2019-11-28T01:11:00.000\",\"disposition\":\"HAN\",\"address\":\"100 Block Of Mason St\",\"city\":\"San Francisco\",\"state\":\"CA\",\"agency_id\":\"1\",\"address_type\":\"Premise Address\"}\\n,{\"crime_id\":\"160940896\",\"original_crimetype_name\":\"Suspicious Person\",\"report_date\":\"2016-04-03T00:00:00.000\",\"call_date\":\"2016-04-03T00:00:00.000\",\"offense_date\":\"2016-04-03T00:00:00.000\",\"call_time\":\"08:03\",\"call_dttm\":\"2016-04-03T08:03:00.000\",\"disposition\":\"ADV\",\"address\":\"Steiner St/clay St\",\"city\":\"San Francisco\",\"state\":\"CA\",\"agency_id\":\"1\",\"address_type\":\"Intersection\"}\\n,{\"crime_id\":\"190162299\",\"original_crimetype_name\":\"Passing Call\",\"report_date\":\"2019-01-16T00:00:00.000\",\"call_date\":\"2019-01-16T00:00:00.000\",\"offense_date\":\"2019-01-16T00:00:00.000\",\"call_time\":\"14:54\",\"call_dttm\":\"2019-01-16T14:54:00.000\",\"disposition\":\"HAN\",\"address\":\"100 Block Of Larkin St\",\"city\":\"San Francisco\",\"state\":\"CA\",\"agency_id\":\"1\",\"address_type\":\"Premise Address\"}\\n,{\"crime_id\":\"161082114\",\"original_crimetype_name\":\"Passing Call\",\"report_date\":\"2016-04-17T00:00:00.000\",\"call_date\":\"2016-04-17T00:00:00.000\",\"offense_date\":\"2016-04-17T00:00:00.000\",\"call_time\":\"15:04\",\"call_dttm\":\"2016-04-17T15:04:00.000\",\"disposition\":\"HAN\",\"address\":\"Gateview/13th Street\",\"state\":\"CA\",\"agency_id\":\"1\",\"address_type\":\"Geo-Override\"}\\n,{\"crime_id\":\"193044161\",\"original_crimetype_name\":\"Traf Violation Cite\",\"report_date\":\"2019-10-31T00:00:00.000\",\"call_date\":\"2019-10-31T00:00:00.000\",\"offense_date\":\"2019-10-31T00:00:00.000\",\"call_time\":\"22:02\",\"call_dttm\":\"2019-10-31T22:02:00.000\",\"disposition\":\"GOA\",\"address\":\"800 Block Of Geneva Av\",\"city\":\"San Francisco\",\"state\":\"CA\",\"agency_id\":\"1\",\"address_type\":\"Premise Address\"}\\n,{\"crime_id\":\"193044281\",\"original_crimetype_name\":\"Intoxicated Person\",\"report_date\":\"2019-10-31T00:00:00.000\",\"call_date\":\"2019-10-31T00:00:00.000\",\"offense_date\":\"2019-10-31T00:00:00.000\",\"call_time\":\"22:32\",\"call_dttm\":\"2019-10-31T22:32:00.000\",\"disposition\":\"ND\",\"address\":\"Market St/castro St\",\"city\":\"San Francisco\",\"state\":\"CA\",\"agency_id\":\"1\",\"address_type\":\"Intersection\"}\\n,{\"crime_id\":\"193361588\",\"original_crimetype_name\":\"Traffic Stop\",\"report_date\":\"2019-12-02T00:00:00.000\",\"call_date\":\"2019-12-02T00:00:00.000\",\"offense_date\":\"2019-12-02T00:00:00.000\",\"call_time\":\"11:46\",\"call_dttm\":\"2019-12-02T11:46:00.000\",\"disposition\":\"HAN\",\"address\":\"Bryant St/6th St\",\"city\":\"San Francisco\",\"state\":\"CA\",\"agency_id\":\"1\",\"address_type\":\"Intersection\"}\\n,{\"crime_id\":\"193382911\",\"original_crimetype_name\":\"Person W/gun\",\"report_date\":\"2019-12-04T00:00:00.000\",\"call_date\":\"2019-12-04T00:00:00.000\",\"offense_date\":\"2019-12-04T00:00:00.000\",\"call_time\":\"16:10\",\"call_dttm\":\"2019-12-04T16:10:00.000\",\"disposition\":\"NOM\",\"address\":\"0 Block Of Jones St\",\"city\":\"San Francisco\",\"state\":\"CA\",\"agency_id\":\"1\",\"address_type\":\"Premise Address\"}\\n,{\"crime_id\":\"190122126\",\"original_crimetype_name\":\"22500e\",\"report_date\":\"2019-01-12T00:00:00.000\",\"call_date\":\"2019-01-12T00:00:00.000\",\"offense_date\":\"2019-01-12T00:00:00.000\",\"call_time\":\"14:28\",\"call_dttm\":\"2019-01-12T14:28:00.000\",\"disposition\":\"CIT\",\"address\":\"2500 Block Of Jackson St\",\"city\":\"San Francisco\",\"state\":\"CA\",\"agency_id\":\"1\",\"address_type\":\"Premise Address\"}\\n,{\"crime_id\":\"190040857\",\"original_crimetype_name\":\"Poss\",\"report_date\":\"2019-01-04T00:00:00.000\",\"call_date\":\"2019-01-04T00:00:00.000\",\"offense_date\":\"2019-01-04T00:00:00.000\",\"call_time\":\"09:08\",\"call_dttm\":\"2019-01-04T09:08:00.000\",\"disposition\":\"GOA\",\"address\":\"0 Block Of Drumm St\",\"city\":\"San Francisco\",\"state\":\"CA\",\"agency_id\":\"1\",\"address_type\":\"Premise Address\"}\\n,{\"crime_id\":\"190060684\",\"original_crimetype_name\":\"Alarm\",\"report_date\":\"2019-01-06T00:00:00.000\",\"call_date\":\"2019-01-06T00:00:00.000\",\"offense_date\":\"2019-01-06T00:00:00.000\",\"call_time\":\"08:33\",\"call_dttm\":\"2019-01-06T08:33:00.000\",\"disposition\":\"NCR\",\"address\":\"2400 Block Of Lombard St\",\"city\":\"San Francisco\",\"state\":\"CA\",\"agency_id\":\"1\",\"address_type\":\"Premise Address\"}\\n,{\"crime_id\":\"190083915\",\"original_crimetype_name\":\"Vandalism\",\"report_date\":\"2019-01-08T00:00:00.000\",\"call_date\":\"2019-01-08T00:00:00.000\",\"offense_date\":\"2019-01-08T00:00:00.000\",\"call_time\":\"23:37\",\"call_dttm\":\"2019-01-08T23:37:00.000\",\"disposition\":\"HAN\",\"address\":\"Toland St/evans Av\",\"city\":\"San Francisco\",\"state\":\"CA\",\"agency_id\":\"1\",\"address_type\":\"Intersection\"}\\n,{\"crime_id\":\"190184081\",\"original_crimetype_name\":\"Complaint Unkn\",\"report_date\":\"2019-01-18T00:00:00.000\",\"call_date\":\"2019-01-18T00:00:00.000\",\"offense_date\":\"2019-01-18T00:00:00.000\",\"call_time\":\"22:04\",\"call_dttm\":\"2019-01-18T22:04:00.000\",\"disposition\":\"CAN\",\"address\":\"2300 Block Of 20th Av\",\"city\":\"San Francisco\",\"state\":\"CA\",\"agency_id\":\"1\",\"address_type\":\"Premise Address\"}\\n,{\"crime_id\":\"190310476\",\"original_crimetype_name\":\"22500f\",\"report_date\":\"2019-01-31T00:00:00.000\",\"call_date\":\"2019-01-31T00:00:00.000\",\"offense_date\":\"2019-01-31T00:00:00.000\",\"call_time\":\"06:30\",\"call_dttm\":\"2019-01-31T06:30:00.000\",\"disposition\":\"GOA\",\"address\":\"600 Blk Paris St\",\"city\":\"San Francisco\",\"state\":\"CA\",\"agency_id\":\"1\",\"address_type\":\"Geo-Override\"}\\n,{\"crime_id\":\"190092847\",\"original_crimetype_name\":\"22500e\",\"report_date\":\"2019-01-09T00:00:00.000\",\"call_date\":\"2019-01-09T00:00:00.000\",\"offense_date\":\"2019-01-09T00:00:00.000\",\"call_time\":\"16:50\",\"call_dttm\":\"2019-01-09T16:50:00.000\",\"disposition\":\"CIT\",\"address\":\"1400 Block Of 48th Av\",\"city\":\"San Francisco\",\"state\":\"CA\",\"agency_id\":\"1\",\"address_type\":\"Premise Address\"}\\n,{\"crime_id\":\"160961053\",\"original_crimetype_name\":\"Suspicious Person\",\"report_date\":\"2016-04-05T00:00:00.000\",\"call_date\":\"2016-04-05T00:00:00.000\",\"offense_date\":\"2016-04-05T00:00:00.000\",\"call_time\":\"09:51\",\"call_dttm\":\"2016-04-05T09:51:00.000\",\"disposition\":\"ADV\",\"address\":\"7th St/mission St\",\"city\":\"San Francisco\",\"state\":\"CA\",\"agency_id\":\"1\",\"address_type\":\"Intersection\"}\\n,{\"crime_id\":\"160961500\",\"original_crimetype_name\":\"Petty Theft\",\"report_date\":\"2016-04-05T00:00:00.000\",\"call_date\":\"2016-04-05T00:00:00.000\",\"offense_date\":\"2016-04-05T00:00:00.000\",\"call_time\":\"11:41\",\"call_dttm\":\"2016-04-05T11:41:00.000\",\"disposition\":\"CAN\",\"address\":\"Clement St/33rd Av\",\"city\":\"San Francisco\",\"state\":\"CA\",\"agency_id\":\"1\",\"address_type\":\"Intersection\"}\\n,{\"crime_id\":\"161102437\",\"original_crimetype_name\":\"Passing Call\",\"report_date\":\"2016-04-19T00:00:00.000\",\"call_date\":\"2016-04-19T00:00:00.000\",\"offense_date\":\"2016-04-19T00:00:00.000\",\"call_time\":\"15:02\",\"call_dttm\":\"2016-04-19T15:02:00.000\",\"disposition\":\"HAN\",\"address\":\"Avenue B/gateview\",\"state\":\"CA\",\"agency_id\":\"1\",\"address_type\":\"Geo-Override\"}\\n,{\"crime_id\":\"190211917\",\"original_crimetype_name\":\"Jo\",\"report_date\":\"2019-01-21T00:00:00.000\",\"call_date\":\"2019-01-21T00:00:00.000\",\"offense_date\":\"2019-01-21T00:00:00.000\",\"call_time\":\"13:14\",\"call_dttm\":\"2019-01-21T13:14:00.000\",\"disposition\":\"ND\",\"address\":\"Laguna St/geary Bl\",\"city\":\"San Francisco\",\"state\":\"CA\",\"agency_id\":\"1\",\"address_type\":\"Intersection\"}\\n,{\"crime_id\":\"193044327\",\"original_crimetype_name\":\"Fight No Weapon\",\"report_date\":\"2019-10-31T00:00:00.000\",\"call_date\":\"2019-10-31T00:00:00.000\",\"offense_date\":\"2019-10-31T00:00:00.000\",\"call_time\":\"22:43\",\"call_dttm\":\"2019-10-31T22:43:00.000\",\"disposition\":\"HAN\",\"address\":\"Brannan St/delancey St\",\"city\":\"San Francisco\",\"state\":\"CA\",\"agency_id\":\"1\",\"address_type\":\"Intersection\"}\\n,{\"crime_id\":\"193280359\",\"original_crimetype_name\":\"Fight No Weapon\",\"report_date\":\"2019-11-24T00:00:00.000\",\"call_date\":\"2019-11-24T00:00:00.000\",\"offense_date\":\"2019-11-24T00:00:00.000\",\"call_time\":\"03:02\",\"call_dttm\":\"2019-11-24T03:02:00.000\",\"disposition\":\"HAN\",\"address\":\"0 Block Of New Montgomery St\",\"city\":\"San Francisco\",\"state\":\"CA\",\"agency_id\":\"1\",\"address_type\":\"Premise Address\"}\\n,{\"crime_id\":\"160971241\",\"original_crimetype_name\":\"Suicide Attempt\",\"report_date\":\"2016-04-06T00:00:00.000\",\"call_date\":\"2016-04-06T00:00:00.000\",\"offense_date\":\"2016-04-06T00:00:00.000\",\"call_time\":\"10:09\",\"call_dttm\":\"2016-04-06T10:09:00.000\",\"disposition\":\"HAN\",\"address\":\"1000 Block Of Saddleback Dr\",\"city\":\"San Francisco\",\"state\":\"CA\",\"agency_id\":\"1\",\"address_type\":\"Premise Address\"}\\n,{\"crime_id\":\"190023337\",\"original_crimetype_name\":\"22500e\",\"report_date\":\"2019-01-02T00:00:00.000\",\"call_date\":\"2019-01-02T00:00:00.000\",\"offense_date\":\"2019-01-02T00:00:00.000\",\"call_time\":\"18:27\",\"call_dttm\":\"2019-01-02T18:27:00.000\",\"disposition\":\"CAN\",\"address\":\"100 Block Of Scotia Av\",\"city\":\"San Francisco\",\"state\":\"CA\",\"agency_id\":\"1\",\"address_type\":\"Premise Address\"}\\n,{\"crime_id\":\"190112312\",\"original_crimetype_name\":\"Passing Call\",\"report_date\":\"2019-01-11T00:00:00.000\",\"call_date\":\"2019-01-11T00:00:00.000\",\"offense_date\":\"2019-01-11T00:00:00.000\",\"call_time\":\"14:57\",\"call_dttm\":\"2019-01-11T14:57:00.000\",\"disposition\":\"HAN\",\"address\":\"1400 Blk Halibut Ct\",\"city\":\"Treasure Isla\",\"state\":\"CA\",\"agency_id\":\"1\",\"address_type\":\"Geo-Override\"}\\n,{\"crime_id\":\"193044373\",\"original_crimetype_name\":\"Recover Missing Veh\",\"report_date\":\"2019-10-31T00:00:00.000\",\"call_date\":\"2019-10-31T00:00:00.000\",\"offense_date\":\"2019-10-31T00:00:00.000\",\"call_time\":\"22:50\",\"call_dttm\":\"2019-10-31T22:50:00.000\",\"disposition\":\"HAN\",\"address\":\"Mcallister St/broderick St\",\"city\":\"San Francisco\",\"state\":\"CA\",\"agency_id\":\"1\",\"address_type\":\"Intersection\"}\\n,{\"crime_id\":\"193044390\",\"original_crimetype_name\":\"Party\",\"report_date\":\"2019-10-31T00:00:00.000\",\"call_date\":\"2019-10-31T00:00:00.000\",\"offense_date\":\"2019-10-31T00:00:00.000\",\"call_time\":\"22:57\",\"call_dttm\":\"2019-10-31T22:57:00.000\",\"disposition\":\"NOM\",\"address\":\"2700 Block Of Mcallister St\",\"city\":\"San Francisco\",\"state\":\"CA\",\"agency_id\":\"1\",\"address_type\":\"Premise Address\"}\\n,{\"crime_id\":\"193044404\",\"original_crimetype_name\":\"Verbal\",\"report_date\":\"2019-10-31T00:00:00.000\",\"call_date\":\"2019-10-31T00:00:00.000\",\"offense_date\":\"2019-10-31T00:00:00.000\",\"call_time\":\"23:05\",\"call_dttm\":\"2019-10-31T23:05:00.000\",\"disposition\":\"GOA\",\"address\":\"900 Block Of Franklin St\",\"city\":\"San Francisco\",\"state\":\"CA\",\"agency_id\":\"1\",\"address_type\":\"Premise Address\"}\\n,{\"crime_id\":\"193264601\",\"original_crimetype_name\":\"Fight No Weapon\",\"report_date\":\"2019-11-22T00:00:00.000\",\"call_date\":\"2019-11-22T00:00:00.000\",\"offense_date\":\"2019-11-22T00:00:00.000\",\"call_time\":\"23:53\",\"call_dttm\":\"2019-11-22T23:53:00.000\",\"disposition\":\"ND\",\"address\":\"1500 Block Of Turk St\",\"city\":\"San Francisco\",\"state\":\"CA\",\"agency_id\":\"1\",\"address_type\":\"Premise Address\"}\\n,{\"crime_id\":\"190010906\",\"original_crimetype_name\":\"Passing Call\",\"report_date\":\"2019-01-01T00:00:00.000\",\"call_date\":\"2019-01-01T00:00:00.000\",\"offense_date\":\"2019-01-01T00:00:00.000\",\"call_time\":\"04:54\",\"call_dttm\":\"2019-01-01T04:54:00.000\",\"disposition\":\"HAN\",\"address\":\"24th St/mission St\",\"city\":\"San Francisco\",\"state\":\"CA\",\"agency_id\":\"1\",\"address_type\":\"Intersection\"}\\n,{\"crime_id\":\"160972376\",\"original_crimetype_name\":\"Drop\",\"report_date\":\"2016-04-06T00:00:00.000\",\"call_date\":\"2016-04-06T00:00:00.000\",\"offense_date\":\"2016-04-06T00:00:00.000\",\"call_time\":\"14:21\",\"call_dttm\":\"2016-04-06T14:21:00.000\",\"disposition\":\"NCR\",\"address\":\"0 Block Of Montgomery St\",\"city\":\"San Francisco\",\"state\":\"CA\",\"agency_id\":\"1\",\"address_type\":\"Premise Address\"}\\n,{\"crime_id\":\"161102647\",\"original_crimetype_name\":\"Traffic Stop\",\"report_date\":\"2016-04-19T00:00:00.000\",\"call_date\":\"2016-04-19T00:00:00.000\",\"offense_date\":\"2016-04-19T00:00:00.000\",\"call_time\":\"15:51\",\"call_dttm\":\"2016-04-19T15:51:00.000\",\"disposition\":\"HAN\",\"address\":\"2nd St/bryant St\",\"city\":\"San Francisco\",\"state\":\"CA\",\"agency_id\":\"1\",\"address_type\":\"Intersection\"}\\n,{\"crime_id\":\"190023428\",\"original_crimetype_name\":\"Report\",\"report_date\":\"2019-01-02T00:00:00.000\",\"call_date\":\"2019-01-02T00:00:00.000\",\"offense_date\":\"2019-01-02T00:00:00.000\",\"call_time\":\"19:49\",\"call_dttm\":\"2019-01-02T19:49:00.000\",\"disposition\":\"REP\",\"address\":\"700 Block Of Miramar Av\",\"city\":\"San Francisco\",\"state\":\"CA\",\"agency_id\":\"1\",\"address_type\":\"Premise Address\"}\\n,{\"crime_id\":\"190082120\",\"original_crimetype_name\":\"Passing Call\",\"report_date\":\"2019-01-08T00:00:00.000\",\"call_date\":\"2019-01-08T00:00:00.000\",\"offense_date\":\"2019-01-08T00:00:00.000\",\"call_time\":\"14:47\",\"call_dttm\":\"2019-01-08T14:47:00.000\",\"disposition\":\"HAN\",\"address\":\"Polk St/turk St\",\"city\":\"San Francisco\",\"state\":\"CA\",\"agency_id\":\"1\",\"address_type\":\"Intersection\"}\\n,{\"crime_id\":\"190023493\",\"original_crimetype_name\":\"Traffic Stop\",\"report_date\":\"2019-01-02T00:00:00.000\",\"call_date\":\"2019-01-02T00:00:00.000\",\"offense_date\":\"2019-01-02T00:00:00.000\",\"call_time\":\"20:14\",\"call_dttm\":\"2019-01-02T20:14:00.000\",\"disposition\":\"ADV\",\"address\":\"23rd St/york St\",\"city\":\"San Francisco\",\"state\":\"CA\",\"agency_id\":\"1\",\"address_type\":\"Intersection\"}\\n,{\"crime_id\":\"161102713\",\"original_crimetype_name\":\"Burglary\",\"report_date\":\"2016-04-19T00:00:00.000\",\"call_date\":\"2016-04-19T00:00:00.000\",\"offense_date\":\"2016-04-19T00:00:00.000\",\"call_time\":\"16:05\",\"call_dttm\":\"2016-04-19T16:05:00.000\",\"disposition\":\"REP\",\"address\":\"100 Block Of Bay St\",\"city\":\"San Francisco\",\"state\":\"CA\",\"agency_id\":\"1\",\"address_type\":\"Premise Address\"}\\n,{\"crime_id\":\"190163481\",\"original_crimetype_name\":\"Passing Call\",\"report_date\":\"2019-01-16T00:00:00.000\",\"call_date\":\"2019-01-16T00:00:00.000\",\"offense_date\":\"2019-01-16T00:00:00.000\",\"call_time\":\"19:30\",\"call_dttm\":\"2019-01-16T19:30:00.000\",\"disposition\":\"HAN\",\"address\":\"Ybi\",\"state\":\"CA\",\"agency_id\":\"1\",\"address_type\":\"Geo-Override\"}\\n,{\"crime_id\":\"190172118\",\"original_crimetype_name\":\"Suspicious Person\",\"report_date\":\"2019-01-17T00:00:00.000\",\"call_date\":\"2019-01-17T00:00:00.000\",\"offense_date\":\"2019-01-17T00:00:00.000\",\"call_time\":\"13:37\",\"call_dttm\":\"2019-01-17T13:37:00.000\",\"disposition\":\"UTL\",\"address\":\"300 Block Of Turk St\",\"city\":\"San Francisco\",\"state\":\"CA\",\"agency_id\":\"1\",\"address_type\":\"Premise Address\"}\\n,{\"crime_id\":\"193040567\",\"original_crimetype_name\":\"Traf Violation Cite\",\"report_date\":\"2019-10-31T00:00:00.000\",\"call_date\":\"2019-10-31T00:00:00.000\",\"offense_date\":\"2019-10-31T00:00:00.000\",\"call_time\":\"07:34\",\"call_dttm\":\"2019-10-31T07:34:00.000\",\"disposition\":\"GOA\",\"address\":\"2400 Block Of Phelps St\",\"city\":\"San Francisco\",\"state\":\"CA\",\"agency_id\":\"1\",\"address_type\":\"Premise Address\"}\\n,{\"crime_id\":\"193044525\",\"original_crimetype_name\":\"Suspicious Vehicle\",\"report_date\":\"2019-10-31T00:00:00.000\",\"call_date\":\"2019-10-31T00:00:00.000\",\"offense_date\":\"2019-10-31T00:00:00.000\",\"call_time\":\"23:42\",\"call_dttm\":\"2019-10-31T23:42:00.000\",\"disposition\":\"ND\",\"address\":\"Skyline Bl/great Hy\",\"city\":\"San Francisco\",\"state\":\"CA\",\"agency_id\":\"1\",\"address_type\":\"Intersection\"}\\n,{\"crime_id\":\"193044537\",\"original_crimetype_name\":\"Complaint Unkn\",\"report_date\":\"2019-10-31T00:00:00.000\",\"call_date\":\"2019-10-31T00:00:00.000\",\"offense_date\":\"2019-10-31T00:00:00.000\",\"call_time\":\"23:47\",\"call_dttm\":\"2019-10-31T23:47:00.000\",\"disposition\":\"UTL\",\"address\":\"5200 Block Of Diamond Heights Bl\",\"city\":\"San Francisco\",\"state\":\"CA\",\"agency_id\":\"1\",\"address_type\":\"Premise Address\"}\\n,{\"crime_id\":\"193053090\",\"original_crimetype_name\":\"Passing Call\",\"report_date\":\"2019-11-01T00:00:00.000\",\"call_date\":\"2019-11-01T00:00:00.000\",\"offense_date\":\"2019-11-01T00:00:00.000\",\"call_time\":\"16:39\",\"call_dttm\":\"2019-11-01T16:39:00.000\",\"disposition\":\"Not recorded\",\"address\":\"Van Ness Av/mcallister St\",\"city\":\"San Francisco\",\"state\":\"CA\",\"agency_id\":\"1\",\"address_type\":\"Intersection\"}\\n,{\"crime_id\":\"193083626\",\"original_crimetype_name\":\"Auto Boost / Strip\",\"report_date\":\"2019-11-04T00:00:00.000\",\"call_date\":\"2019-11-04T00:00:00.000\",\"offense_date\":\"2019-11-04T00:00:00.000\",\"call_time\":\"19:44\",\"call_dttm\":\"2019-11-04T19:44:00.000\",\"disposition\":\"ND\",\"address\":\"San Carlos St/21st St\",\"city\":\"San Francisco\",\"state\":\"CA\",\"agency_id\":\"1\",\"address_type\":\"Intersection\"}\\n,{\"crime_id\":\"190063084\",\"original_crimetype_name\":\"Passing Call\",\"report_date\":\"2019-01-06T00:00:00.000\",\"call_date\":\"2019-01-06T00:00:00.000\",\"offense_date\":\"2019-01-06T00:00:00.000\",\"call_time\":\"21:32\",\"call_dttm\":\"2019-01-06T21:32:00.000\",\"disposition\":\"HAN\",\"address\":\"Saint Francis And Santa Clara\",\"state\":\"CA\",\"agency_id\":\"1\",\"address_type\":\"Geo-Override\"}\\n,{\"crime_id\":\"190072475\",\"original_crimetype_name\":\"Rz/dw\",\"report_date\":\"2019-01-07T00:00:00.000\",\"call_date\":\"2019-01-07T00:00:00.000\",\"offense_date\":\"2019-01-07T00:00:00.000\",\"call_time\":\"16:08\",\"call_dttm\":\"2019-01-07T16:08:00.000\",\"disposition\":\"CIT\",\"address\":\"100 Block Of 20th Av\",\"city\":\"San Francisco\",\"state\":\"CA\",\"agency_id\":\"1\",\"address_type\":\"Premise Address\"}\\n,{\"crime_id\":\"193040594\",\"original_crimetype_name\":\"22500l\",\"report_date\":\"2019-10-31T00:00:00.000\",\"call_date\":\"2019-10-31T00:00:00.000\",\"offense_date\":\"2019-10-31T00:00:00.000\",\"call_time\":\"07:42\",\"call_dttm\":\"2019-10-31T07:42:00.000\",\"disposition\":\"GOA\",\"address\":\"Jamestown Av/keith St\",\"city\":\"San Francisco\",\"state\":\"CA\",\"agency_id\":\"1\",\"address_type\":\"Intersection\"}\\n,{\"crime_id\":\"193044541\",\"original_crimetype_name\":\"Passing Call\",\"report_date\":\"2019-10-31T00:00:00.000\",\"call_date\":\"2019-10-31T00:00:00.000\",\"offense_date\":\"2019-10-31T00:00:00.000\",\"call_time\":\"23:51\",\"call_dttm\":\"2019-10-31T23:51:00.000\",\"disposition\":\"HAN\",\"address\":\"900 Block Of Market St\",\"city\":\"San Francisco\",\"state\":\"CA\",\"agency_id\":\"1\",\"address_type\":\"Common Location\",\"common_location\":\"One Hallidie Pz, Sf\"}\\n,{\"crime_id\":\"193050004\",\"original_crimetype_name\":\"Suspicious Vehicle\",\"report_date\":\"2019-11-01T00:00:00.000\",\"call_date\":\"2019-11-01T00:00:00.000\",\"offense_date\":\"2019-11-01T00:00:00.000\",\"call_time\":\"00:02\",\"call_dttm\":\"2019-11-01T00:02:00.000\",\"disposition\":\"HAN\",\"address\":\"14th St/valencia St\",\"city\":\"San Francisco\",\"state\":\"CA\",\"agency_id\":\"1\",\"address_type\":\"Intersection\"}\\n,{\"crime_id\":\"193084015\",\"original_crimetype_name\":\"Passing Call\",\"report_date\":\"2019-11-04T00:00:00.000\",\"call_date\":\"2019-11-04T00:00:00.000\",\"offense_date\":\"2019-11-04T00:00:00.000\",\"call_time\":\"21:53\",\"call_dttm\":\"2019-11-04T21:53:00.000\",\"disposition\":\"HAN\",\"address\":\"Precita Park\",\"state\":\"CA\",\"agency_id\":\"1\",\"address_type\":\"Geo-Override\"}\\n,{\"crime_id\":\"190184295\",\"original_crimetype_name\":\"Veh Accident\",\"report_date\":\"2019-01-18T00:00:00.000\",\"call_date\":\"2019-01-18T00:00:00.000\",\"offense_date\":\"2019-01-18T00:00:00.000\",\"call_time\":\"23:11\",\"call_dttm\":\"2019-01-18T23:11:00.000\",\"disposition\":\"REP\",\"address\":\"Mission Street And 5th Street\",\"state\":\"CA\",\"agency_id\":\"1\",\"address_type\":\"Geo-Override\"}\\n,{\"crime_id\":\"193050031\",\"original_crimetype_name\":\"Suspicious Vehicle\",\"report_date\":\"2019-11-01T00:00:00.000\",\"call_date\":\"2019-11-01T00:00:00.000\",\"offense_date\":\"2019-11-01T00:00:00.000\",\"call_time\":\"00:14\",\"call_dttm\":\"2019-11-01T00:14:00.000\",\"disposition\":\"HAN\",\"address\":\"Hampshire St/mariposa St\",\"city\":\"San Francisco\",\"state\":\"CA\",\"agency_id\":\"1\",\"address_type\":\"Intersection\"}\\n,{\"crime_id\":\"193050043\",\"original_crimetype_name\":\"Fight No Weapon\",\"report_date\":\"2019-11-01T00:00:00.000\",\"call_date\":\"2019-11-01T00:00:00.000\",\"offense_date\":\"2019-11-01T00:00:00.000\",\"call_time\":\"00:12\",\"call_dttm\":\"2019-11-01T00:12:00.000\",\"disposition\":\"NOM\",\"address\":\"200 Block Of Plymouth Av\",\"city\":\"San Francisco\",\"state\":\"CA\",\"agency_id\":\"1\",\"address_type\":\"Premise Address\"}\\n,{\"crime_id\":\"193103606\",\"original_crimetype_name\":\"Rep\",\"report_date\":\"2019-11-06T00:00:00.000\",\"call_date\":\"2019-11-06T00:00:00.000\",\"offense_date\":\"2019-11-06T00:00:00.000\",\"call_time\":\"18:32\",\"call_dttm\":\"2019-11-06T18:32:00.000\",\"disposition\":\"HAN\",\"address\":\"1300 Block Of Shafter Av\",\"city\":\"San Francisco\",\"state\":\"CA\",\"agency_id\":\"1\",\"address_type\":\"Premise Address\"}\\n,{\"crime_id\":\"193382393\",\"original_crimetype_name\":\"Traf Violation Cite\",\"report_date\":\"2019-12-04T00:00:00.000\",\"call_date\":\"2019-12-04T00:00:00.000\",\"offense_date\":\"2019-12-04T00:00:00.000\",\"call_time\":\"14:13\",\"call_dttm\":\"2019-12-04T14:13:00.000\",\"disposition\":\"GOA\",\"address\":\"0 Block Of Leo St\",\"city\":\"San Francisco\",\"state\":\"CA\",\"agency_id\":\"1\",\"address_type\":\"Premise Address\"}\\n,{\"crime_id\":\"190081540\",\"original_crimetype_name\":\"Unoc\",\"report_date\":\"2019-01-08T00:00:00.000\",\"call_date\":\"2019-01-08T00:00:00.000\",\"offense_date\":\"2019-01-08T00:00:00.000\",\"call_time\":\"12:20\",\"call_dttm\":\"2019-01-08T12:20:00.000\",\"disposition\":\"HAN\",\"address\":\"1800 Block Of Clay St\",\"city\":\"San Francisco\",\"state\":\"CA\",\"agency_id\":\"1\",\"address_type\":\"Premise Address\"}\\n,{\"crime_id\":\"190130292\",\"original_crimetype_name\":\"Traffic Stop\",\"report_date\":\"2019-01-13T00:00:00.000\",\"call_date\":\"2019-01-13T00:00:00.000\",\"offense_date\":\"2019-01-13T00:00:00.000\",\"call_time\":\"02:29\",\"call_dttm\":\"2019-01-13T02:29:00.000\",\"disposition\":\"CIT\",\"address\":\"Broadway/columbus Av\",\"city\":\"San Francisco\",\"state\":\"CA\",\"agency_id\":\"1\",\"address_type\":\"Intersection\"}\\n,{\"crime_id\":\"190311382\",\"original_crimetype_name\":\"Traffic Stop\",\"report_date\":\"2019-01-31T00:00:00.000\",\"call_date\":\"2019-01-31T00:00:00.000\",\"offense_date\":\"2019-01-31T00:00:00.000\",\"call_time\":\"10:49\",\"call_dttm\":\"2019-01-31T10:49:00.000\",\"disposition\":\"CIT\",\"address\":\"Polk St/broadway\",\"city\":\"San Francisco\",\"state\":\"CA\",\"agency_id\":\"1\",\"address_type\":\"Intersection\"}\\n,{\"crime_id\":\"190021407\",\"original_crimetype_name\":\"Homeless Complaint\",\"report_date\":\"2019-01-02T00:00:00.000\",\"call_date\":\"2019-01-02T00:00:00.000\",\"offense_date\":\"2019-01-02T00:00:00.000\",\"call_time\":\"11:17\",\"call_dttm\":\"2019-01-02T11:17:00.000\",\"disposition\":\"HAN\",\"address\":\"Hickory St/gough St\",\"city\":\"San Francisco\",\"state\":\"CA\",\"agency_id\":\"1\",\"address_type\":\"Intersection\"}\\n,{\"crime_id\":\"190112314\",\"original_crimetype_name\":\"Dog\",\"report_date\":\"2019-01-11T00:00:00.000\",\"call_date\":\"2019-01-11T00:00:00.000\",\"offense_date\":\"2019-01-11T00:00:00.000\",\"call_time\":\"14:55\",\"call_dttm\":\"2019-01-11T14:55:00.000\",\"disposition\":\"UTL\",\"address\":\"2300 Block Of Francisco St\",\"city\":\"San Francisco\",\"state\":\"CA\",\"agency_id\":\"1\",\"address_type\":\"Premise Address\"}\\n,{\"crime_id\":\"190143905\",\"original_crimetype_name\":\"Passing Call\",\"report_date\":\"2019-01-14T00:00:00.000\",\"call_date\":\"2019-01-14T00:00:00.000\",\"offense_date\":\"2019-01-14T00:00:00.000\",\"call_time\":\"22:31\",\"call_dttm\":\"2019-01-14T22:31:00.000\",\"disposition\":\"HAN\",\"address\":\"Naples St/russia Av\",\"city\":\"San Francisco\",\"state\":\"CA\",\"agency_id\":\"1\",\"address_type\":\"Intersection\"}\\n,{\"crime_id\":\"161063920\",\"original_crimetype_name\":\"Passing Call\",\"report_date\":\"2016-04-15T00:00:00.000\",\"call_date\":\"2016-04-15T00:00:00.000\",\"offense_date\":\"2016-04-15T00:00:00.000\",\"call_time\":\"22:21\",\"call_dttm\":\"2016-04-15T22:21:00.000\",\"disposition\":\"HAN\",\"address\":\"San Bruno/silver\",\"state\":\"CA\",\"agency_id\":\"1\",\"address_type\":\"Geo-Override\"}\\n,{\"crime_id\":\"190193720\",\"original_crimetype_name\":\"Fight No Weapon Dv\",\"report_date\":\"2019-01-19T00:00:00.000\",\"call_date\":\"2019-01-19T00:00:00.000\",\"offense_date\":\"2019-01-19T00:00:00.000\",\"call_time\":\"20:35\",\"call_dttm\":\"2019-01-19T20:35:00.000\",\"disposition\":\"UTL\",\"address\":\"Monument Wy/17th St\",\"city\":\"San Francisco\",\"state\":\"CA\",\"agency_id\":\"1\",\"address_type\":\"Intersection\"}\\n,{\"crime_id\":\"190010908\",\"original_crimetype_name\":\"H&r Veh Accident\",\"report_date\":\"2019-01-01T00:00:00.000\",\"call_date\":\"2019-01-01T00:00:00.000\",\"offense_date\":\"2019-01-01T00:00:00.000\",\"call_time\":\"04:54\",\"call_dttm\":\"2019-01-01T04:54:00.000\",\"disposition\":\"REP\",\"address\":\"Lombard St/gough St\",\"city\":\"San Francisco\",\"state\":\"CA\",\"agency_id\":\"1\",\"address_type\":\"Intersection\"}\\n,{\"crime_id\":\"193050102\",\"original_crimetype_name\":\"Poss\",\"report_date\":\"2019-11-01T00:00:00.000\",\"call_date\":\"2019-11-01T00:00:00.000\",\"offense_date\":\"2019-11-01T00:00:00.000\",\"call_time\":\"00:42\",\"call_dttm\":\"2019-11-01T00:42:00.000\",\"disposition\":\"Not recorded\",\"address\":\"500 Block Of Leavenworth St\",\"city\":\"San Francisco\",\"state\":\"CA\",\"agency_id\":\"1\",\"address_type\":\"Premise Address\"}\\n,{\"crime_id\":\"193280361\",\"original_crimetype_name\":\"Music\",\"report_date\":\"2019-11-24T00:00:00.000\",\"call_date\":\"2019-11-24T00:00:00.000\",\"offense_date\":\"2019-11-24T00:00:00.000\",\"call_time\":\"03:05\",\"call_dttm\":\"2019-11-24T03:05:00.000\",\"disposition\":\"GOA\",\"address\":\"Fillmore St/union St\",\"city\":\"San Francisco\",\"state\":\"CA\",\"agency_id\":\"1\",\"address_type\":\"Intersection\"}\\n,{\"crime_id\":\"190070011\",\"original_crimetype_name\":\"807\",\"report_date\":\"2019-01-07T00:00:00.000\",\"call_date\":\"2019-01-07T00:00:00.000\",\"offense_date\":\"2019-01-07T00:00:00.000\",\"call_time\":\"00:01\",\"call_dttm\":\"2019-01-07T00:01:00.000\",\"disposition\":\"HAN\",\"address\":\"Faxon Av/ocean Av\",\"city\":\"San Francisco\",\"state\":\"CA\",\"agency_id\":\"1\",\"address_type\":\"Intersection\"}\\n,{\"crime_id\":\"161103187\",\"original_crimetype_name\":\"Vehicle Alarm\",\"report_date\":\"2016-04-19T00:00:00.000\",\"call_date\":\"2016-04-19T00:00:00.000\",\"offense_date\":\"2016-04-19T00:00:00.000\",\"call_time\":\"17:43\",\"call_dttm\":\"2016-04-19T17:43:00.000\",\"disposition\":\"HAN\",\"address\":\"200 Block Of Byxbee St\",\"city\":\"San Francisco\",\"state\":\"CA\",\"agency_id\":\"1\",\"address_type\":\"Premise Address\"}\\n,{\"crime_id\":\"190152370\",\"original_crimetype_name\":\"Passing Call\",\"report_date\":\"2019-01-15T00:00:00.000\",\"call_date\":\"2019-01-15T00:00:00.000\",\"offense_date\":\"2019-01-15T00:00:00.000\",\"call_time\":\"15:00\",\"call_dttm\":\"2019-01-15T15:00:00.000\",\"disposition\":\"HAN\",\"address\":\"Eddy St/hyde St\",\"city\":\"San Francisco\",\"state\":\"CA\",\"agency_id\":\"1\",\"address_type\":\"Intersection\"}\\n,{\"crime_id\":\"190184082\",\"original_crimetype_name\":\"Traf Violation Cite\",\"report_date\":\"2019-01-18T00:00:00.000\",\"call_date\":\"2019-01-18T00:00:00.000\",\"offense_date\":\"2019-01-18T00:00:00.000\",\"call_time\":\"22:08\",\"call_dttm\":\"2019-01-18T22:08:00.000\",\"disposition\":\"CAN\",\"address\":\"200 Block Of Ripley St\",\"city\":\"San Francisco\",\"state\":\"CA\",\"agency_id\":\"1\",\"address_type\":\"Premise Address\"}\\n,{\"crime_id\":\"190030057\",\"original_crimetype_name\":\"Poss\",\"report_date\":\"2019-01-03T00:00:00.000\",\"call_date\":\"2019-01-03T00:00:00.000\",\"offense_date\":\"2019-01-03T00:00:00.000\",\"call_time\":\"00:30\",\"call_dttm\":\"2019-01-03T00:30:00.000\",\"disposition\":\"ND\",\"address\":\"Noriega St/32nd Av\",\"city\":\"San Francisco\",\"state\":\"CA\",\"agency_id\":\"1\",\"address_type\":\"Intersection\"}\\n,{\"crime_id\":\"190042615\",\"original_crimetype_name\":\"Passing Call\",\"report_date\":\"2019-01-04T00:00:00.000\",\"call_date\":\"2019-01-04T00:00:00.000\",\"offense_date\":\"2019-01-04T00:00:00.000\",\"call_time\":\"16:47\",\"call_dttm\":\"2019-01-04T16:47:00.000\",\"disposition\":\"HAN\",\"address\":\"3rd St/22nd St\",\"city\":\"San Francisco\",\"state\":\"CA\",\"agency_id\":\"1\",\"address_type\":\"Intersection\"}\\n,{\"crime_id\":\"190081785\",\"original_crimetype_name\":\"Traf Violation Cite\",\"report_date\":\"2019-01-08T00:00:00.000\",\"call_date\":\"2019-01-08T00:00:00.000\",\"offense_date\":\"2019-01-08T00:00:00.000\",\"call_time\":\"13:20\",\"call_dttm\":\"2019-01-08T13:20:00.000\",\"disposition\":\"CIT\",\"address\":\"145 Jordan Ave\",\"state\":\"CA\",\"agency_id\":\"1\",\"address_type\":\"Geo-Override\"}\\n,{\"crime_id\":\"190112315\",\"original_crimetype_name\":\"Traf Violation Cite\",\"report_date\":\"2019-01-11T00:00:00.000\",\"call_date\":\"2019-01-11T00:00:00.000\",\"offense_date\":\"2019-01-11T00:00:00.000\",\"call_time\":\"14:58\",\"call_dttm\":\"2019-01-11T14:58:00.000\",\"disposition\":\"GOA\",\"address\":\"200 Block Of Powell St\",\"city\":\"San Francisco\",\"state\":\"CA\",\"agency_id\":\"1\",\"address_type\":\"Premise Address\"}\\n,{\"crime_id\":\"161070690\",\"original_crimetype_name\":\"Passing Call\",\"report_date\":\"2016-04-16T00:00:00.000\",\"call_date\":\"2016-04-16T00:00:00.000\",\"offense_date\":\"2016-04-16T00:00:00.000\",\"call_time\":\"07:18\",\"call_dttm\":\"2016-04-16T07:18:00.000\",\"disposition\":\"HAN\",\"address\":\"Station 48\",\"state\":\"CA\",\"agency_id\":\"1\",\"address_type\":\"Geo-Override\"}\\n,{\"crime_id\":\"161083327\",\"original_crimetype_name\":\"Passing Call\",\"report_date\":\"2016-04-17T00:00:00.000\",\"call_date\":\"2016-04-17T00:00:00.000\",\"offense_date\":\"2016-04-17T00:00:00.000\",\"call_time\":\"20:38\",\"call_dttm\":\"2016-04-17T20:38:00.000\",\"disposition\":\"HAN\",\"address\":\"Duboce Park\",\"state\":\"CA\",\"agency_id\":\"1\",\"address_type\":\"Geo-Override\"}\\n,{\"crime_id\":\"190122319\",\"original_crimetype_name\":\"650\",\"report_date\":\"2019-01-12T00:00:00.000\",\"call_date\":\"2019-01-12T00:00:00.000\",\"offense_date\":\"2019-01-12T00:00:00.000\",\"call_time\":\"15:10\",\"call_dttm\":\"2019-01-12T15:10:00.000\",\"disposition\":\"GOA\",\"address\":\"0 Block Of Langton St\",\"city\":\"San Francisco\",\"state\":\"CA\",\"agency_id\":\"1\",\"address_type\":\"Premise Address\"}\\n,{\"crime_id\":\"190184084\",\"original_crimetype_name\":\"Traffic Stop\",\"report_date\":\"2019-01-18T00:00:00.000\",\"call_date\":\"2019-01-18T00:00:00.000\",\"offense_date\":\"2019-01-18T00:00:00.000\",\"call_time\":\"22:09\",\"call_dttm\":\"2019-01-18T22:09:00.000\",\"disposition\":\"CIT\",\"address\":\"Funston Av/cabrillo St\",\"city\":\"San Francisco\",\"state\":\"CA\",\"agency_id\":\"1\",\"address_type\":\"Intersection\"}\\n,{\"crime_id\":\"193040699\",\"original_crimetype_name\":\"22500f\",\"report_date\":\"2019-10-31T00:00:00.000\",\"call_date\":\"2019-10-31T00:00:00.000\",\"offense_date\":\"2019-10-31T00:00:00.000\",\"call_time\":\"08:12\",\"call_dttm\":\"2019-10-31T08:12:00.000\",\"disposition\":\"GOA\",\"address\":\"100 Block Of Athens St\",\"city\":\"San Francisco\",\"state\":\"CA\",\"agency_id\":\"1\",\"address_type\":\"Premise Address\"}\\n,{\"crime_id\":\"193050104\",\"original_crimetype_name\":\"603\",\"report_date\":\"2019-11-01T00:00:00.000\",\"call_date\":\"2019-11-01T00:00:00.000\",\"offense_date\":\"2019-11-01T00:00:00.000\",\"call_time\":\"00:39\",\"call_dttm\":\"2019-11-01T00:39:00.000\",\"disposition\":\"NOM\",\"address\":\"500 Block Of Leavenworth St\",\"city\":\"San Francisco\",\"state\":\"CA\",\"agency_id\":\"1\",\"address_type\":\"Premise Address\"}\\n,{\"crime_id\":\"193382399\",\"original_crimetype_name\":\".45\",\"report_date\":\"2019-12-04T00:00:00.000\",\"call_date\":\"2019-12-04T00:00:00.000\",\"offense_date\":\"2019-12-04T00:00:00.000\",\"call_time\":\"14:14\",\"call_dttm\":\"2019-12-04T14:14:00.000\",\"disposition\":\"NOM\",\"address\":\"1700 Block Of 15th St\",\"city\":\"San Francisco\",\"state\":\"CA\",\"agency_id\":\"1\",\"address_type\":\"Premise Address\"}\\n,{\"crime_id\":\"190120984\",\"original_crimetype_name\":\"Homeless Complaint\",\"report_date\":\"2019-01-12T00:00:00.000\",\"call_date\":\"2019-01-12T00:00:00.000\",\"offense_date\":\"2019-01-12T00:00:00.000\",\"call_time\":\"09:16\",\"call_dttm\":\"2019-01-12T09:16:00.000\",\"disposition\":\"HAN\",\"address\":\"1200 Block Of Folsom St\",\"city\":\"San Francisco\",\"state\":\"CA\",\"agency_id\":\"1\",\"address_type\":\"Premise Address\"}\\n,{\"crime_id\":\"190143907\",\"original_crimetype_name\":\"22500f\",\"report_date\":\"2019-01-14T00:00:00.000\",\"call_date\":\"2019-01-14T00:00:00.000\",\"offense_date\":\"2019-01-14T00:00:00.000\",\"call_time\":\"22:31\",\"call_dttm\":\"2019-01-14T22:31:00.000\",\"disposition\":\"UTL\",\"address\":\"200 Block Of Harold Av\",\"city\":\"San Francisco\",\"state\":\"CA\",\"agency_id\":\"1\",\"address_type\":\"Premise Address\"}\\n,{\"crime_id\":\"160940900\",\"original_crimetype_name\":\"Muni Inspection\",\"report_date\":\"2016-04-03T00:00:00.000\",\"call_date\":\"2016-04-03T00:00:00.000\",\"offense_date\":\"2016-04-03T00:00:00.000\",\"call_time\":\"08:06\",\"call_dttm\":\"2016-04-03T08:06:00.000\",\"disposition\":\"HAN\",\"address\":\"500 Block Of Geneva Av\",\"city\":\"San Francisco\",\"state\":\"CA\",\"agency_id\":\"1\",\"address_type\":\"Common Location\",\"common_location\":\"Balboa Park Muni Station\"}\\n,{\"crime_id\":\"160960755\",\"original_crimetype_name\":\"Att Only\",\"report_date\":\"2016-04-05T00:00:00.000\",\"call_date\":\"2016-04-05T00:00:00.000\",\"offense_date\":\"2016-04-05T00:00:00.000\",\"call_time\":\"08:33\",\"call_dttm\":\"2016-04-05T08:33:00.000\",\"disposition\":\"REP\",\"address\":\"0 Block Of Boutwell St\",\"city\":\"San Francisco\",\"state\":\"CA\",\"agency_id\":\"1\",\"address_type\":\"Premise Address\"}\\n,{\"crime_id\":\"190212756\",\"original_crimetype_name\":\"Audible Alarm\",\"report_date\":\"2019-01-21T00:00:00.000\",\"call_date\":\"2019-01-21T00:00:00.000\",\"offense_date\":\"2019-01-21T00:00:00.000\",\"call_time\":\"16:42\",\"call_dttm\":\"2019-01-21T16:42:00.000\",\"disposition\":\"PAS\",\"address\":\"400 Block Of Geary St\",\"city\":\"San Francisco\",\"state\":\"CA\",\"agency_id\":\"1\",\"address_type\":\"Premise Address\"}\\n,{\"crime_id\":\"190060685\",\"original_crimetype_name\":\"Trespasser\",\"report_date\":\"2019-01-06T00:00:00.000\",\"call_date\":\"2019-01-06T00:00:00.000\",\"offense_date\":\"2019-01-06T00:00:00.000\",\"call_time\":\"08:31\",\"call_dttm\":\"2019-01-06T08:31:00.000\",\"disposition\":\"HAN\",\"address\":\"2000 Block Of Polk St\",\"city\":\"San Francisco\",\"state\":\"CA\",\"agency_id\":\"1\",\"address_type\":\"Premise Address\"}\\n,{\"crime_id\":\"190120985\",\"original_crimetype_name\":\"Passing Call\",\"report_date\":\"2019-01-12T00:00:00.000\",\"call_date\":\"2019-01-12T00:00:00.000\",\"offense_date\":\"2019-01-12T00:00:00.000\",\"call_time\":\"09:17\",\"call_dttm\":\"2019-01-12T09:17:00.000\",\"disposition\":\"Not recorded\",\"address\":\"0 Block Of United Nations Pz\",\"city\":\"San Francisco\",\"state\":\"CA\",\"agency_id\":\"1\",\"address_type\":\"Common Location\",\"common_location\":\"Un Pz, Sf\"}\\n,{\"crime_id\":\"193050107\",\"original_crimetype_name\":\"Passing Call\",\"report_date\":\"2019-11-01T00:00:00.000\",\"call_date\":\"2019-11-01T00:00:00.000\",\"offense_date\":\"2019-11-01T00:00:00.000\",\"call_time\":\"00:43\",\"call_dttm\":\"2019-11-01T00:43:00.000\",\"disposition\":\"HAN\",\"address\":\"Mission St/powers Av\",\"city\":\"San Francisco\",\"state\":\"CA\",\"agency_id\":\"1\",\"address_type\":\"Intersection\"}\\n,{\"crime_id\":\"193050146\",\"original_crimetype_name\":\"Passing Call\",\"report_date\":\"2019-11-01T00:00:00.000\",\"call_date\":\"2019-11-01T00:00:00.000\",\"offense_date\":\"2019-11-01T00:00:00.000\",\"call_time\":\"00:58\",\"call_dttm\":\"2019-11-01T00:58:00.000\",\"disposition\":\"HAN\",\"address\":\"Union St/laguna St\",\"city\":\"San Francisco\",\"state\":\"CA\",\"agency_id\":\"1\",\"address_type\":\"Intersection\"}\\n,{\"crime_id\":\"193272074\",\"original_crimetype_name\":\"Homeless Complaint\",\"report_date\":\"2019-11-23T00:00:00.000\",\"call_date\":\"2019-11-23T00:00:00.000\",\"offense_date\":\"2019-11-23T00:00:00.000\",\"call_time\":\"14:16\",\"call_dttm\":\"2019-11-23T14:16:00.000\",\"disposition\":\"GOA\",\"address\":\"800 Block Of Tehama St\",\"city\":\"San Francisco\",\"state\":\"CA\",\"agency_id\":\"1\",\"address_type\":\"Premise Address\"}\\n,{\"crime_id\":\"193361590\",\"original_crimetype_name\":\"Camper\",\"report_date\":\"2019-12-02T00:00:00.000\",\"call_date\":\"2019-12-02T00:00:00.000\",\"offense_date\":\"2019-12-02T00:00:00.000\",\"call_time\":\"11:40\",\"call_dttm\":\"2019-12-02T11:40:00.000\",\"disposition\":\"HAN\",\"address\":\"600 Block Of Gellert Dr\",\"city\":\"San Francisco\",\"state\":\"CA\",\"agency_id\":\"1\",\"address_type\":\"Premise Address\"}\\n,{\"crime_id\":\"193382403\",\"original_crimetype_name\":\"Passing Call\",\"report_date\":\"2019-12-04T00:00:00.000\",\"call_date\":\"2019-12-04T00:00:00.000\",\"offense_date\":\"2019-12-04T00:00:00.000\",\"call_time\":\"14:17\",\"call_dttm\":\"2019-12-04T14:17:00.000\",\"disposition\":\"HAN\",\"address\":\"1800 Blk Eddy St\",\"city\":\"San Francisco\",\"state\":\"CA\",\"agency_id\":\"1\",\"address_type\":\"Geo-Override\"}\\n,{\"crime_id\":\"190184085\",\"original_crimetype_name\":\"Passing Call\",\"report_date\":\"2019-01-18T00:00:00.000\",\"call_date\":\"2019-01-18T00:00:00.000\",\"offense_date\":\"2019-01-18T00:00:00.000\",\"call_time\":\"22:09\",\"call_dttm\":\"2019-01-18T22:09:00.000\",\"disposition\":\"HAN\",\"address\":\"6th St/market St\",\"city\":\"San Francisco\",\"state\":\"CA\",\"agency_id\":\"1\",\"address_type\":\"Intersection\"}\\n,{\"crime_id\":\"190193724\",\"original_crimetype_name\":\"Passing Call\",\"report_date\":\"2019-01-19T00:00:00.000\",\"call_date\":\"2019-01-19T00:00:00.000\",\"offense_date\":\"2019-01-19T00:00:00.000\",\"call_time\":\"20:43\",\"call_dttm\":\"2019-01-19T20:43:00.000\",\"disposition\":\"HAN\",\"address\":\"Signal Tower Rd/forest Rd\",\"city\":\"Yerba Buena\",\"state\":\"CA\",\"agency_id\":\"1\",\"address_type\":\"Intersection\"}\\n,{\"crime_id\":\"190083789\",\"original_crimetype_name\":\"Traf Violation Tow\",\"report_date\":\"2019-01-08T00:00:00.000\",\"call_date\":\"2019-01-08T00:00:00.000\",\"offense_date\":\"2019-01-08T00:00:00.000\",\"call_time\":\"22:51\",\"call_dttm\":\"2019-01-08T22:51:00.000\",\"disposition\":\"HAN\",\"address\":\"200 Block Of Edinburgh St\",\"city\":\"San Francisco\",\"state\":\"CA\",\"agency_id\":\"1\",\"address_type\":\"Premise Address\"}\\n,{\"crime_id\":\"190112317\",\"original_crimetype_name\":\"650\",\"report_date\":\"2019-01-11T00:00:00.000\",\"call_date\":\"2019-01-11T00:00:00.000\",\"offense_date\":\"2019-01-11T00:00:00.000\",\"call_time\":\"14:55\",\"call_dttm\":\"2019-01-11T14:55:00.000\",\"disposition\":\"GOA\",\"address\":\"500 Block Of Stevenson St\",\"city\":\"San Francisco\",\"state\":\"CA\",\"agency_id\":\"1\",\"address_type\":\"Premise Address\"}\\n,{\"crime_id\":\"190210776\",\"original_crimetype_name\":\"Passing Call\",\"report_date\":\"2019-01-21T00:00:00.000\",\"call_date\":\"2019-01-21T00:00:00.000\",\"offense_date\":\"2019-01-21T00:00:00.000\",\"call_time\":\"08:09\",\"call_dttm\":\"2019-01-21T08:09:00.000\",\"disposition\":\"HAN\",\"address\":\"3rd St/bryant St\",\"city\":\"San Francisco\",\"state\":\"CA\",\"agency_id\":\"1\",\"address_type\":\"Intersection\"}\\n,{\"crime_id\":\"193040707\",\"original_crimetype_name\":\"Traf Violation Cite\",\"report_date\":\"2019-10-31T00:00:00.000\",\"call_date\":\"2019-10-31T00:00:00.000\",\"offense_date\":\"2019-10-31T00:00:00.000\",\"call_time\":\"08:15\",\"call_dttm\":\"2019-10-31T08:15:00.000\",\"disposition\":\"GOA\",\"address\":\"700 Block Of Cortland Av\",\"city\":\"San Francisco\",\"state\":\"CA\",\"agency_id\":\"1\",\"address_type\":\"Premise Address\"}\\n,{\"crime_id\":\"193050150\",\"original_crimetype_name\":\"Casing\",\"report_date\":\"2019-11-01T00:00:00.000\",\"call_date\":\"2019-11-01T00:00:00.000\",\"offense_date\":\"2019-11-01T00:00:00.000\",\"call_time\":\"00:53\",\"call_dttm\":\"2019-11-01T00:53:00.000\",\"disposition\":\"GOA\",\"address\":\"15th St/utah St\",\"city\":\"San Francisco\",\"state\":\"CA\",\"agency_id\":\"1\",\"address_type\":\"Intersection\"}\\n,{\"crime_id\":\"190030132\",\"original_crimetype_name\":\"Brewing\",\"report_date\":\"2019-01-03T00:00:00.000\",\"call_date\":\"2019-01-03T00:00:00.000\",\"offense_date\":\"2019-01-03T00:00:00.000\",\"call_time\":\"01:25\",\"call_dttm\":\"2019-01-03T01:25:00.000\",\"disposition\":\"REP\",\"address\":\"48th Av/fulton St\",\"city\":\"San Francisco\",\"state\":\"CA\",\"agency_id\":\"1\",\"address_type\":\"Intersection\"}\\n,{\"crime_id\":\"160961054\",\"original_crimetype_name\":\"911 Drop\",\"report_date\":\"2016-04-05T00:00:00.000\",\"call_date\":\"2016-04-05T00:00:00.000\",\"offense_date\":\"2016-04-05T00:00:00.000\",\"call_time\":\"09:50\",\"call_dttm\":\"2016-04-05T09:50:00.000\",\"disposition\":\"CAN\",\"address\":\"2400 Block Of Buchanan St\",\"city\":\"San Francisco\",\"state\":\"CA\",\"agency_id\":\"1\",\"address_type\":\"Premise Address\"}\\n,{\"crime_id\":\"190093595\",\"original_crimetype_name\":\"Cwrz\",\"report_date\":\"2019-01-09T00:00:00.000\",\"call_date\":\"2019-01-09T00:00:00.000\",\"offense_date\":\"2019-01-09T00:00:00.000\",\"call_time\":\"19:49\",\"call_dttm\":\"2019-01-09T19:49:00.000\",\"disposition\":\"CIT\",\"address\":\"1100 Block Of Fulton St\",\"city\":\"San Francisco\",\"state\":\"CA\",\"agency_id\":\"1\",\"address_type\":\"Premise Address\"}\\n,{\"crime_id\":\"190070045\",\"original_crimetype_name\":\"601\",\"report_date\":\"2019-01-07T00:00:00.000\",\"call_date\":\"2019-01-07T00:00:00.000\",\"offense_date\":\"2019-01-07T00:00:00.000\",\"call_time\":\"00:19\",\"call_dttm\":\"2019-01-07T00:19:00.000\",\"disposition\":\"GOA\",\"address\":\"0 Block Of La Avanzada St\",\"city\":\"San Francisco\",\"state\":\"CA\",\"agency_id\":\"1\",\"address_type\":\"Premise Address\"}\\n,{\"crime_id\":\"190123144\",\"original_crimetype_name\":\"Passing Call\",\"report_date\":\"2019-01-12T00:00:00.000\",\"call_date\":\"2019-01-12T00:00:00.000\",\"offense_date\":\"2019-01-12T00:00:00.000\",\"call_time\":\"18:41\",\"call_dttm\":\"2019-01-12T18:41:00.000\",\"disposition\":\"HAN\",\"address\":\"1100 Blk Fairfax Av\",\"city\":\"San Francisco\",\"state\":\"CA\",\"agency_id\":\"1\",\"address_type\":\"Geo-Override\"}\\n,{\"crime_id\":\"193050161\",\"original_crimetype_name\":\"Passing Call\",\"report_date\":\"2019-11-01T00:00:00.000\",\"call_date\":\"2019-11-01T00:00:00.000\",\"offense_date\":\"2019-11-01T00:00:00.000\",\"call_time\":\"01:03\",\"call_dttm\":\"2019-11-01T01:03:00.000\",\"disposition\":\"HAN\",\"address\":\"0 Blk Mcallister St\",\"city\":\"San Francisco\",\"state\":\"CA\",\"agency_id\":\"1\",\"address_type\":\"Geo-Override\"}\\n,{\"crime_id\":\"193361593\",\"original_crimetype_name\":\"586\",\"report_date\":\"2019-12-02T00:00:00.000\",\"call_date\":\"2019-12-02T00:00:00.000\",\"offense_date\":\"2019-12-02T00:00:00.000\",\"call_time\":\"11:44\",\"call_dttm\":\"2019-12-02T11:44:00.000\",\"disposition\":\"HAN\",\"address\":\"Bush St/octavia St\",\"city\":\"San Francisco\",\"state\":\"CA\",\"agency_id\":\"1\",\"address_type\":\"Intersection\"}\\n,{\"crime_id\":\"190082121\",\"original_crimetype_name\":\"Traffic Stop\",\"report_date\":\"2019-01-08T00:00:00.000\",\"call_date\":\"2019-01-08T00:00:00.000\",\"offense_date\":\"2019-01-08T00:00:00.000\",\"call_time\":\"14:47\",\"call_dttm\":\"2019-01-08T14:47:00.000\",\"disposition\":\"CIT\",\"address\":\"19th Av/denslowe Dr\",\"city\":\"San Francisco\",\"state\":\"CA\",\"agency_id\":\"1\",\"address_type\":\"Intersection\"}\\n,{\"crime_id\":\"160972713\",\"original_crimetype_name\":\"594\",\"report_date\":\"2016-04-06T00:00:00.000\",\"call_date\":\"2016-04-06T00:00:00.000\",\"offense_date\":\"2016-04-06T00:00:00.000\",\"call_time\":\"15:30\",\"call_dttm\":\"2016-04-06T15:30:00.000\",\"disposition\":\"HAN\",\"address\":\"3800 Block Of 3rd St\",\"city\":\"San Francisco\",\"state\":\"CA\",\"agency_id\":\"1\",\"address_type\":\"Premise Address\"}\\n,{\"crime_id\":\"160972908\",\"original_crimetype_name\":\"500e\",\"report_date\":\"2016-04-06T00:00:00.000\",\"call_date\":\"2016-04-06T00:00:00.000\",\"offense_date\":\"2016-04-06T00:00:00.000\",\"call_time\":\"16:17\",\"call_dttm\":\"2016-04-06T16:17:00.000\",\"disposition\":\"CIT\",\"address\":\"3300 Block Of Pierce St\",\"city\":\"San Francisco\",\"state\":\"CA\",\"agency_id\":\"1\",\"address_type\":\"Premise Address\"}\\n,{\"crime_id\":\"160962211\",\"original_crimetype_name\":\"Trespasser\",\"report_date\":\"2016-04-05T00:00:00.000\",\"call_date\":\"2016-04-05T00:00:00.000\",\"offense_date\":\"2016-04-05T00:00:00.000\",\"call_time\":\"14:28\",\"call_dttm\":\"2016-04-05T14:28:00.000\",\"disposition\":\"CAN\",\"address\":\"1200 Block Of Howard St\",\"city\":\"San Francisco\",\"state\":\"CA\",\"agency_id\":\"1\",\"address_type\":\"Premise Address\"}\\n,{\"crime_id\":\"161103766\",\"original_crimetype_name\":\"Passing Call\",\"report_date\":\"2016-04-19T00:00:00.000\",\"call_date\":\"2016-04-19T00:00:00.000\",\"offense_date\":\"2016-04-19T00:00:00.000\",\"call_time\":\"20:07\",\"call_dttm\":\"2016-04-19T20:07:00.000\",\"disposition\":\"HAN\",\"address\":\"18th St/noe St\",\"city\":\"San Francisco\",\"state\":\"CA\",\"agency_id\":\"1\",\"address_type\":\"Intersection\"}\\n,{\"crime_id\":\"193050163\",\"original_crimetype_name\":\"Passing Call\",\"report_date\":\"2019-11-01T00:00:00.000\",\"call_date\":\"2019-11-01T00:00:00.000\",\"offense_date\":\"2019-11-01T00:00:00.000\",\"call_time\":\"01:03\",\"call_dttm\":\"2019-11-01T01:03:00.000\",\"disposition\":\"Not recorded\",\"address\":\"600 Block Of Buena Vista Av W\",\"city\":\"San Francisco\",\"state\":\"CA\",\"agency_id\":\"1\",\"address_type\":\"Common Location\",\"common_location\":\"Buena Vista Park, Sf\"}\\n,{\"crime_id\":\"193050171\",\"original_crimetype_name\":\"Noise Nuisance\",\"report_date\":\"2019-11-01T00:00:00.000\",\"call_date\":\"2019-11-01T00:00:00.000\",\"offense_date\":\"2019-11-01T00:00:00.000\",\"call_time\":\"01:04\",\"call_dttm\":\"2019-11-01T01:04:00.000\",\"disposition\":\"HAN\",\"address\":\"900 Block Of Post St\",\"city\":\"San Francisco\",\"state\":\"CA\",\"agency_id\":\"1\",\"address_type\":\"Premise Address\"}\\n,{\"crime_id\":\"193050246\",\"original_crimetype_name\":\"Drug Users\",\"report_date\":\"2019-11-01T00:00:00.000\",\"call_date\":\"2019-11-01T00:00:00.000\",\"offense_date\":\"2019-11-01T00:00:00.000\",\"call_time\":\"01:39\",\"call_dttm\":\"2019-11-01T01:39:00.000\",\"disposition\":\"GOA\",\"address\":\"700 Block Of Hyde St\",\"city\":\"San Francisco\",\"state\":\"CA\",\"agency_id\":\"1\",\"address_type\":\"Premise Address\"}\\n,{\"crime_id\":\"193050254\",\"original_crimetype_name\":\"Verbal Poss\",\"report_date\":\"2019-11-01T00:00:00.000\",\"call_date\":\"2019-11-01T00:00:00.000\",\"offense_date\":\"2019-11-01T00:00:00.000\",\"call_time\":\"01:37\",\"call_dttm\":\"2019-11-01T01:37:00.000\",\"disposition\":\"UTL\",\"address\":\"500 Block Of Howard St\",\"city\":\"San Francisco\",\"state\":\"CA\",\"agency_id\":\"1\",\"address_type\":\"Premise Address\"}\\n,{\"crime_id\":\"193272076\",\"original_crimetype_name\":\"Audible Alarm\",\"report_date\":\"2019-11-23T00:00:00.000\",\"call_date\":\"2019-11-23T00:00:00.000\",\"offense_date\":\"2019-11-23T00:00:00.000\",\"call_time\":\"14:15\",\"call_dttm\":\"2019-11-23T14:15:00.000\",\"disposition\":\"PAS\",\"address\":\"100 Block Of Gough St\",\"city\":\"San Francisco\",\"state\":\"CA\",\"agency_id\":\"1\",\"address_type\":\"Premise Address\"}\\n,{\"crime_id\":\"193361594\",\"original_crimetype_name\":\"Audible Alarm\",\"report_date\":\"2019-12-02T00:00:00.000\",\"call_date\":\"2019-12-02T00:00:00.000\",\"offense_date\":\"2019-12-02T00:00:00.000\",\"call_time\":\"11:45\",\"call_dttm\":\"2019-12-02T11:45:00.000\",\"disposition\":\"NCR\",\"address\":\"200 Block Of Caselli Av\",\"city\":\"San Francisco\",\"state\":\"CA\",\"agency_id\":\"1\",\"address_type\":\"Premise Address\"}\\n,{\"crime_id\":\"190033339\",\"original_crimetype_name\":\"22500e\",\"report_date\":\"2019-01-03T00:00:00.000\",\"call_date\":\"2019-01-03T00:00:00.000\",\"offense_date\":\"2019-01-03T00:00:00.000\",\"call_time\":\"19:53\",\"call_dttm\":\"2019-01-03T19:53:00.000\",\"disposition\":\"GOA\",\"address\":\"0 Block Of Roselyn Tr\",\"city\":\"San Francisco\",\"state\":\"CA\",\"agency_id\":\"1\",\"address_type\":\"Premise Address\"}\\n,{\"crime_id\":\"190210874\",\"original_crimetype_name\":\"Audible Alarm\",\"report_date\":\"2019-01-21T00:00:00.000\",\"call_date\":\"2019-01-21T00:00:00.000\",\"offense_date\":\"2019-01-21T00:00:00.000\",\"call_time\":\"08:40\",\"call_dttm\":\"2019-01-21T08:40:00.000\",\"disposition\":\"NCR\",\"address\":\"100 Block Of Garcia Av\",\"city\":\"San Francisco\",\"state\":\"CA\",\"agency_id\":\"1\",\"address_type\":\"Premise Address\"}\\n,{\"crime_id\":\"193050313\",\"original_crimetype_name\":\"Traffic Stop\",\"report_date\":\"2019-11-01T00:00:00.000\",\"call_date\":\"2019-11-01T00:00:00.000\",\"offense_date\":\"2019-11-01T00:00:00.000\",\"call_time\":\"02:06\",\"call_dttm\":\"2019-11-01T02:06:00.000\",\"disposition\":\"ADV\",\"address\":\"Columbus Av/lombard St\",\"city\":\"San Francisco\",\"state\":\"CA\",\"agency_id\":\"1\",\"address_type\":\"Intersection\"}\\n,{\"crime_id\":\"190092647\",\"original_crimetype_name\":\"Auto Boost / Strip\",\"report_date\":\"2019-01-09T00:00:00.000\",\"call_date\":\"2019-01-09T00:00:00.000\",\"offense_date\":\"2019-01-09T00:00:00.000\",\"call_time\":\"16:04\",\"call_dttm\":\"2019-01-09T16:04:00.000\",\"disposition\":\"REP\",\"address\":\"1100 Block Of Grant Av\",\"city\":\"San Francisco\",\"state\":\"CA\",\"agency_id\":\"1\",\"address_type\":\"Premise Address\"}\\n,{\"crime_id\":\"193280363\",\"original_crimetype_name\":\"Trespasser\",\"report_date\":\"2019-11-24T00:00:00.000\",\"call_date\":\"2019-11-24T00:00:00.000\",\"offense_date\":\"2019-11-24T00:00:00.000\",\"call_time\":\"03:08\",\"call_dttm\":\"2019-11-24T03:08:00.000\",\"disposition\":\"UTL\",\"address\":\"900 Block Of Turk St\",\"city\":\"San Francisco\",\"state\":\"CA\",\"agency_id\":\"1\",\"address_type\":\"Premise Address\"}\\n,{\"crime_id\":\"193382404\",\"original_crimetype_name\":\"7,2,27\",\"report_date\":\"2019-12-04T00:00:00.000\",\"call_date\":\"2019-12-04T00:00:00.000\",\"offense_date\":\"2019-12-04T00:00:00.000\",\"call_time\":\"14:14\",\"call_dttm\":\"2019-12-04T14:14:00.000\",\"disposition\":\"CAN\",\"address\":\"2200 Block Of Broadway\",\"city\":\"San Francisco\",\"state\":\"CA\",\"agency_id\":\"1\",\"address_type\":\"Premise Address\"}\\n,{\"crime_id\":\"190152371\",\"original_crimetype_name\":\"Traffic Stop\",\"report_date\":\"2019-01-15T00:00:00.000\",\"call_date\":\"2019-01-15T00:00:00.000\",\"offense_date\":\"2019-01-15T00:00:00.000\",\"call_time\":\"15:00\",\"call_dttm\":\"2019-01-15T15:00:00.000\",\"disposition\":\"HAN\",\"address\":\"4th St/folsom St\",\"city\":\"San Francisco\",\"state\":\"CA\",\"agency_id\":\"1\",\"address_type\":\"Intersection\"}\\n,{\"crime_id\":\"190173087\",\"original_crimetype_name\":\"519 Poss\",\"report_date\":\"2019-01-17T00:00:00.000\",\"call_date\":\"2019-01-17T00:00:00.000\",\"offense_date\":\"2019-01-17T00:00:00.000\",\"call_time\":\"17:27\",\"call_dttm\":\"2019-01-17T17:27:00.000\",\"disposition\":\"REP\",\"address\":\"1600 Block Of Geneva Av\",\"city\":\"San Francisco\",\"state\":\"CA\",\"agency_id\":\"1\",\"address_type\":\"Premise Address\"}\\n,{\"crime_id\":\"190010909\",\"original_crimetype_name\":\"Suspicious Person\",\"report_date\":\"2019-01-01T00:00:00.000\",\"call_date\":\"2019-01-01T00:00:00.000\",\"offense_date\":\"2019-01-01T00:00:00.000\",\"call_time\":\"04:56\",\"call_dttm\":\"2019-01-01T04:56:00.000\",\"disposition\":\"ADV\",\"address\":\"Haight St/cole St\",\"city\":\"San Francisco\",\"state\":\"CA\",\"agency_id\":\"1\",\"address_type\":\"Intersection\"}\\n,{\"crime_id\":\"190060686\",\"original_crimetype_name\":\"Suspicious Person\",\"report_date\":\"2019-01-06T00:00:00.000\",\"call_date\":\"2019-01-06T00:00:00.000\",\"offense_date\":\"2019-01-06T00:00:00.000\",\"call_time\":\"08:31\",\"call_dttm\":\"2019-01-06T08:31:00.000\",\"disposition\":\"UTL\",\"address\":\"Channel St/el Dorado St N\",\"city\":\"San Francisco\",\"state\":\"CA\",\"agency_id\":\"1\",\"address_type\":\"Intersection\"}\\n,{\"crime_id\":\"190082122\",\"original_crimetype_name\":\"Passing Call\",\"report_date\":\"2019-01-08T00:00:00.000\",\"call_date\":\"2019-01-08T00:00:00.000\",\"offense_date\":\"2019-01-08T00:00:00.000\",\"call_time\":\"14:48\",\"call_dttm\":\"2019-01-08T14:48:00.000\",\"disposition\":\"HAN\",\"address\":\"2700 Block Of Arelious Walker Dr\",\"city\":\"San Francisco\",\"state\":\"CA\",\"agency_id\":\"1\",\"address_type\":\"Premise Address\"}\\n,{\"crime_id\":\"190170094\",\"original_crimetype_name\":\"Fight No Weapon\",\"report_date\":\"2019-01-17T00:00:00.000\",\"call_date\":\"2019-01-17T00:00:00.000\",\"offense_date\":\"2019-01-17T00:00:00.000\",\"call_time\":\"00:44\",\"call_dttm\":\"2019-01-17T00:44:00.000\",\"disposition\":\"UTL\",\"address\":\"Sutter St/van Ness Av\",\"city\":\"San Francisco\",\"state\":\"CA\",\"agency_id\":\"1\",\"address_type\":\"Intersection\"}\\n,{\"crime_id\":\"190193725\",\"original_crimetype_name\":\"Caser\",\"report_date\":\"2019-01-19T00:00:00.000\",\"call_date\":\"2019-01-19T00:00:00.000\",\"offense_date\":\"2019-01-19T00:00:00.000\",\"call_time\":\"20:40\",\"call_dttm\":\"2019-01-19T20:40:00.000\",\"disposition\":\"HAN\",\"address\":\"Oak St/franklin St\",\"city\":\"San Francisco\",\"state\":\"CA\",\"agency_id\":\"1\",\"address_type\":\"Intersection\"}\\n,{\"crime_id\":\"193050321\",\"original_crimetype_name\":\"Missing Adult\",\"report_date\":\"2019-11-01T00:00:00.000\",\"call_date\":\"2019-11-01T00:00:00.000\",\"offense_date\":\"2019-11-01T00:00:00.000\",\"call_time\":\"02:05\",\"call_dttm\":\"2019-11-01T02:05:00.000\",\"disposition\":\"CAN\",\"address\":\"4th St/king St\",\"city\":\"San Francisco\",\"state\":\"CA\",\"agency_id\":\"1\",\"address_type\":\"Intersection\"}\\n,{\"crime_id\":\"193272077\",\"original_crimetype_name\":\"Suspicious Person\",\"report_date\":\"2019-11-23T00:00:00.000\",\"call_date\":\"2019-11-23T00:00:00.000\",\"offense_date\":\"2019-11-23T00:00:00.000\",\"call_time\":\"14:17\",\"call_dttm\":\"2019-11-23T14:17:00.000\",\"disposition\":\"ADV\",\"address\":\"700 Block Of Minna St\",\"city\":\"San Francisco\",\"state\":\"CA\",\"agency_id\":\"1\",\"address_type\":\"Premise Address\"}\\n,{\"crime_id\":\"193361597\",\"original_crimetype_name\":\"Passing Call\",\"report_date\":\"2019-12-02T00:00:00.000\",\"call_date\":\"2019-12-02T00:00:00.000\",\"offense_date\":\"2019-12-02T00:00:00.000\",\"call_time\":\"11:47\",\"call_dttm\":\"2019-12-02T11:47:00.000\",\"disposition\":\"Not recorded\",\"address\":\"Chenery St/elk St\",\"city\":\"San Francisco\",\"state\":\"CA\",\"agency_id\":\"1\",\"address_type\":\"Intersection\"}\\n,{\"crime_id\":\"190101730\",\"original_crimetype_name\":\"601\",\"report_date\":\"2019-01-10T00:00:00.000\",\"call_date\":\"2019-01-10T00:00:00.000\",\"offense_date\":\"2019-01-10T00:00:00.000\",\"call_time\":\"12:10\",\"call_dttm\":\"2019-01-10T12:10:00.000\",\"disposition\":\"GOA\",\"address\":\"100 Block Of 6th St\",\"city\":\"San Francisco\",\"state\":\"CA\",\"agency_id\":\"1\",\"address_type\":\"Premise Address\"}\\n,{\"crime_id\":\"190113415\",\"original_crimetype_name\":\"22500b\",\"report_date\":\"2019-01-11T00:00:00.000\",\"call_date\":\"2019-01-11T00:00:00.000\",\"offense_date\":\"2019-01-11T00:00:00.000\",\"call_time\":\"19:18\",\"call_dttm\":\"2019-01-11T19:18:00.000\",\"disposition\":\"CIT\",\"address\":\"Silver Av/quesada Av\",\"city\":\"San Francisco\",\"state\":\"CA\",\"agency_id\":\"1\",\"address_type\":\"Intersection\"}\\n,{\"crime_id\":\"190184087\",\"original_crimetype_name\":\"Ip\",\"report_date\":\"2019-01-18T00:00:00.000\",\"call_date\":\"2019-01-18T00:00:00.000\",\"offense_date\":\"2019-01-18T00:00:00.000\",\"call_time\":\"22:06\",\"call_dttm\":\"2019-01-18T22:06:00.000\",\"disposition\":\"GOA\",\"address\":\"0 Block Of Drumm St\",\"city\":\"San Francisco\",\"state\":\"CA\",\"agency_id\":\"1\",\"address_type\":\"Premise Address\"}\\n,{\"crime_id\":\"160961055\",\"original_crimetype_name\":\"Muni Inspection\",\"report_date\":\"2016-04-05T00:00:00.000\",\"call_date\":\"2016-04-05T00:00:00.000\",\"offense_date\":\"2016-04-05T00:00:00.000\",\"call_time\":\"09:52\",\"call_dttm\":\"2016-04-05T09:52:00.000\",\"disposition\":\"HAN\",\"address\":\"Bacon St/san Bruno Av\",\"city\":\"San Francisco\",\"state\":\"CA\",\"agency_id\":\"1\",\"address_type\":\"Intersection\"}\\n,{\"crime_id\":\"190193726\",\"original_crimetype_name\":\"Suspicious Person\",\"report_date\":\"2019-01-19T00:00:00.000\",\"call_date\":\"2019-01-19T00:00:00.000\",\"offense_date\":\"2019-01-19T00:00:00.000\",\"call_time\":\"20:43\",\"call_dttm\":\"2019-01-19T20:43:00.000\",\"disposition\":\"ADV\",\"address\":\"5th St/folsom St\",\"city\":\"San Francisco\",\"state\":\"CA\",\"agency_id\":\"1\",\"address_type\":\"Intersection\"}\\n,{\"crime_id\":\"190010912\",\"original_crimetype_name\":\"Jo\",\"report_date\":\"2019-01-01T00:00:00.000\",\"call_date\":\"2019-01-01T00:00:00.000\",\"offense_date\":\"2019-01-01T00:00:00.000\",\"call_time\":\"04:56\",\"call_dttm\":\"2019-01-01T04:56:00.000\",\"disposition\":\"UTL\",\"address\":\"Franklin St/geary Bl\",\"city\":\"San Francisco\",\"state\":\"CA\",\"agency_id\":\"1\",\"address_type\":\"Intersection\"}\\n,{\"crime_id\":\"190092648\",\"original_crimetype_name\":\"Passing Call\",\"report_date\":\"2019-01-09T00:00:00.000\",\"call_date\":\"2019-01-09T00:00:00.000\",\"offense_date\":\"2019-01-09T00:00:00.000\",\"call_time\":\"16:04\",\"call_dttm\":\"2019-01-09T16:04:00.000\",\"disposition\":\"HAN\",\"address\":\"100 Block Of Valencia St\",\"city\":\"San Francisco\",\"state\":\"CA\",\"agency_id\":\"1\",\"address_type\":\"Premise Address\"}\\n,{\"crime_id\":\"190152373\",\"original_crimetype_name\":\"Poss 799\",\"report_date\":\"2019-01-15T00:00:00.000\",\"call_date\":\"2019-01-15T00:00:00.000\",\"offense_date\":\"2019-01-15T00:00:00.000\",\"call_time\":\"14:55\",\"call_dttm\":\"2019-01-15T14:55:00.000\",\"disposition\":\"HAN\",\"address\":\"300 Block Of Turk St\",\"city\":\"San Francisco\",\"state\":\"CA\",\"agency_id\":\"1\",\"address_type\":\"Premise Address\"}\\n,{\"crime_id\":\"193050337\",\"original_crimetype_name\":\"Suspicious Person\",\"report_date\":\"2019-11-01T00:00:00.000\",\"call_date\":\"2019-11-01T00:00:00.000\",\"offense_date\":\"2019-11-01T00:00:00.000\",\"call_time\":\"02:19\",\"call_dttm\":\"2019-11-01T02:19:00.000\",\"disposition\":\"ADV\",\"address\":\"Alemany Bl/orizaba Av\",\"city\":\"San Francisco\",\"state\":\"CA\",\"agency_id\":\"1\",\"address_type\":\"Intersection\"}\\n,{\"crime_id\":\"193270092\",\"original_crimetype_name\":\"Passing Call\",\"report_date\":\"2019-11-23T00:00:00.000\",\"call_date\":\"2019-11-23T00:00:00.000\",\"offense_date\":\"2019-11-23T00:00:00.000\",\"call_time\":\"00:37\",\"call_dttm\":\"2019-11-23T00:37:00.000\",\"disposition\":\"HAN\",\"address\":\"800 Block Of Irving St\",\"city\":\"San Francisco\",\"state\":\"CA\",\"agency_id\":\"1\",\"address_type\":\"Common Location\",\"common_location\":\"Irving St Corridor\"}\\n,{\"crime_id\":\"190030145\",\"original_crimetype_name\":\"Audible Alarm\",\"report_date\":\"2019-01-03T00:00:00.000\",\"call_date\":\"2019-01-03T00:00:00.000\",\"offense_date\":\"2019-01-03T00:00:00.000\",\"call_time\":\"01:42\",\"call_dttm\":\"2019-01-03T01:42:00.000\",\"disposition\":\"ND\",\"address\":\"2100 Block Of Ingalls St\",\"city\":\"San Francisco\",\"state\":\"CA\",\"agency_id\":\"1\",\"address_type\":\"Premise Address\"}\\n,{\"crime_id\":\"190130434\",\"original_crimetype_name\":\"Suspicious Person\",\"report_date\":\"2019-01-13T00:00:00.000\",\"call_date\":\"2019-01-13T00:00:00.000\",\"offense_date\":\"2019-01-13T00:00:00.000\",\"call_time\":\"03:57\",\"call_dttm\":\"2019-01-13T03:57:00.000\",\"disposition\":\"HAN\",\"address\":\"100 Block Of Coleridge St\",\"city\":\"San Francisco\",\"state\":\"CA\",\"agency_id\":\"1\",\"address_type\":\"Premise Address\"}\\n,{\"crime_id\":\"160920284\",\"original_crimetype_name\":\"Audible Alarm\",\"report_date\":\"2016-04-01T00:00:00.000\",\"call_date\":\"2016-04-01T00:00:00.000\",\"offense_date\":\"2016-04-01T00:00:00.000\",\"call_time\":\"03:08\",\"call_dttm\":\"2016-04-01T03:08:00.000\",\"disposition\":\"PAS\",\"address\":\"100 Block Of Clement St\",\"city\":\"San Francisco\",\"state\":\"CA\",\"agency_id\":\"1\",\"address_type\":\"Premise Address\"}\\n,{\"crime_id\":\"160940901\",\"original_crimetype_name\":\"Mentally Disturbed\",\"report_date\":\"2016-04-03T00:00:00.000\",\"call_date\":\"2016-04-03T00:00:00.000\",\"offense_date\":\"2016-04-03T00:00:00.000\",\"call_time\":\"08:05\",\"call_dttm\":\"2016-04-03T08:05:00.000\",\"disposition\":\"ADV\",\"address\":\"600 Block Of Steiner St\",\"city\":\"San Francisco\",\"state\":\"CA\",\"agency_id\":\"1\",\"address_type\":\"Premise Address\"}\\n,{\"crime_id\":\"190213809\",\"original_crimetype_name\":\"Rept\",\"report_date\":\"2019-01-21T00:00:00.000\",\"call_date\":\"2019-01-21T00:00:00.000\",\"offense_date\":\"2019-01-21T00:00:00.000\",\"call_time\":\"21:45\",\"call_dttm\":\"2019-01-21T21:45:00.000\",\"disposition\":\"NOM\",\"address\":\"400 Block Of Turk St\",\"city\":\"San Francisco\",\"state\":\"CA\",\"agency_id\":\"1\",\"address_type\":\"Premise Address\"}\\n,{\"crime_id\":\"193041046\",\"original_crimetype_name\":\"Traf Violation Cite\",\"report_date\":\"2019-10-31T00:00:00.000\",\"call_date\":\"2019-10-31T00:00:00.000\",\"offense_date\":\"2019-10-31T00:00:00.000\",\"call_time\":\"09:30\",\"call_dttm\":\"2019-10-31T09:30:00.000\",\"disposition\":\"GOA\",\"address\":\"0 Block Of Scotia Av\",\"city\":\"San Francisco\",\"state\":\"CA\",\"agency_id\":\"1\",\"address_type\":\"Premise Address\"}\\n,{\"crime_id\":\"193050352\",\"original_crimetype_name\":\"Noise Nuisance\",\"report_date\":\"2019-11-01T00:00:00.000\",\"call_date\":\"2019-11-01T00:00:00.000\",\"offense_date\":\"2019-11-01T00:00:00.000\",\"call_time\":\"02:25\",\"call_dttm\":\"2019-11-01T02:25:00.000\",\"disposition\":\"GOA\",\"address\":\"200 Block Of Turk St\",\"city\":\"San Francisco\",\"state\":\"CA\",\"agency_id\":\"1\",\"address_type\":\"Premise Address\"}\\n,{\"crime_id\":\"193364028\",\"original_crimetype_name\":\"Drugs\",\"report_date\":\"2019-12-02T00:00:00.000\",\"call_date\":\"2019-12-02T00:00:00.000\",\"offense_date\":\"2019-12-02T00:00:00.000\",\"call_time\":\"22:25\",\"call_dttm\":\"2019-12-02T22:25:00.000\",\"disposition\":\"GOA\",\"address\":\"300 Block Of Judson Av\",\"city\":\"San Francisco\",\"state\":\"CA\",\"agency_id\":\"1\",\"address_type\":\"Premise Address\"}\\n,{\"crime_id\":\"190170096\",\"original_crimetype_name\":\"Drugs\",\"report_date\":\"2019-01-17T00:00:00.000\",\"call_date\":\"2019-01-17T00:00:00.000\",\"offense_date\":\"2019-01-17T00:00:00.000\",\"call_time\":\"00:44\",\"call_dttm\":\"2019-01-17T00:44:00.000\",\"disposition\":\"GOA\",\"address\":\"200 Block Of Hyde St\",\"city\":\"San Francisco\",\"state\":\"CA\",\"agency_id\":\"1\",\"address_type\":\"Premise Address\"}\\n,{\"crime_id\":\"190210875\",\"original_crimetype_name\":\"Passing Call\",\"report_date\":\"2019-01-21T00:00:00.000\",\"call_date\":\"2019-01-21T00:00:00.000\",\"offense_date\":\"2019-01-21T00:00:00.000\",\"call_time\":\"08:42\",\"call_dttm\":\"2019-01-21T08:42:00.000\",\"disposition\":\"Not recorded\",\"address\":\"0 Block Of United Nations Pz\",\"city\":\"San Francisco\",\"state\":\"CA\",\"agency_id\":\"1\",\"address_type\":\"Common Location\",\"common_location\":\"Un Pz\"}\\n,{\"crime_id\":\"190060688\",\"original_crimetype_name\":\"Homeless Complaint\",\"report_date\":\"2019-01-06T00:00:00.000\",\"call_date\":\"2019-01-06T00:00:00.000\",\"offense_date\":\"2019-01-06T00:00:00.000\",\"call_time\":\"08:37\",\"call_dttm\":\"2019-01-06T08:37:00.000\",\"disposition\":\"ARR\",\"address\":\"Duboce Av/noe St\",\"city\":\"San Francisco\",\"state\":\"CA\",\"agency_id\":\"1\",\"address_type\":\"Intersection\"}\\n,{\"crime_id\":\"190131845\",\"original_crimetype_name\":\"Traf Violation Tow\",\"report_date\":\"2019-01-13T00:00:00.000\",\"call_date\":\"2019-01-13T00:00:00.000\",\"offense_date\":\"2019-01-13T00:00:00.000\",\"call_time\":\"13:54\",\"call_dttm\":\"2019-01-13T13:54:00.000\",\"disposition\":\"GOA\",\"address\":\"1100 Block Of Sutter St\",\"city\":\"San Francisco\",\"state\":\"CA\",\"agency_id\":\"1\",\"address_type\":\"Premise Address\"}\\n,{\"crime_id\":\"190170099\",\"original_crimetype_name\":\"Passing Call\",\"report_date\":\"2019-01-17T00:00:00.000\",\"call_date\":\"2019-01-17T00:00:00.000\",\"offense_date\":\"2019-01-17T00:00:00.000\",\"call_time\":\"00:48\",\"call_dttm\":\"2019-01-17T00:48:00.000\",\"disposition\":\"HAN\",\"address\":\"3100 Block Of 16th St\",\"city\":\"San Francisco\",\"state\":\"CA\",\"agency_id\":\"1\",\"address_type\":\"Premise Address\"}\\n,{\"crime_id\":\"190193439\",\"original_crimetype_name\":\"Passing Call\",\"report_date\":\"2019-01-19T00:00:00.000\",\"call_date\":\"2019-01-19T00:00:00.000\",\"offense_date\":\"2019-01-19T00:00:00.000\",\"call_time\":\"19:12\",\"call_dttm\":\"2019-01-19T19:12:00.000\",\"disposition\":\"HAN\",\"address\":\"0 Blk Page St\",\"city\":\"San Francisco\",\"state\":\"CA\",\"agency_id\":\"1\",\"address_type\":\"Geo-Override\"}\\n,{\"crime_id\":\"160940902\",\"original_crimetype_name\":\"Mentally Disturbed\",\"report_date\":\"2016-04-03T00:00:00.000\",\"call_date\":\"2016-04-03T00:00:00.000\",\"offense_date\":\"2016-04-03T00:00:00.000\",\"call_time\":\"08:07\",\"call_dttm\":\"2016-04-03T08:07:00.000\",\"disposition\":\"HAN\",\"address\":\"8th St/market St\",\"city\":\"San Francisco\",\"state\":\"CA\",\"agency_id\":\"1\",\"address_type\":\"Intersection\"}\\n,{\"crime_id\":\"190193728\",\"original_crimetype_name\":\"22500e\",\"report_date\":\"2019-01-19T00:00:00.000\",\"call_date\":\"2019-01-19T00:00:00.000\",\"offense_date\":\"2019-01-19T00:00:00.000\",\"call_time\":\"20:43\",\"call_dttm\":\"2019-01-19T20:43:00.000\",\"disposition\":\"CIT\",\"address\":\"1500 Block Of Mcallister St\",\"city\":\"San Francisco\",\"state\":\"CA\",\"agency_id\":\"1\",\"address_type\":\"Premise Address\"}\\n,{\"crime_id\":\"193050376\",\"original_crimetype_name\":\"Physical\",\"report_date\":\"2019-11-01T00:00:00.000\",\"call_date\":\"2019-11-01T00:00:00.000\",\"offense_date\":\"2019-11-01T00:00:00.000\",\"call_time\":\"02:36\",\"call_dttm\":\"2019-11-01T02:36:00.000\",\"disposition\":\"GOA\",\"address\":\"400 Block Of Franconia St\",\"city\":\"San Francisco\",\"state\":\"CA\",\"agency_id\":\"1\",\"address_type\":\"Premise Address\"}\\n,{\"crime_id\":\"193050379\",\"original_crimetype_name\":\"Fight No Weapon Dv\",\"report_date\":\"2019-11-01T00:00:00.000\",\"call_date\":\"2019-11-01T00:00:00.000\",\"offense_date\":\"2019-11-01T00:00:00.000\",\"call_time\":\"02:37\",\"call_dttm\":\"2019-11-01T02:37:00.000\",\"disposition\":\"REP\",\"address\":\"100 Block Of Collingwood St\",\"city\":\"San Francisco\",\"state\":\"CA\",\"agency_id\":\"1\",\"address_type\":\"Premise Address\"}\\n,{\"crime_id\":\"193360392\",\"original_crimetype_name\":\"Static\",\"report_date\":\"2019-12-02T00:00:00.000\",\"call_date\":\"2019-12-02T00:00:00.000\",\"offense_date\":\"2019-12-02T00:00:00.000\",\"call_time\":\"05:49\",\"call_dttm\":\"2019-12-02T05:49:00.000\",\"disposition\":\"UTL\",\"address\":\"200 Block Of 26th Av\",\"city\":\"San Francisco\",\"state\":\"CA\",\"agency_id\":\"1\",\"address_type\":\"Premise Address\"}\\n,{\"crime_id\":\"190060689\",\"original_crimetype_name\":\"Well Being Check\",\"report_date\":\"2019-01-06T00:00:00.000\",\"call_date\":\"2019-01-06T00:00:00.000\",\"offense_date\":\"2019-01-06T00:00:00.000\",\"call_time\":\"08:30\",\"call_dttm\":\"2019-01-06T08:30:00.000\",\"disposition\":\"HAN\",\"address\":\"400 Block Of Ellis St\",\"city\":\"San Francisco\",\"state\":\"CA\",\"agency_id\":\"1\",\"address_type\":\"Premise Address\"}\\n,{\"crime_id\":\"190152374\",\"original_crimetype_name\":\"Casing\",\"report_date\":\"2019-01-15T00:00:00.000\",\"call_date\":\"2019-01-15T00:00:00.000\",\"offense_date\":\"2019-01-15T00:00:00.000\",\"call_time\":\"14:56\",\"call_dttm\":\"2019-01-15T14:56:00.000\",\"disposition\":\"GOA\",\"address\":\"Sutter St/webster St\",\"city\":\"San Francisco\",\"state\":\"CA\",\"agency_id\":\"1\",\"address_type\":\"Intersection\"}\\n,{\"crime_id\":\"190131846\",\"original_crimetype_name\":\"Mentally Disturbed\",\"report_date\":\"2019-01-13T00:00:00.000\",\"call_date\":\"2019-01-13T00:00:00.000\",\"offense_date\":\"2019-01-13T00:00:00.000\",\"call_time\":\"13:53\",\"call_dttm\":\"2019-01-13T13:53:00.000\",\"disposition\":\"ADV\",\"address\":\"Stevenson St/5th St\",\"city\":\"San Francisco\",\"state\":\"CA\",\"agency_id\":\"1\",\"address_type\":\"Intersection\"}\\n,{\"crime_id\":\"160920285\",\"original_crimetype_name\":\"Ug\",\"report_date\":\"2016-04-01T00:00:00.000\",\"call_date\":\"2016-04-01T00:00:00.000\",\"offense_date\":\"2016-04-01T00:00:00.000\",\"call_time\":\"03:09\",\"call_dttm\":\"2016-04-01T03:09:00.000\",\"disposition\":\"ND\",\"address\":\"2800 Block Of 16th St\",\"city\":\"San Francisco\",\"state\":\"CA\",\"agency_id\":\"1\",\"address_type\":\"Premise Address\"}\\n,{\"crime_id\":\"193050454\",\"original_crimetype_name\":\"415\",\"report_date\":\"2019-11-01T00:00:00.000\",\"call_date\":\"2019-11-01T00:00:00.000\",\"offense_date\":\"2019-11-01T00:00:00.000\",\"call_time\":\"03:11\",\"call_dttm\":\"2019-11-01T03:11:00.000\",\"disposition\":\"HAN\",\"address\":\"900 Block Of Eddy St\",\"city\":\"San Francisco\",\"state\":\"CA\",\"agency_id\":\"1\",\"address_type\":\"Premise Address\"}\\n,{\"crime_id\":\"193050455\",\"original_crimetype_name\":\"Suicide Attempt\",\"report_date\":\"2019-11-01T00:00:00.000\",\"call_date\":\"2019-11-01T00:00:00.000\",\"offense_date\":\"2019-11-01T00:00:00.000\",\"call_time\":\"03:15\",\"call_dttm\":\"2019-11-01T03:15:00.000\",\"disposition\":\"REP\",\"address\":\"800 Block Of Geary St\",\"city\":\"San Francisco\",\"state\":\"CA\",\"agency_id\":\"1\",\"address_type\":\"Premise Address\"}\\n,{\"crime_id\":\"193050478\",\"original_crimetype_name\":\"Person Screaming\",\"report_date\":\"2019-11-01T00:00:00.000\",\"call_date\":\"2019-11-01T00:00:00.000\",\"offense_date\":\"2019-11-01T00:00:00.000\",\"call_time\":\"03:24\",\"call_dttm\":\"2019-11-01T03:24:00.000\",\"disposition\":\"UTL\",\"address\":\"0 Block Of Ina Ct\",\"city\":\"San Francisco\",\"state\":\"CA\",\"agency_id\":\"1\",\"address_type\":\"Premise Address\"}\\n,{\"crime_id\":\"193050487\",\"original_crimetype_name\":\"Party\",\"report_date\":\"2019-11-01T00:00:00.000\",\"call_date\":\"2019-11-01T00:00:00.000\",\"offense_date\":\"2019-11-01T00:00:00.000\",\"call_time\":\"03:32\",\"call_dttm\":\"2019-11-01T03:32:00.000\",\"disposition\":\"ADV\",\"address\":\"600 Block Of Jones St\",\"city\":\"San Francisco\",\"state\":\"CA\",\"agency_id\":\"1\",\"address_type\":\"Premise Address\"}\\n,{\"crime_id\":\"193301564\",\"original_crimetype_name\":\"Traffic Stop\",\"report_date\":\"2019-11-26T00:00:00.000\",\"call_date\":\"2019-11-26T00:00:00.000\",\"offense_date\":\"2019-11-26T00:00:00.000\",\"call_time\":\"11:26\",\"call_dttm\":\"2019-11-26T11:26:00.000\",\"disposition\":\"ADV\",\"address\":\"100 Block Of Leese St\",\"city\":\"San Francisco\",\"state\":\"CA\",\"agency_id\":\"1\",\"address_type\":\"Premise Address\"}\\n,{\"crime_id\":\"190010914\",\"original_crimetype_name\":\"Petty Theft\",\"report_date\":\"2019-01-01T00:00:00.000\",\"call_date\":\"2019-01-01T00:00:00.000\",\"offense_date\":\"2019-01-01T00:00:00.000\",\"call_time\":\"04:51\",\"call_dttm\":\"2019-01-01T04:51:00.000\",\"disposition\":\"REP\",\"address\":\"900 Block Of Market St\",\"city\":\"San Francisco\",\"state\":\"CA\",\"agency_id\":\"1\",\"address_type\":\"Common Location\",\"common_location\":\"Carls Jr Hallidie Pz, Sf\"}\\n,{\"crime_id\":\"190033867\",\"original_crimetype_name\":\"Suspicious Person\",\"report_date\":\"2019-01-03T00:00:00.000\",\"call_date\":\"2019-01-03T00:00:00.000\",\"offense_date\":\"2019-01-03T00:00:00.000\",\"call_time\":\"22:53\",\"call_dttm\":\"2019-01-03T22:53:00.000\",\"disposition\":\"ADV\",\"address\":\"Haight St/clayton St\",\"city\":\"San Francisco\",\"state\":\"CA\",\"agency_id\":\"1\",\"address_type\":\"Intersection\"}\\n,{\"crime_id\":\"190082123\",\"original_crimetype_name\":\"Fight No Weapon\",\"report_date\":\"2019-01-08T00:00:00.000\",\"call_date\":\"2019-01-08T00:00:00.000\",\"offense_date\":\"2019-01-08T00:00:00.000\",\"call_time\":\"14:47\",\"call_dttm\":\"2019-01-08T14:47:00.000\",\"disposition\":\"GOA\",\"address\":\"900 Block Of Howard St\",\"city\":\"San Francisco\",\"state\":\"CA\",\"agency_id\":\"1\",\"address_type\":\"Premise Address\"}\\n,{\"crime_id\":\"160973014\",\"original_crimetype_name\":\"Muni Inspection\",\"report_date\":\"2016-04-06T00:00:00.000\",\"call_date\":\"2016-04-06T00:00:00.000\",\"offense_date\":\"2016-04-06T00:00:00.000\",\"call_time\":\"16:36\",\"call_dttm\":\"2016-04-06T16:36:00.000\",\"disposition\":\"HAN\",\"address\":\"Mission St/26th St\",\"city\":\"San Francisco\",\"state\":\"CA\",\"agency_id\":\"1\",\"address_type\":\"Intersection\"}\\n,{\"crime_id\":\"190112318\",\"original_crimetype_name\":\"Citizen Standby\",\"report_date\":\"2019-01-11T00:00:00.000\",\"call_date\":\"2019-01-11T00:00:00.000\",\"offense_date\":\"2019-01-11T00:00:00.000\",\"call_time\":\"14:57\",\"call_dttm\":\"2019-01-11T14:57:00.000\",\"disposition\":\"HAN\",\"address\":\"500 Block Of Fell St\",\"city\":\"San Francisco\",\"state\":\"CA\",\"agency_id\":\"1\",\"address_type\":\"Premise Address\"}\\n,{\"crime_id\":\"190211879\",\"original_crimetype_name\":\"Passing Call\",\"report_date\":\"2019-01-21T00:00:00.000\",\"call_date\":\"2019-01-21T00:00:00.000\",\"offense_date\":\"2019-01-21T00:00:00.000\",\"call_time\":\"13:08\",\"call_dttm\":\"2019-01-21T13:08:00.000\",\"disposition\":\"Not recorded\",\"address\":\"Ha Plaza\",\"state\":\"CA\",\"agency_id\":\"1\",\"address_type\":\"Geo-Override\"}\\n,{\"crime_id\":\"190010916\",\"original_crimetype_name\":\"Suicide Attempt\",\"report_date\":\"2019-01-01T00:00:00.000\",\"call_date\":\"2019-01-01T00:00:00.000\",\"offense_date\":\"2019-01-01T00:00:00.000\",\"call_time\":\"04:58\",\"call_dttm\":\"2019-01-01T04:58:00.000\",\"disposition\":\"HAN\",\"address\":\"1500 Block Of Market St\",\"city\":\"San Francisco\",\"state\":\"CA\",\"agency_id\":\"1\",\"address_type\":\"Premise Address\"}\\n,{\"crime_id\":\"190060690\",\"original_crimetype_name\":\"Traffic Stop\",\"report_date\":\"2019-01-06T00:00:00.000\",\"call_date\":\"2019-01-06T00:00:00.000\",\"offense_date\":\"2019-01-06T00:00:00.000\",\"call_time\":\"08:37\",\"call_dttm\":\"2019-01-06T08:37:00.000\",\"disposition\":\"CIT\",\"address\":\"Fulton St/12th Av\",\"city\":\"San Francisco\",\"state\":\"CA\",\"agency_id\":\"1\",\"address_type\":\"Intersection\"}\\n,{\"crime_id\":\"190132164\",\"original_crimetype_name\":\"Drugs\",\"report_date\":\"2019-01-13T00:00:00.000\",\"call_date\":\"2019-01-13T00:00:00.000\",\"offense_date\":\"2019-01-13T00:00:00.000\",\"call_time\":\"15:26\",\"call_dttm\":\"2019-01-13T15:26:00.000\",\"disposition\":\"ADV\",\"address\":\"8th St/market St\",\"city\":\"San Francisco\",\"state\":\"CA\",\"agency_id\":\"1\",\"address_type\":\"Intersection\"}\\n,{\"crime_id\":\"160980238\",\"original_crimetype_name\":\"Traffic Stop\",\"report_date\":\"2016-04-07T00:00:00.000\",\"call_date\":\"2016-04-07T00:00:00.000\",\"offense_date\":\"2016-04-07T00:00:00.000\",\"call_time\":\"01:54\",\"call_dttm\":\"2016-04-07T01:54:00.000\",\"disposition\":\"ADV\",\"address\":\"Geary Bl/van Ness Av\",\"city\":\"San Francisco\",\"state\":\"CA\",\"agency_id\":\"1\",\"address_type\":\"Intersection\"}\\n,{\"crime_id\":\"161110289\",\"original_crimetype_name\":\"Veral\",\"report_date\":\"2016-04-20T00:00:00.000\",\"call_date\":\"2016-04-20T00:00:00.000\",\"offense_date\":\"2016-04-20T00:00:00.000\",\"call_time\":\"03:17\",\"call_dttm\":\"2016-04-20T03:17:00.000\",\"disposition\":\"HAN\",\"address\":\"19th St/hartford St\",\"city\":\"San Francisco\",\"state\":\"CA\",\"agency_id\":\"1\",\"address_type\":\"Intersection\"}\\n,{\"crime_id\":\"190173093\",\"original_crimetype_name\":\"Passing Call\",\"report_date\":\"2019-01-17T00:00:00.000\",\"call_date\":\"2019-01-17T00:00:00.000\",\"offense_date\":\"2019-01-17T00:00:00.000\",\"call_time\":\"17:30\",\"call_dttm\":\"2019-01-17T17:30:00.000\",\"disposition\":\"Not recorded\",\"address\":\"20th St/mission St\",\"city\":\"San Francisco\",\"state\":\"CA\",\"agency_id\":\"1\",\"address_type\":\"Intersection\"}\\n,{\"crime_id\":\"193050523\",\"original_crimetype_name\":\"Shots Fired\",\"report_date\":\"2019-11-01T00:00:00.000\",\"call_date\":\"2019-11-01T00:00:00.000\",\"offense_date\":\"2019-11-01T00:00:00.000\",\"call_time\":\"03:53\",\"call_dttm\":\"2019-11-01T03:53:00.000\",\"disposition\":\"REP\",\"address\":\"1000 Block Of Noe St\",\"city\":\"San Francisco\",\"state\":\"CA\",\"agency_id\":\"1\",\"address_type\":\"Premise Address\"}\\n,{\"crime_id\":\"193050538\",\"original_crimetype_name\":\"Passing Call\",\"report_date\":\"2019-11-01T00:00:00.000\",\"call_date\":\"2019-11-01T00:00:00.000\",\"offense_date\":\"2019-11-01T00:00:00.000\",\"call_time\":\"04:09\",\"call_dttm\":\"2019-11-01T04:09:00.000\",\"disposition\":\"HAN\",\"address\":\"Haight St/masonic Av\",\"city\":\"San Francisco\",\"state\":\"CA\",\"agency_id\":\"1\",\"address_type\":\"Intersection\"}\\n,{\"crime_id\":\"193050544\",\"original_crimetype_name\":\"Passing Call\",\"report_date\":\"2019-11-01T00:00:00.000\",\"call_date\":\"2019-11-01T00:00:00.000\",\"offense_date\":\"2019-11-01T00:00:00.000\",\"call_time\":\"04:13\",\"call_dttm\":\"2019-11-01T04:13:00.000\",\"disposition\":\"HAN\",\"address\":\"Market St And Van Ness Ave\",\"state\":\"CA\",\"agency_id\":\"1\",\"address_type\":\"Geo-Override\"}\\n,{\"crime_id\":\"193050549\",\"original_crimetype_name\":\"Jo\",\"report_date\":\"2019-11-01T00:00:00.000\",\"call_date\":\"2019-11-01T00:00:00.000\",\"offense_date\":\"2019-11-01T00:00:00.000\",\"call_time\":\"04:14\",\"call_dttm\":\"2019-11-01T04:14:00.000\",\"disposition\":\"HAN\",\"address\":\"300 Block Of 23rd Av\",\"city\":\"San Francisco\",\"state\":\"CA\",\"agency_id\":\"1\",\"address_type\":\"Premise Address\"}\\n,{\"crime_id\":\"193050660\",\"original_crimetype_name\":\"Audible Alarm\",\"report_date\":\"2019-11-01T00:00:00.000\",\"call_date\":\"2019-11-01T00:00:00.000\",\"offense_date\":\"2019-11-01T00:00:00.000\",\"call_time\":\"05:57\",\"call_dttm\":\"2019-11-01T05:57:00.000\",\"disposition\":\"NCR\",\"address\":\"2000 Block Of Chestnut St\",\"city\":\"San Francisco\",\"state\":\"CA\",\"agency_id\":\"1\",\"address_type\":\"Premise Address\"}\\n,{\"crime_id\":\"193062615\",\"original_crimetype_name\":\"Party\",\"report_date\":\"2019-11-02T00:00:00.000\",\"call_date\":\"2019-11-02T00:00:00.000\",\"offense_date\":\"2019-11-02T00:00:00.000\",\"call_time\":\"16:30\",\"call_dttm\":\"2019-11-02T16:30:00.000\",\"disposition\":\"HAN\",\"address\":\"600 Blk 39th Av\",\"city\":\"San Francisco\",\"state\":\"CA\",\"agency_id\":\"1\",\"address_type\":\"Geo-Override\"}\\n,{\"crime_id\":\"193280366\",\"original_crimetype_name\":\"Susp\",\"report_date\":\"2019-11-24T00:00:00.000\",\"call_date\":\"2019-11-24T00:00:00.000\",\"offense_date\":\"2019-11-24T00:00:00.000\",\"call_time\":\"03:07\",\"call_dttm\":\"2019-11-24T03:07:00.000\",\"disposition\":\"HAN\",\"address\":\"800 Block Of Ellis St\",\"city\":\"San Francisco\",\"state\":\"CA\",\"agency_id\":\"1\",\"address_type\":\"Premise Address\"}\\n,{\"crime_id\":\"193361598\",\"original_crimetype_name\":\"Traffic Stop\",\"report_date\":\"2019-12-02T00:00:00.000\",\"call_date\":\"2019-12-02T00:00:00.000\",\"offense_date\":\"2019-12-02T00:00:00.000\",\"call_time\":\"11:48\",\"call_dttm\":\"2019-12-02T11:48:00.000\",\"disposition\":\"CIT\",\"address\":\"400 Block Of Geary St\",\"city\":\"San Francisco\",\"state\":\"CA\",\"agency_id\":\"1\",\"address_type\":\"Premise Address\"}\\n,{\"crime_id\":\"193383653\",\"original_crimetype_name\":\"Complaint Unkn\",\"report_date\":\"2019-12-04T00:00:00.000\",\"call_date\":\"2019-12-04T00:00:00.000\",\"offense_date\":\"2019-12-04T00:00:00.000\",\"call_time\":\"18:58\",\"call_dttm\":\"2019-12-04T18:58:00.000\",\"disposition\":\"NOM\",\"address\":\"200 Block Of Eddy St #Lbby\",\"city\":\"San Francisco\",\"state\":\"CA\",\"agency_id\":\"1\",\"address_type\":\"Common Location\",\"common_location\":\"Windsor Hotel Sro #Lbby, Sf\"}\\n,{\"crime_id\":\"190030153\",\"original_crimetype_name\":\"Noise Nuisance\",\"report_date\":\"2019-01-03T00:00:00.000\",\"call_date\":\"2019-01-03T00:00:00.000\",\"offense_date\":\"2019-01-03T00:00:00.000\",\"call_time\":\"01:48\",\"call_dttm\":\"2019-01-03T01:48:00.000\",\"disposition\":\"ADV\",\"address\":\"Sutter St/leavenworth St\",\"city\":\"San Francisco\",\"state\":\"CA\",\"agency_id\":\"1\",\"address_type\":\"Intersection\"}\\n,{\"crime_id\":\"190051417\",\"original_crimetype_name\":\"Traf Violation Cite\",\"report_date\":\"2019-01-05T00:00:00.000\",\"call_date\":\"2019-01-05T00:00:00.000\",\"offense_date\":\"2019-01-05T00:00:00.000\",\"call_time\":\"12:23\",\"call_dttm\":\"2019-01-05T12:23:00.000\",\"disposition\":\"CIT\",\"address\":\"500 Block Of Madrid St\",\"city\":\"San Francisco\",\"state\":\"CA\",\"agency_id\":\"1\",\"address_type\":\"Premise Address\"}\\n,{\"crime_id\":\"190060691\",\"original_crimetype_name\":\"Report\",\"report_date\":\"2019-01-06T00:00:00.000\",\"call_date\":\"2019-01-06T00:00:00.000\",\"offense_date\":\"2019-01-06T00:00:00.000\",\"call_time\":\"08:36\",\"call_dttm\":\"2019-01-06T08:36:00.000\",\"disposition\":\"CAN\",\"address\":\"900 Block Of Shotwell St\",\"city\":\"San Francisco\",\"state\":\"CA\",\"agency_id\":\"1\",\"address_type\":\"Premise Address\"}\\n,{\"crime_id\":\"190092649\",\"original_crimetype_name\":\"Traffic Stop\",\"report_date\":\"2019-01-09T00:00:00.000\",\"call_date\":\"2019-01-09T00:00:00.000\",\"offense_date\":\"2019-01-09T00:00:00.000\",\"call_time\":\"16:05\",\"call_dttm\":\"2019-01-09T16:05:00.000\",\"disposition\":\"CIT\",\"address\":\"Mission St/main St\",\"city\":\"San Francisco\",\"state\":\"CA\",\"agency_id\":\"1\",\"address_type\":\"Intersection\"}\\n,{\"crime_id\":\"190123811\",\"original_crimetype_name\":\"Passing Call\",\"report_date\":\"2019-01-12T00:00:00.000\",\"call_date\":\"2019-01-12T00:00:00.000\",\"offense_date\":\"2019-01-12T00:00:00.000\",\"call_time\":\"22:18\",\"call_dttm\":\"2019-01-12T22:18:00.000\",\"disposition\":\"HAN\",\"address\":\"600 Block Of Broadway\",\"city\":\"San Francisco\",\"state\":\"CA\",\"agency_id\":\"1\",\"address_type\":\"Common Location\",\"common_location\":\"Broadway Corridor\"}\\n,{\"crime_id\":\"190132727\",\"original_crimetype_name\":\"311\",\"report_date\":\"2019-01-13T00:00:00.000\",\"call_date\":\"2019-01-13T00:00:00.000\",\"offense_date\":\"2019-01-13T00:00:00.000\",\"call_time\":\"17:46\",\"call_dttm\":\"2019-01-13T17:46:00.000\",\"disposition\":\"GOA\",\"address\":\"Lyon St/fell St\",\"city\":\"San Francisco\",\"state\":\"CA\",\"agency_id\":\"1\",\"address_type\":\"Intersection\"}\\n,{\"crime_id\":\"160981089\",\"original_crimetype_name\":\"Well Being Check\",\"report_date\":\"2016-04-07T00:00:00.000\",\"call_date\":\"2016-04-07T00:00:00.000\",\"offense_date\":\"2016-04-07T00:00:00.000\",\"call_time\":\"09:18\",\"call_dttm\":\"2016-04-07T09:18:00.000\",\"disposition\":\"ND\",\"address\":\"The Embarcadero Sou/brannan St\",\"city\":\"San Francisco\",\"state\":\"CA\",\"agency_id\":\"1\",\"address_type\":\"Intersection\"}\\n,{\"crime_id\":\"190152375\",\"original_crimetype_name\":\"Traffic Stop\",\"report_date\":\"2019-01-15T00:00:00.000\",\"call_date\":\"2019-01-15T00:00:00.000\",\"offense_date\":\"2019-01-15T00:00:00.000\",\"call_time\":\"15:01\",\"call_dttm\":\"2019-01-15T15:01:00.000\",\"disposition\":\"HAN\",\"address\":\"900 Blk Mission St\",\"city\":\"San Francisco\",\"state\":\"CA\",\"agency_id\":\"1\",\"address_type\":\"Geo-Override\"}\\n,{\"crime_id\":\"190313317\",\"original_crimetype_name\":\"Passing Call\",\"report_date\":\"2019-01-31T00:00:00.000\",\"call_date\":\"2019-01-31T00:00:00.000\",\"offense_date\":\"2019-01-31T00:00:00.000\",\"call_time\":\"18:33\",\"call_dttm\":\"2019-01-31T18:33:00.000\",\"disposition\":\"ADV\",\"address\":\"100 Blk Russ St\",\"city\":\"San Francisco\",\"state\":\"CA\",\"agency_id\":\"1\",\"address_type\":\"Geo-Override\"}\\n,{\"crime_id\":\"160961056\",\"original_crimetype_name\":\"Poss\",\"report_date\":\"2016-04-05T00:00:00.000\",\"call_date\":\"2016-04-05T00:00:00.000\",\"offense_date\":\"2016-04-05T00:00:00.000\",\"call_time\":\"09:50\",\"call_dttm\":\"2016-04-05T09:50:00.000\",\"disposition\":\"HAN\",\"address\":\"300 Block Of Bryant St\",\"city\":\"San Francisco\",\"state\":\"CA\",\"agency_id\":\"1\",\"address_type\":\"Premise Address\"}\\n,{\"crime_id\":\"193290728\",\"original_crimetype_name\":\"Trespasser\",\"report_date\":\"2019-11-25T00:00:00.000\",\"call_date\":\"2019-11-25T00:00:00.000\",\"offense_date\":\"2019-11-25T00:00:00.000\",\"call_time\":\"08:27\",\"call_dttm\":\"2019-11-25T08:27:00.000\",\"disposition\":\"ADV\",\"address\":\"0 Block Of Montgomery St\",\"city\":\"San Francisco\",\"state\":\"CA\",\"agency_id\":\"1\",\"address_type\":\"Premise Address\"}\\n,{\"crime_id\":\"190082126\",\"original_crimetype_name\":\"Passing Call\",\"report_date\":\"2019-01-08T00:00:00.000\",\"call_date\":\"2019-01-08T00:00:00.000\",\"offense_date\":\"2019-01-08T00:00:00.000\",\"call_time\":\"14:50\",\"call_dttm\":\"2019-01-08T14:50:00.000\",\"disposition\":\"Not recorded\",\"address\":\"Hyde St/lombard St\",\"city\":\"San Francisco\",\"state\":\"CA\",\"agency_id\":\"1\",\"address_type\":\"Intersection\"}\\n,{\"crime_id\":\"161110494\",\"original_crimetype_name\":\"Verb\",\"report_date\":\"2016-04-20T00:00:00.000\",\"call_date\":\"2016-04-20T00:00:00.000\",\"offense_date\":\"2016-04-20T00:00:00.000\",\"call_time\":\"06:31\",\"call_dttm\":\"2016-04-20T06:31:00.000\",\"disposition\":\"ND\",\"address\":\"18th St/noe St\",\"city\":\"San Francisco\",\"state\":\"CA\",\"agency_id\":\"1\",\"address_type\":\"Intersection\"}\\n,{\"crime_id\":\"190173096\",\"original_crimetype_name\":\"Passing Call\",\"report_date\":\"2019-01-17T00:00:00.000\",\"call_date\":\"2019-01-17T00:00:00.000\",\"offense_date\":\"2019-01-17T00:00:00.000\",\"call_time\":\"17:31\",\"call_dttm\":\"2019-01-17T17:31:00.000\",\"disposition\":\"Not recorded\",\"address\":\"3300 Block Of 20th Av\",\"city\":\"San Francisco\",\"state\":\"CA\",\"agency_id\":\"1\",\"address_type\":\"Common Location\",\"common_location\":\"Stonestown Galleria\"}\\n,{\"crime_id\":\"190021409\",\"original_crimetype_name\":\"Traffic Stop\",\"report_date\":\"2019-01-02T00:00:00.000\",\"call_date\":\"2019-01-02T00:00:00.000\",\"offense_date\":\"2019-01-02T00:00:00.000\",\"call_time\":\"11:18\",\"call_dttm\":\"2019-01-02T11:18:00.000\",\"disposition\":\"CIT\",\"address\":\"Bryant St/2nd St\",\"city\":\"San Francisco\",\"state\":\"CA\",\"agency_id\":\"1\",\"address_type\":\"Intersection\"}\\n,{\"crime_id\":\"190082127\",\"original_crimetype_name\":\"Stolen Property\",\"report_date\":\"2019-01-08T00:00:00.000\",\"call_date\":\"2019-01-08T00:00:00.000\",\"offense_date\":\"2019-01-08T00:00:00.000\",\"call_time\":\"14:50\",\"call_dttm\":\"2019-01-08T14:50:00.000\",\"disposition\":\"REP\",\"address\":\"0 Block Of Joy St\",\"city\":\"San Francisco\",\"state\":\"CA\",\"agency_id\":\"1\",\"address_type\":\"Premise Address\"}\\n,{\"crime_id\":\"190184088\",\"original_crimetype_name\":\"Trespasser\",\"report_date\":\"2019-01-18T00:00:00.000\",\"call_date\":\"2019-01-18T00:00:00.000\",\"offense_date\":\"2019-01-18T00:00:00.000\",\"call_time\":\"22:06\",\"call_dttm\":\"2019-01-18T22:06:00.000\",\"disposition\":\"ADV\",\"address\":\"4800 Block Of Mission St\",\"city\":\"San Francisco\",\"state\":\"CA\",\"agency_id\":\"1\",\"address_type\":\"Premise Address\"}\\n,{\"crime_id\":\"193050662\",\"original_crimetype_name\":\"Homeless Complaint\",\"report_date\":\"2019-11-01T00:00:00.000\",\"call_date\":\"2019-11-01T00:00:00.000\",\"offense_date\":\"2019-11-01T00:00:00.000\",\"call_time\":\"06:00\",\"call_dttm\":\"2019-11-01T06:00:00.000\",\"disposition\":\"HAN\",\"address\":\"100 Block Of Jessie St\",\"city\":\"San Francisco\",\"state\":\"CA\",\"agency_id\":\"1\",\"address_type\":\"Premise Address\"}\\n,{\"crime_id\":\"193050683\",\"original_crimetype_name\":\"Trespasser\",\"report_date\":\"2019-11-01T00:00:00.000\",\"call_date\":\"2019-11-01T00:00:00.000\",\"offense_date\":\"2019-11-01T00:00:00.000\",\"call_time\":\"06:15\",\"call_dttm\":\"2019-11-01T06:15:00.000\",\"disposition\":\"GOA\",\"address\":\"1400 Block Of Larkin St\",\"city\":\"San Francisco\",\"state\":\"CA\",\"agency_id\":\"1\",\"address_type\":\"Premise Address\"}\\n,{\"crime_id\":\"193050697\",\"original_crimetype_name\":\"Passing Call\",\"report_date\":\"2019-11-01T00:00:00.000\",\"call_date\":\"2019-11-01T00:00:00.000\",\"offense_date\":\"2019-11-01T00:00:00.000\",\"call_time\":\"06:27\",\"call_dttm\":\"2019-11-01T06:27:00.000\",\"disposition\":\"Not recorded\",\"address\":\"Carl St/cole St\",\"city\":\"San Francisco\",\"state\":\"CA\",\"agency_id\":\"1\",\"address_type\":\"Intersection\"}\\n,{\"crime_id\":\"193330046\",\"original_crimetype_name\":\"Traffic Stop\",\"report_date\":\"2019-11-29T00:00:00.000\",\"call_date\":\"2019-11-29T00:00:00.000\",\"offense_date\":\"2019-11-29T00:00:00.000\",\"call_time\":\"00:27\",\"call_dttm\":\"2019-11-29T00:27:00.000\",\"disposition\":\"ADV\",\"address\":\"Sutter St/jones St\",\"city\":\"San Francisco\",\"state\":\"CA\",\"agency_id\":\"1\",\"address_type\":\"Intersection\"}\\n,{\"crime_id\":\"193382411\",\"original_crimetype_name\":\"22500b/500f\",\"report_date\":\"2019-12-04T00:00:00.000\",\"call_date\":\"2019-12-04T00:00:00.000\",\"offense_date\":\"2019-12-04T00:00:00.000\",\"call_time\":\"14:17\",\"call_dttm\":\"2019-12-04T14:17:00.000\",\"disposition\":\"GOA\",\"address\":\"2300 Block Of Hayes St\",\"city\":\"San Francisco\",\"state\":\"CA\",\"agency_id\":\"1\",\"address_type\":\"Premise Address\"}\\n,{\"crime_id\":\"190112320\",\"original_crimetype_name\":\"Passing Call\",\"report_date\":\"2019-01-11T00:00:00.000\",\"call_date\":\"2019-01-11T00:00:00.000\",\"offense_date\":\"2019-01-11T00:00:00.000\",\"call_time\":\"14:59\",\"call_dttm\":\"2019-01-11T14:59:00.000\",\"disposition\":\"HAN\",\"address\":\"1400 Blk Flounder Ct\",\"city\":\"Treasure Isla\",\"state\":\"CA\",\"agency_id\":\"1\",\"address_type\":\"Geo-Override\"}\\n,{\"crime_id\":\"160972231\",\"original_crimetype_name\":\"Passing Call\",\"report_date\":\"2016-04-06T00:00:00.000\",\"call_date\":\"2016-04-06T00:00:00.000\",\"offense_date\":\"2016-04-06T00:00:00.000\",\"call_time\":\"13:51\",\"call_dttm\":\"2016-04-06T13:51:00.000\",\"disposition\":\"HAN\",\"address\":\"700 Block Of Pacific Av\",\"city\":\"San Francisco\",\"state\":\"CA\",\"agency_id\":\"1\",\"address_type\":\"Premise Address\"}\\n,{\"crime_id\":\"160993228\",\"original_crimetype_name\":\"22500e\",\"report_date\":\"2016-04-08T00:00:00.000\",\"call_date\":\"2016-04-08T00:00:00.000\",\"offense_date\":\"2016-04-08T00:00:00.000\",\"call_time\":\"19:15\",\"call_dttm\":\"2016-04-08T19:15:00.000\",\"disposition\":\"CIT\",\"address\":\"3400 Block Of 18th St\",\"city\":\"San Francisco\",\"state\":\"CA\",\"agency_id\":\"1\",\"address_type\":\"Premise Address\"}\\n,{\"crime_id\":\"190140692\",\"original_crimetype_name\":\"Audible Alarm\",\"report_date\":\"2019-01-14T00:00:00.000\",\"call_date\":\"2019-01-14T00:00:00.000\",\"offense_date\":\"2019-01-14T00:00:00.000\",\"call_time\":\"07:52\",\"call_dttm\":\"2019-01-14T07:52:00.000\",\"disposition\":\"NCR\",\"address\":\"400 Block Of Santa Clara Av\",\"city\":\"San Francisco\",\"state\":\"CA\",\"agency_id\":\"1\",\"address_type\":\"Premise Address\"}\\n,{\"crime_id\":\"161000768\",\"original_crimetype_name\":\"7,2,27\",\"report_date\":\"2016-04-09T00:00:00.000\",\"call_date\":\"2016-04-09T00:00:00.000\",\"offense_date\":\"2016-04-09T00:00:00.000\",\"call_time\":\"08:02\",\"call_dttm\":\"2016-04-09T08:02:00.000\",\"disposition\":\"NOM\",\"address\":\"800 Block Of Hyde St\",\"city\":\"San Francisco\",\"state\":\"CA\",\"agency_id\":\"1\",\"address_type\":\"Premise Address\"}\\n,{\"crime_id\":\"190184096\",\"original_crimetype_name\":\"Passing Call\",\"report_date\":\"2019-01-18T00:00:00.000\",\"call_date\":\"2019-01-18T00:00:00.000\",\"offense_date\":\"2019-01-18T00:00:00.000\",\"call_time\":\"22:12\",\"call_dttm\":\"2019-01-18T22:12:00.000\",\"disposition\":\"HAN\",\"address\":\"100 Block Of John F Kennedy Dr\",\"city\":\"San Francisco\",\"state\":\"CA\",\"agency_id\":\"1\",\"address_type\":\"Common Location\",\"common_location\":\"Gg Park Conservatory, Sf\"}\\n,{\"crime_id\":\"193050701\",\"original_crimetype_name\":\"Homeless Complaint\",\"report_date\":\"2019-11-01T00:00:00.000\",\"call_date\":\"2019-11-01T00:00:00.000\",\"offense_date\":\"2019-11-01T00:00:00.000\",\"call_time\":\"06:29\",\"call_dttm\":\"2019-11-01T06:29:00.000\",\"disposition\":\"HAN\",\"address\":\"Quincy St/california St\",\"city\":\"San Francisco\",\"state\":\"CA\",\"agency_id\":\"1\",\"address_type\":\"Intersection\"}\\n,{\"crime_id\":\"193132908\",\"original_crimetype_name\":\"Suspicious Person\",\"report_date\":\"2019-11-09T00:00:00.000\",\"call_date\":\"2019-11-09T00:00:00.000\",\"offense_date\":\"2019-11-09T00:00:00.000\",\"call_time\":\"17:14\",\"call_dttm\":\"2019-11-09T17:14:00.000\",\"disposition\":\"HAN\",\"address\":\"Mission St/8th St\",\"city\":\"San Francisco\",\"state\":\"CA\",\"agency_id\":\"1\",\"address_type\":\"Intersection\"}\\n,{\"crime_id\":\"190160907\",\"original_crimetype_name\":\"Person W/knife\",\"report_date\":\"2019-01-16T00:00:00.000\",\"call_date\":\"2019-01-16T00:00:00.000\",\"offense_date\":\"2019-01-16T00:00:00.000\",\"call_time\":\"08:53\",\"call_dttm\":\"2019-01-16T08:53:00.000\",\"disposition\":\"NOM\",\"address\":\"2300 Block Of The Embarcadero Nor\",\"city\":\"San Francisco\",\"state\":\"CA\",\"agency_id\":\"1\",\"address_type\":\"Common Location\",\"common_location\":\"Pier 41, Sf\"}\\n,{\"crime_id\":\"160961057\",\"original_crimetype_name\":\"Homeless Complaint\",\"report_date\":\"2016-04-05T00:00:00.000\",\"call_date\":\"2016-04-05T00:00:00.000\",\"offense_date\":\"2016-04-05T00:00:00.000\",\"call_time\":\"09:51\",\"call_dttm\":\"2016-04-05T09:51:00.000\",\"disposition\":\"GOA\",\"address\":\"Illinois St/marin St\",\"city\":\"San Francisco\",\"state\":\"CA\",\"agency_id\":\"1\",\"address_type\":\"Intersection\"}\\n,{\"crime_id\":\"193050717\",\"original_crimetype_name\":\"Suspicious Person\",\"report_date\":\"2019-11-01T00:00:00.000\",\"call_date\":\"2019-11-01T00:00:00.000\",\"offense_date\":\"2019-11-01T00:00:00.000\",\"call_time\":\"06:33\",\"call_dttm\":\"2019-11-01T06:33:00.000\",\"disposition\":\"ARR\",\"address\":\"West Portal Av/vicente St\",\"city\":\"San Francisco\",\"state\":\"CA\",\"agency_id\":\"1\",\"address_type\":\"Intersection\"}\\n,{\"crime_id\":\"193050723\",\"original_crimetype_name\":\"Well Being Check\",\"report_date\":\"2019-11-01T00:00:00.000\",\"call_date\":\"2019-11-01T00:00:00.000\",\"offense_date\":\"2019-11-01T00:00:00.000\",\"call_time\":\"06:34\",\"call_dttm\":\"2019-11-01T06:34:00.000\",\"disposition\":\"UTL\",\"address\":\"Broderick St/fell St\",\"city\":\"San Francisco\",\"state\":\"CA\",\"agency_id\":\"1\",\"address_type\":\"Intersection\"}\\n,{\"crime_id\":\"193050731\",\"original_crimetype_name\":\"22500e\",\"report_date\":\"2019-11-01T00:00:00.000\",\"call_date\":\"2019-11-01T00:00:00.000\",\"offense_date\":\"2019-11-01T00:00:00.000\",\"call_time\":\"06:44\",\"call_dttm\":\"2019-11-01T06:44:00.000\",\"disposition\":\"GOA\",\"address\":\"1100 Block Of Hayes St\",\"city\":\"San Francisco\",\"state\":\"CA\",\"agency_id\":\"1\",\"address_type\":\"Premise Address\"}\\n,{\"crime_id\":\"193360566\",\"original_crimetype_name\":\"Traf Violation Cite\",\"report_date\":\"2019-12-02T00:00:00.000\",\"call_date\":\"2019-12-02T00:00:00.000\",\"offense_date\":\"2019-12-02T00:00:00.000\",\"call_time\":\"07:24\",\"call_dttm\":\"2019-12-02T07:24:00.000\",\"disposition\":\"CAN\",\"address\":\"1500 Block Of La Salle Av\",\"city\":\"San Francisco\",\"state\":\"CA\",\"agency_id\":\"1\",\"address_type\":\"Premise Address\"}\\n,{\"crime_id\":\"193380952\",\"original_crimetype_name\":\"Passing Call\",\"report_date\":\"2019-12-04T00:00:00.000\",\"call_date\":\"2019-12-04T00:00:00.000\",\"offense_date\":\"2019-12-04T00:00:00.000\",\"call_time\":\"08:49\",\"call_dttm\":\"2019-12-04T08:49:00.000\",\"disposition\":\"HAN\",\"address\":\"100 Block Of Christmas Tree Point Rd\",\"city\":\"San Francisco\",\"state\":\"CA\",\"agency_id\":\"1\",\"address_type\":\"Common Location\",\"common_location\":\"Twin Peaks Viewpoint, Sf\"}\\n,{\"crime_id\":\"160972283\",\"original_crimetype_name\":\"22500e\",\"report_date\":\"2016-04-06T00:00:00.000\",\"call_date\":\"2016-04-06T00:00:00.000\",\"offense_date\":\"2016-04-06T00:00:00.000\",\"call_time\":\"14:05\",\"call_dttm\":\"2016-04-06T14:05:00.000\",\"disposition\":\"CIT\",\"address\":\"600 Block Of 11th Av\",\"city\":\"San Francisco\",\"state\":\"CA\",\"agency_id\":\"1\",\"address_type\":\"Premise Address\"}\\n,{\"crime_id\":\"190070047\",\"original_crimetype_name\":\"Noise Nuisance\",\"report_date\":\"2019-01-07T00:00:00.000\",\"call_date\":\"2019-01-07T00:00:00.000\",\"offense_date\":\"2019-01-07T00:00:00.000\",\"call_time\":\"00:22\",\"call_dttm\":\"2019-01-07T00:22:00.000\",\"disposition\":\"GOA\",\"address\":\"Stevenson St/6th St\",\"city\":\"San Francisco\",\"state\":\"CA\",\"agency_id\":\"1\",\"address_type\":\"Intersection\"}\\n,{\"crime_id\":\"190120987\",\"original_crimetype_name\":\"Homeless Complaint\",\"report_date\":\"2019-01-12T00:00:00.000\",\"call_date\":\"2019-01-12T00:00:00.000\",\"offense_date\":\"2019-01-12T00:00:00.000\",\"call_time\":\"09:17\",\"call_dttm\":\"2019-01-12T09:17:00.000\",\"disposition\":\"HAN\",\"address\":\"500 Block Of The Embarcadero Nor\",\"city\":\"San Francisco\",\"state\":\"CA\",\"agency_id\":\"1\",\"address_type\":\"Premise Address\"}\\n,{\"crime_id\":\"190152378\",\"original_crimetype_name\":\"Traffic Stop\",\"report_date\":\"2019-01-15T00:00:00.000\",\"call_date\":\"2019-01-15T00:00:00.000\",\"offense_date\":\"2019-01-15T00:00:00.000\",\"call_time\":\"15:01\",\"call_dttm\":\"2019-01-15T15:01:00.000\",\"disposition\":\"CIT\",\"address\":\"2100 Block Of Chestnut St\",\"city\":\"San Francisco\",\"state\":\"CA\",\"agency_id\":\"1\",\"address_type\":\"Premise Address\"}\\n,{\"crime_id\":\"190212509\",\"original_crimetype_name\":\"Petty Theft\",\"report_date\":\"2019-01-21T00:00:00.000\",\"call_date\":\"2019-01-21T00:00:00.000\",\"offense_date\":\"2019-01-21T00:00:00.000\",\"call_time\":\"15:46\",\"call_dttm\":\"2019-01-21T15:46:00.000\",\"disposition\":\"REP\",\"address\":\"Grove St/polk St\",\"city\":\"San Francisco\",\"state\":\"CA\",\"agency_id\":\"1\",\"address_type\":\"Intersection\"}\\n,{\"crime_id\":\"160980485\",\"original_crimetype_name\":\"Passing Call\",\"report_date\":\"2016-04-07T00:00:00.000\",\"call_date\":\"2016-04-07T00:00:00.000\",\"offense_date\":\"2016-04-07T00:00:00.000\",\"call_time\":\"04:55\",\"call_dttm\":\"2016-04-07T04:55:00.000\",\"disposition\":\"HAN\",\"address\":\"100 Block Of West Portal Av\",\"city\":\"San Francisco\",\"state\":\"CA\",\"agency_id\":\"1\",\"address_type\":\"Premise Address\"}\\n,{\"crime_id\":\"161001073\",\"original_crimetype_name\":\"Dw\",\"report_date\":\"2016-04-09T00:00:00.000\",\"call_date\":\"2016-04-09T00:00:00.000\",\"offense_date\":\"2016-04-09T00:00:00.000\",\"call_time\":\"09:59\",\"call_dttm\":\"2016-04-09T09:59:00.000\",\"disposition\":\"NOM\",\"address\":\"2400 Block Of Buchanan St\",\"city\":\"San Francisco\",\"state\":\"CA\",\"agency_id\":\"1\",\"address_type\":\"Premise Address\"}\\n,{\"crime_id\":\"193050739\",\"original_crimetype_name\":\"Audible Alarm\",\"report_date\":\"2019-11-01T00:00:00.000\",\"call_date\":\"2019-11-01T00:00:00.000\",\"offense_date\":\"2019-11-01T00:00:00.000\",\"call_time\":\"06:49\",\"call_dttm\":\"2019-11-01T06:49:00.000\",\"disposition\":\"PAS\",\"address\":\"500 Block Of 3rd St\",\"city\":\"San Francisco\",\"state\":\"CA\",\"agency_id\":\"1\",\"address_type\":\"Premise Address\"}\\n,{\"crime_id\":\"193050754\",\"original_crimetype_name\":\"22500e\",\"report_date\":\"2019-11-01T00:00:00.000\",\"call_date\":\"2019-11-01T00:00:00.000\",\"offense_date\":\"2019-11-01T00:00:00.000\",\"call_time\":\"06:57\",\"call_dttm\":\"2019-11-01T06:57:00.000\",\"disposition\":\"CIT\",\"address\":\"2800 Block Of Gough St\",\"city\":\"San Francisco\",\"state\":\"CA\",\"agency_id\":\"1\",\"address_type\":\"Premise Address\"}\\n,{\"crime_id\":\"193293110\",\"original_crimetype_name\":\"Reckless\",\"report_date\":\"2019-11-25T00:00:00.000\",\"call_date\":\"2019-11-25T00:00:00.000\",\"offense_date\":\"2019-11-25T00:00:00.000\",\"call_time\":\"18:23\",\"call_dttm\":\"2019-11-25T18:23:00.000\",\"disposition\":\"ND\",\"address\":\"1700 Block Of Mckinnon Av\",\"city\":\"San Francisco\",\"state\":\"CA\",\"agency_id\":\"1\",\"address_type\":\"Premise Address\"}\\n,{\"crime_id\":\"190082128\",\"original_crimetype_name\":\"Meet W/citizen\",\"report_date\":\"2019-01-08T00:00:00.000\",\"call_date\":\"2019-01-08T00:00:00.000\",\"offense_date\":\"2019-01-08T00:00:00.000\",\"call_time\":\"14:51\",\"call_dttm\":\"2019-01-08T14:51:00.000\",\"disposition\":\"HAN\",\"address\":\"Turk St/market St\",\"city\":\"San Francisco\",\"state\":\"CA\",\"agency_id\":\"1\",\"address_type\":\"Intersection\"}\\n,{\"crime_id\":\"190173097\",\"original_crimetype_name\":\"Audible Alarm\",\"report_date\":\"2019-01-17T00:00:00.000\",\"call_date\":\"2019-01-17T00:00:00.000\",\"offense_date\":\"2019-01-17T00:00:00.000\",\"call_time\":\"17:29\",\"call_dttm\":\"2019-01-17T17:29:00.000\",\"disposition\":\"CAN\",\"address\":\"500 Block Of Pacheco St\",\"city\":\"San Francisco\",\"state\":\"CA\",\"agency_id\":\"1\",\"address_type\":\"Premise Address\"}\\n,{\"crime_id\":\"160961058\",\"original_crimetype_name\":\"Missing Adult\",\"report_date\":\"2016-04-05T00:00:00.000\",\"call_date\":\"2016-04-05T00:00:00.000\",\"offense_date\":\"2016-04-05T00:00:00.000\",\"call_time\":\"09:50\",\"call_dttm\":\"2016-04-05T09:50:00.000\",\"disposition\":\"REP\",\"address\":\"100 Block Of Oak St\",\"city\":\"San Francisco\",\"state\":\"CA\",\"agency_id\":\"1\",\"address_type\":\"Premise Address\"}\\n,{\"crime_id\":\"193050760\",\"original_crimetype_name\":\"Sleepers\",\"report_date\":\"2019-11-01T00:00:00.000\",\"call_date\":\"2019-11-01T00:00:00.000\",\"offense_date\":\"2019-11-01T00:00:00.000\",\"call_time\":\"07:03\",\"call_dttm\":\"2019-11-01T07:03:00.000\",\"disposition\":\"CIT\",\"address\":\"2700 Block Of Great Hy\",\"city\":\"San Francisco\",\"state\":\"CA\",\"agency_id\":\"1\",\"address_type\":\"Premise Address\"}\\n,{\"crime_id\":\"193360567\",\"original_crimetype_name\":\"Traf Violation Cite\",\"report_date\":\"2019-12-02T00:00:00.000\",\"call_date\":\"2019-12-02T00:00:00.000\",\"offense_date\":\"2019-12-02T00:00:00.000\",\"call_time\":\"07:24\",\"call_dttm\":\"2019-12-02T07:24:00.000\",\"disposition\":\"GEN\",\"address\":\"1500 Block Of 42nd Av\",\"city\":\"San Francisco\",\"state\":\"CA\",\"agency_id\":\"1\",\"address_type\":\"Premise Address\"}\\n,{\"crime_id\":\"190042616\",\"original_crimetype_name\":\"Muni Inspection\",\"report_date\":\"2019-01-04T00:00:00.000\",\"call_date\":\"2019-01-04T00:00:00.000\",\"offense_date\":\"2019-01-04T00:00:00.000\",\"call_time\":\"16:48\",\"call_dttm\":\"2019-01-04T16:48:00.000\",\"disposition\":\"Not recorded\",\"address\":\"900 Block Of Market St\",\"city\":\"San Francisco\",\"state\":\"CA\",\"agency_id\":\"1\",\"address_type\":\"Common Location\",\"common_location\":\"Powell St Muni, Sf\"}\\n,{\"crime_id\":\"190112324\",\"original_crimetype_name\":\"Suspicious Vehicle\",\"report_date\":\"2019-01-11T00:00:00.000\",\"call_date\":\"2019-01-11T00:00:00.000\",\"offense_date\":\"2019-01-11T00:00:00.000\",\"call_time\":\"14:55\",\"call_dttm\":\"2019-01-11T14:55:00.000\",\"disposition\":\"ND\",\"address\":\"The Embarcadero Sou/mission St\",\"city\":\"San Francisco\",\"state\":\"CA\",\"agency_id\":\"1\",\"address_type\":\"Intersection\"}\\n,{\"crime_id\":\"161111145\",\"original_crimetype_name\":\"Passing Call\",\"report_date\":\"2016-04-20T00:00:00.000\",\"call_date\":\"2016-04-20T00:00:00.000\",\"offense_date\":\"2016-04-20T00:00:00.000\",\"call_time\":\"09:27\",\"call_dttm\":\"2016-04-20T09:27:00.000\",\"disposition\":\"HAN\",\"address\":\"9thav/irving\",\"state\":\"CA\",\"agency_id\":\"1\",\"address_type\":\"Geo-Override\"}\\n,{\"crime_id\":\"190152381\",\"original_crimetype_name\":\"Passing Call\",\"report_date\":\"2019-01-15T00:00:00.000\",\"call_date\":\"2019-01-15T00:00:00.000\",\"offense_date\":\"2019-01-15T00:00:00.000\",\"call_time\":\"15:02\",\"call_dttm\":\"2019-01-15T15:02:00.000\",\"disposition\":\"Not recorded\",\"address\":\"24th St/york St\",\"city\":\"San Francisco\",\"state\":\"CA\",\"agency_id\":\"1\",\"address_type\":\"Intersection\"}\\n,{\"crime_id\":\"190060692\",\"original_crimetype_name\":\"Shots Fired\",\"report_date\":\"2019-01-06T00:00:00.000\",\"call_date\":\"2019-01-06T00:00:00.000\",\"offense_date\":\"2019-01-06T00:00:00.000\",\"call_time\":\"08:38\",\"call_dttm\":\"2019-01-06T08:38:00.000\",\"disposition\":\"REP\",\"address\":\"400 Block Of 7th St\",\"city\":\"San Francisco\",\"state\":\"CA\",\"agency_id\":\"1\",\"address_type\":\"Premise Address\"}\\n,{\"crime_id\":\"190082132\",\"original_crimetype_name\":\"Squatters\",\"report_date\":\"2019-01-08T00:00:00.000\",\"call_date\":\"2019-01-08T00:00:00.000\",\"offense_date\":\"2019-01-08T00:00:00.000\",\"call_time\":\"14:48\",\"call_dttm\":\"2019-01-08T14:48:00.000\",\"disposition\":\"HAN\",\"address\":\"1000 Block Of Connecticut St\",\"city\":\"San Francisco\",\"state\":\"CA\",\"agency_id\":\"1\",\"address_type\":\"Premise Address\"}\\n,{\"crime_id\":\"160961059\",\"original_crimetype_name\":\"Rep\",\"report_date\":\"2016-04-05T00:00:00.000\",\"call_date\":\"2016-04-05T00:00:00.000\",\"offense_date\":\"2016-04-05T00:00:00.000\",\"call_time\":\"09:52\",\"call_dttm\":\"2016-04-05T09:52:00.000\",\"disposition\":\"NOM\",\"address\":\"200 Block Of Jones St\",\"city\":\"San Francisco\",\"state\":\"CA\",\"agency_id\":\"1\",\"address_type\":\"Premise Address\"}\\n,{\"crime_id\":\"161001123\",\"original_crimetype_name\":\"22500h\",\"report_date\":\"2016-04-09T00:00:00.000\",\"call_date\":\"2016-04-09T00:00:00.000\",\"offense_date\":\"2016-04-09T00:00:00.000\",\"call_time\":\"10:17\",\"call_dttm\":\"2016-04-09T10:17:00.000\",\"disposition\":\"GOA\",\"address\":\"1500 Block Of 10th Av\",\"city\":\"San Francisco\",\"state\":\"CA\",\"agency_id\":\"1\",\"address_type\":\"Premise Address\"}\\n,{\"crime_id\":\"161111255\",\"original_crimetype_name\":\"Passing Call\",\"report_date\":\"2016-04-20T00:00:00.000\",\"call_date\":\"2016-04-20T00:00:00.000\",\"offense_date\":\"2016-04-20T00:00:00.000\",\"call_time\":\"09:58\",\"call_dttm\":\"2016-04-20T09:58:00.000\",\"disposition\":\"HAN\",\"address\":\"T.i.\",\"state\":\"CA\",\"agency_id\":\"1\",\"address_type\":\"Geo-Override\"}\\n,{\"crime_id\":\"190101731\",\"original_crimetype_name\":\"Passing Call\",\"report_date\":\"2019-01-10T00:00:00.000\",\"call_date\":\"2019-01-10T00:00:00.000\",\"offense_date\":\"2019-01-10T00:00:00.000\",\"call_time\":\"12:10\",\"call_dttm\":\"2019-01-10T12:10:00.000\",\"disposition\":\"Not recorded\",\"address\":\"Larkin St/lombard St\",\"city\":\"San Francisco\",\"state\":\"CA\",\"agency_id\":\"1\",\"address_type\":\"Intersection\"}\\n,{\"crime_id\":\"193050778\",\"original_crimetype_name\":\"Passing Call\",\"report_date\":\"2019-11-01T00:00:00.000\",\"call_date\":\"2019-11-01T00:00:00.000\",\"offense_date\":\"2019-11-01T00:00:00.000\",\"call_time\":\"07:12\",\"call_dttm\":\"2019-11-01T07:12:00.000\",\"disposition\":\"Not recorded\",\"address\":\"0 Block Of United Nations Pz\",\"city\":\"San Francisco\",\"state\":\"CA\",\"agency_id\":\"1\",\"address_type\":\"Common Location\",\"common_location\":\"Un Pz\"}\\n,{\"crime_id\":\"193050793\",\"original_crimetype_name\":\"Trespasser\",\"report_date\":\"2019-11-01T00:00:00.000\",\"call_date\":\"2019-11-01T00:00:00.000\",\"offense_date\":\"2019-11-01T00:00:00.000\",\"call_time\":\"07:18\",\"call_dttm\":\"2019-11-01T07:18:00.000\",\"disposition\":\"GOA\",\"address\":\"2700 Block Of Taylor St\",\"city\":\"San Francisco\",\"state\":\"CA\",\"agency_id\":\"1\",\"address_type\":\"Common Location\",\"common_location\":\"Jack In The Box - Wharf, Sf\"}\\n,{\"crime_id\":\"193304418\",\"original_crimetype_name\":\"Passing Call\",\"report_date\":\"2019-11-26T00:00:00.000\",\"call_date\":\"2019-11-26T00:00:00.000\",\"offense_date\":\"2019-11-26T00:00:00.000\",\"call_time\":\"23:44\",\"call_dttm\":\"2019-11-26T23:44:00.000\",\"disposition\":\"HAN\",\"address\":\"200 Block Of Leavenworth St\",\"city\":\"San Francisco\",\"state\":\"CA\",\"agency_id\":\"1\",\"address_type\":\"Premise Address\"}\\n,{\"crime_id\":\"190010917\",\"original_crimetype_name\":\"Complaint Unkn\",\"report_date\":\"2019-01-01T00:00:00.000\",\"call_date\":\"2019-01-01T00:00:00.000\",\"offense_date\":\"2019-01-01T00:00:00.000\",\"call_time\":\"04:57\",\"call_dttm\":\"2019-01-01T04:57:00.000\",\"disposition\":\"ND\",\"address\":\"1600 Block Of Broadway\",\"city\":\"San Francisco\",\"state\":\"CA\",\"agency_id\":\"1\",\"address_type\":\"Premise Address\"}\\n,{\"crime_id\":\"190033340\",\"original_crimetype_name\":\"Passing Call\",\"report_date\":\"2019-01-03T00:00:00.000\",\"call_date\":\"2019-01-03T00:00:00.000\",\"offense_date\":\"2019-01-03T00:00:00.000\",\"call_time\":\"19:54\",\"call_dttm\":\"2019-01-03T19:54:00.000\",\"disposition\":\"Not recorded\",\"address\":\"900 Block Of North Point St\",\"city\":\"San Francisco\",\"state\":\"CA\",\"agency_id\":\"1\",\"address_type\":\"Common Location\",\"common_location\":\"Ghirardelli Square, Sf\"}\\n,{\"crime_id\":\"190120988\",\"original_crimetype_name\":\"Passing Call\",\"report_date\":\"2019-01-12T00:00:00.000\",\"call_date\":\"2019-01-12T00:00:00.000\",\"offense_date\":\"2019-01-12T00:00:00.000\",\"call_time\":\"09:18\",\"call_dttm\":\"2019-01-12T09:18:00.000\",\"disposition\":\"Not recorded\",\"address\":\"700 Block Of Lombard St\",\"city\":\"San Francisco\",\"state\":\"CA\",\"agency_id\":\"1\",\"address_type\":\"Common Location\",\"common_location\":\"Joe Dimaggio Plgd, Sf\"}\\n,{\"crime_id\":\"161072441\",\"original_crimetype_name\":\"Traffic Stop\",\"report_date\":\"2016-04-16T00:00:00.000\",\"call_date\":\"2016-04-16T00:00:00.000\",\"offense_date\":\"2016-04-16T00:00:00.000\",\"call_time\":\"16:40\",\"call_dttm\":\"2016-04-16T16:40:00.000\",\"disposition\":\"ADM\",\"address\":\"Sloat Bl/39th Av\",\"city\":\"San Francisco\",\"state\":\"CA\",\"agency_id\":\"1\",\"address_type\":\"Intersection\"}\\n,{\"crime_id\":\"190221136\",\"original_crimetype_name\":\"Passing Call\",\"report_date\":\"2019-01-22T00:00:00.000\",\"call_date\":\"2019-01-22T00:00:00.000\",\"offense_date\":\"2019-01-22T00:00:00.000\",\"call_time\":\"09:53\",\"call_dttm\":\"2019-01-22T09:53:00.000\",\"disposition\":\"HAN\",\"address\":\"700 Block Of Golden Gate Av\",\"city\":\"San Francisco\",\"state\":\"CA\",\"agency_id\":\"1\",\"address_type\":\"Common Location\",\"common_location\":\"Civic Center Hs\"}\\n,{\"crime_id\":\"190193729\",\"original_crimetype_name\":\"518\",\"report_date\":\"2019-01-19T00:00:00.000\",\"call_date\":\"2019-01-19T00:00:00.000\",\"offense_date\":\"2019-01-19T00:00:00.000\",\"call_time\":\"20:40\",\"call_dttm\":\"2019-01-19T20:40:00.000\",\"disposition\":\"GOA\",\"address\":\"Harrison St/alameda St\",\"city\":\"San Francisco\",\"state\":\"CA\",\"agency_id\":\"1\",\"address_type\":\"Intersection\"}\\n,{\"crime_id\":\"193041338\",\"original_crimetype_name\":\"Traf Violation Cite\",\"report_date\":\"2019-10-31T00:00:00.000\",\"call_date\":\"2019-10-31T00:00:00.000\",\"offense_date\":\"2019-10-31T00:00:00.000\",\"call_time\":\"10:35\",\"call_dttm\":\"2019-10-31T10:35:00.000\",\"disposition\":\"GOA\",\"address\":\"1400 Block Of Carroll Av\",\"city\":\"San Francisco\",\"state\":\"CA\",\"agency_id\":\"1\",\"address_type\":\"Premise Address\"}\\n,{\"crime_id\":\"193264609\",\"original_crimetype_name\":\"Well Being Check\",\"report_date\":\"2019-11-22T00:00:00.000\",\"call_date\":\"2019-11-22T00:00:00.000\",\"offense_date\":\"2019-11-22T00:00:00.000\",\"call_time\":\"23:53\",\"call_dttm\":\"2019-11-22T23:53:00.000\",\"disposition\":\"CAN\",\"address\":\"Geary Bl/broderick St\",\"city\":\"San Francisco\",\"state\":\"CA\",\"agency_id\":\"1\",\"address_type\":\"Intersection\"}\\n,{\"crime_id\":\"193304421\",\"original_crimetype_name\":\"Passing Call\",\"report_date\":\"2019-11-26T00:00:00.000\",\"call_date\":\"2019-11-26T00:00:00.000\",\"offense_date\":\"2019-11-26T00:00:00.000\",\"call_time\":\"23:45\",\"call_dttm\":\"2019-11-26T23:45:00.000\",\"disposition\":\"PAS\",\"address\":\"2000 Block Of Hyde St\",\"city\":\"San Francisco\",\"state\":\"CA\",\"agency_id\":\"1\",\"address_type\":\"Premise Address\"}\\n,{\"crime_id\":\"190021410\",\"original_crimetype_name\":\"311\",\"report_date\":\"2019-01-02T00:00:00.000\",\"call_date\":\"2019-01-02T00:00:00.000\",\"offense_date\":\"2019-01-02T00:00:00.000\",\"call_time\":\"11:17\",\"call_dttm\":\"2019-01-02T11:17:00.000\",\"disposition\":\"NOM\",\"address\":\"21st St/shotwell St\",\"city\":\"San Francisco\",\"state\":\"CA\",\"agency_id\":\"1\",\"address_type\":\"Intersection\"}\\n,{\"crime_id\":\"190184100\",\"original_crimetype_name\":\"Audible Alarm\",\"report_date\":\"2019-01-18T00:00:00.000\",\"call_date\":\"2019-01-18T00:00:00.000\",\"offense_date\":\"2019-01-18T00:00:00.000\",\"call_time\":\"22:12\",\"call_dttm\":\"2019-01-18T22:12:00.000\",\"disposition\":\"PAS\",\"address\":\"Block Of Baker St\",\"city\":\"San Francisco\",\"state\":\"CA\",\"agency_id\":\"1\",\"address_type\":\"Premise Address\"}\\n,{\"crime_id\":\"190221137\",\"original_crimetype_name\":\"Auto Boost / Strip\",\"report_date\":\"2019-01-22T00:00:00.000\",\"call_date\":\"2019-01-22T00:00:00.000\",\"offense_date\":\"2019-01-22T00:00:00.000\",\"call_time\":\"09:53\",\"call_dttm\":\"2019-01-22T09:53:00.000\",\"disposition\":\"REP\",\"address\":\"100 Block Of Madrid St\",\"city\":\"San Francisco\",\"state\":\"CA\",\"agency_id\":\"1\",\"address_type\":\"Premise Address\"}\\n,{\"crime_id\":\"190170103\",\"original_crimetype_name\":\"Traffic Stop\",\"report_date\":\"2019-01-17T00:00:00.000\",\"call_date\":\"2019-01-17T00:00:00.000\",\"offense_date\":\"2019-01-17T00:00:00.000\",\"call_time\":\"00:50\",\"call_dttm\":\"2019-01-17T00:50:00.000\",\"disposition\":\"CIT\",\"address\":\"3rd St/quesada Av\",\"city\":\"San Francisco\",\"state\":\"CA\",\"agency_id\":\"1\",\"address_type\":\"Intersection\"}\\n,{\"crime_id\":\"160980488\",\"original_crimetype_name\":\"Audible Alarm\",\"report_date\":\"2016-04-07T00:00:00.000\",\"call_date\":\"2016-04-07T00:00:00.000\",\"offense_date\":\"2016-04-07T00:00:00.000\",\"call_time\":\"04:58\",\"call_dttm\":\"2016-04-07T04:58:00.000\",\"disposition\":\"HAN\",\"address\":\"4200 Block Of 23rd St\",\"city\":\"San Francisco\",\"state\":\"CA\",\"agency_id\":\"1\",\"address_type\":\"Premise Address\"}\\n,{\"crime_id\":\"190210876\",\"original_crimetype_name\":\"Well Being Check\",\"report_date\":\"2019-01-21T00:00:00.000\",\"call_date\":\"2019-01-21T00:00:00.000\",\"offense_date\":\"2019-01-21T00:00:00.000\",\"call_time\":\"08:42\",\"call_dttm\":\"2019-01-21T08:42:00.000\",\"disposition\":\"CIT\",\"address\":\"1500 Block Of Haight St\",\"city\":\"San Francisco\",\"state\":\"CA\",\"agency_id\":\"1\",\"address_type\":\"Premise Address\"}\\n,{\"crime_id\":\"193050800\",\"original_crimetype_name\":\"Passing Call\",\"report_date\":\"2019-11-01T00:00:00.000\",\"call_date\":\"2019-11-01T00:00:00.000\",\"offense_date\":\"2019-11-01T00:00:00.000\",\"call_time\":\"07:22\",\"call_dttm\":\"2019-11-01T07:22:00.000\",\"disposition\":\"HAN\",\"address\":\"500 Block Of The Embarcadero Sou\",\"city\":\"San Francisco\",\"state\":\"CA\",\"agency_id\":\"1\",\"address_type\":\"Common Location\",\"common_location\":\"Pier 30\"}\\n,{\"crime_id\":\"161111604\",\"original_crimetype_name\":\"Passing Call\",\"report_date\":\"2016-04-20T00:00:00.000\",\"call_date\":\"2016-04-20T00:00:00.000\",\"offense_date\":\"2016-04-20T00:00:00.000\",\"call_time\":\"11:28\",\"call_dttm\":\"2016-04-20T11:28:00.000\",\"disposition\":\"HAN\",\"address\":\"Fishermans Wharf\",\"state\":\"CA\",\"agency_id\":\"1\",\"address_type\":\"Geo-Override\"}\\n,{\"crime_id\":\"190200907\",\"original_crimetype_name\":\"Traffic Stop\",\"report_date\":\"2019-01-20T00:00:00.000\",\"call_date\":\"2019-01-20T00:00:00.000\",\"offense_date\":\"2019-01-20T00:00:00.000\",\"call_time\":\"08:42\",\"call_dttm\":\"2019-01-20T08:42:00.000\",\"disposition\":\"CIT\",\"address\":\"Folsom St/3rd St\",\"city\":\"San Francisco\",\"state\":\"CA\",\"agency_id\":\"1\",\"address_type\":\"Intersection\"}\\n,{\"crime_id\":\"190210877\",\"original_crimetype_name\":\"Homeless Complaint\",\"report_date\":\"2019-01-21T00:00:00.000\",\"call_date\":\"2019-01-21T00:00:00.000\",\"offense_date\":\"2019-01-21T00:00:00.000\",\"call_time\":\"08:42\",\"call_dttm\":\"2019-01-21T08:42:00.000\",\"disposition\":\"HAN\",\"address\":\"400 Blk 4th St\",\"city\":\"San Francisco\",\"state\":\"CA\",\"agency_id\":\"1\",\"address_type\":\"Geo-Override\"}\\n,{\"crime_id\":\"190051421\",\"original_crimetype_name\":\"Trespasser\",\"report_date\":\"2019-01-05T00:00:00.000\",\"call_date\":\"2019-01-05T00:00:00.000\",\"offense_date\":\"2019-01-05T00:00:00.000\",\"call_time\":\"12:23\",\"call_dttm\":\"2019-01-05T12:23:00.000\",\"disposition\":\"UTL\",\"address\":\"100 Block Of 6th St\",\"city\":\"San Francisco\",\"state\":\"CA\",\"agency_id\":\"1\",\"address_type\":\"Premise Address\"}\\n,{\"crime_id\":\"190060694\",\"original_crimetype_name\":\"Vandalism\",\"report_date\":\"2019-01-06T00:00:00.000\",\"call_date\":\"2019-01-06T00:00:00.000\",\"offense_date\":\"2019-01-06T00:00:00.000\",\"call_time\":\"08:37\",\"call_dttm\":\"2019-01-06T08:37:00.000\",\"disposition\":\"ARR\",\"address\":\"Gough St/ellis St\",\"city\":\"San Francisco\",\"state\":\"CA\",\"agency_id\":\"1\",\"address_type\":\"Intersection\"}\\n,{\"crime_id\":\"190082133\",\"original_crimetype_name\":\"Passing Call\",\"report_date\":\"2019-01-08T00:00:00.000\",\"call_date\":\"2019-01-08T00:00:00.000\",\"offense_date\":\"2019-01-08T00:00:00.000\",\"call_time\":\"14:52\",\"call_dttm\":\"2019-01-08T14:52:00.000\",\"disposition\":\"Not recorded\",\"address\":\"18th St/missouri St\",\"city\":\"San Francisco\",\"state\":\"CA\",\"agency_id\":\"1\",\"address_type\":\"Intersection\"}\\n,{\"crime_id\":\"193050802\",\"original_crimetype_name\":\"Trespasser\",\"report_date\":\"2019-11-01T00:00:00.000\",\"call_date\":\"2019-11-01T00:00:00.000\",\"offense_date\":\"2019-11-01T00:00:00.000\",\"call_time\":\"07:21\",\"call_dttm\":\"2019-11-01T07:21:00.000\",\"disposition\":\"UTL\",\"address\":\"1300 Block Of Lombard St\",\"city\":\"San Francisco\",\"state\":\"CA\",\"agency_id\":\"1\",\"address_type\":\"Premise Address\"}\\n,{\"crime_id\":\"193050832\",\"original_crimetype_name\":\"Suspicious Person\",\"report_date\":\"2019-11-01T00:00:00.000\",\"call_date\":\"2019-11-01T00:00:00.000\",\"offense_date\":\"2019-11-01T00:00:00.000\",\"call_time\":\"07:30\",\"call_dttm\":\"2019-11-01T07:30:00.000\",\"disposition\":\"ADV\",\"address\":\"Gough St/ellis St\",\"city\":\"San Francisco\",\"state\":\"CA\",\"agency_id\":\"1\",\"address_type\":\"Intersection\"}\\n,{\"crime_id\":\"193050891\",\"original_crimetype_name\":\"Passing Call\",\"report_date\":\"2019-11-01T00:00:00.000\",\"call_date\":\"2019-11-01T00:00:00.000\",\"offense_date\":\"2019-11-01T00:00:00.000\",\"call_time\":\"07:52\",\"call_dttm\":\"2019-11-01T07:52:00.000\",\"disposition\":\"HAN\",\"address\":\"1400 Blk Haight St\",\"city\":\"San Francisco\",\"state\":\"CA\",\"agency_id\":\"1\",\"address_type\":\"Geo-Override\"}\\n,{\"crime_id\":\"190210878\",\"original_crimetype_name\":\"Homeless Complaint\",\"report_date\":\"2019-01-21T00:00:00.000\",\"call_date\":\"2019-01-21T00:00:00.000\",\"offense_date\":\"2019-01-21T00:00:00.000\",\"call_time\":\"08:43\",\"call_dttm\":\"2019-01-21T08:43:00.000\",\"disposition\":\"GOA\",\"address\":\"300 Block Of Dorland St\",\"city\":\"San Francisco\",\"state\":\"CA\",\"agency_id\":\"1\",\"address_type\":\"Premise Address\"}\\n,{\"crime_id\":\"190082135\",\"original_crimetype_name\":\"916\",\"report_date\":\"2019-01-08T00:00:00.000\",\"call_date\":\"2019-01-08T00:00:00.000\",\"offense_date\":\"2019-01-08T00:00:00.000\",\"call_time\":\"14:46\",\"call_dttm\":\"2019-01-08T14:46:00.000\",\"disposition\":\"CAN\",\"address\":\"200 Block Of Grant Av\",\"city\":\"San Francisco\",\"state\":\"CA\",\"agency_id\":\"1\",\"address_type\":\"Premise Address\"}\\n,{\"crime_id\":\"190152382\",\"original_crimetype_name\":\"Suspicious Person\",\"report_date\":\"2019-01-15T00:00:00.000\",\"call_date\":\"2019-01-15T00:00:00.000\",\"offense_date\":\"2019-01-15T00:00:00.000\",\"call_time\":\"15:02\",\"call_dttm\":\"2019-01-15T15:02:00.000\",\"disposition\":\"ADV\",\"address\":\"Golden Gate Av/hyde St\",\"city\":\"San Francisco\",\"state\":\"CA\",\"agency_id\":\"1\",\"address_type\":\"Intersection\"}\\n,{\"crime_id\":\"190181258\",\"original_crimetype_name\":\"Passing Call\",\"report_date\":\"2019-01-18T00:00:00.000\",\"call_date\":\"2019-01-18T00:00:00.000\",\"offense_date\":\"2019-01-18T00:00:00.000\",\"call_time\":\"10:25\",\"call_dttm\":\"2019-01-18T10:25:00.000\",\"disposition\":\"HAN\",\"address\":\"1100 Blk Fillmore St\",\"city\":\"San Francisco\",\"state\":\"CA\",\"agency_id\":\"1\",\"address_type\":\"Geo-Override\"}\\n,{\"crime_id\":\"161092934\",\"original_crimetype_name\":\"Passing Call\",\"report_date\":\"2016-04-18T00:00:00.000\",\"call_date\":\"2016-04-18T00:00:00.000\",\"offense_date\":\"2016-04-18T00:00:00.000\",\"call_time\":\"17:34\",\"call_dttm\":\"2016-04-18T17:34:00.000\",\"disposition\":\"HAN\",\"address\":\"0 Blk Hermann St\",\"city\":\"San Francisco\",\"state\":\"CA\",\"agency_id\":\"1\",\"address_type\":\"Geo-Override\"}\\n,{\"crime_id\":\"190201432\",\"original_crimetype_name\":\"Passing Call\",\"report_date\":\"2019-01-20T00:00:00.000\",\"call_date\":\"2019-01-20T00:00:00.000\",\"offense_date\":\"2019-01-20T00:00:00.000\",\"call_time\":\"11:48\",\"call_dttm\":\"2019-01-20T11:48:00.000\",\"disposition\":\"Not recorded\",\"address\":\"4000 Block Of 17th St\",\"city\":\"San Francisco\",\"state\":\"CA\",\"agency_id\":\"1\",\"address_type\":\"Common Location\",\"common_location\":\"Jane Warner Pz, Sf\"}\\n,{\"crime_id\":\"193050988\",\"original_crimetype_name\":\"Well Being Check\",\"report_date\":\"2019-11-01T00:00:00.000\",\"call_date\":\"2019-11-01T00:00:00.000\",\"offense_date\":\"2019-11-01T00:00:00.000\",\"call_time\":\"08:19\",\"call_dttm\":\"2019-11-01T08:19:00.000\",\"disposition\":\"Not recorded\",\"address\":\"600 Block Of Peralta Av\",\"city\":\"San Francisco\",\"state\":\"CA\",\"agency_id\":\"1\",\"address_type\":\"Premise Address\"}\\n,{\"crime_id\":\"193050989\",\"original_crimetype_name\":\"Noise Nuisance\",\"report_date\":\"2019-11-01T00:00:00.000\",\"call_date\":\"2019-11-01T00:00:00.000\",\"offense_date\":\"2019-11-01T00:00:00.000\",\"call_time\":\"08:22\",\"call_dttm\":\"2019-11-01T08:22:00.000\",\"disposition\":\"UTL\",\"address\":\"Stevenson St/gough St\",\"city\":\"San Francisco\",\"state\":\"CA\",\"agency_id\":\"1\",\"address_type\":\"Intersection\"}\\n,{\"crime_id\":\"193364029\",\"original_crimetype_name\":\"Ret\",\"report_date\":\"2019-12-02T00:00:00.000\",\"call_date\":\"2019-12-02T00:00:00.000\",\"offense_date\":\"2019-12-02T00:00:00.000\",\"call_time\":\"22:29\",\"call_dttm\":\"2019-12-02T22:29:00.000\",\"disposition\":\"HAN\",\"address\":\"500 Block Of Central Av\",\"city\":\"San Francisco\",\"state\":\"CA\",\"agency_id\":\"1\",\"address_type\":\"Common Location\",\"common_location\":\"Diamond Youth Ctr, Sf\"}\\n,{\"crime_id\":\"193382412\",\"original_crimetype_name\":\"Traf Violation Cite\",\"report_date\":\"2019-12-04T00:00:00.000\",\"call_date\":\"2019-12-04T00:00:00.000\",\"offense_date\":\"2019-12-04T00:00:00.000\",\"call_time\":\"14:18\",\"call_dttm\":\"2019-12-04T14:18:00.000\",\"disposition\":\"CAN\",\"address\":\"100 Block Of Lupine Av\",\"city\":\"San Francisco\",\"state\":\"CA\",\"agency_id\":\"1\",\"address_type\":\"Premise Address\"}\\n,{\"crime_id\":\"190082137\",\"original_crimetype_name\":\"Fight No Weapon\",\"report_date\":\"2019-01-08T00:00:00.000\",\"call_date\":\"2019-01-08T00:00:00.000\",\"offense_date\":\"2019-01-08T00:00:00.000\",\"call_time\":\"14:49\",\"call_dttm\":\"2019-01-08T14:49:00.000\",\"disposition\":\"ND\",\"address\":\"Pinto Av/tapia Dr\",\"city\":\"San Francisco\",\"state\":\"CA\",\"agency_id\":\"1\",\"address_type\":\"Intersection\"}\\n,{\"crime_id\":\"161002264\",\"original_crimetype_name\":\"22500e\",\"report_date\":\"2016-04-09T00:00:00.000\",\"call_date\":\"2016-04-09T00:00:00.000\",\"offense_date\":\"2016-04-09T00:00:00.000\",\"call_time\":\"16:28\",\"call_dttm\":\"2016-04-09T16:28:00.000\",\"disposition\":\"CIT\",\"address\":\"1400 Block Of Church St\",\"city\":\"San Francisco\",\"state\":\"CA\",\"agency_id\":\"1\",\"address_type\":\"Premise Address\"}\\n,{\"crime_id\":\"190123813\",\"original_crimetype_name\":\"Noise Nuisance\",\"report_date\":\"2019-01-12T00:00:00.000\",\"call_date\":\"2019-01-12T00:00:00.000\",\"offense_date\":\"2019-01-12T00:00:00.000\",\"call_time\":\"22:18\",\"call_dttm\":\"2019-01-12T22:18:00.000\",\"disposition\":\"ADV\",\"address\":\"Block Of 10th St\",\"city\":\"San Francisco\",\"state\":\"CA\",\"agency_id\":\"1\",\"address_type\":\"Premise Address\"}\\n,{\"crime_id\":\"190184101\",\"original_crimetype_name\":\"Passing Call\",\"report_date\":\"2019-01-18T00:00:00.000\",\"call_date\":\"2019-01-18T00:00:00.000\",\"offense_date\":\"2019-01-18T00:00:00.000\",\"call_time\":\"22:13\",\"call_dttm\":\"2019-01-18T22:13:00.000\",\"disposition\":\"HAN\",\"address\":\"16th St/mission St\",\"city\":\"San Francisco\",\"state\":\"CA\",\"agency_id\":\"1\",\"address_type\":\"Intersection\"}\\n,{\"crime_id\":\"190152383\",\"original_crimetype_name\":\"500e\",\"report_date\":\"2019-01-15T00:00:00.000\",\"call_date\":\"2019-01-15T00:00:00.000\",\"offense_date\":\"2019-01-15T00:00:00.000\",\"call_time\":\"15:01\",\"call_dttm\":\"2019-01-15T15:01:00.000\",\"disposition\":\"GOA\",\"address\":\"2400 Block Of 30th Av\",\"city\":\"San Francisco\",\"state\":\"CA\",\"agency_id\":\"1\",\"address_type\":\"Premise Address\"}\\n,{\"crime_id\":\"190173099\",\"original_crimetype_name\":\"Passing Call\",\"report_date\":\"2019-01-17T00:00:00.000\",\"call_date\":\"2019-01-17T00:00:00.000\",\"offense_date\":\"2019-01-17T00:00:00.000\",\"call_time\":\"17:33\",\"call_dttm\":\"2019-01-17T17:33:00.000\",\"disposition\":\"Not recorded\",\"address\":\"3rd St/mission Rock St\",\"city\":\"San Francisco\",\"state\":\"CA\",\"agency_id\":\"1\",\"address_type\":\"Intersection\"}\\n,{\"crime_id\":\"190184104\",\"original_crimetype_name\":\"518\",\"report_date\":\"2019-01-18T00:00:00.000\",\"call_date\":\"2019-01-18T00:00:00.000\",\"offense_date\":\"2019-01-18T00:00:00.000\",\"call_time\":\"22:10\",\"call_dttm\":\"2019-01-18T22:10:00.000\",\"disposition\":\"CAN\",\"address\":\"Van Ness Av/eddy St\",\"city\":\"San Francisco\",\"state\":\"CA\",\"agency_id\":\"1\",\"address_type\":\"Intersection\"}\\n,{\"crime_id\":\"193050992\",\"original_crimetype_name\":\"Missing Adult\",\"report_date\":\"2019-11-01T00:00:00.000\",\"call_date\":\"2019-11-01T00:00:00.000\",\"offense_date\":\"2019-11-01T00:00:00.000\",\"call_time\":\"08:21\",\"call_dttm\":\"2019-11-01T08:21:00.000\",\"disposition\":\"REP\",\"address\":\"2500 Block Of Harrison St\",\"city\":\"San Francisco\",\"state\":\"CA\",\"agency_id\":\"1\",\"address_type\":\"Premise Address\"}\\n,{\"crime_id\":\"193051024\",\"original_crimetype_name\":\"Audible Alarm\",\"report_date\":\"2019-11-01T00:00:00.000\",\"call_date\":\"2019-11-01T00:00:00.000\",\"offense_date\":\"2019-11-01T00:00:00.000\",\"call_time\":\"08:32\",\"call_dttm\":\"2019-11-01T08:32:00.000\",\"disposition\":\"NCR\",\"address\":\"3000 Block Of 22nd St\",\"city\":\"San Francisco\",\"state\":\"CA\",\"agency_id\":\"1\",\"address_type\":\"Premise Address\"}\\n,{\"crime_id\":\"190201433\",\"original_crimetype_name\":\"Over Parking\",\"report_date\":\"2019-01-20T00:00:00.000\",\"call_date\":\"2019-01-20T00:00:00.000\",\"offense_date\":\"2019-01-20T00:00:00.000\",\"call_time\":\"11:48\",\"call_dttm\":\"2019-01-20T11:48:00.000\",\"disposition\":\"GOA\",\"address\":\"Dorland St/dolores St\",\"city\":\"San Francisco\",\"state\":\"CA\",\"agency_id\":\"1\",\"address_type\":\"Intersection\"}\\n,{\"crime_id\":\"190010918\",\"original_crimetype_name\":\"Traf Violation Tow\",\"report_date\":\"2019-01-01T00:00:00.000\",\"call_date\":\"2019-01-01T00:00:00.000\",\"offense_date\":\"2019-01-01T00:00:00.000\",\"call_time\":\"05:00\",\"call_dttm\":\"2019-01-01T05:00:00.000\",\"disposition\":\"HAN\",\"address\":\"1500 Block Of Greenwich St\",\"city\":\"San Francisco\",\"state\":\"CA\",\"agency_id\":\"1\",\"address_type\":\"Premise Address\"}\\n,{\"crime_id\":\"161093346\",\"original_crimetype_name\":\"Petty Theft\",\"report_date\":\"2016-04-18T00:00:00.000\",\"call_date\":\"2016-04-18T00:00:00.000\",\"offense_date\":\"2016-04-18T00:00:00.000\",\"call_time\":\"19:06\",\"call_dttm\":\"2016-04-18T19:06:00.000\",\"disposition\":\"REP\",\"address\":\"4th St/market St\",\"city\":\"San Francisco\",\"state\":\"CA\",\"agency_id\":\"1\",\"address_type\":\"Intersection\"}\\n,{\"crime_id\":\"193051025\",\"original_crimetype_name\":\"7.2.45\",\"report_date\":\"2019-11-01T00:00:00.000\",\"call_date\":\"2019-11-01T00:00:00.000\",\"offense_date\":\"2019-11-01T00:00:00.000\",\"call_time\":\"08:33\",\"call_dttm\":\"2019-11-01T08:33:00.000\",\"disposition\":\"CIT\",\"address\":\"0 Block Of States St\",\"city\":\"San Francisco\",\"state\":\"CA\",\"agency_id\":\"1\",\"address_type\":\"Premise Address\"}\\n,{\"crime_id\":\"193051026\",\"original_crimetype_name\":\"7.2.46\",\"report_date\":\"2019-11-01T00:00:00.000\",\"call_date\":\"2019-11-01T00:00:00.000\",\"offense_date\":\"2019-11-01T00:00:00.000\",\"call_time\":\"08:32\",\"call_dttm\":\"2019-11-01T08:32:00.000\",\"disposition\":\"CIT\",\"address\":\"800 Block Of Fell St\",\"city\":\"San Francisco\",\"state\":\"CA\",\"agency_id\":\"1\",\"address_type\":\"Premise Address\"}\\n,{\"crime_id\":\"193280370\",\"original_crimetype_name\":\"415\",\"report_date\":\"2019-11-24T00:00:00.000\",\"call_date\":\"2019-11-24T00:00:00.000\",\"offense_date\":\"2019-11-24T00:00:00.000\",\"call_time\":\"03:13\",\"call_dttm\":\"2019-11-24T03:13:00.000\",\"disposition\":\"UTL\",\"address\":\"1600 Blk Newcomb Av\",\"city\":\"San Francisco\",\"state\":\"CA\",\"agency_id\":\"1\",\"address_type\":\"Geo-Override\"}\\n,{\"crime_id\":\"193290731\",\"original_crimetype_name\":\"Traffic Stop\",\"report_date\":\"2019-11-25T00:00:00.000\",\"call_date\":\"2019-11-25T00:00:00.000\",\"offense_date\":\"2019-11-25T00:00:00.000\",\"call_time\":\"08:29\",\"call_dttm\":\"2019-11-25T08:29:00.000\",\"disposition\":\"CIT\",\"address\":\"20th Av/winston Dr\",\"city\":\"San Francisco\",\"state\":\"CA\",\"agency_id\":\"1\",\"address_type\":\"Intersection\"}\\n,{\"crime_id\":\"190051422\",\"original_crimetype_name\":\"Passing Call\",\"report_date\":\"2019-01-05T00:00:00.000\",\"call_date\":\"2019-01-05T00:00:00.000\",\"offense_date\":\"2019-01-05T00:00:00.000\",\"call_time\":\"12:24\",\"call_dttm\":\"2019-01-05T12:24:00.000\",\"disposition\":\"Not recorded\",\"address\":\"Hudson Av/mendell St\",\"city\":\"San Francisco\",\"state\":\"CA\",\"agency_id\":\"1\",\"address_type\":\"Intersection\"}\\n,{\"crime_id\":\"190082148\",\"original_crimetype_name\":\"Susp Info\",\"report_date\":\"2019-01-08T00:00:00.000\",\"call_date\":\"2019-01-08T00:00:00.000\",\"offense_date\":\"2019-01-08T00:00:00.000\",\"call_time\":\"14:53\",\"call_dttm\":\"2019-01-08T14:53:00.000\",\"disposition\":\"REP\",\"address\":\"400 Block Of Missouri St\",\"city\":\"San Francisco\",\"state\":\"CA\",\"agency_id\":\"1\",\"address_type\":\"Premise Address\"}\\n,{\"crime_id\":\"161073521\",\"original_crimetype_name\":\"Male\",\"report_date\":\"2016-04-16T00:00:00.000\",\"call_date\":\"2016-04-16T00:00:00.000\",\"offense_date\":\"2016-04-16T00:00:00.000\",\"call_time\":\"21:37\",\"call_dttm\":\"2016-04-16T21:37:00.000\",\"disposition\":\"NOM\",\"address\":\"Hyde St/ofarrell St\",\"city\":\"San Francisco\",\"state\":\"CA\",\"agency_id\":\"1\",\"address_type\":\"Intersection\"}\\n,{\"crime_id\":\"193383655\",\"original_crimetype_name\":\"Citizen Arrest\",\"report_date\":\"2019-12-04T00:00:00.000\",\"call_date\":\"2019-12-04T00:00:00.000\",\"offense_date\":\"2019-12-04T00:00:00.000\",\"call_time\":\"19:00\",\"call_dttm\":\"2019-12-04T19:00:00.000\",\"disposition\":\"ARR\",\"address\":\"200 Block Of Ofarrell St\",\"city\":\"San Francisco\",\"state\":\"CA\",\"agency_id\":\"1\",\"address_type\":\"Common Location\",\"common_location\":\"Macys Downtown, Sf\"}\\n,{\"crime_id\":\"190104214\",\"original_crimetype_name\":\"Suspicious Person\",\"report_date\":\"2019-01-10T00:00:00.000\",\"call_date\":\"2019-01-10T00:00:00.000\",\"offense_date\":\"2019-01-10T00:00:00.000\",\"call_time\":\"22:35\",\"call_dttm\":\"2019-01-10T22:35:00.000\",\"disposition\":\"ARR\",\"address\":\"Grant Av/sutter St\",\"city\":\"San Francisco\",\"state\":\"CA\",\"agency_id\":\"1\",\"address_type\":\"Intersection\"}\\n,{\"crime_id\":\"160940906\",\"original_crimetype_name\":\"Fight No Weapon\",\"report_date\":\"2016-04-03T00:00:00.000\",\"call_date\":\"2016-04-03T00:00:00.000\",\"offense_date\":\"2016-04-03T00:00:00.000\",\"call_time\":\"08:09\",\"call_dttm\":\"2016-04-03T08:09:00.000\",\"disposition\":\"HAN\",\"address\":\"35th Av/lincoln Wy\",\"city\":\"San Francisco\",\"state\":\"CA\",\"agency_id\":\"1\",\"address_type\":\"Intersection\"}\\n,{\"crime_id\":\"161073841\",\"original_crimetype_name\":\"915\",\"report_date\":\"2016-04-16T00:00:00.000\",\"call_date\":\"2016-04-16T00:00:00.000\",\"offense_date\":\"2016-04-16T00:00:00.000\",\"call_time\":\"23:10\",\"call_dttm\":\"2016-04-16T23:10:00.000\",\"disposition\":\"GOA\",\"address\":\"400 Block Of Noe St\",\"city\":\"San Francisco\",\"state\":\"CA\",\"agency_id\":\"1\",\"address_type\":\"Premise Address\"}\\n,{\"crime_id\":\"193051027\",\"original_crimetype_name\":\"Well Being Check\",\"report_date\":\"2019-11-01T00:00:00.000\",\"call_date\":\"2019-11-01T00:00:00.000\",\"offense_date\":\"2019-11-01T00:00:00.000\",\"call_time\":\"08:29\",\"call_dttm\":\"2019-11-01T08:29:00.000\",\"disposition\":\"HAN\",\"address\":\"Larkin St/mcallister St\",\"city\":\"San Francisco\",\"state\":\"CA\",\"agency_id\":\"1\",\"address_type\":\"Intersection\"}\\n,{\"crime_id\":\"193051028\",\"original_crimetype_name\":\"Sexual\",\"report_date\":\"2019-11-01T00:00:00.000\",\"call_date\":\"2019-11-01T00:00:00.000\",\"offense_date\":\"2019-11-01T00:00:00.000\",\"call_time\":\"08:28\",\"call_dttm\":\"2019-11-01T08:28:00.000\",\"disposition\":\"REP\",\"address\":\"3800 Block Of 18th St\",\"city\":\"San Francisco\",\"state\":\"CA\",\"agency_id\":\"1\",\"address_type\":\"Common Location\",\"common_location\":\"Mission Hs, Sf\"}\\n,{\"crime_id\":\"193281762\",\"original_crimetype_name\":\"Suspicious Vehicle\",\"report_date\":\"2019-11-24T00:00:00.000\",\"call_date\":\"2019-11-24T00:00:00.000\",\"offense_date\":\"2019-11-24T00:00:00.000\",\"call_time\":\"13:36\",\"call_dttm\":\"2019-11-24T13:36:00.000\",\"disposition\":\"ND\",\"address\":\"Twin Peaks Bl/portola Dr\",\"city\":\"San Francisco\",\"state\":\"CA\",\"agency_id\":\"1\",\"address_type\":\"Intersection\"}\\n,{\"crime_id\":\"193304424\",\"original_crimetype_name\":\"Poss\",\"report_date\":\"2019-11-26T00:00:00.000\",\"call_date\":\"2019-11-26T00:00:00.000\",\"offense_date\":\"2019-11-26T00:00:00.000\",\"call_time\":\"23:44\",\"call_dttm\":\"2019-11-26T23:44:00.000\",\"disposition\":\"PAS\",\"address\":\"2900 Block Of Baker St\",\"city\":\"San Francisco\",\"state\":\"CA\",\"agency_id\":\"1\",\"address_type\":\"Premise Address\"}\\n,{\"crime_id\":\"193364030\",\"original_crimetype_name\":\"Passing Call\",\"report_date\":\"2019-12-02T00:00:00.000\",\"call_date\":\"2019-12-02T00:00:00.000\",\"offense_date\":\"2019-12-02T00:00:00.000\",\"call_time\":\"22:30\",\"call_dttm\":\"2019-12-02T22:30:00.000\",\"disposition\":\"HAN\",\"address\":\"600 Block Of Buena Vista Av W\",\"city\":\"San Francisco\",\"state\":\"CA\",\"agency_id\":\"1\",\"address_type\":\"Common Location\",\"common_location\":\"Buena Vista Park, Sf\"}\\n,{\"crime_id\":\"190042617\",\"original_crimetype_name\":\"Passing Call\",\"report_date\":\"2019-01-04T00:00:00.000\",\"call_date\":\"2019-01-04T00:00:00.000\",\"offense_date\":\"2019-01-04T00:00:00.000\",\"call_time\":\"16:48\",\"call_dttm\":\"2019-01-04T16:48:00.000\",\"disposition\":\"Not recorded\",\"address\":\"600 Block Of Dolores St\",\"city\":\"San Francisco\",\"state\":\"CA\",\"agency_id\":\"1\",\"address_type\":\"Common Location\",\"common_location\":\"Mission Dolores Park, Sf\"}\\n,{\"crime_id\":\"190193578\",\"original_crimetype_name\":\"601\",\"report_date\":\"2019-01-19T00:00:00.000\",\"call_date\":\"2019-01-19T00:00:00.000\",\"offense_date\":\"2019-01-19T00:00:00.000\",\"call_time\":\"19:56\",\"call_dttm\":\"2019-01-19T19:56:00.000\",\"disposition\":\"ND\",\"address\":\"3200 Block Of 23rd St\",\"city\":\"San Francisco\",\"state\":\"CA\",\"agency_id\":\"1\",\"address_type\":\"Premise Address\"}\\n,{\"crime_id\":\"190051423\",\"original_crimetype_name\":\"Well Being Check\",\"report_date\":\"2019-01-05T00:00:00.000\",\"call_date\":\"2019-01-05T00:00:00.000\",\"offense_date\":\"2019-01-05T00:00:00.000\",\"call_time\":\"12:14\",\"call_dttm\":\"2019-01-05T12:14:00.000\",\"disposition\":\"HAN\",\"address\":\"200 Block Of Division St\",\"city\":\"San Francisco\",\"state\":\"CA\",\"agency_id\":\"1\",\"address_type\":\"Premise Address\"}\\n,{\"crime_id\":\"190060698\",\"original_crimetype_name\":\"Passing Call\",\"report_date\":\"2019-01-06T00:00:00.000\",\"call_date\":\"2019-01-06T00:00:00.000\",\"offense_date\":\"2019-01-06T00:00:00.000\",\"call_time\":\"08:40\",\"call_dttm\":\"2019-01-06T08:40:00.000\",\"disposition\":\"HAN\",\"address\":\"Fell St/cole St\",\"city\":\"San Francisco\",\"state\":\"CA\",\"agency_id\":\"1\",\"address_type\":\"Intersection\"}\\n,{\"crime_id\":\"190132432\",\"original_crimetype_name\":\"601\",\"report_date\":\"2019-01-13T00:00:00.000\",\"call_date\":\"2019-01-13T00:00:00.000\",\"offense_date\":\"2019-01-13T00:00:00.000\",\"call_time\":\"16:31\",\"call_dttm\":\"2019-01-13T16:31:00.000\",\"disposition\":\"GOA\",\"address\":\"2900 Block Of 24th St\",\"city\":\"San Francisco\",\"state\":\"CA\",\"agency_id\":\"1\",\"address_type\":\"Premise Address\"}\\n,{\"crime_id\":\"190140693\",\"original_crimetype_name\":\"7,2,46\",\"report_date\":\"2019-01-14T00:00:00.000\",\"call_date\":\"2019-01-14T00:00:00.000\",\"offense_date\":\"2019-01-14T00:00:00.000\",\"call_time\":\"07:52\",\"call_dttm\":\"2019-01-14T07:52:00.000\",\"disposition\":\"GOA\",\"address\":\"1000 Block Of Green St\",\"city\":\"San Francisco\",\"state\":\"CA\",\"agency_id\":\"1\",\"address_type\":\"Premise Address\"}\\n,{\"crime_id\":\"190201434\",\"original_crimetype_name\":\"22500e\",\"report_date\":\"2019-01-20T00:00:00.000\",\"call_date\":\"2019-01-20T00:00:00.000\",\"offense_date\":\"2019-01-20T00:00:00.000\",\"call_time\":\"11:48\",\"call_dttm\":\"2019-01-20T11:48:00.000\",\"disposition\":\"GOA\",\"address\":\"100 Block Of Fountain St\",\"city\":\"San Francisco\",\"state\":\"CA\",\"agency_id\":\"1\",\"address_type\":\"Premise Address\"}\\n,{\"crime_id\":\"190221140\",\"original_crimetype_name\":\"Wanted Vehicle / Sub\",\"report_date\":\"2019-01-22T00:00:00.000\",\"call_date\":\"2019-01-22T00:00:00.000\",\"offense_date\":\"2019-01-22T00:00:00.000\",\"call_time\":\"09:55\",\"call_dttm\":\"2019-01-22T09:55:00.000\",\"disposition\":\"HAN\",\"address\":\"1300 Block Of Broadway\",\"city\":\"San Francisco\",\"state\":\"CA\",\"agency_id\":\"1\",\"address_type\":\"Premise Address\"}\\n,{\"crime_id\":\"193051029\",\"original_crimetype_name\":\"Well Being Check\",\"report_date\":\"2019-11-01T00:00:00.000\",\"call_date\":\"2019-11-01T00:00:00.000\",\"offense_date\":\"2019-11-01T00:00:00.000\",\"call_time\":\"08:32\",\"call_dttm\":\"2019-11-01T08:32:00.000\",\"disposition\":\"GOA\",\"address\":\"800 Block Of Irving St\",\"city\":\"San Francisco\",\"state\":\"CA\",\"agency_id\":\"1\",\"address_type\":\"Premise Address\"}\\n,{\"crime_id\":\"193051031\",\"original_crimetype_name\":\"Passing Call\",\"report_date\":\"2019-11-01T00:00:00.000\",\"call_date\":\"2019-11-01T00:00:00.000\",\"offense_date\":\"2019-11-01T00:00:00.000\",\"call_time\":\"08:35\",\"call_dttm\":\"2019-11-01T08:35:00.000\",\"disposition\":\"HAN\",\"address\":\"Jewish Musuem\",\"state\":\"CA\",\"agency_id\":\"1\",\"address_type\":\"Geo-Override\"}\\n,{\"crime_id\":\"193051037\",\"original_crimetype_name\":\"Homeless Complaint\",\"report_date\":\"2019-11-01T00:00:00.000\",\"call_date\":\"2019-11-01T00:00:00.000\",\"offense_date\":\"2019-11-01T00:00:00.000\",\"call_time\":\"08:37\",\"call_dttm\":\"2019-11-01T08:37:00.000\",\"disposition\":\"HAN\",\"address\":\"Taylor St/eddy St\",\"city\":\"San Francisco\",\"state\":\"CA\",\"agency_id\":\"1\",\"address_type\":\"Intersection\"}\\n,{\"crime_id\":\"193051040\",\"original_crimetype_name\":\"Dw\",\"report_date\":\"2019-11-01T00:00:00.000\",\"call_date\":\"2019-11-01T00:00:00.000\",\"offense_date\":\"2019-11-01T00:00:00.000\",\"call_time\":\"08:37\",\"call_dttm\":\"2019-11-01T08:37:00.000\",\"disposition\":\"Not recorded\",\"address\":\"2400 Block Of Chestnut St\",\"city\":\"San Francisco\",\"state\":\"CA\",\"agency_id\":\"1\",\"address_type\":\"Premise Address\"}\\n,{\"crime_id\":\"193272081\",\"original_crimetype_name\":\"Traf Violation Cite\",\"report_date\":\"2019-11-23T00:00:00.000\",\"call_date\":\"2019-11-23T00:00:00.000\",\"offense_date\":\"2019-11-23T00:00:00.000\",\"call_time\":\"14:18\",\"call_dttm\":\"2019-11-23T14:18:00.000\",\"disposition\":\"GOA\",\"address\":\"100 Block Of Beach St\",\"city\":\"San Francisco\",\"state\":\"CA\",\"agency_id\":\"1\",\"address_type\":\"Premise Address\"}\\n,{\"crime_id\":\"190033341\",\"original_crimetype_name\":\"Homeless Complaint\",\"report_date\":\"2019-01-03T00:00:00.000\",\"call_date\":\"2019-01-03T00:00:00.000\",\"offense_date\":\"2019-01-03T00:00:00.000\",\"call_time\":\"19:54\",\"call_dttm\":\"2019-01-03T19:54:00.000\",\"disposition\":\"GOA\",\"address\":\"2800 Block Of 16th St\",\"city\":\"San Francisco\",\"state\":\"CA\",\"agency_id\":\"1\",\"address_type\":\"Premise Address\"}\\n,{\"crime_id\":\"161112673\",\"original_crimetype_name\":\"909\",\"report_date\":\"2016-04-20T00:00:00.000\",\"call_date\":\"2016-04-20T00:00:00.000\",\"offense_date\":\"2016-04-20T00:00:00.000\",\"call_time\":\"15:35\",\"call_dttm\":\"2016-04-20T15:35:00.000\",\"disposition\":\"NOM\",\"address\":\"200 Block Of Stanyan Bl\",\"city\":\"San Francisco\",\"state\":\"CA\",\"agency_id\":\"1\",\"address_type\":\"Premise Address\"}\\n,{\"crime_id\":\"190070050\",\"original_crimetype_name\":\"Psych Eval / Hold\",\"report_date\":\"2019-01-07T00:00:00.000\",\"call_date\":\"2019-01-07T00:00:00.000\",\"offense_date\":\"2019-01-07T00:00:00.000\",\"call_time\":\"00:24\",\"call_dttm\":\"2019-01-07T00:24:00.000\",\"disposition\":\"HAN\",\"address\":\"1000 Block Of Potrero Av\",\"city\":\"San Francisco\",\"state\":\"CA\",\"agency_id\":\"1\",\"address_type\":\"Premise Address\"}\\n,{\"crime_id\":\"193293112\",\"original_crimetype_name\":\"Family\",\"report_date\":\"2019-11-25T00:00:00.000\",\"call_date\":\"2019-11-25T00:00:00.000\",\"offense_date\":\"2019-11-25T00:00:00.000\",\"call_time\":\"18:29\",\"call_dttm\":\"2019-11-25T18:29:00.000\",\"disposition\":\"HAN\",\"address\":\"100 Block Of Bright St\",\"city\":\"San Francisco\",\"state\":\"CA\",\"agency_id\":\"1\",\"address_type\":\"Premise Address\"}\\n,{\"crime_id\":\"190010919\",\"original_crimetype_name\":\"Audible Alarm\",\"report_date\":\"2019-01-01T00:00:00.000\",\"call_date\":\"2019-01-01T00:00:00.000\",\"offense_date\":\"2019-01-01T00:00:00.000\",\"call_time\":\"05:00\",\"call_dttm\":\"2019-01-01T05:00:00.000\",\"disposition\":\"PAS\",\"address\":\"1500 Block Of 46th Av\",\"city\":\"San Francisco\",\"state\":\"CA\",\"agency_id\":\"1\",\"address_type\":\"Premise Address\"}\\n,{\"crime_id\":\"190051425\",\"original_crimetype_name\":\"500e\",\"report_date\":\"2019-01-05T00:00:00.000\",\"call_date\":\"2019-01-05T00:00:00.000\",\"offense_date\":\"2019-01-05T00:00:00.000\",\"call_time\":\"12:24\",\"call_dttm\":\"2019-01-05T12:24:00.000\",\"disposition\":\"CIT\",\"address\":\"600 Block Of 8th Av\",\"city\":\"San Francisco\",\"state\":\"CA\",\"agency_id\":\"1\",\"address_type\":\"Premise Address\"}\\n,{\"crime_id\":\"190152385\",\"original_crimetype_name\":\"Drops\",\"report_date\":\"2019-01-15T00:00:00.000\",\"call_date\":\"2019-01-15T00:00:00.000\",\"offense_date\":\"2019-01-15T00:00:00.000\",\"call_time\":\"15:03\",\"call_dttm\":\"2019-01-15T15:03:00.000\",\"disposition\":\"NOM\",\"address\":\"0 Block Of Market St\",\"city\":\"San Francisco\",\"state\":\"CA\",\"agency_id\":\"1\",\"address_type\":\"Premise Address\"}\\n,{\"crime_id\":\"193051042\",\"original_crimetype_name\":\"Mentally Disturbed\",\"report_date\":\"2019-11-01T00:00:00.000\",\"call_date\":\"2019-11-01T00:00:00.000\",\"offense_date\":\"2019-11-01T00:00:00.000\",\"call_time\":\"08:35\",\"call_dttm\":\"2019-11-01T08:35:00.000\",\"disposition\":\"Not recorded\",\"address\":\"Guerrero St/14th St\",\"city\":\"San Francisco\",\"state\":\"CA\",\"agency_id\":\"1\",\"address_type\":\"Intersection\"}\\n,{\"crime_id\":\"193051050\",\"original_crimetype_name\":\"22500e\",\"report_date\":\"2019-11-01T00:00:00.000\",\"call_date\":\"2019-11-01T00:00:00.000\",\"offense_date\":\"2019-11-01T00:00:00.000\",\"call_time\":\"08:39\",\"call_dttm\":\"2019-11-01T08:39:00.000\",\"disposition\":\"GOA\",\"address\":\"2400 Block Of Chestnut St\",\"city\":\"San Francisco\",\"state\":\"CA\",\"agency_id\":\"1\",\"address_type\":\"Premise Address\"}\\n,{\"crime_id\":\"193051052\",\"original_crimetype_name\":\"418\",\"report_date\":\"2019-11-01T00:00:00.000\",\"call_date\":\"2019-11-01T00:00:00.000\",\"offense_date\":\"2019-11-01T00:00:00.000\",\"call_time\":\"08:38\",\"call_dttm\":\"2019-11-01T08:38:00.000\",\"disposition\":\"HAN\",\"address\":\"0 Block Of Albion St\",\"city\":\"San Francisco\",\"state\":\"CA\",\"agency_id\":\"1\",\"address_type\":\"Premise Address\"}\\n,{\"crime_id\":\"193301566\",\"original_crimetype_name\":\"22500e\",\"report_date\":\"2019-11-26T00:00:00.000\",\"call_date\":\"2019-11-26T00:00:00.000\",\"offense_date\":\"2019-11-26T00:00:00.000\",\"call_time\":\"11:26\",\"call_dttm\":\"2019-11-26T11:26:00.000\",\"disposition\":\"CAN\",\"address\":\"200 Block Of Julian Av\",\"city\":\"San Francisco\",\"state\":\"CA\",\"agency_id\":\"1\",\"address_type\":\"Premise Address\"}\\n,{\"crime_id\":\"190051428\",\"original_crimetype_name\":\"601\",\"report_date\":\"2019-01-05T00:00:00.000\",\"call_date\":\"2019-01-05T00:00:00.000\",\"offense_date\":\"2019-01-05T00:00:00.000\",\"call_time\":\"12:23\",\"call_dttm\":\"2019-01-05T12:23:00.000\",\"disposition\":\"GOA\",\"address\":\"300 Block Of Williams Av\",\"city\":\"San Francisco\",\"state\":\"CA\",\"agency_id\":\"1\",\"address_type\":\"Common Location\",\"common_location\":\"Foods Co-Bayview, Sf\"}\\n,{\"crime_id\":\"190140695\",\"original_crimetype_name\":\"Well Being Check\",\"report_date\":\"2019-01-14T00:00:00.000\",\"call_date\":\"2019-01-14T00:00:00.000\",\"offense_date\":\"2019-01-14T00:00:00.000\",\"call_time\":\"07:52\",\"call_dttm\":\"2019-01-14T07:52:00.000\",\"disposition\":\"ADV\",\"address\":\"900 Block Of Grove St\",\"city\":\"San Francisco\",\"state\":\"CA\",\"agency_id\":\"1\",\"address_type\":\"Premise Address\"}\\n,{\"crime_id\":\"190210880\",\"original_crimetype_name\":\"Homeless Complaint\",\"report_date\":\"2019-01-21T00:00:00.000\",\"call_date\":\"2019-01-21T00:00:00.000\",\"offense_date\":\"2019-01-21T00:00:00.000\",\"call_time\":\"08:45\",\"call_dttm\":\"2019-01-21T08:45:00.000\",\"disposition\":\"GOA\",\"address\":\"300 Block Of Dorland St\",\"city\":\"San Francisco\",\"state\":\"CA\",\"agency_id\":\"1\",\"address_type\":\"Premise Address\"}\\n,{\"crime_id\":\"161002353\",\"original_crimetype_name\":\"Muni Inspection\",\"report_date\":\"2016-04-09T00:00:00.000\",\"call_date\":\"2016-04-09T00:00:00.000\",\"offense_date\":\"2016-04-09T00:00:00.000\",\"call_time\":\"17:04\",\"call_dttm\":\"2016-04-09T17:04:00.000\",\"disposition\":\"Not recorded\",\"address\":\"5th St/mission St\",\"city\":\"San Francisco\",\"state\":\"CA\",\"agency_id\":\"1\",\"address_type\":\"Intersection\"}\\n,{\"crime_id\":\"161112899\",\"original_crimetype_name\":\"22500e\",\"report_date\":\"2016-04-20T00:00:00.000\",\"call_date\":\"2016-04-20T00:00:00.000\",\"offense_date\":\"2016-04-20T00:00:00.000\",\"call_time\":\"16:22\",\"call_dttm\":\"2016-04-20T16:22:00.000\",\"disposition\":\"CIT\",\"address\":\"600 Block Of 9th Av\",\"city\":\"San Francisco\",\"state\":\"CA\",\"agency_id\":\"1\",\"address_type\":\"Premise Address\"}\\n,{\"crime_id\":\"190221143\",\"original_crimetype_name\":\"Meet W/citizen\",\"report_date\":\"2019-01-22T00:00:00.000\",\"call_date\":\"2019-01-22T00:00:00.000\",\"offense_date\":\"2019-01-22T00:00:00.000\",\"call_time\":\"09:56\",\"call_dttm\":\"2019-01-22T09:56:00.000\",\"disposition\":\"HAN\",\"address\":\"21st Av/geary Bl\",\"city\":\"San Francisco\",\"state\":\"CA\",\"agency_id\":\"1\",\"address_type\":\"Intersection\"}\\n,{\"crime_id\":\"193051062\",\"original_crimetype_name\":\"Homeless Complaint\",\"report_date\":\"2019-11-01T00:00:00.000\",\"call_date\":\"2019-11-01T00:00:00.000\",\"offense_date\":\"2019-11-01T00:00:00.000\",\"call_time\":\"08:43\",\"call_dttm\":\"2019-11-01T08:43:00.000\",\"disposition\":\"CIT\",\"address\":\"Clement St/10th Av\",\"city\":\"San Francisco\",\"state\":\"CA\",\"agency_id\":\"1\",\"address_type\":\"Intersection\"}\\n,{\"crime_id\":\"190160908\",\"original_crimetype_name\":\"Traf Violation Cite\",\"report_date\":\"2019-01-16T00:00:00.000\",\"call_date\":\"2019-01-16T00:00:00.000\",\"offense_date\":\"2019-01-16T00:00:00.000\",\"call_time\":\"08:56\",\"call_dttm\":\"2019-01-16T08:56:00.000\",\"disposition\":\"NOM\",\"address\":\"277 Golden Gate Ave\",\"state\":\"CA\",\"agency_id\":\"1\",\"address_type\":\"Geo-Override\"}\\n,{\"crime_id\":\"160961061\",\"original_crimetype_name\":\"Traffic Stop\",\"report_date\":\"2016-04-05T00:00:00.000\",\"call_date\":\"2016-04-05T00:00:00.000\",\"offense_date\":\"2016-04-05T00:00:00.000\",\"call_time\":\"09:53\",\"call_dttm\":\"2016-04-05T09:53:00.000\",\"disposition\":\"CIT\",\"address\":\"17th St/connecticut St\",\"city\":\"San Francisco\",\"state\":\"CA\",\"agency_id\":\"1\",\"address_type\":\"Intersection\"}\\n,{\"crime_id\":\"193051080\",\"original_crimetype_name\":\"Homeless Complaint\",\"report_date\":\"2019-11-01T00:00:00.000\",\"call_date\":\"2019-11-01T00:00:00.000\",\"offense_date\":\"2019-11-01T00:00:00.000\",\"call_time\":\"08:49\",\"call_dttm\":\"2019-11-01T08:49:00.000\",\"disposition\":\"HAN\",\"address\":\"3800 Block Of Scott St\",\"city\":\"San Francisco\",\"state\":\"CA\",\"agency_id\":\"1\",\"address_type\":\"Premise Address\"}\\n,{\"crime_id\":\"193051101\",\"original_crimetype_name\":\"Audible Alarm\",\"report_date\":\"2019-11-01T00:00:00.000\",\"call_date\":\"2019-11-01T00:00:00.000\",\"offense_date\":\"2019-11-01T00:00:00.000\",\"call_time\":\"08:55\",\"call_dttm\":\"2019-11-01T08:55:00.000\",\"disposition\":\"HAN\",\"address\":\"100 Block Of Joost Av\",\"city\":\"San Francisco\",\"state\":\"CA\",\"agency_id\":\"1\",\"address_type\":\"Premise Address\"}\\n,{\"crime_id\":\"193051145\",\"original_crimetype_name\":\"7.2.46\",\"report_date\":\"2019-11-01T00:00:00.000\",\"call_date\":\"2019-11-01T00:00:00.000\",\"offense_date\":\"2019-11-01T00:00:00.000\",\"call_time\":\"09:04\",\"call_dttm\":\"2019-11-01T09:04:00.000\",\"disposition\":\"GOA\",\"address\":\"300 Block Of Lombard St\",\"city\":\"San Francisco\",\"state\":\"CA\",\"agency_id\":\"1\",\"address_type\":\"Premise Address\"}\\n,{\"crime_id\":\"193281768\",\"original_crimetype_name\":\"Suspicious Person\",\"report_date\":\"2019-11-24T00:00:00.000\",\"call_date\":\"2019-11-24T00:00:00.000\",\"offense_date\":\"2019-11-24T00:00:00.000\",\"call_time\":\"13:37\",\"call_dttm\":\"2019-11-24T13:37:00.000\",\"disposition\":\"HAN\",\"address\":\"Union St/grant Av\",\"city\":\"San Francisco\",\"state\":\"CA\",\"agency_id\":\"1\",\"address_type\":\"Intersection\"}\\n,{\"crime_id\":\"193301567\",\"original_crimetype_name\":\"22500e\",\"report_date\":\"2019-11-26T00:00:00.000\",\"call_date\":\"2019-11-26T00:00:00.000\",\"offense_date\":\"2019-11-26T00:00:00.000\",\"call_time\":\"11:26\",\"call_dttm\":\"2019-11-26T11:26:00.000\",\"disposition\":\"GOA\",\"address\":\"100 Block Of Landers St\",\"city\":\"San Francisco\",\"state\":\"CA\",\"agency_id\":\"1\",\"address_type\":\"Premise Address\"}\\n,{\"crime_id\":\"193380959\",\"original_crimetype_name\":\"Injury Veh Accident\",\"report_date\":\"2019-12-04T00:00:00.000\",\"call_date\":\"2019-12-04T00:00:00.000\",\"offense_date\":\"2019-12-04T00:00:00.000\",\"call_time\":\"08:48\",\"call_dttm\":\"2019-12-04T08:48:00.000\",\"disposition\":\"REP\",\"address\":\"New Montgomery St/market St\",\"city\":\"San Francisco\",\"state\":\"CA\",\"agency_id\":\"1\",\"address_type\":\"Intersection\"}\\n,{\"crime_id\":\"190070052\",\"original_crimetype_name\":\"Passing Call\",\"report_date\":\"2019-01-07T00:00:00.000\",\"call_date\":\"2019-01-07T00:00:00.000\",\"offense_date\":\"2019-01-07T00:00:00.000\",\"call_time\":\"00:26\",\"call_dttm\":\"2019-01-07T00:26:00.000\",\"disposition\":\"HAN\",\"address\":\"24th St/harrison St\",\"city\":\"San Francisco\",\"state\":\"CA\",\"agency_id\":\"1\",\"address_type\":\"Intersection\"}\\n,{\"crime_id\":\"190092650\",\"original_crimetype_name\":\"Passing Call\",\"report_date\":\"2019-01-09T00:00:00.000\",\"call_date\":\"2019-01-09T00:00:00.000\",\"offense_date\":\"2019-01-09T00:00:00.000\",\"call_time\":\"16:05\",\"call_dttm\":\"2019-01-09T16:05:00.000\",\"disposition\":\"HAN\",\"address\":\"200 Block Of Valencia St\",\"city\":\"San Francisco\",\"state\":\"CA\",\"agency_id\":\"1\",\"address_type\":\"Premise Address\"}\\n,{\"crime_id\":\"190160909\",\"original_crimetype_name\":\"Traf Violation Cite\",\"report_date\":\"2019-01-16T00:00:00.000\",\"call_date\":\"2019-01-16T00:00:00.000\",\"offense_date\":\"2019-01-16T00:00:00.000\",\"call_time\":\"08:56\",\"call_dttm\":\"2019-01-16T08:56:00.000\",\"disposition\":\"GOA\",\"address\":\"1300 Block Of York St\",\"city\":\"San Francisco\",\"state\":\"CA\",\"agency_id\":\"1\",\"address_type\":\"Premise Address\"}\\n,{\"crime_id\":\"160980489\",\"original_crimetype_name\":\"Passing Call\",\"report_date\":\"2016-04-07T00:00:00.000\",\"call_date\":\"2016-04-07T00:00:00.000\",\"offense_date\":\"2016-04-07T00:00:00.000\",\"call_time\":\"04:59\",\"call_dttm\":\"2016-04-07T04:59:00.000\",\"disposition\":\"HAN\",\"address\":\"100 Block Of Scott St\",\"city\":\"San Francisco\",\"state\":\"CA\",\"agency_id\":\"1\",\"address_type\":\"Common Location\",\"common_location\":\"Duboce Park, Sf\"}\\n,{\"crime_id\":\"190184109\",\"original_crimetype_name\":\"Passing Call\",\"report_date\":\"2019-01-18T00:00:00.000\",\"call_date\":\"2019-01-18T00:00:00.000\",\"offense_date\":\"2019-01-18T00:00:00.000\",\"call_time\":\"22:14\",\"call_dttm\":\"2019-01-18T22:14:00.000\",\"disposition\":\"HAN\",\"address\":\"2000 Block Of Market St\",\"city\":\"San Francisco\",\"state\":\"CA\",\"agency_id\":\"1\",\"address_type\":\"Premise Address\"}\\n,{\"crime_id\":\"190010922\",\"original_crimetype_name\":\"Complaint Unkn\",\"report_date\":\"2019-01-01T00:00:00.000\",\"call_date\":\"2019-01-01T00:00:00.000\",\"offense_date\":\"2019-01-01T00:00:00.000\",\"call_time\":\"05:00\",\"call_dttm\":\"2019-01-01T05:00:00.000\",\"disposition\":\"PAS\",\"address\":\"400 Block Of Eddy St\",\"city\":\"San Francisco\",\"state\":\"CA\",\"agency_id\":\"1\",\"address_type\":\"Premise Address\"}\\n,{\"crime_id\":\"190160911\",\"original_crimetype_name\":\"Traffic Stop\",\"report_date\":\"2019-01-16T00:00:00.000\",\"call_date\":\"2019-01-16T00:00:00.000\",\"offense_date\":\"2019-01-16T00:00:00.000\",\"call_time\":\"08:56\",\"call_dttm\":\"2019-01-16T08:56:00.000\",\"disposition\":\"Not recorded\",\"address\":\"19th Av/lawton St\",\"city\":\"San Francisco\",\"state\":\"CA\",\"agency_id\":\"1\",\"address_type\":\"Intersection\"}\\n,{\"crime_id\":\"193051152\",\"original_crimetype_name\":\"Trespasser\",\"report_date\":\"2019-11-01T00:00:00.000\",\"call_date\":\"2019-11-01T00:00:00.000\",\"offense_date\":\"2019-11-01T00:00:00.000\",\"call_time\":\"09:06\",\"call_dttm\":\"2019-11-01T09:06:00.000\",\"disposition\":\"ADV\",\"address\":\"400 Block Of 9th St\",\"city\":\"San Francisco\",\"state\":\"CA\",\"agency_id\":\"1\",\"address_type\":\"Premise Address\"}\\n,{\"crime_id\":\"193051154\",\"original_crimetype_name\":\"Report\",\"report_date\":\"2019-11-01T00:00:00.000\",\"call_date\":\"2019-11-01T00:00:00.000\",\"offense_date\":\"2019-11-01T00:00:00.000\",\"call_time\":\"09:05\",\"call_dttm\":\"2019-11-01T09:05:00.000\",\"disposition\":\"HAN\",\"address\":\"1100 Block Of Fell St\",\"city\":\"San Francisco\",\"state\":\"CA\",\"agency_id\":\"1\",\"address_type\":\"Premise Address\"}\\n,{\"crime_id\":\"193051192\",\"original_crimetype_name\":\"Meet W/citizen\",\"report_date\":\"2019-11-01T00:00:00.000\",\"call_date\":\"2019-11-01T00:00:00.000\",\"offense_date\":\"2019-11-01T00:00:00.000\",\"call_time\":\"09:16\",\"call_dttm\":\"2019-11-01T09:16:00.000\",\"disposition\":\"REP\",\"address\":\"100 Block Of Aptos Av\",\"city\":\"San Francisco\",\"state\":\"CA\",\"agency_id\":\"1\",\"address_type\":\"Common Location\",\"common_location\":\"Aptos Ms\"}\\n,{\"crime_id\":\"193051225\",\"original_crimetype_name\":\"Well Being Check\",\"report_date\":\"2019-11-01T00:00:00.000\",\"call_date\":\"2019-11-01T00:00:00.000\",\"offense_date\":\"2019-11-01T00:00:00.000\",\"call_time\":\"09:19\",\"call_dttm\":\"2019-11-01T09:19:00.000\",\"disposition\":\"HAN\",\"address\":\"0 Block Of 6th St\",\"city\":\"San Francisco\",\"state\":\"CA\",\"agency_id\":\"1\",\"address_type\":\"Premise Address\"}\\n,{\"crime_id\":\"193051230\",\"original_crimetype_name\":\"Traffic Stop\",\"report_date\":\"2019-11-01T00:00:00.000\",\"call_date\":\"2019-11-01T00:00:00.000\",\"offense_date\":\"2019-11-01T00:00:00.000\",\"call_time\":\"09:23\",\"call_dttm\":\"2019-11-01T09:23:00.000\",\"disposition\":\"CIT\",\"address\":\"9th Av/lawton St\",\"city\":\"San Francisco\",\"state\":\"CA\",\"agency_id\":\"1\",\"address_type\":\"Intersection\"}\\n,{\"crime_id\":\"193290733\",\"original_crimetype_name\":\"Audible Alarm\",\"report_date\":\"2019-11-25T00:00:00.000\",\"call_date\":\"2019-11-25T00:00:00.000\",\"offense_date\":\"2019-11-25T00:00:00.000\",\"call_time\":\"08:27\",\"call_dttm\":\"2019-11-25T08:27:00.000\",\"disposition\":\"PAS\",\"address\":\"500 Block Of 4th St\",\"city\":\"San Francisco\",\"state\":\"CA\",\"agency_id\":\"1\",\"address_type\":\"Premise Address\"}\\n,{\"crime_id\":\"193330052\",\"original_crimetype_name\":\"909\",\"report_date\":\"2019-11-29T00:00:00.000\",\"call_date\":\"2019-11-29T00:00:00.000\",\"offense_date\":\"2019-11-29T00:00:00.000\",\"call_time\":\"00:28\",\"call_dttm\":\"2019-11-29T00:28:00.000\",\"disposition\":\"Not recorded\",\"address\":\"500 Block Of South Van Ness Av\",\"city\":\"San Francisco\",\"state\":\"CA\",\"agency_id\":\"1\",\"address_type\":\"Premise Address\"}\\n,{\"crime_id\":\"190030156\",\"original_crimetype_name\":\"Vandalism\",\"report_date\":\"2019-01-03T00:00:00.000\",\"call_date\":\"2019-01-03T00:00:00.000\",\"offense_date\":\"2019-01-03T00:00:00.000\",\"call_time\":\"01:46\",\"call_dttm\":\"2019-01-03T01:46:00.000\",\"disposition\":\"HAN\",\"address\":\"500 Block Of Moscow St\",\"city\":\"San Francisco\",\"state\":\"CA\",\"agency_id\":\"1\",\"address_type\":\"Premise Address\"}\\n,{\"crime_id\":\"190042619\",\"original_crimetype_name\":\"Passing Call\",\"report_date\":\"2019-01-04T00:00:00.000\",\"call_date\":\"2019-01-04T00:00:00.000\",\"offense_date\":\"2019-01-04T00:00:00.000\",\"call_time\":\"16:48\",\"call_dttm\":\"2019-01-04T16:48:00.000\",\"disposition\":\"Not recorded\",\"address\":\"600 Block Of Market St\",\"city\":\"San Francisco\",\"state\":\"CA\",\"agency_id\":\"1\",\"address_type\":\"Common Location\",\"common_location\":\"Montgomery Muni, Sf\"}\\n,{\"crime_id\":\"190201440\",\"original_crimetype_name\":\"Mentally Disturbed\",\"report_date\":\"2019-01-20T00:00:00.000\",\"call_date\":\"2019-01-20T00:00:00.000\",\"offense_date\":\"2019-01-20T00:00:00.000\",\"call_time\":\"11:50\",\"call_dttm\":\"2019-01-20T11:50:00.000\",\"disposition\":\"ADV\",\"address\":\"Taylor St/north Point St\",\"city\":\"San Francisco\",\"state\":\"CA\",\"agency_id\":\"1\",\"address_type\":\"Intersection\"}\\n,{\"crime_id\":\"160980492\",\"original_crimetype_name\":\"Passing Call\",\"report_date\":\"2016-04-07T00:00:00.000\",\"call_date\":\"2016-04-07T00:00:00.000\",\"offense_date\":\"2016-04-07T00:00:00.000\",\"call_time\":\"05:02\",\"call_dttm\":\"2016-04-07T05:02:00.000\",\"disposition\":\"HAN\",\"address\":\"13th St/south Van Ness Av\",\"city\":\"San Francisco\",\"state\":\"CA\",\"agency_id\":\"1\",\"address_type\":\"Intersection\"}\\n,{\"crime_id\":\"190221145\",\"original_crimetype_name\":\"909\",\"report_date\":\"2019-01-22T00:00:00.000\",\"call_date\":\"2019-01-22T00:00:00.000\",\"offense_date\":\"2019-01-22T00:00:00.000\",\"call_time\":\"09:52\",\"call_dttm\":\"2019-01-22T09:52:00.000\",\"disposition\":\"REP\",\"address\":\"400 Block Of Bush St\",\"city\":\"San Francisco\",\"state\":\"CA\",\"agency_id\":\"1\",\"address_type\":\"Premise Address\"}\\n,{\"crime_id\":\"190030157\",\"original_crimetype_name\":\"Fight No Weapon\",\"report_date\":\"2019-01-03T00:00:00.000\",\"call_date\":\"2019-01-03T00:00:00.000\",\"offense_date\":\"2019-01-03T00:00:00.000\",\"call_time\":\"01:50\",\"call_dttm\":\"2019-01-03T01:50:00.000\",\"disposition\":\"GOA\",\"address\":\"1400 Block Of 46th Av\",\"city\":\"San Francisco\",\"state\":\"CA\",\"agency_id\":\"1\",\"address_type\":\"Premise Address\"}\\n,{\"crime_id\":\"190120990\",\"original_crimetype_name\":\"Homeless Complaint\",\"report_date\":\"2019-01-12T00:00:00.000\",\"call_date\":\"2019-01-12T00:00:00.000\",\"offense_date\":\"2019-01-12T00:00:00.000\",\"call_time\":\"09:19\",\"call_dttm\":\"2019-01-12T09:19:00.000\",\"disposition\":\"ADV\",\"address\":\"400 Block Of Sutter St\",\"city\":\"San Francisco\",\"state\":\"CA\",\"agency_id\":\"1\",\"address_type\":\"Premise Address\"}\\n,{\"crime_id\":\"190170105\",\"original_crimetype_name\":\"Suspicious Vehicle\",\"report_date\":\"2019-01-17T00:00:00.000\",\"call_date\":\"2019-01-17T00:00:00.000\",\"offense_date\":\"2019-01-17T00:00:00.000\",\"call_time\":\"00:51\",\"call_dttm\":\"2019-01-17T00:51:00.000\",\"disposition\":\"ADV\",\"address\":\"100 Block Of Woodward St\",\"city\":\"San Francisco\",\"state\":\"CA\",\"agency_id\":\"1\",\"address_type\":\"Premise Address\"}\\n,{\"crime_id\":\"161003634\",\"original_crimetype_name\":\"7,2,27\",\"report_date\":\"2016-04-09T00:00:00.000\",\"call_date\":\"2016-04-09T00:00:00.000\",\"offense_date\":\"2016-04-09T00:00:00.000\",\"call_time\":\"23:21\",\"call_dttm\":\"2016-04-09T23:21:00.000\",\"disposition\":\"CIT\",\"address\":\"800 Block Of Hyde St\",\"city\":\"San Francisco\",\"state\":\"CA\",\"agency_id\":\"1\",\"address_type\":\"Premise Address\"}\\n,{\"crime_id\":\"190181259\",\"original_crimetype_name\":\"Passing Call\",\"report_date\":\"2019-01-18T00:00:00.000\",\"call_date\":\"2019-01-18T00:00:00.000\",\"offense_date\":\"2019-01-18T00:00:00.000\",\"call_time\":\"10:25\",\"call_dttm\":\"2019-01-18T10:25:00.000\",\"disposition\":\"HAN\",\"address\":\"200 Block Of Jefferson St\",\"city\":\"San Francisco\",\"state\":\"CA\",\"agency_id\":\"1\",\"address_type\":\"Common Location\",\"common_location\":\"Pier 45\"}\\n,{\"crime_id\":\"193383657\",\"original_crimetype_name\":\"Traffic Stop\",\"report_date\":\"2019-12-04T00:00:00.000\",\"call_date\":\"2019-12-04T00:00:00.000\",\"offense_date\":\"2019-12-04T00:00:00.000\",\"call_time\":\"19:02\",\"call_dttm\":\"2019-12-04T19:02:00.000\",\"disposition\":\"ADV\",\"address\":\"1100 Block Of Clay St\",\"city\":\"San Francisco\",\"state\":\"CA\",\"agency_id\":\"1\",\"address_type\":\"Premise Address\"}\\n,{\"crime_id\":\"190092652\",\"original_crimetype_name\":\"Passing Call\",\"report_date\":\"2019-01-09T00:00:00.000\",\"call_date\":\"2019-01-09T00:00:00.000\",\"offense_date\":\"2019-01-09T00:00:00.000\",\"call_time\":\"16:06\",\"call_dttm\":\"2019-01-09T16:06:00.000\",\"disposition\":\"Not recorded\",\"address\":\"900 Block Of Market St\",\"city\":\"San Francisco\",\"state\":\"CA\",\"agency_id\":\"1\",\"address_type\":\"Common Location\",\"common_location\":\"One Hallidie Pz, Sf\"}\\n,{\"crime_id\":\"190152387\",\"original_crimetype_name\":\"Intoxicated Person\",\"report_date\":\"2019-01-15T00:00:00.000\",\"call_date\":\"2019-01-15T00:00:00.000\",\"offense_date\":\"2019-01-15T00:00:00.000\",\"call_time\":\"15:03\",\"call_dttm\":\"2019-01-15T15:03:00.000\",\"disposition\":\"HAN\",\"address\":\"3100 Block Of 24th St\",\"city\":\"San Francisco\",\"state\":\"CA\",\"agency_id\":\"1\",\"address_type\":\"Premise Address\"}\\n,{\"crime_id\":\"190173103\",\"original_crimetype_name\":\"Traffic Stop\",\"report_date\":\"2019-01-17T00:00:00.000\",\"call_date\":\"2019-01-17T00:00:00.000\",\"offense_date\":\"2019-01-17T00:00:00.000\",\"call_time\":\"17:34\",\"call_dttm\":\"2019-01-17T17:34:00.000\",\"disposition\":\"CIT\",\"address\":\"Shrader St/oak St\",\"city\":\"San Francisco\",\"state\":\"CA\",\"agency_id\":\"1\",\"address_type\":\"Intersection\"}\\n,{\"crime_id\":\"190221146\",\"original_crimetype_name\":\"Rep\",\"report_date\":\"2019-01-22T00:00:00.000\",\"call_date\":\"2019-01-22T00:00:00.000\",\"offense_date\":\"2019-01-22T00:00:00.000\",\"call_time\":\"09:52\",\"call_dttm\":\"2019-01-22T09:52:00.000\",\"disposition\":\"22\",\"address\":\"3600 Block Of Cesar Chavez St\",\"city\":\"San Francisco\",\"state\":\"CA\",\"agency_id\":\"1\",\"address_type\":\"Premise Address\"}\\n,{\"crime_id\":\"193051238\",\"original_crimetype_name\":\"Suspicious Person\",\"report_date\":\"2019-11-01T00:00:00.000\",\"call_date\":\"2019-11-01T00:00:00.000\",\"offense_date\":\"2019-11-01T00:00:00.000\",\"call_time\":\"09:26\",\"call_dttm\":\"2019-11-01T09:26:00.000\",\"disposition\":\"HAN\",\"address\":\"Missouri St/16th St\",\"city\":\"San Francisco\",\"state\":\"CA\",\"agency_id\":\"1\",\"address_type\":\"Intersection\"}\\n,{\"crime_id\":\"190173105\",\"original_crimetype_name\":\"Muni Inspection\",\"report_date\":\"2019-01-17T00:00:00.000\",\"call_date\":\"2019-01-17T00:00:00.000\",\"offense_date\":\"2019-01-17T00:00:00.000\",\"call_time\":\"17:34\",\"call_dttm\":\"2019-01-17T17:34:00.000\",\"disposition\":\"Not recorded\",\"address\":\"3rd St/mission Rock St\",\"city\":\"San Francisco\",\"state\":\"CA\",\"agency_id\":\"1\",\"address_type\":\"Intersection\"}\\n,{\"crime_id\":\"160940907\",\"original_crimetype_name\":\"Dw/rz\",\"report_date\":\"2016-04-03T00:00:00.000\",\"call_date\":\"2016-04-03T00:00:00.000\",\"offense_date\":\"2016-04-03T00:00:00.000\",\"call_time\":\"08:11\",\"call_dttm\":\"2016-04-03T08:11:00.000\",\"disposition\":\"CIT\",\"address\":\"3100 Block Of Pierce St\",\"city\":\"San Francisco\",\"state\":\"CA\",\"agency_id\":\"1\",\"address_type\":\"Premise Address\"}\\n,{\"crime_id\":\"190021413\",\"original_crimetype_name\":\"Suspicious Person\",\"report_date\":\"2019-01-02T00:00:00.000\",\"call_date\":\"2019-01-02T00:00:00.000\",\"offense_date\":\"2019-01-02T00:00:00.000\",\"call_time\":\"11:15\",\"call_dttm\":\"2019-01-02T11:15:00.000\",\"disposition\":\"ND\",\"address\":\"100 Block Of Stow Lake Dr\",\"city\":\"San Francisco\",\"state\":\"CA\",\"agency_id\":\"1\",\"address_type\":\"Common Location\",\"common_location\":\"Stow Lake Boathouse, Sf\"}\\n,{\"crime_id\":\"190112326\",\"original_crimetype_name\":\"Muni Alarm\",\"report_date\":\"2019-01-11T00:00:00.000\",\"call_date\":\"2019-01-11T00:00:00.000\",\"offense_date\":\"2019-01-11T00:00:00.000\",\"call_time\":\"14:59\",\"call_dttm\":\"2019-01-11T14:59:00.000\",\"disposition\":\"NCR\",\"address\":\"Folsom St/15th St\",\"city\":\"San Francisco\",\"state\":\"CA\",\"agency_id\":\"1\",\"address_type\":\"Intersection\"}\\n,{\"crime_id\":\"193293113\",\"original_crimetype_name\":\"Traf Violation Tow\",\"report_date\":\"2019-11-25T00:00:00.000\",\"call_date\":\"2019-11-25T00:00:00.000\",\"offense_date\":\"2019-11-25T00:00:00.000\",\"call_time\":\"18:30\",\"call_dttm\":\"2019-11-25T18:30:00.000\",\"disposition\":\"GOA\",\"address\":\"1900 Block Of Leavenworth St\",\"city\":\"San Francisco\",\"state\":\"CA\",\"agency_id\":\"1\",\"address_type\":\"Premise Address\"}\\n,{\"crime_id\":\"190131847\",\"original_crimetype_name\":\"Mentally Disturbed\",\"report_date\":\"2019-01-13T00:00:00.000\",\"call_date\":\"2019-01-13T00:00:00.000\",\"offense_date\":\"2019-01-13T00:00:00.000\",\"call_time\":\"13:53\",\"call_dttm\":\"2019-01-13T13:53:00.000\",\"disposition\":\"GOA\",\"address\":\"2800 Block Of California St\",\"city\":\"San Francisco\",\"state\":\"CA\",\"agency_id\":\"1\",\"address_type\":\"Premise Address\"}\\n,{\"crime_id\":\"190152388\",\"original_crimetype_name\":\"Meet W/citizen\",\"report_date\":\"2019-01-15T00:00:00.000\",\"call_date\":\"2019-01-15T00:00:00.000\",\"offense_date\":\"2019-01-15T00:00:00.000\",\"call_time\":\"15:04\",\"call_dttm\":\"2019-01-15T15:04:00.000\",\"disposition\":\"HAN\",\"address\":\"1200 Block Of Mariner Dr\",\"city\":\"Treasure Isla\",\"state\":\"CA\",\"agency_id\":\"1\",\"address_type\":\"Premise Address\"}\\n,{\"crime_id\":\"190201441\",\"original_crimetype_name\":\"Fraud\",\"report_date\":\"2019-01-20T00:00:00.000\",\"call_date\":\"2019-01-20T00:00:00.000\",\"offense_date\":\"2019-01-20T00:00:00.000\",\"call_time\":\"11:52\",\"call_dttm\":\"2019-01-20T11:52:00.000\",\"disposition\":\"REP\",\"address\":\"1000 Block Of Bush St\",\"city\":\"San Francisco\",\"state\":\"CA\",\"agency_id\":\"1\",\"address_type\":\"Premise Address\"}\\n,{\"crime_id\":\"190060699\",\"original_crimetype_name\":\"Suicide Attempt\",\"report_date\":\"2019-01-06T00:00:00.000\",\"call_date\":\"2019-01-06T00:00:00.000\",\"offense_date\":\"2019-01-06T00:00:00.000\",\"call_time\":\"08:36\",\"call_dttm\":\"2019-01-06T08:36:00.000\",\"disposition\":\"REP\",\"address\":\"1800 Block Of Pine St\",\"city\":\"San Francisco\",\"state\":\"CA\",\"agency_id\":\"1\",\"address_type\":\"Premise Address\"}\\n,{\"crime_id\":\"190104216\",\"original_crimetype_name\":\"Traffic Stop\",\"report_date\":\"2019-01-10T00:00:00.000\",\"call_date\":\"2019-01-10T00:00:00.000\",\"offense_date\":\"2019-01-10T00:00:00.000\",\"call_time\":\"22:36\",\"call_dttm\":\"2019-01-10T22:36:00.000\",\"disposition\":\"CIT\",\"address\":\"Funston Av/cabrillo St\",\"city\":\"San Francisco\",\"state\":\"CA\",\"agency_id\":\"1\",\"address_type\":\"Intersection\"}\\n,{\"crime_id\":\"193143805\",\"original_crimetype_name\":\"Passing Call\",\"report_date\":\"2019-11-10T00:00:00.000\",\"call_date\":\"2019-11-10T00:00:00.000\",\"offense_date\":\"2019-11-10T00:00:00.000\",\"call_time\":\"22:25\",\"call_dttm\":\"2019-11-10T22:25:00.000\",\"disposition\":\"HAN\",\"address\":\"100 Block Of 34th Av\",\"city\":\"San Francisco\",\"state\":\"CA\",\"agency_id\":\"1\",\"address_type\":\"Common Location\",\"common_location\":\"Legion Of Honor\"}\\n,{\"crime_id\":\"161010660\",\"original_crimetype_name\":\"519 Poss\",\"report_date\":\"2016-04-10T00:00:00.000\",\"call_date\":\"2016-04-10T00:00:00.000\",\"offense_date\":\"2016-04-10T00:00:00.000\",\"call_time\":\"05:10\",\"call_dttm\":\"2016-04-10T05:10:00.000\",\"disposition\":\"REP\",\"address\":\"Grove St/van Ness Av\",\"city\":\"San Francisco\",\"state\":\"CA\",\"agency_id\":\"1\",\"address_type\":\"Intersection\"}\\n,{\"crime_id\":\"190170113\",\"original_crimetype_name\":\"Susp\",\"report_date\":\"2019-01-17T00:00:00.000\",\"call_date\":\"2019-01-17T00:00:00.000\",\"offense_date\":\"2019-01-17T00:00:00.000\",\"call_time\":\"00:52\",\"call_dttm\":\"2019-01-17T00:52:00.000\",\"disposition\":\"NOM\",\"address\":\"600 Block Of Potrero Av\",\"city\":\"San Francisco\",\"state\":\"CA\",\"agency_id\":\"1\",\"address_type\":\"Premise Address\"}\\n,{\"crime_id\":\"190193730\",\"original_crimetype_name\":\"Passing Call\",\"report_date\":\"2019-01-19T00:00:00.000\",\"call_date\":\"2019-01-19T00:00:00.000\",\"offense_date\":\"2019-01-19T00:00:00.000\",\"call_time\":\"20:45\",\"call_dttm\":\"2019-01-19T20:45:00.000\",\"disposition\":\"HAN\",\"address\":\"100 Block Of Healy Av Rd\",\"city\":\"Yerba Buena\",\"state\":\"CA\",\"agency_id\":\"1\",\"address_type\":\"Common Location\",\"common_location\":\"Uscg Main Gate\"}\\n,{\"crime_id\":\"190221147\",\"original_crimetype_name\":\"Vandalism\",\"report_date\":\"2019-01-22T00:00:00.000\",\"call_date\":\"2019-01-22T00:00:00.000\",\"offense_date\":\"2019-01-22T00:00:00.000\",\"call_time\":\"09:55\",\"call_dttm\":\"2019-01-22T09:55:00.000\",\"disposition\":\"ND\",\"address\":\"4th St/brannan St\",\"city\":\"San Francisco\",\"state\":\"CA\",\"agency_id\":\"1\",\"address_type\":\"Intersection\"}\\n,{\"crime_id\":\"190033868\",\"original_crimetype_name\":\"811\",\"report_date\":\"2019-01-03T00:00:00.000\",\"call_date\":\"2019-01-03T00:00:00.000\",\"offense_date\":\"2019-01-03T00:00:00.000\",\"call_time\":\"22:50\",\"call_dttm\":\"2019-01-03T22:50:00.000\",\"disposition\":\"UTL\",\"address\":\"700 Block Of Eddy St\",\"city\":\"San Francisco\",\"state\":\"CA\",\"agency_id\":\"1\",\"address_type\":\"Premise Address\"}\\n,{\"crime_id\":\"193051240\",\"original_crimetype_name\":\"Mentally Disturbed\",\"report_date\":\"2019-11-01T00:00:00.000\",\"call_date\":\"2019-11-01T00:00:00.000\",\"offense_date\":\"2019-11-01T00:00:00.000\",\"call_time\":\"09:27\",\"call_dttm\":\"2019-11-01T09:27:00.000\",\"disposition\":\"HAN\",\"address\":\"Geary Bl/van Ness Av\",\"city\":\"San Francisco\",\"state\":\"CA\",\"agency_id\":\"1\",\"address_type\":\"Intersection\"}\\n,{\"crime_id\":\"190104217\",\"original_crimetype_name\":\"Audible Alarm\",\"report_date\":\"2019-01-10T00:00:00.000\",\"call_date\":\"2019-01-10T00:00:00.000\",\"offense_date\":\"2019-01-10T00:00:00.000\",\"call_time\":\"22:35\",\"call_dttm\":\"2019-01-10T22:35:00.000\",\"disposition\":\"NCR\",\"address\":\"100 Block Of Stevenson St\",\"city\":\"San Francisco\",\"state\":\"CA\",\"agency_id\":\"1\",\"address_type\":\"Premise Address\"}\\n,{\"crime_id\":\"193264610\",\"original_crimetype_name\":\"Complaint Unkn\",\"report_date\":\"2019-11-22T00:00:00.000\",\"call_date\":\"2019-11-22T00:00:00.000\",\"offense_date\":\"2019-11-22T00:00:00.000\",\"call_time\":\"23:56\",\"call_dttm\":\"2019-11-22T23:56:00.000\",\"disposition\":\"HAN\",\"address\":\"500 Block Of Ellis St\",\"city\":\"San Francisco\",\"state\":\"CA\",\"agency_id\":\"1\",\"address_type\":\"Premise Address\"}\\n,{\"crime_id\":\"193360466\",\"original_crimetype_name\":\"Homeless Complaint\",\"report_date\":\"2019-12-02T00:00:00.000\",\"call_date\":\"2019-12-02T00:00:00.000\",\"offense_date\":\"2019-12-02T00:00:00.000\",\"call_time\":\"06:40\",\"call_dttm\":\"2019-12-02T06:40:00.000\",\"disposition\":\"ADV\",\"address\":\"1200 Block Of Market St\",\"city\":\"San Francisco\",\"state\":\"CA\",\"agency_id\":\"1\",\"address_type\":\"Common Location\",\"common_location\":\"Orpheum Theater, Sf\"}\\n,{\"crime_id\":\"190060700\",\"original_crimetype_name\":\"Trespasser\",\"report_date\":\"2019-01-06T00:00:00.000\",\"call_date\":\"2019-01-06T00:00:00.000\",\"offense_date\":\"2019-01-06T00:00:00.000\",\"call_time\":\"08:40\",\"call_dttm\":\"2019-01-06T08:40:00.000\",\"disposition\":\"HAN\",\"address\":\"0 Block Of Powell St\",\"city\":\"San Francisco\",\"state\":\"CA\",\"agency_id\":\"1\",\"address_type\":\"Premise Address\"}\\n,{\"crime_id\":\"190101732\",\"original_crimetype_name\":\"Passing Call\",\"report_date\":\"2019-01-10T00:00:00.000\",\"call_date\":\"2019-01-10T00:00:00.000\",\"offense_date\":\"2019-01-10T00:00:00.000\",\"call_time\":\"12:10\",\"call_dttm\":\"2019-01-10T12:10:00.000\",\"disposition\":\"HAN\",\"address\":\"500 Block Of Precita Av\",\"city\":\"San Francisco\",\"state\":\"CA\",\"agency_id\":\"1\",\"address_type\":\"Common Location\",\"common_location\":\"Precita Park, Sf\"}\\n,{\"crime_id\":\"193051242\",\"original_crimetype_name\":\"Passing Call\",\"report_date\":\"2019-11-01T00:00:00.000\",\"call_date\":\"2019-11-01T00:00:00.000\",\"offense_date\":\"2019-11-01T00:00:00.000\",\"call_time\":\"09:29\",\"call_dttm\":\"2019-11-01T09:29:00.000\",\"disposition\":\"HAN\",\"address\":\"0 Block Of Warriors Wy\",\"city\":\"San Francisco\",\"state\":\"CA\",\"agency_id\":\"1\",\"address_type\":\"Common Location\",\"common_location\":\"Chase Center, Sf\"}\\n,{\"crime_id\":\"193051246\",\"original_crimetype_name\":\"416\",\"report_date\":\"2019-11-01T00:00:00.000\",\"call_date\":\"2019-11-01T00:00:00.000\",\"offense_date\":\"2019-11-01T00:00:00.000\",\"call_time\":\"09:28\",\"call_dttm\":\"2019-11-01T09:28:00.000\",\"disposition\":\"CAN\",\"address\":\"200 Block Of Dorado Tr\",\"city\":\"San Francisco\",\"state\":\"CA\",\"agency_id\":\"1\",\"address_type\":\"Premise Address\"}\\n,{\"crime_id\":\"193272082\",\"original_crimetype_name\":\"Traf Violation Cite\",\"report_date\":\"2019-11-23T00:00:00.000\",\"call_date\":\"2019-11-23T00:00:00.000\",\"offense_date\":\"2019-11-23T00:00:00.000\",\"call_time\":\"14:18\",\"call_dttm\":\"2019-11-23T14:18:00.000\",\"disposition\":\"CIT\",\"address\":\"200 Block Of Naples St\",\"city\":\"San Francisco\",\"state\":\"CA\",\"agency_id\":\"1\",\"address_type\":\"Premise Address\"}\\n,{\"crime_id\":\"190072927\",\"original_crimetype_name\":\"H&r Veh Accident\",\"report_date\":\"2019-01-07T00:00:00.000\",\"call_date\":\"2019-01-07T00:00:00.000\",\"offense_date\":\"2019-01-07T00:00:00.000\",\"call_time\":\"17:59\",\"call_dttm\":\"2019-01-07T17:59:00.000\",\"disposition\":\"REP\",\"address\":\"100 Block Of Martin Luther King Dr\",\"city\":\"San Francisco\",\"state\":\"CA\",\"agency_id\":\"1\",\"address_type\":\"Premise Address\"}\\n,{\"crime_id\":\"193330053\",\"original_crimetype_name\":\"Burglary\",\"report_date\":\"2019-11-29T00:00:00.000\",\"call_date\":\"2019-11-29T00:00:00.000\",\"offense_date\":\"2019-11-29T00:00:00.000\",\"call_time\":\"00:28\",\"call_dttm\":\"2019-11-29T00:28:00.000\",\"disposition\":\"REP\",\"address\":\"1400 Block Of 19th Av\",\"city\":\"San Francisco\",\"state\":\"CA\",\"agency_id\":\"1\",\"address_type\":\"Premise Address\"}\\n,{\"crime_id\":\"193360467\",\"original_crimetype_name\":\"Mentally Disturbed\",\"report_date\":\"2019-12-02T00:00:00.000\",\"call_date\":\"2019-12-02T00:00:00.000\",\"offense_date\":\"2019-12-02T00:00:00.000\",\"call_time\":\"06:37\",\"call_dttm\":\"2019-12-02T06:37:00.000\",\"disposition\":\"ADV\",\"address\":\"24th St/de Haro St\",\"city\":\"San Francisco\",\"state\":\"CA\",\"agency_id\":\"1\",\"address_type\":\"Intersection\"}\\n,{\"crime_id\":\"193361605\",\"original_crimetype_name\":\"Traf Violation Cite\",\"report_date\":\"2019-12-02T00:00:00.000\",\"call_date\":\"2019-12-02T00:00:00.000\",\"offense_date\":\"2019-12-02T00:00:00.000\",\"call_time\":\"11:49\",\"call_dttm\":\"2019-12-02T11:49:00.000\",\"disposition\":\"NOM\",\"address\":\"1000 Block Of Carolina St\",\"city\":\"San Francisco\",\"state\":\"CA\",\"agency_id\":\"1\",\"address_type\":\"Premise Address\"}\\n,{\"crime_id\":\"190060702\",\"original_crimetype_name\":\"Passing Call\",\"report_date\":\"2019-01-06T00:00:00.000\",\"call_date\":\"2019-01-06T00:00:00.000\",\"offense_date\":\"2019-01-06T00:00:00.000\",\"call_time\":\"08:41\",\"call_dttm\":\"2019-01-06T08:41:00.000\",\"disposition\":\"HAN\",\"address\":\"16th St/pond St\",\"city\":\"San Francisco\",\"state\":\"CA\",\"agency_id\":\"1\",\"address_type\":\"Intersection\"}\\n,{\"crime_id\":\"190104220\",\"original_crimetype_name\":\"Traffic Stop\",\"report_date\":\"2019-01-10T00:00:00.000\",\"call_date\":\"2019-01-10T00:00:00.000\",\"offense_date\":\"2019-01-10T00:00:00.000\",\"call_time\":\"22:37\",\"call_dttm\":\"2019-01-10T22:37:00.000\",\"disposition\":\"ADV\",\"address\":\"17th St/eureka St\",\"city\":\"San Francisco\",\"state\":\"CA\",\"agency_id\":\"1\",\"address_type\":\"Intersection\"}\\n,{\"crime_id\":\"190120993\",\"original_crimetype_name\":\"Suspicious Person\",\"report_date\":\"2019-01-12T00:00:00.000\",\"call_date\":\"2019-01-12T00:00:00.000\",\"offense_date\":\"2019-01-12T00:00:00.000\",\"call_time\":\"09:20\",\"call_dttm\":\"2019-01-12T09:20:00.000\",\"disposition\":\"ND\",\"address\":\"1100 Block Of Market St\",\"city\":\"San Francisco\",\"state\":\"CA\",\"agency_id\":\"1\",\"address_type\":\"Premise Address\"}\\n,{\"crime_id\":\"190123814\",\"original_crimetype_name\":\"Traffic Stop\",\"report_date\":\"2019-01-12T00:00:00.000\",\"call_date\":\"2019-01-12T00:00:00.000\",\"offense_date\":\"2019-01-12T00:00:00.000\",\"call_time\":\"22:19\",\"call_dttm\":\"2019-01-12T22:19:00.000\",\"disposition\":\"CIT\",\"address\":\"Hawthorne St/folsom St\",\"city\":\"San Francisco\",\"state\":\"CA\",\"agency_id\":\"1\",\"address_type\":\"Intersection\"}\\n,{\"crime_id\":\"190181260\",\"original_crimetype_name\":\"Suspicious Vehicle\",\"report_date\":\"2019-01-18T00:00:00.000\",\"call_date\":\"2019-01-18T00:00:00.000\",\"offense_date\":\"2019-01-18T00:00:00.000\",\"call_time\":\"10:23\",\"call_dttm\":\"2019-01-18T10:23:00.000\",\"disposition\":\"GOA\",\"address\":\"Valencia St/14th St\",\"city\":\"San Francisco\",\"state\":\"CA\",\"agency_id\":\"1\",\"address_type\":\"Intersection\"}\\n,{\"crime_id\":\"190184110\",\"original_crimetype_name\":\"500e\",\"report_date\":\"2019-01-18T00:00:00.000\",\"call_date\":\"2019-01-18T00:00:00.000\",\"offense_date\":\"2019-01-18T00:00:00.000\",\"call_time\":\"22:14\",\"call_dttm\":\"2019-01-18T22:14:00.000\",\"disposition\":\"GOA\",\"address\":\"1400 Block Of Fulton St\",\"city\":\"San Francisco\",\"state\":\"CA\",\"agency_id\":\"1\",\"address_type\":\"Premise Address\"}\\n,{\"crime_id\":\"193360471\",\"original_crimetype_name\":\"Muni Alarm\",\"report_date\":\"2019-12-02T00:00:00.000\",\"call_date\":\"2019-12-02T00:00:00.000\",\"offense_date\":\"2019-12-02T00:00:00.000\",\"call_time\":\"06:39\",\"call_dttm\":\"2019-12-02T06:39:00.000\",\"disposition\":\"CAN\",\"address\":\"San Jose Av/sagamore St\",\"city\":\"San Francisco\",\"state\":\"CA\",\"agency_id\":\"1\",\"address_type\":\"Intersection\"}\\n,{\"crime_id\":\"190042620\",\"original_crimetype_name\":\"Trespasser\",\"report_date\":\"2019-01-04T00:00:00.000\",\"call_date\":\"2019-01-04T00:00:00.000\",\"offense_date\":\"2019-01-04T00:00:00.000\",\"call_time\":\"16:48\",\"call_dttm\":\"2019-01-04T16:48:00.000\",\"disposition\":\"ADV\",\"address\":\"500 Block Of Castro St\",\"city\":\"San Francisco\",\"state\":\"CA\",\"agency_id\":\"1\",\"address_type\":\"Premise Address\"}\\n,{\"crime_id\":\"190072928\",\"original_crimetype_name\":\"Trespasser\",\"report_date\":\"2019-01-07T00:00:00.000\",\"call_date\":\"2019-01-07T00:00:00.000\",\"offense_date\":\"2019-01-07T00:00:00.000\",\"call_time\":\"17:58\",\"call_dttm\":\"2019-01-07T17:58:00.000\",\"disposition\":\"ADV\",\"address\":\"600 Block Of Geary St\",\"city\":\"San Francisco\",\"state\":\"CA\",\"agency_id\":\"1\",\"address_type\":\"Premise Address\"}\\n,{\"crime_id\":\"193330055\",\"original_crimetype_name\":\"Poss\",\"report_date\":\"2019-11-29T00:00:00.000\",\"call_date\":\"2019-11-29T00:00:00.000\",\"offense_date\":\"2019-11-29T00:00:00.000\",\"call_time\":\"00:14\",\"call_dttm\":\"2019-11-29T00:14:00.000\",\"disposition\":\"UTL\",\"address\":\"18th St/castro St\",\"city\":\"San Francisco\",\"state\":\"CA\",\"agency_id\":\"1\",\"address_type\":\"Intersection\"}\\n,{\"crime_id\":\"193382414\",\"original_crimetype_name\":\"Audible Alarm\",\"report_date\":\"2019-12-04T00:00:00.000\",\"call_date\":\"2019-12-04T00:00:00.000\",\"offense_date\":\"2019-12-04T00:00:00.000\",\"call_time\":\"14:16\",\"call_dttm\":\"2019-12-04T14:16:00.000\",\"disposition\":\"PAS\",\"address\":\"100 Block Of Dakota St\",\"city\":\"San Francisco\",\"state\":\"CA\",\"agency_id\":\"1\",\"address_type\":\"Premise Address\"}\\n,{\"crime_id\":\"190201442\",\"original_crimetype_name\":\"Trespasser\",\"report_date\":\"2019-01-20T00:00:00.000\",\"call_date\":\"2019-01-20T00:00:00.000\",\"offense_date\":\"2019-01-20T00:00:00.000\",\"call_time\":\"11:51\",\"call_dttm\":\"2019-01-20T11:51:00.000\",\"disposition\":\"GOA\",\"address\":\"400 Block Of Hayes St\",\"city\":\"San Francisco\",\"state\":\"CA\",\"agency_id\":\"1\",\"address_type\":\"Premise Address\"}\\n,{\"crime_id\":\"193051249\",\"original_crimetype_name\":\"Poss\",\"report_date\":\"2019-11-01T00:00:00.000\",\"call_date\":\"2019-11-01T00:00:00.000\",\"offense_date\":\"2019-11-01T00:00:00.000\",\"call_time\":\"09:29\",\"call_dttm\":\"2019-11-01T09:29:00.000\",\"disposition\":\"UTL\",\"address\":\"600 Block Of Jackson St\",\"city\":\"San Francisco\",\"state\":\"CA\",\"agency_id\":\"1\",\"address_type\":\"Premise Address\"}\\n,{\"crime_id\":\"190010923\",\"original_crimetype_name\":\"Fight No Weapon\",\"report_date\":\"2019-01-01T00:00:00.000\",\"call_date\":\"2019-01-01T00:00:00.000\",\"offense_date\":\"2019-01-01T00:00:00.000\",\"call_time\":\"05:00\",\"call_dttm\":\"2019-01-01T05:00:00.000\",\"disposition\":\"Not recorded\",\"address\":\"900 Block Of Market St\",\"city\":\"San Francisco\",\"state\":\"CA\",\"agency_id\":\"1\",\"address_type\":\"Common Location\",\"common_location\":\"Carls Jr Hallidie Pz, Sf\"}\\n,{\"crime_id\":\"193290736\",\"original_crimetype_name\":\"Traffic Stop\",\"report_date\":\"2019-11-25T00:00:00.000\",\"call_date\":\"2019-11-25T00:00:00.000\",\"offense_date\":\"2019-11-25T00:00:00.000\",\"call_time\":\"08:31\",\"call_dttm\":\"2019-11-25T08:31:00.000\",\"disposition\":\"CIT\",\"address\":\"Oak St/shrader St\",\"city\":\"San Francisco\",\"state\":\"CA\",\"agency_id\":\"1\",\"address_type\":\"Intersection\"}\\n,{\"crime_id\":\"190120994\",\"original_crimetype_name\":\"Fight No Weapon\",\"report_date\":\"2019-01-12T00:00:00.000\",\"call_date\":\"2019-01-12T00:00:00.000\",\"offense_date\":\"2019-01-12T00:00:00.000\",\"call_time\":\"09:17\",\"call_dttm\":\"2019-01-12T09:17:00.000\",\"disposition\":\"ABA\",\"address\":\"6200 Block Of 3rd St\",\"city\":\"San Francisco\",\"state\":\"CA\",\"agency_id\":\"1\",\"address_type\":\"Premise Address\"}\\n,{\"crime_id\":\"193364031\",\"original_crimetype_name\":\"Traffic Stop\",\"report_date\":\"2019-12-02T00:00:00.000\",\"call_date\":\"2019-12-02T00:00:00.000\",\"offense_date\":\"2019-12-02T00:00:00.000\",\"call_time\":\"22:30\",\"call_dttm\":\"2019-12-02T22:30:00.000\",\"disposition\":\"CIT\",\"address\":\"Funston Av/cabrillo St\",\"city\":\"San Francisco\",\"state\":\"CA\",\"agency_id\":\"1\",\"address_type\":\"Intersection\"}\\n,{\"crime_id\":\"190143908\",\"original_crimetype_name\":\"Suspicious Person\",\"report_date\":\"2019-01-14T00:00:00.000\",\"call_date\":\"2019-01-14T00:00:00.000\",\"offense_date\":\"2019-01-14T00:00:00.000\",\"call_time\":\"22:29\",\"call_dttm\":\"2019-01-14T22:29:00.000\",\"disposition\":\"UTL\",\"address\":\"1100 Block Of Fulton St\",\"city\":\"San Francisco\",\"state\":\"CA\",\"agency_id\":\"1\",\"address_type\":\"Common Location\",\"common_location\":\"Alamo Square, Sf\"}\\n,{\"crime_id\":\"190170115\",\"original_crimetype_name\":\"Passing Call\",\"report_date\":\"2019-01-17T00:00:00.000\",\"call_date\":\"2019-01-17T00:00:00.000\",\"offense_date\":\"2019-01-17T00:00:00.000\",\"call_time\":\"00:54\",\"call_dttm\":\"2019-01-17T00:54:00.000\",\"disposition\":\"Not recorded\",\"address\":\"100 Blk Park\",\"state\":\"CA\",\"agency_id\":\"1\",\"address_type\":\"Geo-Override\"}\\n,{\"crime_id\":\"190193731\",\"original_crimetype_name\":\"Audible Alarm\",\"report_date\":\"2019-01-19T00:00:00.000\",\"call_date\":\"2019-01-19T00:00:00.000\",\"offense_date\":\"2019-01-19T00:00:00.000\",\"call_time\":\"20:44\",\"call_dttm\":\"2019-01-19T20:44:00.000\",\"disposition\":\"CAN\",\"address\":\"1700 Block Of Sutter St\",\"city\":\"San Francisco\",\"state\":\"CA\",\"agency_id\":\"1\",\"address_type\":\"Premise Address\"}\\n,{\"crime_id\":\"160940908\",\"original_crimetype_name\":\"22500e\",\"report_date\":\"2016-04-03T00:00:00.000\",\"call_date\":\"2016-04-03T00:00:00.000\",\"offense_date\":\"2016-04-03T00:00:00.000\",\"call_time\":\"08:12\",\"call_dttm\":\"2016-04-03T08:12:00.000\",\"disposition\":\"HAN\",\"address\":\"600 Block Of 29th Av\",\"city\":\"San Francisco\",\"state\":\"CA\",\"agency_id\":\"1\",\"address_type\":\"Premise Address\"}\\n,{\"crime_id\":\"190201443\",\"original_crimetype_name\":\"Meet W/citizen\",\"report_date\":\"2019-01-20T00:00:00.000\",\"call_date\":\"2019-01-20T00:00:00.000\",\"offense_date\":\"2019-01-20T00:00:00.000\",\"call_time\":\"11:53\",\"call_dttm\":\"2019-01-20T11:53:00.000\",\"disposition\":\"HAN\",\"address\":\"Post St/laguna St\",\"city\":\"San Francisco\",\"state\":\"CA\",\"agency_id\":\"1\",\"address_type\":\"Intersection\"}\\n,{\"crime_id\":\"190010929\",\"original_crimetype_name\":\"Noise Nuisance\",\"report_date\":\"2019-01-01T00:00:00.000\",\"call_date\":\"2019-01-01T00:00:00.000\",\"offense_date\":\"2019-01-01T00:00:00.000\",\"call_time\":\"05:03\",\"call_dttm\":\"2019-01-01T05:03:00.000\",\"disposition\":\"UTL\",\"address\":\"Natoma St/10th St\",\"city\":\"San Francisco\",\"state\":\"CA\",\"agency_id\":\"1\",\"address_type\":\"Intersection\"}\\n,{\"crime_id\":\"190120996\",\"original_crimetype_name\":\"7,2,28\",\"report_date\":\"2019-01-12T00:00:00.000\",\"call_date\":\"2019-01-12T00:00:00.000\",\"offense_date\":\"2019-01-12T00:00:00.000\",\"call_time\":\"09:20\",\"call_dttm\":\"2019-01-12T09:20:00.000\",\"disposition\":\"CIT\",\"address\":\"900 Block Of Stanyan St\",\"city\":\"San Francisco\",\"state\":\"CA\",\"agency_id\":\"1\",\"address_type\":\"Premise Address\"}\\n,{\"crime_id\":\"190193732\",\"original_crimetype_name\":\"Passing Call\",\"report_date\":\"2019-01-19T00:00:00.000\",\"call_date\":\"2019-01-19T00:00:00.000\",\"offense_date\":\"2019-01-19T00:00:00.000\",\"call_time\":\"20:45\",\"call_dttm\":\"2019-01-19T20:45:00.000\",\"disposition\":\"Not recorded\",\"address\":\"Sunset Bl/ulloa St\",\"city\":\"San Francisco\",\"state\":\"CA\",\"agency_id\":\"1\",\"address_type\":\"Intersection\"}\\n,{\"crime_id\":\"160961062\",\"original_crimetype_name\":\"Passing Call\",\"report_date\":\"2016-04-05T00:00:00.000\",\"call_date\":\"2016-04-05T00:00:00.000\",\"offense_date\":\"2016-04-05T00:00:00.000\",\"call_time\":\"09:53\",\"call_dttm\":\"2016-04-05T09:53:00.000\",\"disposition\":\"HAN\",\"address\":\"800 Block Of Terry A Francois Bl\",\"city\":\"San Francisco\",\"state\":\"CA\",\"agency_id\":\"1\",\"address_type\":\"Common Location\",\"common_location\":\"Agua Vista Park\"}\\n,{\"crime_id\":\"161100659\",\"original_crimetype_name\":\"Audible Alarm\",\"report_date\":\"2016-04-19T00:00:00.000\",\"call_date\":\"2016-04-19T00:00:00.000\",\"offense_date\":\"2016-04-19T00:00:00.000\",\"call_time\":\"07:30\",\"call_dttm\":\"2016-04-19T07:30:00.000\",\"disposition\":\"CAN\",\"address\":\"1300 Block Of Minnesota St\",\"city\":\"San Francisco\",\"state\":\"CA\",\"agency_id\":\"1\",\"address_type\":\"Premise Address\"}\\n,{\"crime_id\":\"183651916\",\"original_crimetype_name\":\"Attempt\",\"report_date\":\"2018-12-31T00:00:00.000\",\"call_date\":\"2018-12-31T00:00:00.000\",\"offense_date\":\"2018-12-31T00:00:00.000\",\"call_time\":\"14:42\",\"call_dttm\":\"2018-12-31T14:42:00.000\",\"disposition\":\"HAN\",\"address\":\"300 Block Of Hyde St\",\"city\":\"San Francisco\",\"state\":\"CA\",\"agency_id\":\"1\",\"address_type\":\"Premise Address\"}\\n,{\"crime_id\":\"193051030\",\"original_crimetype_name\":\"Passing Call\",\"report_date\":\"2019-11-01T00:00:00.000\",\"call_date\":\"2019-11-01T00:00:00.000\",\"offense_date\":\"2019-11-01T00:00:00.000\",\"call_time\":\"08:35\",\"call_dttm\":\"2019-11-01T08:35:00.000\",\"disposition\":\"HAN\",\"address\":\"Pacific Av/stockton St\",\"city\":\"San Francisco\",\"state\":\"CA\",\"agency_id\":\"1\",\"address_type\":\"Intersection\"}\\n,{\"crime_id\":\"193051250\",\"original_crimetype_name\":\"Passing Call\",\"report_date\":\"2019-11-01T00:00:00.000\",\"call_date\":\"2019-11-01T00:00:00.000\",\"offense_date\":\"2019-11-01T00:00:00.000\",\"call_time\":\"09:31\",\"call_dttm\":\"2019-11-01T09:31:00.000\",\"disposition\":\"HAN\",\"address\":\"0 Blk 4th St\",\"city\":\"San Francisco\",\"state\":\"CA\",\"agency_id\":\"1\",\"address_type\":\"Geo-Override\"}\\n,{\"crime_id\":\"193290750\",\"original_crimetype_name\":\"Meet W/citizen\",\"report_date\":\"2019-11-25T00:00:00.000\",\"call_date\":\"2019-11-25T00:00:00.000\",\"offense_date\":\"2019-11-25T00:00:00.000\",\"call_time\":\"08:37\",\"call_dttm\":\"2019-11-25T08:37:00.000\",\"disposition\":\"HAN\",\"address\":\"Boardman Pl/bryant St\",\"city\":\"San Francisco\",\"state\":\"CA\",\"agency_id\":\"1\",\"address_type\":\"Intersection\"}\\n,{\"crime_id\":\"190143910\",\"original_crimetype_name\":\"Passing Call\",\"report_date\":\"2019-01-14T00:00:00.000\",\"call_date\":\"2019-01-14T00:00:00.000\",\"offense_date\":\"2019-01-14T00:00:00.000\",\"call_time\":\"22:33\",\"call_dttm\":\"2019-01-14T22:33:00.000\",\"disposition\":\"HAN\",\"address\":\"Harbor Rd/northridge Rd\",\"city\":\"San Francisco\",\"state\":\"CA\",\"agency_id\":\"1\",\"address_type\":\"Intersection\"}\\n,{\"crime_id\":\"161011665\",\"original_crimetype_name\":\"Suspicious Vehicle\",\"report_date\":\"2016-04-10T00:00:00.000\",\"call_date\":\"2016-04-10T00:00:00.000\",\"offense_date\":\"2016-04-10T00:00:00.000\",\"call_time\":\"12:51\",\"call_dttm\":\"2016-04-10T12:51:00.000\",\"disposition\":\"HAN\",\"address\":\"0 Block Of Mcallister St\",\"city\":\"San Francisco\",\"state\":\"CA\",\"agency_id\":\"1\",\"address_type\":\"Premise Address\"}\\n,{\"crime_id\":\"190152389\",\"original_crimetype_name\":\"Poss\",\"report_date\":\"2019-01-15T00:00:00.000\",\"call_date\":\"2019-01-15T00:00:00.000\",\"offense_date\":\"2019-01-15T00:00:00.000\",\"call_time\":\"14:55\",\"call_dttm\":\"2019-01-15T14:55:00.000\",\"disposition\":\"ND\",\"address\":\"600 Block Of Mangels Av\",\"city\":\"San Francisco\",\"state\":\"CA\",\"agency_id\":\"1\",\"address_type\":\"Premise Address\"}\\n,{\"crime_id\":\"190033342\",\"original_crimetype_name\":\"Grand Theft\",\"report_date\":\"2019-01-03T00:00:00.000\",\"call_date\":\"2019-01-03T00:00:00.000\",\"offense_date\":\"2019-01-03T00:00:00.000\",\"call_time\":\"19:53\",\"call_dttm\":\"2019-01-03T19:53:00.000\",\"disposition\":\"ARR\",\"address\":\"800 Block Of Market St\",\"city\":\"San Francisco\",\"state\":\"CA\",\"agency_id\":\"1\",\"address_type\":\"Premise Address\"}\\n,{\"crime_id\":\"190082151\",\"original_crimetype_name\":\"Suspicious Person\",\"report_date\":\"2019-01-08T00:00:00.000\",\"call_date\":\"2019-01-08T00:00:00.000\",\"offense_date\":\"2019-01-08T00:00:00.000\",\"call_time\":\"14:58\",\"call_dttm\":\"2019-01-08T14:58:00.000\",\"disposition\":\"REP\",\"address\":\"0 Block Of Grove St\",\"city\":\"San Francisco\",\"state\":\"CA\",\"agency_id\":\"1\",\"address_type\":\"Premise Address\"}\\n,{\"crime_id\":\"190104221\",\"original_crimetype_name\":\"Passing Call\",\"report_date\":\"2019-01-10T00:00:00.000\",\"call_date\":\"2019-01-10T00:00:00.000\",\"offense_date\":\"2019-01-10T00:00:00.000\",\"call_time\":\"22:37\",\"call_dttm\":\"2019-01-10T22:37:00.000\",\"disposition\":\"HAN\",\"address\":\"Sunnydale Av/hahn St\",\"city\":\"San Francisco\",\"state\":\"CA\",\"agency_id\":\"1\",\"address_type\":\"Intersection\"}\\n,{\"crime_id\":\"193051251\",\"original_crimetype_name\":\"Passing Call\",\"report_date\":\"2019-11-01T00:00:00.000\",\"call_date\":\"2019-11-01T00:00:00.000\",\"offense_date\":\"2019-11-01T00:00:00.000\",\"call_time\":\"09:32\",\"call_dttm\":\"2019-11-01T09:32:00.000\",\"disposition\":\"HAN\",\"address\":\"651 8th St\",\"state\":\"CA\",\"agency_id\":\"1\",\"address_type\":\"Geo-Override\"}\\n,{\"crime_id\":\"193400839\",\"original_crimetype_name\":\"910\",\"report_date\":\"2019-12-06T00:00:00.000\",\"call_date\":\"2019-12-06T00:00:00.000\",\"offense_date\":\"2019-12-06T00:00:00.000\",\"call_time\":\"08:13\",\"call_dttm\":\"2019-12-06T08:13:00.000\",\"disposition\":\"HAN\",\"address\":\"300 Block Of Lily St\",\"city\":\"San Francisco\",\"state\":\"CA\",\"agency_id\":\"1\",\"address_type\":\"Premise Address\"}\\n,{\"crime_id\":\"190181261\",\"original_crimetype_name\":\"Passing Call\",\"report_date\":\"2019-01-18T00:00:00.000\",\"call_date\":\"2019-01-18T00:00:00.000\",\"offense_date\":\"2019-01-18T00:00:00.000\",\"call_time\":\"10:26\",\"call_dttm\":\"2019-01-18T10:26:00.000\",\"disposition\":\"HAN\",\"address\":\"100 Block Of John F Shelley Dr\",\"city\":\"San Francisco\",\"state\":\"CA\",\"agency_id\":\"1\",\"address_type\":\"Common Location\",\"common_location\":\"Mclaren Park Plgd, Sf\"}\\n,{\"crime_id\":\"161012016\",\"original_crimetype_name\":\"500e\",\"report_date\":\"2016-04-10T00:00:00.000\",\"call_date\":\"2016-04-10T00:00:00.000\",\"offense_date\":\"2016-04-10T00:00:00.000\",\"call_time\":\"14:33\",\"call_dttm\":\"2016-04-10T14:33:00.000\",\"disposition\":\"GOA\",\"address\":\"600 Block Of 25th Av\",\"city\":\"San Francisco\",\"state\":\"CA\",\"agency_id\":\"1\",\"address_type\":\"Premise Address\"}\\n,{\"crime_id\":\"161120099\",\"original_crimetype_name\":\"415\",\"report_date\":\"2016-04-21T00:00:00.000\",\"call_date\":\"2016-04-21T00:00:00.000\",\"offense_date\":\"2016-04-21T00:00:00.000\",\"call_time\":\"00:41\",\"call_dttm\":\"2016-04-21T00:41:00.000\",\"disposition\":\"GOA\",\"address\":\"200 Block Of Lee Av\",\"city\":\"San Francisco\",\"state\":\"CA\",\"agency_id\":\"1\",\"address_type\":\"Premise Address\"}\\n,{\"crime_id\":\"190070054\",\"original_crimetype_name\":\"Verbal\",\"report_date\":\"2019-01-07T00:00:00.000\",\"call_date\":\"2019-01-07T00:00:00.000\",\"offense_date\":\"2019-01-07T00:00:00.000\",\"call_time\":\"00:23\",\"call_dttm\":\"2019-01-07T00:23:00.000\",\"disposition\":\"ABA\",\"address\":\"1800 Block Of Lombard St\",\"city\":\"San Francisco\",\"state\":\"CA\",\"agency_id\":\"1\",\"address_type\":\"Premise Address\"}\\n,{\"crime_id\":\"190201445\",\"original_crimetype_name\":\"Poss 799\",\"report_date\":\"2019-01-20T00:00:00.000\",\"call_date\":\"2019-01-20T00:00:00.000\",\"offense_date\":\"2019-01-20T00:00:00.000\",\"call_time\":\"11:47\",\"call_dttm\":\"2019-01-20T11:47:00.000\",\"disposition\":\"NOM\",\"address\":\"1200 Block Of De Haro St\",\"city\":\"San Francisco\",\"state\":\"CA\",\"agency_id\":\"1\",\"address_type\":\"Premise Address\"}\\n,{\"crime_id\":\"190021414\",\"original_crimetype_name\":\"Petty Theft\",\"report_date\":\"2019-01-02T00:00:00.000\",\"call_date\":\"2019-01-02T00:00:00.000\",\"offense_date\":\"2019-01-02T00:00:00.000\",\"call_time\":\"11:15\",\"call_dttm\":\"2019-01-02T11:15:00.000\",\"disposition\":\"GOA\",\"address\":\"900 Block Of Geary St\",\"city\":\"San Francisco\",\"state\":\"CA\",\"agency_id\":\"1\",\"address_type\":\"Premise Address\"}\\n,{\"crime_id\":\"193051034\",\"original_crimetype_name\":\"Well Being Check\",\"report_date\":\"2019-11-01T00:00:00.000\",\"call_date\":\"2019-11-01T00:00:00.000\",\"offense_date\":\"2019-11-01T00:00:00.000\",\"call_time\":\"08:32\",\"call_dttm\":\"2019-11-01T08:32:00.000\",\"disposition\":\"HAN\",\"address\":\"100 Block Of 6th St #405\",\"city\":\"San Francisco\",\"state\":\"CA\",\"agency_id\":\"1\",\"address_type\":\"Common Location\",\"common_location\":\"Henry Hotel Sro #405, Sf\"}\\n,{\"crime_id\":\"193051253\",\"original_crimetype_name\":\"Suspicious Person\",\"report_date\":\"2019-11-01T00:00:00.000\",\"call_date\":\"2019-11-01T00:00:00.000\",\"offense_date\":\"2019-11-01T00:00:00.000\",\"call_time\":\"09:31\",\"call_dttm\":\"2019-11-01T09:31:00.000\",\"disposition\":\"HAN\",\"address\":\"100 Blk Olive St\",\"city\":\"San Francisco\",\"state\":\"CA\",\"agency_id\":\"1\",\"address_type\":\"Geo-Override\"}\\n,{\"crime_id\":\"193051254\",\"original_crimetype_name\":\"Passing Call\",\"report_date\":\"2019-11-01T00:00:00.000\",\"call_date\":\"2019-11-01T00:00:00.000\",\"offense_date\":\"2019-11-01T00:00:00.000\",\"call_time\":\"09:32\",\"call_dttm\":\"2019-11-01T09:32:00.000\",\"disposition\":\"Not recorded\",\"address\":\"3rd St/palou Av\",\"city\":\"San Francisco\",\"state\":\"CA\",\"agency_id\":\"1\",\"address_type\":\"Intersection\"}\\n,{\"crime_id\":\"193290752\",\"original_crimetype_name\":\"Homeless Complaint\",\"report_date\":\"2019-11-25T00:00:00.000\",\"call_date\":\"2019-11-25T00:00:00.000\",\"offense_date\":\"2019-11-25T00:00:00.000\",\"call_time\":\"08:37\",\"call_dttm\":\"2019-11-25T08:37:00.000\",\"disposition\":\"GOA\",\"address\":\"0 Block Of Tiffany Av\",\"city\":\"San Francisco\",\"state\":\"CA\",\"agency_id\":\"1\",\"address_type\":\"Premise Address\"}\\n,{\"crime_id\":\"193364032\",\"original_crimetype_name\":\"Traffic Stop\",\"report_date\":\"2019-12-02T00:00:00.000\",\"call_date\":\"2019-12-02T00:00:00.000\",\"offense_date\":\"2019-12-02T00:00:00.000\",\"call_time\":\"22:31\",\"call_dttm\":\"2019-12-02T22:31:00.000\",\"disposition\":\"ARR\",\"address\":\"Terry A Francois Bl/illinois St\",\"city\":\"San Francisco\",\"state\":\"CA\",\"agency_id\":\"1\",\"address_type\":\"Intersection\"}\\n,{\"crime_id\":\"190082153\",\"original_crimetype_name\":\"Passing Call\",\"report_date\":\"2019-01-08T00:00:00.000\",\"call_date\":\"2019-01-08T00:00:00.000\",\"offense_date\":\"2019-01-08T00:00:00.000\",\"call_time\":\"14:58\",\"call_dttm\":\"2019-01-08T14:58:00.000\",\"disposition\":\"HAN\",\"address\":\"1000 Block Of Cayuga Av\",\"city\":\"San Francisco\",\"state\":\"CA\",\"agency_id\":\"1\",\"address_type\":\"Common Location\",\"common_location\":\"Balboa Hs\"}\\n,{\"crime_id\":\"190104228\",\"original_crimetype_name\":\"Suspicious Vehicle\",\"report_date\":\"2019-01-10T00:00:00.000\",\"call_date\":\"2019-01-10T00:00:00.000\",\"offense_date\":\"2019-01-10T00:00:00.000\",\"call_time\":\"22:40\",\"call_dttm\":\"2019-01-10T22:40:00.000\",\"disposition\":\"ADV\",\"address\":\"19th St/mission St\",\"city\":\"San Francisco\",\"state\":\"CA\",\"agency_id\":\"1\",\"address_type\":\"Intersection\"}\\n,{\"crime_id\":\"190193733\",\"original_crimetype_name\":\"Passing Call\",\"report_date\":\"2019-01-19T00:00:00.000\",\"call_date\":\"2019-01-19T00:00:00.000\",\"offense_date\":\"2019-01-19T00:00:00.000\",\"call_time\":\"20:45\",\"call_dttm\":\"2019-01-19T20:45:00.000\",\"disposition\":\"Not recorded\",\"address\":\"6th St/market St\",\"city\":\"San Francisco\",\"state\":\"CA\",\"agency_id\":\"1\",\"address_type\":\"Intersection\"}\\n,{\"crime_id\":\"190210881\",\"original_crimetype_name\":\"Trespasser\",\"report_date\":\"2019-01-21T00:00:00.000\",\"call_date\":\"2019-01-21T00:00:00.000\",\"offense_date\":\"2019-01-21T00:00:00.000\",\"call_time\":\"08:43\",\"call_dttm\":\"2019-01-21T08:43:00.000\",\"disposition\":\"HAN\",\"address\":\"100 Block Of Bayshore Bl\",\"city\":\"San Francisco\",\"state\":\"CA\",\"agency_id\":\"1\",\"address_type\":\"Premise Address\"}\\n,{\"crime_id\":\"190120997\",\"original_crimetype_name\":\"7,2,28\",\"report_date\":\"2019-01-12T00:00:00.000\",\"call_date\":\"2019-01-12T00:00:00.000\",\"offense_date\":\"2019-01-12T00:00:00.000\",\"call_time\":\"09:22\",\"call_dttm\":\"2019-01-12T09:22:00.000\",\"disposition\":\"CIT\",\"address\":\"3600 Block Of Buchanan St\",\"city\":\"San Francisco\",\"state\":\"CA\",\"agency_id\":\"1\",\"address_type\":\"Premise Address\"}\\n,{\"crime_id\":\"160920286\",\"original_crimetype_name\":\"Ip\",\"report_date\":\"2016-04-01T00:00:00.000\",\"call_date\":\"2016-04-01T00:00:00.000\",\"offense_date\":\"2016-04-01T00:00:00.000\",\"call_time\":\"03:11\",\"call_dttm\":\"2016-04-01T03:11:00.000\",\"disposition\":\"CAN\",\"address\":\"100 Block Of Powell St\",\"city\":\"San Francisco\",\"state\":\"CA\",\"agency_id\":\"1\",\"address_type\":\"Premise Address\"}\\n,{\"crime_id\":\"160980493\",\"original_crimetype_name\":\"Well Being Check\",\"report_date\":\"2016-04-07T00:00:00.000\",\"call_date\":\"2016-04-07T00:00:00.000\",\"offense_date\":\"2016-04-07T00:00:00.000\",\"call_time\":\"05:04\",\"call_dttm\":\"2016-04-07T05:04:00.000\",\"disposition\":\"NOM\",\"address\":\"300 Block Of 30th Av\",\"city\":\"San Francisco\",\"state\":\"CA\",\"agency_id\":\"1\",\"address_type\":\"Premise Address\"}\\n,{\"crime_id\":\"190143911\",\"original_crimetype_name\":\"Passing Call\",\"report_date\":\"2019-01-14T00:00:00.000\",\"call_date\":\"2019-01-14T00:00:00.000\",\"offense_date\":\"2019-01-14T00:00:00.000\",\"call_time\":\"22:34\",\"call_dttm\":\"2019-01-14T22:34:00.000\",\"disposition\":\"HAN\",\"address\":\"3rd St/oakdale Av\",\"city\":\"San Francisco\",\"state\":\"CA\",\"agency_id\":\"1\",\"address_type\":\"Intersection\"}\\n,{\"crime_id\":\"190010931\",\"original_crimetype_name\":\"Verbal\",\"report_date\":\"2019-01-01T00:00:00.000\",\"call_date\":\"2019-01-01T00:00:00.000\",\"offense_date\":\"2019-01-01T00:00:00.000\",\"call_time\":\"05:03\",\"call_dttm\":\"2019-01-01T05:03:00.000\",\"disposition\":\"HAN\",\"address\":\"500 Block Of Stanyan St #Erlobby\",\"city\":\"San Francisco\",\"state\":\"CA\",\"agency_id\":\"1\",\"address_type\":\"Common Location\",\"common_location\":\"St Marys Hospital (Stm) #Erlobby, Sf\"}\\n,{\"crime_id\":\"193110099\",\"original_crimetype_name\":\"Stolen Vehicle\",\"report_date\":\"2019-11-07T00:00:00.000\",\"call_date\":\"2019-11-07T00:00:00.000\",\"offense_date\":\"2019-11-07T00:00:00.000\",\"call_time\":\"00:52\",\"call_dttm\":\"2019-11-07T00:52:00.000\",\"disposition\":\"ND\",\"address\":\"1200 Block Of Northpoint Dr\",\"city\":\"Treasure Isla\",\"state\":\"CA\",\"agency_id\":\"1\",\"address_type\":\"Premise Address\"}\\n,{\"crime_id\":\"193330057\",\"original_crimetype_name\":\"Assault / Battery Dv\",\"report_date\":\"2019-11-29T00:00:00.000\",\"call_date\":\"2019-11-29T00:00:00.000\",\"offense_date\":\"2019-11-29T00:00:00.000\",\"call_time\":\"00:34\",\"call_dttm\":\"2019-11-29T00:34:00.000\",\"disposition\":\"HAN\",\"address\":\"Golden Gate Av/jones St\",\"city\":\"San Francisco\",\"state\":\"CA\",\"agency_id\":\"1\",\"address_type\":\"Intersection\"}\\n,{\"crime_id\":\"193360568\",\"original_crimetype_name\":\"Vehicle Alarm\",\"report_date\":\"2019-12-02T00:00:00.000\",\"call_date\":\"2019-12-02T00:00:00.000\",\"offense_date\":\"2019-12-02T00:00:00.000\",\"call_time\":\"07:22\",\"call_dttm\":\"2019-12-02T07:22:00.000\",\"disposition\":\"HAN\",\"address\":\"2400 Block Of Mendell St\",\"city\":\"San Francisco\",\"state\":\"CA\",\"agency_id\":\"1\",\"address_type\":\"Premise Address\"}\\n,{\"crime_id\":\"193382416\",\"original_crimetype_name\":\"Suspicious Person\",\"report_date\":\"2019-12-04T00:00:00.000\",\"call_date\":\"2019-12-04T00:00:00.000\",\"offense_date\":\"2019-12-04T00:00:00.000\",\"call_time\":\"14:18\",\"call_dttm\":\"2019-12-04T14:18:00.000\",\"disposition\":\"CIT\",\"address\":\"Mcallister St/leavenworth St\",\"city\":\"San Francisco\",\"state\":\"CA\",\"agency_id\":\"1\",\"address_type\":\"Intersection\"}\\n,{\"crime_id\":\"193404227\",\"original_crimetype_name\":\"Traffic Stop\",\"report_date\":\"2019-12-06T00:00:00.000\",\"call_date\":\"2019-12-06T00:00:00.000\",\"offense_date\":\"2019-12-06T00:00:00.000\",\"call_time\":\"23:08\",\"call_dttm\":\"2019-12-06T23:08:00.000\",\"disposition\":\"ND\",\"address\":\"1200 Blk Valencia St\",\"city\":\"San Francisco\",\"state\":\"CA\",\"agency_id\":\"1\",\"address_type\":\"Geo-Override\"}\\n,{\"crime_id\":\"190010934\",\"original_crimetype_name\":\"Ringing Doorbell\",\"report_date\":\"2019-01-01T00:00:00.000\",\"call_date\":\"2019-01-01T00:00:00.000\",\"offense_date\":\"2019-01-01T00:00:00.000\",\"call_time\":\"05:06\",\"call_dttm\":\"2019-01-01T05:06:00.000\",\"disposition\":\"ND\",\"address\":\"3400 Block Of Pierce St\",\"city\":\"San Francisco\",\"state\":\"CA\",\"agency_id\":\"1\",\"address_type\":\"Premise Address\"}\\n,{\"crime_id\":\"190120998\",\"original_crimetype_name\":\"488 Att\",\"report_date\":\"2019-01-12T00:00:00.000\",\"call_date\":\"2019-01-12T00:00:00.000\",\"offense_date\":\"2019-01-12T00:00:00.000\",\"call_time\":\"09:20\",\"call_dttm\":\"2019-01-12T09:20:00.000\",\"disposition\":\"CAN\",\"address\":\"400 Block Of Sanchez St\",\"city\":\"San Francisco\",\"state\":\"CA\",\"agency_id\":\"1\",\"address_type\":\"Premise Address\"}\\n,{\"crime_id\":\"190173108\",\"original_crimetype_name\":\"Well Being Check\",\"report_date\":\"2019-01-17T00:00:00.000\",\"call_date\":\"2019-01-17T00:00:00.000\",\"offense_date\":\"2019-01-17T00:00:00.000\",\"call_time\":\"17:34\",\"call_dttm\":\"2019-01-17T17:34:00.000\",\"disposition\":\"HAN\",\"address\":\"400 Block Of Geary St\",\"city\":\"San Francisco\",\"state\":\"CA\",\"agency_id\":\"1\",\"address_type\":\"Premise Address\"}\\n,{\"crime_id\":\"190060703\",\"original_crimetype_name\":\"911\",\"report_date\":\"2019-01-06T00:00:00.000\",\"call_date\":\"2019-01-06T00:00:00.000\",\"offense_date\":\"2019-01-06T00:00:00.000\",\"call_time\":\"08:41\",\"call_dttm\":\"2019-01-06T08:41:00.000\",\"disposition\":\"HAN\",\"address\":\"2300 Block Of 32nd Av\",\"city\":\"San Francisco\",\"state\":\"CA\",\"agency_id\":\"1\",\"address_type\":\"Premise Address\"}\\n,{\"crime_id\":\"190021416\",\"original_crimetype_name\":\"Roadblock\",\"report_date\":\"2019-01-02T00:00:00.000\",\"call_date\":\"2019-01-02T00:00:00.000\",\"offense_date\":\"2019-01-02T00:00:00.000\",\"call_time\":\"11:20\",\"call_dttm\":\"2019-01-02T11:20:00.000\",\"disposition\":\"HAN\",\"address\":\"600 Blk Anza St\",\"city\":\"San Francisco\",\"state\":\"CA\",\"agency_id\":\"1\",\"address_type\":\"Geo-Override\"}\\n,{\"crime_id\":\"193051255\",\"original_crimetype_name\":\"Passing Call\",\"report_date\":\"2019-11-01T00:00:00.000\",\"call_date\":\"2019-11-01T00:00:00.000\",\"offense_date\":\"2019-11-01T00:00:00.000\",\"call_time\":\"09:32\",\"call_dttm\":\"2019-11-01T09:32:00.000\",\"disposition\":\"HAN\",\"address\":\"300 Block Of Martin Luther King Dr\",\"city\":\"San Francisco\",\"state\":\"CA\",\"agency_id\":\"1\",\"address_type\":\"Common Location\",\"common_location\":\"Gg Park Big Rec, Sf\"}\\n,{\"crime_id\":\"193051259\",\"original_crimetype_name\":\"Fight No Weapon\",\"report_date\":\"2019-11-01T00:00:00.000\",\"call_date\":\"2019-11-01T00:00:00.000\",\"offense_date\":\"2019-11-01T00:00:00.000\",\"call_time\":\"09:33\",\"call_dttm\":\"2019-11-01T09:33:00.000\",\"disposition\":\"ND\",\"address\":\"600 Block Of Hearst Av\",\"city\":\"San Francisco\",\"state\":\"CA\",\"agency_id\":\"1\",\"address_type\":\"Premise Address\"}\\n,{\"crime_id\":\"193132919\",\"original_crimetype_name\":\"Traf Violation Cite\",\"report_date\":\"2019-11-09T00:00:00.000\",\"call_date\":\"2019-11-09T00:00:00.000\",\"offense_date\":\"2019-11-09T00:00:00.000\",\"call_time\":\"17:16\",\"call_dttm\":\"2019-11-09T17:16:00.000\",\"disposition\":\"CIT\",\"address\":\"900 Block Of Page St\",\"city\":\"San Francisco\",\"state\":\"CA\",\"agency_id\":\"1\",\"address_type\":\"Premise Address\"}\\n,{\"crime_id\":\"193264613\",\"original_crimetype_name\":\"Silent Alarm\",\"report_date\":\"2019-11-22T00:00:00.000\",\"call_date\":\"2019-11-22T00:00:00.000\",\"offense_date\":\"2019-11-22T00:00:00.000\",\"call_time\":\"23:57\",\"call_dttm\":\"2019-11-22T23:57:00.000\",\"disposition\":\"Not recorded\",\"address\":\"800 Block Of Turk St\",\"city\":\"San Francisco\",\"state\":\"CA\",\"agency_id\":\"1\",\"address_type\":\"Premise Address\"}\\n,{\"crime_id\":\"193333516\",\"original_crimetype_name\":\"Auto Boost / Strip\",\"report_date\":\"2019-11-29T00:00:00.000\",\"call_date\":\"2019-11-29T00:00:00.000\",\"offense_date\":\"2019-11-29T00:00:00.000\",\"call_time\":\"23:42\",\"call_dttm\":\"2019-11-29T23:42:00.000\",\"disposition\":\"REP\",\"address\":\"100 Block Of Christmas Tree Point Rd\",\"city\":\"San Francisco\",\"state\":\"CA\",\"agency_id\":\"1\",\"address_type\":\"Common Location\",\"common_location\":\"Twin Peaks Viewpoint, Sf\"}\\n,{\"crime_id\":\"190101737\",\"original_crimetype_name\":\"Traf Violation Tow\",\"report_date\":\"2019-01-10T00:00:00.000\",\"call_date\":\"2019-01-10T00:00:00.000\",\"offense_date\":\"2019-01-10T00:00:00.000\",\"call_time\":\"12:10\",\"call_dttm\":\"2019-01-10T12:10:00.000\",\"disposition\":\"CIT\",\"address\":\"100 Block Of Presidio Av\",\"city\":\"San Francisco\",\"state\":\"CA\",\"agency_id\":\"1\",\"address_type\":\"Premise Address\"}\\n,{\"crime_id\":\"190121000\",\"original_crimetype_name\":\"Suspicious Vehicle\",\"report_date\":\"2019-01-12T00:00:00.000\",\"call_date\":\"2019-01-12T00:00:00.000\",\"offense_date\":\"2019-01-12T00:00:00.000\",\"call_time\":\"09:20\",\"call_dttm\":\"2019-01-12T09:20:00.000\",\"disposition\":\"HAN\",\"address\":\"Welsh St/5th St\",\"city\":\"San Francisco\",\"state\":\"CA\",\"agency_id\":\"1\",\"address_type\":\"Intersection\"}\\n,{\"crime_id\":\"161012035\",\"original_crimetype_name\":\"910\",\"report_date\":\"2016-04-10T00:00:00.000\",\"call_date\":\"2016-04-10T00:00:00.000\",\"offense_date\":\"2016-04-10T00:00:00.000\",\"call_time\":\"14:34\",\"call_dttm\":\"2016-04-10T14:34:00.000\",\"disposition\":\"REP\",\"address\":\"100 Block Of Vienna St\",\"city\":\"San Francisco\",\"state\":\"CA\",\"agency_id\":\"1\",\"address_type\":\"Premise Address\"}\\n,{\"crime_id\":\"190160913\",\"original_crimetype_name\":\"Passing Call\",\"report_date\":\"2019-01-16T00:00:00.000\",\"call_date\":\"2019-01-16T00:00:00.000\",\"offense_date\":\"2019-01-16T00:00:00.000\",\"call_time\":\"08:57\",\"call_dttm\":\"2019-01-16T08:57:00.000\",\"disposition\":\"HAN\",\"address\":\"100 Block Of Scott St\",\"city\":\"San Francisco\",\"state\":\"CA\",\"agency_id\":\"1\",\"address_type\":\"Premise Address\"}\\n,{\"crime_id\":\"190010937\",\"original_crimetype_name\":\"Prowler\",\"report_date\":\"2019-01-01T00:00:00.000\",\"call_date\":\"2019-01-01T00:00:00.000\",\"offense_date\":\"2019-01-01T00:00:00.000\",\"call_time\":\"05:07\",\"call_dttm\":\"2019-01-01T05:07:00.000\",\"disposition\":\"GOA\",\"address\":\"700 Block Of Bryant St\",\"city\":\"San Francisco\",\"state\":\"CA\",\"agency_id\":\"1\",\"address_type\":\"Premise Address\"}\\n,{\"crime_id\":\"190033343\",\"original_crimetype_name\":\"22500e\",\"report_date\":\"2019-01-03T00:00:00.000\",\"call_date\":\"2019-01-03T00:00:00.000\",\"offense_date\":\"2019-01-03T00:00:00.000\",\"call_time\":\"19:54\",\"call_dttm\":\"2019-01-03T19:54:00.000\",\"disposition\":\"CIT\",\"address\":\"200 Block Of Margaret Av\",\"city\":\"San Francisco\",\"state\":\"CA\",\"agency_id\":\"1\",\"address_type\":\"Premise Address\"}\\n,{\"crime_id\":\"190173109\",\"original_crimetype_name\":\"Audible Alarm\",\"report_date\":\"2019-01-17T00:00:00.000\",\"call_date\":\"2019-01-17T00:00:00.000\",\"offense_date\":\"2019-01-17T00:00:00.000\",\"call_time\":\"17:33\",\"call_dttm\":\"2019-01-17T17:33:00.000\",\"disposition\":\"CAN\",\"address\":\"1000 Block Of Lombard St\",\"city\":\"San Francisco\",\"state\":\"CA\",\"agency_id\":\"1\",\"address_type\":\"Premise Address\"}\\n,{\"crime_id\":\"190193735\",\"original_crimetype_name\":\"Poss\",\"report_date\":\"2019-01-19T00:00:00.000\",\"call_date\":\"2019-01-19T00:00:00.000\",\"offense_date\":\"2019-01-19T00:00:00.000\",\"call_time\":\"20:46\",\"call_dttm\":\"2019-01-19T20:46:00.000\",\"disposition\":\"REP\",\"address\":\"16th St/church St\",\"city\":\"San Francisco\",\"state\":\"CA\",\"agency_id\":\"1\",\"address_type\":\"Intersection\"}\\n,{\"crime_id\":\"183652394\",\"original_crimetype_name\":\"Fraud\",\"report_date\":\"2018-12-31T00:00:00.000\",\"call_date\":\"2018-12-31T00:00:00.000\",\"offense_date\":\"2018-12-31T00:00:00.000\",\"call_time\":\"16:54\",\"call_dttm\":\"2018-12-31T16:54:00.000\",\"disposition\":\"HAN\",\"address\":\"400 Block Of Geary St\",\"city\":\"San Francisco\",\"state\":\"CA\",\"agency_id\":\"1\",\"address_type\":\"Premise Address\"}\\n,{\"crime_id\":\"193051262\",\"original_crimetype_name\":\"Traf Violation Cite\",\"report_date\":\"2019-11-01T00:00:00.000\",\"call_date\":\"2019-11-01T00:00:00.000\",\"offense_date\":\"2019-11-01T00:00:00.000\",\"call_time\":\"09:34\",\"call_dttm\":\"2019-11-01T09:34:00.000\",\"disposition\":\"HAN\",\"address\":\"700 Block Of John Muir Dr\",\"city\":\"San Francisco\",\"state\":\"CA\",\"agency_id\":\"1\",\"address_type\":\"Premise Address\"}\\n,{\"crime_id\":\"193051263\",\"original_crimetype_name\":\"Well Being Check\",\"report_date\":\"2019-11-01T00:00:00.000\",\"call_date\":\"2019-11-01T00:00:00.000\",\"offense_date\":\"2019-11-01T00:00:00.000\",\"call_time\":\"09:35\",\"call_dttm\":\"2019-11-01T09:35:00.000\",\"disposition\":\"ADV\",\"address\":\"Folsom St/mabini St\",\"city\":\"San Francisco\",\"state\":\"CA\",\"agency_id\":\"1\",\"address_type\":\"Intersection\"}\\n,{\"crime_id\":\"193051265\",\"original_crimetype_name\":\"Passing Call\",\"report_date\":\"2019-11-01T00:00:00.000\",\"call_date\":\"2019-11-01T00:00:00.000\",\"offense_date\":\"2019-11-01T00:00:00.000\",\"call_time\":\"09:35\",\"call_dttm\":\"2019-11-01T09:35:00.000\",\"disposition\":\"Not recorded\",\"address\":\"Campton Pl/stockton St\",\"city\":\"San Francisco\",\"state\":\"CA\",\"agency_id\":\"1\",\"address_type\":\"Intersection\"}\\n,{\"crime_id\":\"160980494\",\"original_crimetype_name\":\"Mentally Disturbed\",\"report_date\":\"2016-04-07T00:00:00.000\",\"call_date\":\"2016-04-07T00:00:00.000\",\"offense_date\":\"2016-04-07T00:00:00.000\",\"call_time\":\"05:03\",\"call_dttm\":\"2016-04-07T05:03:00.000\",\"disposition\":\"NOM\",\"address\":\"1000 Block Of Howard St\",\"city\":\"San Francisco\",\"state\":\"CA\",\"agency_id\":\"1\",\"address_type\":\"Premise Address\"}\\n,{\"crime_id\":\"190131848\",\"original_crimetype_name\":\"Traffic Stop\",\"report_date\":\"2019-01-13T00:00:00.000\",\"call_date\":\"2019-01-13T00:00:00.000\",\"offense_date\":\"2019-01-13T00:00:00.000\",\"call_time\":\"13:55\",\"call_dttm\":\"2019-01-13T13:55:00.000\",\"disposition\":\"CIT\",\"address\":\"Bryant St/mariposa St\",\"city\":\"San Francisco\",\"state\":\"CA\",\"agency_id\":\"1\",\"address_type\":\"Intersection\"}\\n,{\"crime_id\":\"190193736\",\"original_crimetype_name\":\"Traffic Stop\",\"report_date\":\"2019-01-19T00:00:00.000\",\"call_date\":\"2019-01-19T00:00:00.000\",\"offense_date\":\"2019-01-19T00:00:00.000\",\"call_time\":\"20:47\",\"call_dttm\":\"2019-01-19T20:47:00.000\",\"disposition\":\"REP\",\"address\":\"New Montgomery St/minna St\",\"city\":\"San Francisco\",\"state\":\"CA\",\"agency_id\":\"1\",\"address_type\":\"Intersection\"}\\n,{\"crime_id\":\"193051274\",\"original_crimetype_name\":\"Traffic Stop\",\"report_date\":\"2019-11-01T00:00:00.000\",\"call_date\":\"2019-11-01T00:00:00.000\",\"offense_date\":\"2019-11-01T00:00:00.000\",\"call_time\":\"09:38\",\"call_dttm\":\"2019-11-01T09:38:00.000\",\"disposition\":\"ADV\",\"address\":\"Haight St/buchanan St\",\"city\":\"San Francisco\",\"state\":\"CA\",\"agency_id\":\"1\",\"address_type\":\"Intersection\"}\\n,{\"crime_id\":\"193051277\",\"original_crimetype_name\":\"Well Being Check\",\"report_date\":\"2019-11-01T00:00:00.000\",\"call_date\":\"2019-11-01T00:00:00.000\",\"offense_date\":\"2019-11-01T00:00:00.000\",\"call_time\":\"09:38\",\"call_dttm\":\"2019-11-01T09:38:00.000\",\"disposition\":\"Not recorded\",\"address\":\"Van Ness Av/turk St\",\"city\":\"San Francisco\",\"state\":\"CA\",\"agency_id\":\"1\",\"address_type\":\"Intersection\"}\\n,{\"crime_id\":\"193051279\",\"original_crimetype_name\":\"Prisoner Transport\",\"report_date\":\"2019-11-01T00:00:00.000\",\"call_date\":\"2019-11-01T00:00:00.000\",\"offense_date\":\"2019-11-01T00:00:00.000\",\"call_time\":\"09:39\",\"call_dttm\":\"2019-11-01T09:39:00.000\",\"disposition\":\"HAN\",\"address\":\"400 Block Of 7th St\",\"city\":\"San Francisco\",\"state\":\"CA\",\"agency_id\":\"1\",\"address_type\":\"Common Location\",\"common_location\":\"Cj1, Sf\"}\\n,{\"crime_id\":\"193361609\",\"original_crimetype_name\":\"Passing Call\",\"report_date\":\"2019-12-02T00:00:00.000\",\"call_date\":\"2019-12-02T00:00:00.000\",\"offense_date\":\"2019-12-02T00:00:00.000\",\"call_time\":\"11:50\",\"call_dttm\":\"2019-12-02T11:50:00.000\",\"disposition\":\"HAN\",\"address\":\"500 Block Of Castro St\",\"city\":\"San Francisco\",\"state\":\"CA\",\"agency_id\":\"1\",\"address_type\":\"Premise Address\"}\\n,{\"crime_id\":\"190121001\",\"original_crimetype_name\":\"Traf Violation Cite\",\"report_date\":\"2019-01-12T00:00:00.000\",\"call_date\":\"2019-01-12T00:00:00.000\",\"offense_date\":\"2019-01-12T00:00:00.000\",\"call_time\":\"09:23\",\"call_dttm\":\"2019-01-12T09:23:00.000\",\"disposition\":\"CIT\",\"address\":\"700 Block Of 41st Av\",\"city\":\"San Francisco\",\"state\":\"CA\",\"agency_id\":\"1\",\"address_type\":\"Premise Address\"}\\n,{\"crime_id\":\"190131849\",\"original_crimetype_name\":\"Noise Nuisance\",\"report_date\":\"2019-01-13T00:00:00.000\",\"call_date\":\"2019-01-13T00:00:00.000\",\"offense_date\":\"2019-01-13T00:00:00.000\",\"call_time\":\"13:53\",\"call_dttm\":\"2019-01-13T13:53:00.000\",\"disposition\":\"ADV\",\"address\":\"Ellis St/taylor St\",\"city\":\"San Francisco\",\"state\":\"CA\",\"agency_id\":\"1\",\"address_type\":\"Intersection\"}\\n,{\"crime_id\":\"190143912\",\"original_crimetype_name\":\"Threats / Harassment\",\"report_date\":\"2019-01-14T00:00:00.000\",\"call_date\":\"2019-01-14T00:00:00.000\",\"offense_date\":\"2019-01-14T00:00:00.000\",\"call_time\":\"22:30\",\"call_dttm\":\"2019-01-14T22:30:00.000\",\"disposition\":\"HAN\",\"address\":\"0 Block Of 6th St #101\",\"city\":\"San Francisco\",\"state\":\"CA\",\"agency_id\":\"1\",\"address_type\":\"Common Location\",\"common_location\":\"Seneca Hotel Sro #101, Sf\"}\\n,{\"crime_id\":\"190184115\",\"original_crimetype_name\":\"Passing Call\",\"report_date\":\"2019-01-18T00:00:00.000\",\"call_date\":\"2019-01-18T00:00:00.000\",\"offense_date\":\"2019-01-18T00:00:00.000\",\"call_time\":\"22:16\",\"call_dttm\":\"2019-01-18T22:16:00.000\",\"disposition\":\"HAN\",\"address\":\"400 Block Of Woodside Av\",\"city\":\"San Francisco\",\"state\":\"CA\",\"agency_id\":\"1\",\"address_type\":\"Common Location\",\"common_location\":\"Jjc, Sf\"}\\n,{\"crime_id\":\"190033345\",\"original_crimetype_name\":\"Traffic Stop\",\"report_date\":\"2019-01-03T00:00:00.000\",\"call_date\":\"2019-01-03T00:00:00.000\",\"offense_date\":\"2019-01-03T00:00:00.000\",\"call_time\":\"19:55\",\"call_dttm\":\"2019-01-03T19:55:00.000\",\"disposition\":\"REP\",\"address\":\"Persia Av/vienna St\",\"city\":\"San Francisco\",\"state\":\"CA\",\"agency_id\":\"1\",\"address_type\":\"Intersection\"}\\n,{\"crime_id\":\"193051036\",\"original_crimetype_name\":\"Traffic Stop\",\"report_date\":\"2019-11-01T00:00:00.000\",\"call_date\":\"2019-11-01T00:00:00.000\",\"offense_date\":\"2019-11-01T00:00:00.000\",\"call_time\":\"08:37\",\"call_dttm\":\"2019-11-01T08:37:00.000\",\"disposition\":\"ADV\",\"address\":\"Geary St/powell St\",\"city\":\"San Francisco\",\"state\":\"CA\",\"agency_id\":\"1\",\"address_type\":\"Intersection\"}\\n,{\"crime_id\":\"193051285\",\"original_crimetype_name\":\"Passing Call\",\"report_date\":\"2019-11-01T00:00:00.000\",\"call_date\":\"2019-11-01T00:00:00.000\",\"offense_date\":\"2019-11-01T00:00:00.000\",\"call_time\":\"09:40\",\"call_dttm\":\"2019-11-01T09:40:00.000\",\"disposition\":\"HAN\",\"address\":\"8th St/mission St\",\"city\":\"San Francisco\",\"state\":\"CA\",\"agency_id\":\"1\",\"address_type\":\"Intersection\"}\\n,{\"crime_id\":\"190143915\",\"original_crimetype_name\":\"Traffic Stop\",\"report_date\":\"2019-01-14T00:00:00.000\",\"call_date\":\"2019-01-14T00:00:00.000\",\"offense_date\":\"2019-01-14T00:00:00.000\",\"call_time\":\"22:34\",\"call_dttm\":\"2019-01-14T22:34:00.000\",\"disposition\":\"CIT\",\"address\":\"300 Block Of Winston Dr\",\"city\":\"San Francisco\",\"state\":\"CA\",\"agency_id\":\"1\",\"address_type\":\"Common Location\",\"common_location\":\"Mcdonalds - Stonestown, Sf\"}\\n,{\"crime_id\":\"190181262\",\"original_crimetype_name\":\"Trespasser\",\"report_date\":\"2019-01-18T00:00:00.000\",\"call_date\":\"2019-01-18T00:00:00.000\",\"offense_date\":\"2019-01-18T00:00:00.000\",\"call_time\":\"10:24\",\"call_dttm\":\"2019-01-18T10:24:00.000\",\"disposition\":\"ADV\",\"address\":\"2200 Block Of Market St\",\"city\":\"San Francisco\",\"state\":\"CA\",\"agency_id\":\"1\",\"address_type\":\"Premise Address\"}\\n,{\"crime_id\":\"190021417\",\"original_crimetype_name\":\"Traffic Stop\",\"report_date\":\"2019-01-02T00:00:00.000\",\"call_date\":\"2019-01-02T00:00:00.000\",\"offense_date\":\"2019-01-02T00:00:00.000\",\"call_time\":\"11:20\",\"call_dttm\":\"2019-01-02T11:20:00.000\",\"disposition\":\"ADV\",\"address\":\"800 Block Of Lyon St\",\"city\":\"San Francisco\",\"state\":\"CA\",\"agency_id\":\"1\",\"address_type\":\"Premise Address\"}\\n,{\"crime_id\":\"190082155\",\"original_crimetype_name\":\"Homeless Complaint\",\"report_date\":\"2019-01-08T00:00:00.000\",\"call_date\":\"2019-01-08T00:00:00.000\",\"offense_date\":\"2019-01-08T00:00:00.000\",\"call_time\":\"14:58\",\"call_dttm\":\"2019-01-08T14:58:00.000\",\"disposition\":\"GOA\",\"address\":\"20th St/dolores St\",\"city\":\"San Francisco\",\"state\":\"CA\",\"agency_id\":\"1\",\"address_type\":\"Intersection\"}\\n,{\"crime_id\":\"190101738\",\"original_crimetype_name\":\"Passing Call\",\"report_date\":\"2019-01-10T00:00:00.000\",\"call_date\":\"2019-01-10T00:00:00.000\",\"offense_date\":\"2019-01-10T00:00:00.000\",\"call_time\":\"12:11\",\"call_dttm\":\"2019-01-10T12:11:00.000\",\"disposition\":\"HAN\",\"address\":\"300 Blk Hyde St\",\"city\":\"San Francisco\",\"state\":\"CA\",\"agency_id\":\"1\",\"address_type\":\"Geo-Override\"}\\n,{\"crime_id\":\"190173111\",\"original_crimetype_name\":\"Fight No Weapon\",\"report_date\":\"2019-01-17T00:00:00.000\",\"call_date\":\"2019-01-17T00:00:00.000\",\"offense_date\":\"2019-01-17T00:00:00.000\",\"call_time\":\"17:32\",\"call_dttm\":\"2019-01-17T17:32:00.000\",\"disposition\":\"HAN\",\"address\":\"1200 Block Of Oakdale Av\",\"city\":\"San Francisco\",\"state\":\"CA\",\"agency_id\":\"1\",\"address_type\":\"Premise Address\"}\\n,{\"crime_id\":\"190330325\",\"original_crimetype_name\":\"Verbal\",\"report_date\":\"2019-02-02T00:00:00.000\",\"call_date\":\"2019-02-02T00:00:00.000\",\"offense_date\":\"2019-02-02T00:00:00.000\",\"call_time\":\"02:38\",\"call_dttm\":\"2019-02-02T02:38:00.000\",\"disposition\":\"GOA\",\"address\":\"9th St/mission St\",\"city\":\"San Francisco\",\"state\":\"CA\",\"agency_id\":\"1\",\"address_type\":\"Intersection\"}\\n,{\"crime_id\":\"193051287\",\"original_crimetype_name\":\"Trespasser\",\"report_date\":\"2019-11-01T00:00:00.000\",\"call_date\":\"2019-11-01T00:00:00.000\",\"offense_date\":\"2019-11-01T00:00:00.000\",\"call_time\":\"09:37\",\"call_dttm\":\"2019-11-01T09:37:00.000\",\"disposition\":\"GOA\",\"address\":\"500 Block Of 6th St\",\"city\":\"San Francisco\",\"state\":\"CA\",\"agency_id\":\"1\",\"address_type\":\"Premise Address\"}\\n,{\"crime_id\":\"193133050\",\"original_crimetype_name\":\"Person W/gun\",\"report_date\":\"2019-11-09T00:00:00.000\",\"call_date\":\"2019-11-09T00:00:00.000\",\"offense_date\":\"2019-11-09T00:00:00.000\",\"call_time\":\"17:51\",\"call_dttm\":\"2019-11-09T17:51:00.000\",\"disposition\":\"GOA\",\"address\":\"7th St/mission St\",\"city\":\"San Francisco\",\"state\":\"CA\",\"agency_id\":\"1\",\"address_type\":\"Intersection\"}\\n,{\"crime_id\":\"193360569\",\"original_crimetype_name\":\"Rep\",\"report_date\":\"2019-12-02T00:00:00.000\",\"call_date\":\"2019-12-02T00:00:00.000\",\"offense_date\":\"2019-12-02T00:00:00.000\",\"call_time\":\"07:23\",\"call_dttm\":\"2019-12-02T07:23:00.000\",\"disposition\":\"HAN\",\"address\":\"300 Block Of Kearny St\",\"city\":\"San Francisco\",\"state\":\"CA\",\"agency_id\":\"1\",\"address_type\":\"Premise Address\"}\\n,{\"crime_id\":\"190051429\",\"original_crimetype_name\":\"Audible Alarm\",\"report_date\":\"2019-01-05T00:00:00.000\",\"call_date\":\"2019-01-05T00:00:00.000\",\"offense_date\":\"2019-01-05T00:00:00.000\",\"call_time\":\"12:24\",\"call_dttm\":\"2019-01-05T12:24:00.000\",\"disposition\":\"PAS\",\"address\":\"1200 Block Of Gilman Av\",\"city\":\"San Francisco\",\"state\":\"CA\",\"agency_id\":\"1\",\"address_type\":\"Premise Address\"}\\n,{\"crime_id\":\"190082157\",\"original_crimetype_name\":\"Fraud\",\"report_date\":\"2019-01-08T00:00:00.000\",\"call_date\":\"2019-01-08T00:00:00.000\",\"offense_date\":\"2019-01-08T00:00:00.000\",\"call_time\":\"14:59\",\"call_dttm\":\"2019-01-08T14:59:00.000\",\"disposition\":\"REP\",\"address\":\"1500 Block Of Sloat Bl\",\"city\":\"San Francisco\",\"state\":\"CA\",\"agency_id\":\"1\",\"address_type\":\"Premise Address\"}\\n,{\"crime_id\":\"190104229\",\"original_crimetype_name\":\"Traffic Stop\",\"report_date\":\"2019-01-10T00:00:00.000\",\"call_date\":\"2019-01-10T00:00:00.000\",\"offense_date\":\"2019-01-10T00:00:00.000\",\"call_time\":\"22:40\",\"call_dttm\":\"2019-01-10T22:40:00.000\",\"disposition\":\"CIT\",\"address\":\"Hugo St/5th Av\",\"city\":\"San Francisco\",\"state\":\"CA\",\"agency_id\":\"1\",\"address_type\":\"Intersection\"}\\n,{\"crime_id\":\"190021419\",\"original_crimetype_name\":\"22500e\",\"report_date\":\"2019-01-02T00:00:00.000\",\"call_date\":\"2019-01-02T00:00:00.000\",\"offense_date\":\"2019-01-02T00:00:00.000\",\"call_time\":\"11:21\",\"call_dttm\":\"2019-01-02T11:21:00.000\",\"disposition\":\"HAN\",\"address\":\"1700 Block Of Franklin St\",\"city\":\"San Francisco\",\"state\":\"CA\",\"agency_id\":\"1\",\"address_type\":\"Premise Address\"}\\n,{\"crime_id\":\"190131850\",\"original_crimetype_name\":\"Meet W/citizen\",\"report_date\":\"2019-01-13T00:00:00.000\",\"call_date\":\"2019-01-13T00:00:00.000\",\"offense_date\":\"2019-01-13T00:00:00.000\",\"call_time\":\"13:56\",\"call_dttm\":\"2019-01-13T13:56:00.000\",\"disposition\":\"HAN\",\"address\":\"300 Blk Broderick St\",\"city\":\"San Francisco\",\"state\":\"CA\",\"agency_id\":\"1\",\"address_type\":\"Geo-Override\"}\\n,{\"crime_id\":\"160961066\",\"original_crimetype_name\":\"Homeless Complaint\",\"report_date\":\"2016-04-05T00:00:00.000\",\"call_date\":\"2016-04-05T00:00:00.000\",\"offense_date\":\"2016-04-05T00:00:00.000\",\"call_time\":\"09:54\",\"call_dttm\":\"2016-04-05T09:54:00.000\",\"disposition\":\"ADV\",\"address\":\"0 Blk Fern St\",\"city\":\"San Francisco\",\"state\":\"CA\",\"agency_id\":\"1\",\"address_type\":\"Geo-Override\"}\\n,{\"crime_id\":\"160980498\",\"original_crimetype_name\":\"Passing Call\",\"report_date\":\"2016-04-07T00:00:00.000\",\"call_date\":\"2016-04-07T00:00:00.000\",\"offense_date\":\"2016-04-07T00:00:00.000\",\"call_time\":\"05:06\",\"call_dttm\":\"2016-04-07T05:06:00.000\",\"disposition\":\"Not recorded\",\"address\":\"900 Block Of La Playa\",\"city\":\"San Francisco\",\"state\":\"CA\",\"agency_id\":\"1\",\"address_type\":\"Premise Address\"}\\n,{\"crime_id\":\"190170116\",\"original_crimetype_name\":\"Complaint Unkn\",\"report_date\":\"2019-01-17T00:00:00.000\",\"call_date\":\"2019-01-17T00:00:00.000\",\"offense_date\":\"2019-01-17T00:00:00.000\",\"call_time\":\"00:52\",\"call_dttm\":\"2019-01-17T00:52:00.000\",\"disposition\":\"HAN\",\"address\":\"400 Block Of Eddy St\",\"city\":\"San Francisco\",\"state\":\"CA\",\"agency_id\":\"1\",\"address_type\":\"Premise Address\"}\\n,{\"crime_id\":\"193051038\",\"original_crimetype_name\":\"Passing Call\",\"report_date\":\"2019-11-01T00:00:00.000\",\"call_date\":\"2019-11-01T00:00:00.000\",\"offense_date\":\"2019-11-01T00:00:00.000\",\"call_time\":\"08:37\",\"call_dttm\":\"2019-11-01T08:37:00.000\",\"disposition\":\"Not recorded\",\"address\":\"5th St/market St\",\"city\":\"San Francisco\",\"state\":\"CA\",\"agency_id\":\"1\",\"address_type\":\"Intersection\"}\\n,{\"crime_id\":\"193051289\",\"original_crimetype_name\":\"Drugs\",\"report_date\":\"2019-11-01T00:00:00.000\",\"call_date\":\"2019-11-01T00:00:00.000\",\"offense_date\":\"2019-11-01T00:00:00.000\",\"call_time\":\"09:39\",\"call_dttm\":\"2019-11-01T09:39:00.000\",\"disposition\":\"UTL\",\"address\":\"2800 Block Of Clay St\",\"city\":\"San Francisco\",\"state\":\"CA\",\"agency_id\":\"1\",\"address_type\":\"Common Location\",\"common_location\":\"Alta Pz, Sf\"}\\n,{\"crime_id\":\"190033346\",\"original_crimetype_name\":\"Traffic Stop\",\"report_date\":\"2019-01-03T00:00:00.000\",\"call_date\":\"2019-01-03T00:00:00.000\",\"offense_date\":\"2019-01-03T00:00:00.000\",\"call_time\":\"19:55\",\"call_dttm\":\"2019-01-03T19:55:00.000\",\"disposition\":\"ADV\",\"address\":\"Folsom St/13th St\",\"city\":\"San Francisco\",\"state\":\"CA\",\"agency_id\":\"1\",\"address_type\":\"Intersection\"}\\n,{\"crime_id\":\"190070055\",\"original_crimetype_name\":\"Verbal\",\"report_date\":\"2019-01-07T00:00:00.000\",\"call_date\":\"2019-01-07T00:00:00.000\",\"offense_date\":\"2019-01-07T00:00:00.000\",\"call_time\":\"00:21\",\"call_dttm\":\"2019-01-07T00:21:00.000\",\"disposition\":\"ADV\",\"address\":\"1300 Block Of Grant Av\",\"city\":\"San Francisco\",\"state\":\"CA\",\"agency_id\":\"1\",\"address_type\":\"Premise Address\"}\\n,{\"crime_id\":\"190181264\",\"original_crimetype_name\":\"7.2.25\",\"report_date\":\"2019-01-18T00:00:00.000\",\"call_date\":\"2019-01-18T00:00:00.000\",\"offense_date\":\"2019-01-18T00:00:00.000\",\"call_time\":\"10:25\",\"call_dttm\":\"2019-01-18T10:25:00.000\",\"disposition\":\"CIT\",\"address\":\"300 Block Of Divisadero St\",\"city\":\"San Francisco\",\"state\":\"CA\",\"agency_id\":\"1\",\"address_type\":\"Premise Address\"}\\n,{\"crime_id\":\"160980499\",\"original_crimetype_name\":\"Prowler\",\"report_date\":\"2016-04-07T00:00:00.000\",\"call_date\":\"2016-04-07T00:00:00.000\",\"offense_date\":\"2016-04-07T00:00:00.000\",\"call_time\":\"05:06\",\"call_dttm\":\"2016-04-07T05:06:00.000\",\"disposition\":\"ND\",\"address\":\"2600 Block Of 37th Av\",\"city\":\"San Francisco\",\"state\":\"CA\",\"agency_id\":\"1\",\"address_type\":\"Premise Address\"}\\n,{\"crime_id\":\"190010444\",\"original_crimetype_name\":\"Passing Call\",\"report_date\":\"2019-01-01T00:00:00.000\",\"call_date\":\"2019-01-01T00:00:00.000\",\"offense_date\":\"2019-01-01T00:00:00.000\",\"call_time\":\"01:51\",\"call_dttm\":\"2019-01-01T01:51:00.000\",\"disposition\":\"Not recorded\",\"address\":\"700 Block Of Harrison St\",\"city\":\"San Francisco\",\"state\":\"CA\",\"agency_id\":\"1\",\"address_type\":\"Premise Address\"}\\n,{\"crime_id\":\"190010940\",\"original_crimetype_name\":\"Noise Nuisance\",\"report_date\":\"2019-01-01T00:00:00.000\",\"call_date\":\"2019-01-01T00:00:00.000\",\"offense_date\":\"2019-01-01T00:00:00.000\",\"call_time\":\"05:09\",\"call_dttm\":\"2019-01-01T05:09:00.000\",\"disposition\":\"GOA\",\"address\":\"Clement St/6th Av\",\"city\":\"San Francisco\",\"state\":\"CA\",\"agency_id\":\"1\",\"address_type\":\"Intersection\"}\\n,{\"crime_id\":\"193330058\",\"original_crimetype_name\":\"Ip\",\"report_date\":\"2019-11-29T00:00:00.000\",\"call_date\":\"2019-11-29T00:00:00.000\",\"offense_date\":\"2019-11-29T00:00:00.000\",\"call_time\":\"00:34\",\"call_dttm\":\"2019-11-29T00:34:00.000\",\"disposition\":\"CAN\",\"address\":\"4500 Block Of Mission St\",\"city\":\"San Francisco\",\"state\":\"CA\",\"agency_id\":\"1\",\"address_type\":\"Premise Address\"}\\n,{\"crime_id\":\"193360570\",\"original_crimetype_name\":\"Passing Call\",\"report_date\":\"2019-12-02T00:00:00.000\",\"call_date\":\"2019-12-02T00:00:00.000\",\"offense_date\":\"2019-12-02T00:00:00.000\",\"call_time\":\"07:25\",\"call_dttm\":\"2019-12-02T07:25:00.000\",\"disposition\":\"HAN\",\"address\":\"Block Of Drumm St\",\"city\":\"San Francisco\",\"state\":\"CA\",\"agency_id\":\"1\",\"address_type\":\"Premise Address\"}\\n,{\"crime_id\":\"190033347\",\"original_crimetype_name\":\"594\",\"report_date\":\"2019-01-03T00:00:00.000\",\"call_date\":\"2019-01-03T00:00:00.000\",\"offense_date\":\"2019-01-03T00:00:00.000\",\"call_time\":\"19:49\",\"call_dttm\":\"2019-01-03T19:49:00.000\",\"disposition\":\"HAN\",\"address\":\"100 Block Of Leland Av\",\"city\":\"San Francisco\",\"state\":\"CA\",\"agency_id\":\"1\",\"address_type\":\"Premise Address\"}\\n,{\"crime_id\":\"190060704\",\"original_crimetype_name\":\"Muni Inspection\",\"report_date\":\"2019-01-06T00:00:00.000\",\"call_date\":\"2019-01-06T00:00:00.000\",\"offense_date\":\"2019-01-06T00:00:00.000\",\"call_time\":\"08:43\",\"call_dttm\":\"2019-01-06T08:43:00.000\",\"disposition\":\"HAN\",\"address\":\"Sunset Bl/taraval St\",\"city\":\"San Francisco\",\"state\":\"CA\",\"agency_id\":\"1\",\"address_type\":\"Intersection\"}\\n,{\"crime_id\":\"190143925\",\"original_crimetype_name\":\"Passing Call\",\"report_date\":\"2019-01-14T00:00:00.000\",\"call_date\":\"2019-01-14T00:00:00.000\",\"offense_date\":\"2019-01-14T00:00:00.000\",\"call_time\":\"22:37\",\"call_dttm\":\"2019-01-14T22:37:00.000\",\"disposition\":\"HAN\",\"address\":\"18th St/castro St\",\"city\":\"San Francisco\",\"state\":\"CA\",\"agency_id\":\"1\",\"address_type\":\"Intersection\"}\\n,{\"crime_id\":\"161102715\",\"original_crimetype_name\":\"Poss\",\"report_date\":\"2016-04-19T00:00:00.000\",\"call_date\":\"2016-04-19T00:00:00.000\",\"offense_date\":\"2016-04-19T00:00:00.000\",\"call_time\":\"16:06\",\"call_dttm\":\"2016-04-19T16:06:00.000\",\"disposition\":\"HAN\",\"address\":\"Hickory St/gough St\",\"city\":\"San Francisco\",\"state\":\"CA\",\"agency_id\":\"1\",\"address_type\":\"Intersection\"}\\n,{\"crime_id\":\"190173112\",\"original_crimetype_name\":\"Passing Call\",\"report_date\":\"2019-01-17T00:00:00.000\",\"call_date\":\"2019-01-17T00:00:00.000\",\"offense_date\":\"2019-01-17T00:00:00.000\",\"call_time\":\"17:36\",\"call_dttm\":\"2019-01-17T17:36:00.000\",\"disposition\":\"Not recorded\",\"address\":\"700 Blk Tehama St\",\"city\":\"San Francisco\",\"state\":\"CA\",\"agency_id\":\"1\",\"address_type\":\"Geo-Override\"}\\n,{\"crime_id\":\"190042622\",\"original_crimetype_name\":\"Muni Inspection\",\"report_date\":\"2019-01-04T00:00:00.000\",\"call_date\":\"2019-01-04T00:00:00.000\",\"offense_date\":\"2019-01-04T00:00:00.000\",\"call_time\":\"16:49\",\"call_dttm\":\"2019-01-04T16:49:00.000\",\"disposition\":\"Not recorded\",\"address\":\"600 Block Of Market St\",\"city\":\"San Francisco\",\"state\":\"CA\",\"agency_id\":\"1\",\"address_type\":\"Common Location\",\"common_location\":\"Montgomery Muni, Sf\"}\\n,{\"crime_id\":\"160980500\",\"original_crimetype_name\":\"Passing Call\",\"report_date\":\"2016-04-07T00:00:00.000\",\"call_date\":\"2016-04-07T00:00:00.000\",\"offense_date\":\"2016-04-07T00:00:00.000\",\"call_time\":\"05:07\",\"call_dttm\":\"2016-04-07T05:07:00.000\",\"disposition\":\"CIT\",\"address\":\"Jerrold Av/toland St\",\"city\":\"San Francisco\",\"state\":\"CA\",\"agency_id\":\"1\",\"address_type\":\"Intersection\"}\\n,{\"crime_id\":\"190152392\",\"original_crimetype_name\":\"Well Being Check\",\"report_date\":\"2019-01-15T00:00:00.000\",\"call_date\":\"2019-01-15T00:00:00.000\",\"offense_date\":\"2019-01-15T00:00:00.000\",\"call_time\":\"15:00\",\"call_dttm\":\"2019-01-15T15:00:00.000\",\"disposition\":\"CAN\",\"address\":\"200 Block Of Cortland Av\",\"city\":\"San Francisco\",\"state\":\"CA\",\"agency_id\":\"1\",\"address_type\":\"Premise Address\"}\\n,{\"crime_id\":\"190170117\",\"original_crimetype_name\":\"Poss 800\",\"report_date\":\"2019-01-17T00:00:00.000\",\"call_date\":\"2019-01-17T00:00:00.000\",\"offense_date\":\"2019-01-17T00:00:00.000\",\"call_time\":\"00:53\",\"call_dttm\":\"2019-01-17T00:53:00.000\",\"disposition\":\"NOM\",\"address\":\"500 Block Of Jones St #511\",\"city\":\"San Francisco\",\"state\":\"CA\",\"agency_id\":\"1\",\"address_type\":\"Common Location\",\"common_location\":\"Pacific Bay Inn Sro #511, Sf\"}\\n,{\"crime_id\":\"190184118\",\"original_crimetype_name\":\"Passing Call\",\"report_date\":\"2019-01-18T00:00:00.000\",\"call_date\":\"2019-01-18T00:00:00.000\",\"offense_date\":\"2019-01-18T00:00:00.000\",\"call_time\":\"22:17\",\"call_dttm\":\"2019-01-18T22:17:00.000\",\"disposition\":\"HAN\",\"address\":\"Sunnydale Av/santos St\",\"city\":\"San Francisco\",\"state\":\"CA\",\"agency_id\":\"1\",\"address_type\":\"Intersection\"}\\n,{\"crime_id\":\"161013650\",\"original_crimetype_name\":\"Poss\",\"report_date\":\"2016-04-10T00:00:00.000\",\"call_date\":\"2016-04-10T00:00:00.000\",\"offense_date\":\"2016-04-10T00:00:00.000\",\"call_time\":\"23:46\",\"call_dttm\":\"2016-04-10T23:46:00.000\",\"disposition\":\"UTL\",\"address\":\"Bayshore Bl/arleta Av\",\"city\":\"San Francisco\",\"state\":\"CA\",\"agency_id\":\"1\",\"address_type\":\"Intersection\"}\\n,{\"crime_id\":\"190210882\",\"original_crimetype_name\":\"Petty Theft\",\"report_date\":\"2019-01-21T00:00:00.000\",\"call_date\":\"2019-01-21T00:00:00.000\",\"offense_date\":\"2019-01-21T00:00:00.000\",\"call_time\":\"08:42\",\"call_dttm\":\"2019-01-21T08:42:00.000\",\"disposition\":\"GOA\",\"address\":\"400 Block Of Sutter St\",\"city\":\"San Francisco\",\"state\":\"CA\",\"agency_id\":\"1\",\"address_type\":\"Premise Address\"}\\n,{\"crime_id\":\"193272083\",\"original_crimetype_name\":\"Traf Violation Cite\",\"report_date\":\"2019-11-23T00:00:00.000\",\"call_date\":\"2019-11-23T00:00:00.000\",\"offense_date\":\"2019-11-23T00:00:00.000\",\"call_time\":\"14:18\",\"call_dttm\":\"2019-11-23T14:18:00.000\",\"disposition\":\"NOM\",\"address\":\"Jamestown Av/keith St\",\"city\":\"San Francisco\",\"state\":\"CA\",\"agency_id\":\"1\",\"address_type\":\"Intersection\"}\\n,{\"crime_id\":\"193364033\",\"original_crimetype_name\":\"Person Screaming\",\"report_date\":\"2019-12-02T00:00:00.000\",\"call_date\":\"2019-12-02T00:00:00.000\",\"offense_date\":\"2019-12-02T00:00:00.000\",\"call_time\":\"22:30\",\"call_dttm\":\"2019-12-02T22:30:00.000\",\"disposition\":\"REP\",\"address\":\"26th St/capp St\",\"city\":\"San Francisco\",\"state\":\"CA\",\"agency_id\":\"1\",\"address_type\":\"Intersection\"}\\n,{\"crime_id\":\"190070057\",\"original_crimetype_name\":\"Passing Call\",\"report_date\":\"2019-01-07T00:00:00.000\",\"call_date\":\"2019-01-07T00:00:00.000\",\"offense_date\":\"2019-01-07T00:00:00.000\",\"call_time\":\"00:27\",\"call_dttm\":\"2019-01-07T00:27:00.000\",\"disposition\":\"HAN\",\"address\":\"900 Block Of La Playa\",\"city\":\"San Francisco\",\"state\":\"CA\",\"agency_id\":\"1\",\"address_type\":\"Premise Address\"}\\n,{\"crime_id\":\"190112328\",\"original_crimetype_name\":\"Homeless Complaint\",\"report_date\":\"2019-01-11T00:00:00.000\",\"call_date\":\"2019-01-11T00:00:00.000\",\"offense_date\":\"2019-01-11T00:00:00.000\",\"call_time\":\"15:00\",\"call_dttm\":\"2019-01-11T15:00:00.000\",\"disposition\":\"REP\",\"address\":\"Division St/9th St\",\"city\":\"San Francisco\",\"state\":\"CA\",\"agency_id\":\"1\",\"address_type\":\"Intersection\"}\\n,{\"crime_id\":\"160920289\",\"original_crimetype_name\":\"Noise Nuisance\",\"report_date\":\"2016-04-01T00:00:00.000\",\"call_date\":\"2016-04-01T00:00:00.000\",\"offense_date\":\"2016-04-01T00:00:00.000\",\"call_time\":\"03:12\",\"call_dttm\":\"2016-04-01T03:12:00.000\",\"disposition\":\"CAN\",\"address\":\"400 Block Of Buckingham Wy\",\"city\":\"San Francisco\",\"state\":\"CA\",\"agency_id\":\"1\",\"address_type\":\"Premise Address\"}\\n,{\"crime_id\":\"160961067\",\"original_crimetype_name\":\"Suspicious Person\",\"report_date\":\"2016-04-05T00:00:00.000\",\"call_date\":\"2016-04-05T00:00:00.000\",\"offense_date\":\"2016-04-05T00:00:00.000\",\"call_time\":\"09:52\",\"call_dttm\":\"2016-04-05T09:52:00.000\",\"disposition\":\"ND\",\"address\":\"4th St/channel St\",\"city\":\"San Francisco\",\"state\":\"CA\",\"agency_id\":\"1\",\"address_type\":\"Intersection\"}\\n,{\"crime_id\":\"190112329\",\"original_crimetype_name\":\"Passing Call\",\"report_date\":\"2019-01-11T00:00:00.000\",\"call_date\":\"2019-01-11T00:00:00.000\",\"offense_date\":\"2019-01-11T00:00:00.000\",\"call_time\":\"15:00\",\"call_dttm\":\"2019-01-11T15:00:00.000\",\"disposition\":\"HAN\",\"address\":\"1100 Blk Keppler Ct\",\"city\":\"Treasure Isla\",\"state\":\"CA\",\"agency_id\":\"1\",\"address_type\":\"Geo-Override\"}\\n,{\"crime_id\":\"160980501\",\"original_crimetype_name\":\"Passing Call\",\"report_date\":\"2016-04-07T00:00:00.000\",\"call_date\":\"2016-04-07T00:00:00.000\",\"offense_date\":\"2016-04-07T00:00:00.000\",\"call_time\":\"05:08\",\"call_dttm\":\"2016-04-07T05:08:00.000\",\"disposition\":\"HAN\",\"address\":\"Jerrold Av/toland St\",\"city\":\"San Francisco\",\"state\":\"CA\",\"agency_id\":\"1\",\"address_type\":\"Intersection\"}\\n,{\"crime_id\":\"190232105\",\"original_crimetype_name\":\"Aided Case\",\"report_date\":\"2019-01-23T00:00:00.000\",\"call_date\":\"2019-01-23T00:00:00.000\",\"offense_date\":\"2019-01-23T00:00:00.000\",\"call_time\":\"13:16\",\"call_dttm\":\"2019-01-23T13:16:00.000\",\"disposition\":\"HAN\",\"address\":\"600 Block Of Eddy St\",\"city\":\"San Francisco\",\"state\":\"CA\",\"agency_id\":\"1\",\"address_type\":\"Premise Address\"}\\n,{\"crime_id\":\"193293114\",\"original_crimetype_name\":\"Traf Violation Cite\",\"report_date\":\"2019-11-25T00:00:00.000\",\"call_date\":\"2019-11-25T00:00:00.000\",\"offense_date\":\"2019-11-25T00:00:00.000\",\"call_time\":\"18:30\",\"call_dttm\":\"2019-11-25T18:30:00.000\",\"disposition\":\"UTL\",\"address\":\"Palou Av/lane St\",\"city\":\"San Francisco\",\"state\":\"CA\",\"agency_id\":\"1\",\"address_type\":\"Intersection\"}\\n,{\"crime_id\":\"193360572\",\"original_crimetype_name\":\"Suspicious Vehicle\",\"report_date\":\"2019-12-02T00:00:00.000\",\"call_date\":\"2019-12-02T00:00:00.000\",\"offense_date\":\"2019-12-02T00:00:00.000\",\"call_time\":\"07:21\",\"call_dttm\":\"2019-12-02T07:21:00.000\",\"disposition\":\"ADV\",\"address\":\"100 Block Of Harriet St\",\"city\":\"San Francisco\",\"state\":\"CA\",\"agency_id\":\"1\",\"address_type\":\"Premise Address\"}\\n,{\"crime_id\":\"190021425\",\"original_crimetype_name\":\"Traf Violation Cite\",\"report_date\":\"2019-01-02T00:00:00.000\",\"call_date\":\"2019-01-02T00:00:00.000\",\"offense_date\":\"2019-01-02T00:00:00.000\",\"call_time\":\"11:24\",\"call_dttm\":\"2019-01-02T11:24:00.000\",\"disposition\":\"CIT\",\"address\":\"2900 Block Of 22nd Av\",\"city\":\"San Francisco\",\"state\":\"CA\",\"agency_id\":\"1\",\"address_type\":\"Premise Address\"}\\n,{\"crime_id\":\"190092653\",\"original_crimetype_name\":\"Traf Violation Cite\",\"report_date\":\"2019-01-09T00:00:00.000\",\"call_date\":\"2019-01-09T00:00:00.000\",\"offense_date\":\"2019-01-09T00:00:00.000\",\"call_time\":\"16:06\",\"call_dttm\":\"2019-01-09T16:06:00.000\",\"disposition\":\"GOA\",\"address\":\"1500 Block Of Mcallister St\",\"city\":\"San Francisco\",\"state\":\"CA\",\"agency_id\":\"1\",\"address_type\":\"Premise Address\"}\\n,{\"crime_id\":\"190184121\",\"original_crimetype_name\":\"500e\",\"report_date\":\"2019-01-18T00:00:00.000\",\"call_date\":\"2019-01-18T00:00:00.000\",\"offense_date\":\"2019-01-18T00:00:00.000\",\"call_time\":\"22:16\",\"call_dttm\":\"2019-01-18T22:16:00.000\",\"disposition\":\"CAN\",\"address\":\"1400 Block Of Grove St\",\"city\":\"San Francisco\",\"state\":\"CA\",\"agency_id\":\"1\",\"address_type\":\"Premise Address\"}\\n,{\"crime_id\":\"193041571\",\"original_crimetype_name\":\"Traf Violation Cite\",\"report_date\":\"2019-10-31T00:00:00.000\",\"call_date\":\"2019-10-31T00:00:00.000\",\"offense_date\":\"2019-10-31T00:00:00.000\",\"call_time\":\"11:40\",\"call_dttm\":\"2019-10-31T11:40:00.000\",\"disposition\":\"GOA\",\"address\":\"100 Block Of Yale St\",\"city\":\"San Francisco\",\"state\":\"CA\",\"agency_id\":\"1\",\"address_type\":\"Premise Address\"}\\n,{\"crime_id\":\"193051290\",\"original_crimetype_name\":\"Passing Call\",\"report_date\":\"2019-11-01T00:00:00.000\",\"call_date\":\"2019-11-01T00:00:00.000\",\"offense_date\":\"2019-11-01T00:00:00.000\",\"call_time\":\"09:42\",\"call_dttm\":\"2019-11-01T09:42:00.000\",\"disposition\":\"Not recorded\",\"address\":\"Hickory St/gough St\",\"city\":\"San Francisco\",\"state\":\"CA\",\"agency_id\":\"1\",\"address_type\":\"Intersection\"}\\n,{\"crime_id\":\"190123815\",\"original_crimetype_name\":\"Noise Nuisance\",\"report_date\":\"2019-01-12T00:00:00.000\",\"call_date\":\"2019-01-12T00:00:00.000\",\"offense_date\":\"2019-01-12T00:00:00.000\",\"call_time\":\"22:18\",\"call_dttm\":\"2019-01-12T22:18:00.000\",\"disposition\":\"UTL\",\"address\":\"1300 Block Of Egbert Av\",\"city\":\"San Francisco\",\"state\":\"CA\",\"agency_id\":\"1\",\"address_type\":\"Premise Address\"}\\n,{\"crime_id\":\"190193737\",\"original_crimetype_name\":\"Passing Call\",\"report_date\":\"2019-01-19T00:00:00.000\",\"call_date\":\"2019-01-19T00:00:00.000\",\"offense_date\":\"2019-01-19T00:00:00.000\",\"call_time\":\"20:48\",\"call_dttm\":\"2019-01-19T20:48:00.000\",\"disposition\":\"HAN\",\"address\":\"Treasure Island Rd/hillcrest Rd\",\"city\":\"Yerba Buena\",\"state\":\"CA\",\"agency_id\":\"1\",\"address_type\":\"Intersection\"}\\n,{\"crime_id\":\"160980502\",\"original_crimetype_name\":\"Meet W/citizen\",\"report_date\":\"2016-04-07T00:00:00.000\",\"call_date\":\"2016-04-07T00:00:00.000\",\"offense_date\":\"2016-04-07T00:00:00.000\",\"call_time\":\"05:06\",\"call_dttm\":\"2016-04-07T05:06:00.000\",\"disposition\":\"UTL\",\"address\":\"300 Block Of Golden Gate Av\",\"city\":\"San Francisco\",\"state\":\"CA\",\"agency_id\":\"1\",\"address_type\":\"Premise Address\"}\\n,{\"crime_id\":\"190051430\",\"original_crimetype_name\":\"Passing Call\",\"report_date\":\"2019-01-05T00:00:00.000\",\"call_date\":\"2019-01-05T00:00:00.000\",\"offense_date\":\"2019-01-05T00:00:00.000\",\"call_time\":\"12:25\",\"call_dttm\":\"2019-01-05T12:25:00.000\",\"disposition\":\"Not recorded\",\"address\":\"Harbor Rd/northridge Rd\",\"city\":\"San Francisco\",\"state\":\"CA\",\"agency_id\":\"1\",\"address_type\":\"Intersection\"}\\n,{\"crime_id\":\"190072930\",\"original_crimetype_name\":\"Muni Inspection\",\"report_date\":\"2019-01-07T00:00:00.000\",\"call_date\":\"2019-01-07T00:00:00.000\",\"offense_date\":\"2019-01-07T00:00:00.000\",\"call_time\":\"18:00\",\"call_dttm\":\"2019-01-07T18:00:00.000\",\"disposition\":\"Not recorded\",\"address\":\"Beale St/mission St\",\"city\":\"San Francisco\",\"state\":\"CA\",\"agency_id\":\"1\",\"address_type\":\"Intersection\"}\\n,{\"crime_id\":\"161021018\",\"original_crimetype_name\":\"Traffic Stop\",\"report_date\":\"2016-04-11T00:00:00.000\",\"call_date\":\"2016-04-11T00:00:00.000\",\"offense_date\":\"2016-04-11T00:00:00.000\",\"call_time\":\"09:24\",\"call_dttm\":\"2016-04-11T09:24:00.000\",\"disposition\":\"CIT\",\"address\":\"26th St/mission St\",\"city\":\"San Francisco\",\"state\":\"CA\",\"agency_id\":\"1\",\"address_type\":\"Intersection\"}\\n,{\"crime_id\":\"193051039\",\"original_crimetype_name\":\"518\",\"report_date\":\"2019-11-01T00:00:00.000\",\"call_date\":\"2019-11-01T00:00:00.000\",\"offense_date\":\"2019-11-01T00:00:00.000\",\"call_time\":\"08:34\",\"call_dttm\":\"2019-11-01T08:34:00.000\",\"disposition\":\"HAN\",\"address\":\"19th Av/ocean Av\",\"city\":\"San Francisco\",\"state\":\"CA\",\"agency_id\":\"1\",\"address_type\":\"Intersection\"}\\n,{\"crime_id\":\"193051294\",\"original_crimetype_name\":\"Traffic Stop\",\"report_date\":\"2019-11-01T00:00:00.000\",\"call_date\":\"2019-11-01T00:00:00.000\",\"offense_date\":\"2019-11-01T00:00:00.000\",\"call_time\":\"09:43\",\"call_dttm\":\"2019-11-01T09:43:00.000\",\"disposition\":\"CIT\",\"address\":\"Waller St/webster St\",\"city\":\"San Francisco\",\"state\":\"CA\",\"agency_id\":\"1\",\"address_type\":\"Intersection\"}\\n,{\"crime_id\":\"190121002\",\"original_crimetype_name\":\"Passing Call\",\"report_date\":\"2019-01-12T00:00:00.000\",\"call_date\":\"2019-01-12T00:00:00.000\",\"offense_date\":\"2019-01-12T00:00:00.000\",\"call_time\":\"09:23\",\"call_dttm\":\"2019-01-12T09:23:00.000\",\"disposition\":\"Not recorded\",\"address\":\"0 Block Of United Nations Pz\",\"city\":\"San Francisco\",\"state\":\"CA\",\"agency_id\":\"1\",\"address_type\":\"Premise Address\"}\\n,{\"crime_id\":\"160980503\",\"original_crimetype_name\":\"Suspicious Vehicle\",\"report_date\":\"2016-04-07T00:00:00.000\",\"call_date\":\"2016-04-07T00:00:00.000\",\"offense_date\":\"2016-04-07T00:00:00.000\",\"call_time\":\"05:08\",\"call_dttm\":\"2016-04-07T05:08:00.000\",\"disposition\":\"ADV\",\"address\":\"2500 Block Of Sutter St\",\"city\":\"San Francisco\",\"state\":\"CA\",\"agency_id\":\"1\",\"address_type\":\"Premise Address\"}\\n,{\"crime_id\":\"190184123\",\"original_crimetype_name\":\"22500f\",\"report_date\":\"2019-01-18T00:00:00.000\",\"call_date\":\"2019-01-18T00:00:00.000\",\"offense_date\":\"2019-01-18T00:00:00.000\",\"call_time\":\"22:18\",\"call_dttm\":\"2019-01-18T22:18:00.000\",\"disposition\":\"GOA\",\"address\":\"100 Block Of Coleridge St\",\"city\":\"San Francisco\",\"state\":\"CA\",\"agency_id\":\"1\",\"address_type\":\"Premise Address\"}\\n,{\"crime_id\":\"160961071\",\"original_crimetype_name\":\"Rep\",\"report_date\":\"2016-04-05T00:00:00.000\",\"call_date\":\"2016-04-05T00:00:00.000\",\"offense_date\":\"2016-04-05T00:00:00.000\",\"call_time\":\"09:55\",\"call_dttm\":\"2016-04-05T09:55:00.000\",\"disposition\":\"UTL\",\"address\":\"3300 Block Of 18th St\",\"city\":\"San Francisco\",\"state\":\"CA\",\"agency_id\":\"1\",\"address_type\":\"Premise Address\"}\\n,{\"crime_id\":\"193051296\",\"original_crimetype_name\":\"Suspicious Vehicle\",\"report_date\":\"2019-11-01T00:00:00.000\",\"call_date\":\"2019-11-01T00:00:00.000\",\"offense_date\":\"2019-11-01T00:00:00.000\",\"call_time\":\"09:38\",\"call_dttm\":\"2019-11-01T09:38:00.000\",\"disposition\":\"GOA\",\"address\":\"3300 Block Of San Bruno Av\",\"city\":\"San Francisco\",\"state\":\"CA\",\"agency_id\":\"1\",\"address_type\":\"Premise Address\"}\\n,{\"crime_id\":\"193051301\",\"original_crimetype_name\":\"Trespasser\",\"report_date\":\"2019-11-01T00:00:00.000\",\"call_date\":\"2019-11-01T00:00:00.000\",\"offense_date\":\"2019-11-01T00:00:00.000\",\"call_time\":\"09:41\",\"call_dttm\":\"2019-11-01T09:41:00.000\",\"disposition\":\"UTL\",\"address\":\"0 Block Of Gold Mine Dr\",\"city\":\"San Francisco\",\"state\":\"CA\",\"agency_id\":\"1\",\"address_type\":\"Premise Address\"}\\n,{\"crime_id\":\"193051309\",\"original_crimetype_name\":\"Fight No Weapon Dv\",\"report_date\":\"2019-11-01T00:00:00.000\",\"call_date\":\"2019-11-01T00:00:00.000\",\"offense_date\":\"2019-11-01T00:00:00.000\",\"call_time\":\"09:43\",\"call_dttm\":\"2019-11-01T09:43:00.000\",\"disposition\":\"22\",\"address\":\"1300 Block Of Church St\",\"city\":\"San Francisco\",\"state\":\"CA\",\"agency_id\":\"1\",\"address_type\":\"Premise Address\"}\\n,{\"crime_id\":\"193131778\",\"original_crimetype_name\":\"Passing Call\",\"report_date\":\"2019-11-09T00:00:00.000\",\"call_date\":\"2019-11-09T00:00:00.000\",\"offense_date\":\"2019-11-09T00:00:00.000\",\"call_time\":\"12:38\",\"call_dttm\":\"2019-11-09T12:38:00.000\",\"disposition\":\"ADV\",\"address\":\"7th St/mission St\",\"city\":\"San Francisco\",\"state\":\"CA\",\"agency_id\":\"1\",\"address_type\":\"Intersection\"}\\n,{\"crime_id\":\"193293116\",\"original_crimetype_name\":\"Muni Inspection\",\"report_date\":\"2019-11-25T00:00:00.000\",\"call_date\":\"2019-11-25T00:00:00.000\",\"offense_date\":\"2019-11-25T00:00:00.000\",\"call_time\":\"18:30\",\"call_dttm\":\"2019-11-25T18:30:00.000\",\"disposition\":\"Not recorded\",\"address\":\"Ofarrell St/van Ness Av\",\"city\":\"San Francisco\",\"state\":\"CA\",\"agency_id\":\"1\",\"address_type\":\"Intersection\"}\\n,{\"crime_id\":\"193330884\",\"original_crimetype_name\":\"Trespasser\",\"report_date\":\"2019-11-29T00:00:00.000\",\"call_date\":\"2019-11-29T00:00:00.000\",\"offense_date\":\"2019-11-29T00:00:00.000\",\"call_time\":\"09:54\",\"call_dttm\":\"2019-11-29T09:54:00.000\",\"disposition\":\"CAN\",\"address\":\"600 Block Of Market St\",\"city\":\"San Francisco\",\"state\":\"CA\",\"agency_id\":\"1\",\"address_type\":\"Premise Address\"}\\n,{\"crime_id\":\"193333518\",\"original_crimetype_name\":\"Traffic Stop\",\"report_date\":\"2019-11-29T00:00:00.000\",\"call_date\":\"2019-11-29T00:00:00.000\",\"offense_date\":\"2019-11-29T00:00:00.000\",\"call_time\":\"23:44\",\"call_dttm\":\"2019-11-29T23:44:00.000\",\"disposition\":\"ADV\",\"address\":\"Evans Av/jennings St\",\"city\":\"San Francisco\",\"state\":\"CA\",\"agency_id\":\"1\",\"address_type\":\"Intersection\"}\\n,{\"crime_id\":\"190072933\",\"original_crimetype_name\":\"500h\",\"report_date\":\"2019-01-07T00:00:00.000\",\"call_date\":\"2019-01-07T00:00:00.000\",\"offense_date\":\"2019-01-07T00:00:00.000\",\"call_time\":\"18:01\",\"call_dttm\":\"2019-01-07T18:01:00.000\",\"disposition\":\"CIT\",\"address\":\"600 Block Of Goettingen St\",\"city\":\"San Francisco\",\"state\":\"CA\",\"agency_id\":\"1\",\"address_type\":\"Premise Address\"}\\n,{\"crime_id\":\"190140696\",\"original_crimetype_name\":\"Passing Call\",\"report_date\":\"2019-01-14T00:00:00.000\",\"call_date\":\"2019-01-14T00:00:00.000\",\"offense_date\":\"2019-01-14T00:00:00.000\",\"call_time\":\"07:54\",\"call_dttm\":\"2019-01-14T07:54:00.000\",\"disposition\":\"Not recorded\",\"address\":\"1500 Block Of Golden Gate Av\",\"city\":\"San Francisco\",\"state\":\"CA\",\"agency_id\":\"1\",\"address_type\":\"Common Location\",\"common_location\":\"Gateway Ms, Sf\"}\\n,{\"crime_id\":\"190184124\",\"original_crimetype_name\":\"Passing Call\",\"report_date\":\"2019-01-18T00:00:00.000\",\"call_date\":\"2019-01-18T00:00:00.000\",\"offense_date\":\"2019-01-18T00:00:00.000\",\"call_time\":\"22:18\",\"call_dttm\":\"2019-01-18T22:18:00.000\",\"disposition\":\"HAN\",\"address\":\"20th Street And Shotwell Street\",\"state\":\"CA\",\"agency_id\":\"1\",\"address_type\":\"Geo-Override\"}\\n,{\"crime_id\":\"161100661\",\"original_crimetype_name\":\"Passing Call\",\"report_date\":\"2016-04-19T00:00:00.000\",\"call_date\":\"2016-04-19T00:00:00.000\",\"offense_date\":\"2016-04-19T00:00:00.000\",\"call_time\":\"07:32\",\"call_dttm\":\"2016-04-19T07:32:00.000\",\"disposition\":\"HAN\",\"address\":\"1000 Block Of Felton St\",\"city\":\"San Francisco\",\"state\":\"CA\",\"agency_id\":\"1\",\"address_type\":\"Premise Address\"}\\n,{\"crime_id\":\"190021427\",\"original_crimetype_name\":\"Burglary\",\"report_date\":\"2019-01-02T00:00:00.000\",\"call_date\":\"2019-01-02T00:00:00.000\",\"offense_date\":\"2019-01-02T00:00:00.000\",\"call_time\":\"11:24\",\"call_dttm\":\"2019-01-02T11:24:00.000\",\"disposition\":\"REP\",\"address\":\"1200 Block Of De Haro St\",\"city\":\"San Francisco\",\"state\":\"CA\",\"agency_id\":\"1\",\"address_type\":\"Premise Address\"}\\n,{\"crime_id\":\"190101741\",\"original_crimetype_name\":\"Traf Violation Cite\",\"report_date\":\"2019-01-10T00:00:00.000\",\"call_date\":\"2019-01-10T00:00:00.000\",\"offense_date\":\"2019-01-10T00:00:00.000\",\"call_time\":\"12:12\",\"call_dttm\":\"2019-01-10T12:12:00.000\",\"disposition\":\"NOM\",\"address\":\"745 Cortland Ave\",\"state\":\"CA\",\"agency_id\":\"1\",\"address_type\":\"Geo-Override\"}\\n,{\"crime_id\":\"190112332\",\"original_crimetype_name\":\"Arrest Made\",\"report_date\":\"2019-01-11T00:00:00.000\",\"call_date\":\"2019-01-11T00:00:00.000\",\"offense_date\":\"2019-01-11T00:00:00.000\",\"call_time\":\"15:01\",\"call_dttm\":\"2019-01-11T15:01:00.000\",\"disposition\":\"REP\",\"address\":\"1000 Block Of Potrero Av\",\"city\":\"San Francisco\",\"state\":\"CA\",\"agency_id\":\"1\",\"address_type\":\"Premise Address\"}\\n,{\"crime_id\":\"190152393\",\"original_crimetype_name\":\"Auto Boost / Strip\",\"report_date\":\"2019-01-15T00:00:00.000\",\"call_date\":\"2019-01-15T00:00:00.000\",\"offense_date\":\"2019-01-15T00:00:00.000\",\"call_time\":\"15:05\",\"call_dttm\":\"2019-01-15T15:05:00.000\",\"disposition\":\"REP\",\"address\":\"3300 Block Of 20th Av\",\"city\":\"San Francisco\",\"state\":\"CA\",\"agency_id\":\"1\",\"address_type\":\"Common Location\",\"common_location\":\"Stonestown Galleria, Sf\"}\\n,{\"crime_id\":\"161021331\",\"original_crimetype_name\":\"Suspicious Person\",\"report_date\":\"2016-04-11T00:00:00.000\",\"call_date\":\"2016-04-11T00:00:00.000\",\"offense_date\":\"2016-04-11T00:00:00.000\",\"call_time\":\"10:36\",\"call_dttm\":\"2016-04-11T10:36:00.000\",\"disposition\":\"ADV\",\"address\":\"200 Block Of Sutter St\",\"city\":\"San Francisco\",\"state\":\"CA\",\"agency_id\":\"1\",\"address_type\":\"Premise Address\"}\\n,{\"crime_id\":\"161122161\",\"original_crimetype_name\":\"Traffic Stop\",\"report_date\":\"2016-04-21T00:00:00.000\",\"call_date\":\"2016-04-21T00:00:00.000\",\"offense_date\":\"2016-04-21T00:00:00.000\",\"call_time\":\"13:59\",\"call_dttm\":\"2016-04-21T13:59:00.000\",\"disposition\":\"ADV\",\"address\":\"Stonecrest Dr/winston Dr\",\"city\":\"San Francisco\",\"state\":\"CA\",\"agency_id\":\"1\",\"address_type\":\"Intersection\"}\\n,{\"crime_id\":\"190173114\",\"original_crimetype_name\":\"Passing Call\",\"report_date\":\"2019-01-17T00:00:00.000\",\"call_date\":\"2019-01-17T00:00:00.000\",\"offense_date\":\"2019-01-17T00:00:00.000\",\"call_time\":\"17:37\",\"call_dttm\":\"2019-01-17T17:37:00.000\",\"disposition\":\"HAN\",\"address\":\"2700 Block Of Geary Bl\",\"city\":\"San Francisco\",\"state\":\"CA\",\"agency_id\":\"1\",\"address_type\":\"Premise Address\"}\\n,{\"crime_id\":\"193051310\",\"original_crimetype_name\":\"Homeless Complaint\",\"report_date\":\"2019-11-01T00:00:00.000\",\"call_date\":\"2019-11-01T00:00:00.000\",\"offense_date\":\"2019-11-01T00:00:00.000\",\"call_time\":\"09:48\",\"call_dttm\":\"2019-11-01T09:48:00.000\",\"disposition\":\"HAN\",\"address\":\"100 Block Of Bush St\",\"city\":\"San Francisco\",\"state\":\"CA\",\"agency_id\":\"1\",\"address_type\":\"Premise Address\"}\\n,{\"crime_id\":\"193051313\",\"original_crimetype_name\":\"Suspicious Person\",\"report_date\":\"2019-11-01T00:00:00.000\",\"call_date\":\"2019-11-01T00:00:00.000\",\"offense_date\":\"2019-11-01T00:00:00.000\",\"call_time\":\"09:44\",\"call_dttm\":\"2019-11-01T09:44:00.000\",\"disposition\":\"ADV\",\"address\":\"Olive St/larkin St\",\"city\":\"San Francisco\",\"state\":\"CA\",\"agency_id\":\"1\",\"address_type\":\"Intersection\"}\\n,{\"crime_id\":\"193051314\",\"original_crimetype_name\":\"22500e\",\"report_date\":\"2019-11-01T00:00:00.000\",\"call_date\":\"2019-11-01T00:00:00.000\",\"offense_date\":\"2019-11-01T00:00:00.000\",\"call_time\":\"09:49\",\"call_dttm\":\"2019-11-01T09:49:00.000\",\"disposition\":\"CIT\",\"address\":\"300 Block Of 16th Av\",\"city\":\"San Francisco\",\"state\":\"CA\",\"agency_id\":\"1\",\"address_type\":\"Premise Address\"}\\n,{\"crime_id\":\"193051315\",\"original_crimetype_name\":\"Passing Call\",\"report_date\":\"2019-11-01T00:00:00.000\",\"call_date\":\"2019-11-01T00:00:00.000\",\"offense_date\":\"2019-11-01T00:00:00.000\",\"call_time\":\"09:50\",\"call_dttm\":\"2019-11-01T09:50:00.000\",\"disposition\":\"Not recorded\",\"address\":\"300 Block Of Geary St\",\"city\":\"San Francisco\",\"state\":\"CA\",\"agency_id\":\"1\",\"address_type\":\"Common Location\",\"common_location\":\"Union Square, Sf\"}\\n,{\"crime_id\":\"193293119\",\"original_crimetype_name\":\"Traffic Stop\",\"report_date\":\"2019-11-25T00:00:00.000\",\"call_date\":\"2019-11-25T00:00:00.000\",\"offense_date\":\"2019-11-25T00:00:00.000\",\"call_time\":\"18:31\",\"call_dttm\":\"2019-11-25T18:31:00.000\",\"disposition\":\"CIT\",\"address\":\"Mission St/4th St\",\"city\":\"San Francisco\",\"state\":\"CA\",\"agency_id\":\"1\",\"address_type\":\"Intersection\"}\\n,{\"crime_id\":\"193333519\",\"original_crimetype_name\":\"601\",\"report_date\":\"2019-11-29T00:00:00.000\",\"call_date\":\"2019-11-29T00:00:00.000\",\"offense_date\":\"2019-11-29T00:00:00.000\",\"call_time\":\"23:42\",\"call_dttm\":\"2019-11-29T23:42:00.000\",\"disposition\":\"Not recorded\",\"address\":\"Natoma St/mary St\",\"city\":\"San Francisco\",\"state\":\"CA\",\"agency_id\":\"1\",\"address_type\":\"Intersection\"}\\n,{\"crime_id\":\"193360573\",\"original_crimetype_name\":\"Noise Nuisance\",\"report_date\":\"2019-12-02T00:00:00.000\",\"call_date\":\"2019-12-02T00:00:00.000\",\"offense_date\":\"2019-12-02T00:00:00.000\",\"call_time\":\"07:25\",\"call_dttm\":\"2019-12-02T07:25:00.000\",\"disposition\":\"GOA\",\"address\":\"4000 Block Of 17th St\",\"city\":\"San Francisco\",\"state\":\"CA\",\"agency_id\":\"1\",\"address_type\":\"Premise Address\"}\\n,{\"crime_id\":\"190030158\",\"original_crimetype_name\":\"Suspicious Vehicle\",\"report_date\":\"2019-01-03T00:00:00.000\",\"call_date\":\"2019-01-03T00:00:00.000\",\"offense_date\":\"2019-01-03T00:00:00.000\",\"call_time\":\"01:55\",\"call_dttm\":\"2019-01-03T01:55:00.000\",\"disposition\":\"ARR\",\"address\":\"Mission St/18th St\",\"city\":\"San Francisco\",\"state\":\"CA\",\"agency_id\":\"1\",\"address_type\":\"Intersection\"}\\n,{\"crime_id\":\"161021332\",\"original_crimetype_name\":\"Drinking\",\"report_date\":\"2016-04-11T00:00:00.000\",\"call_date\":\"2016-04-11T00:00:00.000\",\"offense_date\":\"2016-04-11T00:00:00.000\",\"call_time\":\"10:35\",\"call_dttm\":\"2016-04-11T10:35:00.000\",\"disposition\":\"HAN\",\"address\":\"600 Block Of Haight St\",\"city\":\"San Francisco\",\"state\":\"CA\",\"agency_id\":\"1\",\"address_type\":\"Premise Address\"}\\n,{\"crime_id\":\"190070061\",\"original_crimetype_name\":\"Muni Inspection\",\"report_date\":\"2019-01-07T00:00:00.000\",\"call_date\":\"2019-01-07T00:00:00.000\",\"offense_date\":\"2019-01-07T00:00:00.000\",\"call_time\":\"00:28\",\"call_dttm\":\"2019-01-07T00:28:00.000\",\"disposition\":\"HAN\",\"address\":\"900 Block Of Presidio Av\",\"city\":\"San Francisco\",\"state\":\"CA\",\"agency_id\":\"1\",\"address_type\":\"Common Location\",\"common_location\":\"Muni-Presidio Division, Sf\"}\\n,{\"crime_id\":\"190072934\",\"original_crimetype_name\":\"Toddlers\",\"report_date\":\"2019-01-07T00:00:00.000\",\"call_date\":\"2019-01-07T00:00:00.000\",\"offense_date\":\"2019-01-07T00:00:00.000\",\"call_time\":\"17:59\",\"call_dttm\":\"2019-01-07T17:59:00.000\",\"disposition\":\"ND\",\"address\":\"17th St/church St\",\"city\":\"San Francisco\",\"state\":\"CA\",\"agency_id\":\"1\",\"address_type\":\"Intersection\"}\\n,{\"crime_id\":\"190131851\",\"original_crimetype_name\":\"Petty Theft\",\"report_date\":\"2019-01-13T00:00:00.000\",\"call_date\":\"2019-01-13T00:00:00.000\",\"offense_date\":\"2019-01-13T00:00:00.000\",\"call_time\":\"13:56\",\"call_dttm\":\"2019-01-13T13:56:00.000\",\"disposition\":\"REP\",\"address\":\"Harrison St/11th St\",\"city\":\"San Francisco\",\"state\":\"CA\",\"agency_id\":\"1\",\"address_type\":\"Intersection\"}\\n,{\"crime_id\":\"190152396\",\"original_crimetype_name\":\"Missing Juvenile\",\"report_date\":\"2019-01-15T00:00:00.000\",\"call_date\":\"2019-01-15T00:00:00.000\",\"offense_date\":\"2019-01-15T00:00:00.000\",\"call_time\":\"15:07\",\"call_dttm\":\"2019-01-15T15:07:00.000\",\"disposition\":\"HAN\",\"address\":\"600 Block Of Valencia St\",\"city\":\"San Francisco\",\"state\":\"CA\",\"agency_id\":\"1\",\"address_type\":\"Common Location\",\"common_location\":\"Mission Station, Sf\"}\\n,{\"crime_id\":\"190033351\",\"original_crimetype_name\":\"Traf Violation Tow\",\"report_date\":\"2019-01-03T00:00:00.000\",\"call_date\":\"2019-01-03T00:00:00.000\",\"offense_date\":\"2019-01-03T00:00:00.000\",\"call_time\":\"19:57\",\"call_dttm\":\"2019-01-03T19:57:00.000\",\"disposition\":\"CIT\",\"address\":\"1500 Block Of Rankin St\",\"city\":\"San Francisco\",\"state\":\"CA\",\"agency_id\":\"1\",\"address_type\":\"Premise Address\"}\\n,{\"crime_id\":\"190051433\",\"original_crimetype_name\":\"Homeless Complaint\",\"report_date\":\"2019-01-05T00:00:00.000\",\"call_date\":\"2019-01-05T00:00:00.000\",\"offense_date\":\"2019-01-05T00:00:00.000\",\"call_time\":\"12:25\",\"call_dttm\":\"2019-01-05T12:25:00.000\",\"disposition\":\"HAN\",\"address\":\"Laguna St/hemlock St\",\"city\":\"San Francisco\",\"state\":\"CA\",\"agency_id\":\"1\",\"address_type\":\"Intersection\"}\\n,{\"crime_id\":\"193051323\",\"original_crimetype_name\":\"Homeless Complaint\",\"report_date\":\"2019-11-01T00:00:00.000\",\"call_date\":\"2019-11-01T00:00:00.000\",\"offense_date\":\"2019-11-01T00:00:00.000\",\"call_time\":\"09:52\",\"call_dttm\":\"2019-11-01T09:52:00.000\",\"disposition\":\"HAN\",\"address\":\"700 Block Of Ellis St\",\"city\":\"San Francisco\",\"state\":\"CA\",\"agency_id\":\"1\",\"address_type\":\"Premise Address\"}\\n,{\"crime_id\":\"193051329\",\"original_crimetype_name\":\"Mentally Disturbed\",\"report_date\":\"2019-11-01T00:00:00.000\",\"call_date\":\"2019-11-01T00:00:00.000\",\"offense_date\":\"2019-11-01T00:00:00.000\",\"call_time\":\"09:52\",\"call_dttm\":\"2019-11-01T09:52:00.000\",\"disposition\":\"UTL\",\"address\":\"100 Block Of Frank Norris St\",\"city\":\"San Francisco\",\"state\":\"CA\",\"agency_id\":\"1\",\"address_type\":\"Premise Address\"}\\n,{\"crime_id\":\"193051332\",\"original_crimetype_name\":\"Homeless Complaint\",\"report_date\":\"2019-11-01T00:00:00.000\",\"call_date\":\"2019-11-01T00:00:00.000\",\"offense_date\":\"2019-11-01T00:00:00.000\",\"call_time\":\"09:56\",\"call_dttm\":\"2019-11-01T09:56:00.000\",\"disposition\":\"ADV\",\"address\":\"4300 Block Of Judah St\",\"city\":\"San Francisco\",\"state\":\"CA\",\"agency_id\":\"1\",\"address_type\":\"Premise Address\"}\\n,{\"crime_id\":\"193051337\",\"original_crimetype_name\":\"853\",\"report_date\":\"2019-11-01T00:00:00.000\",\"call_date\":\"2019-11-01T00:00:00.000\",\"offense_date\":\"2019-11-01T00:00:00.000\",\"call_time\":\"09:50\",\"call_dttm\":\"2019-11-01T09:50:00.000\",\"disposition\":\"REP\",\"address\":\"2700 Block Of Bayshore Bl\",\"city\":\"Daly City\",\"state\":\"CA\",\"agency_id\":\"1\",\"address_type\":\"Common Location\",\"common_location\":\"Auto Return Bayshore, Dc\"}\\n,{\"crime_id\":\"161021333\",\"original_crimetype_name\":\"Dw\",\"report_date\":\"2016-04-11T00:00:00.000\",\"call_date\":\"2016-04-11T00:00:00.000\",\"offense_date\":\"2016-04-11T00:00:00.000\",\"call_time\":\"10:36\",\"call_dttm\":\"2016-04-11T10:36:00.000\",\"disposition\":\"CIT\",\"address\":\"400 Block Of 30th Av\",\"city\":\"San Francisco\",\"state\":\"CA\",\"agency_id\":\"1\",\"address_type\":\"Premise Address\"}\\n,{\"crime_id\":\"190160914\",\"original_crimetype_name\":\"Suspicious Person\",\"report_date\":\"2019-01-16T00:00:00.000\",\"call_date\":\"2019-01-16T00:00:00.000\",\"offense_date\":\"2019-01-16T00:00:00.000\",\"call_time\":\"08:55\",\"call_dttm\":\"2019-01-16T08:55:00.000\",\"disposition\":\"ARR\",\"address\":\"2000 Block Of Folsom St\",\"city\":\"San Francisco\",\"state\":\"CA\",\"agency_id\":\"1\",\"address_type\":\"Premise Address\"}\\n,{\"crime_id\":\"190193741\",\"original_crimetype_name\":\"Audible Alarm\",\"report_date\":\"2019-01-19T00:00:00.000\",\"call_date\":\"2019-01-19T00:00:00.000\",\"offense_date\":\"2019-01-19T00:00:00.000\",\"call_time\":\"20:48\",\"call_dttm\":\"2019-01-19T20:48:00.000\",\"disposition\":\"CAN\",\"address\":\"3300 Block Of 20th St\",\"city\":\"San Francisco\",\"state\":\"CA\",\"agency_id\":\"1\",\"address_type\":\"Premise Address\"}\\n,{\"crime_id\":\"160980505\",\"original_crimetype_name\":\"Grand Theft\",\"report_date\":\"2016-04-07T00:00:00.000\",\"call_date\":\"2016-04-07T00:00:00.000\",\"offense_date\":\"2016-04-07T00:00:00.000\",\"call_time\":\"05:01\",\"call_dttm\":\"2016-04-07T05:01:00.000\",\"disposition\":\"REP\",\"address\":\"2100 Block Of 14th Av\",\"city\":\"San Francisco\",\"state\":\"CA\",\"agency_id\":\"1\",\"address_type\":\"Premise Address\"}\\n,{\"crime_id\":\"190123816\",\"original_crimetype_name\":\"Passing Call\",\"report_date\":\"2019-01-12T00:00:00.000\",\"call_date\":\"2019-01-12T00:00:00.000\",\"offense_date\":\"2019-01-12T00:00:00.000\",\"call_time\":\"22:19\",\"call_dttm\":\"2019-01-12T22:19:00.000\",\"disposition\":\"HAN\",\"address\":\"Maiden Ln/grant Av\",\"city\":\"San Francisco\",\"state\":\"CA\",\"agency_id\":\"1\",\"address_type\":\"Intersection\"}\\n,{\"crime_id\":\"193051347\",\"original_crimetype_name\":\"Suspicious Person\",\"report_date\":\"2019-11-01T00:00:00.000\",\"call_date\":\"2019-11-01T00:00:00.000\",\"offense_date\":\"2019-11-01T00:00:00.000\",\"call_time\":\"09:57\",\"call_dttm\":\"2019-11-01T09:57:00.000\",\"disposition\":\"HAN\",\"address\":\"3rd St/perry St\",\"city\":\"San Francisco\",\"state\":\"CA\",\"agency_id\":\"1\",\"address_type\":\"Intersection\"}\\n,{\"crime_id\":\"193051350\",\"original_crimetype_name\":\"586\",\"report_date\":\"2019-11-01T00:00:00.000\",\"call_date\":\"2019-11-01T00:00:00.000\",\"offense_date\":\"2019-11-01T00:00:00.000\",\"call_time\":\"09:56\",\"call_dttm\":\"2019-11-01T09:56:00.000\",\"disposition\":\"GOA\",\"address\":\"1200 Block Of Carolina St\",\"city\":\"San Francisco\",\"state\":\"CA\",\"agency_id\":\"1\",\"address_type\":\"Common Location\",\"common_location\":\"Starr King Es, Sf\"}\\n,{\"crime_id\":\"193051354\",\"original_crimetype_name\":\"Suspicious Person\",\"report_date\":\"2019-11-01T00:00:00.000\",\"call_date\":\"2019-11-01T00:00:00.000\",\"offense_date\":\"2019-11-01T00:00:00.000\",\"call_time\":\"10:00\",\"call_dttm\":\"2019-11-01T10:00:00.000\",\"disposition\":\"CIT\",\"address\":\"1300 Block Of Mission St\",\"city\":\"San Francisco\",\"state\":\"CA\",\"agency_id\":\"1\",\"address_type\":\"Premise Address\"}\\n,{\"crime_id\":\"193051356\",\"original_crimetype_name\":\"Homeless Complaint\",\"report_date\":\"2019-11-01T00:00:00.000\",\"call_date\":\"2019-11-01T00:00:00.000\",\"offense_date\":\"2019-11-01T00:00:00.000\",\"call_time\":\"10:00\",\"call_dttm\":\"2019-11-01T10:00:00.000\",\"disposition\":\"ADV\",\"address\":\"Judah St/la Playa\",\"city\":\"San Francisco\",\"state\":\"CA\",\"agency_id\":\"1\",\"address_type\":\"Intersection\"}\\n,{\"crime_id\":\"193051358\",\"original_crimetype_name\":\"Vandalism\",\"report_date\":\"2019-11-01T00:00:00.000\",\"call_date\":\"2019-11-01T00:00:00.000\",\"offense_date\":\"2019-11-01T00:00:00.000\",\"call_time\":\"09:58\",\"call_dttm\":\"2019-11-01T09:58:00.000\",\"disposition\":\"ND\",\"address\":\"2500 Block Of San Bruno Av\",\"city\":\"San Francisco\",\"state\":\"CA\",\"agency_id\":\"1\",\"address_type\":\"Premise Address\"}\\n,{\"crime_id\":\"193264614\",\"original_crimetype_name\":\"Assault / Battery\",\"report_date\":\"2019-11-22T00:00:00.000\",\"call_date\":\"2019-11-22T00:00:00.000\",\"offense_date\":\"2019-11-22T00:00:00.000\",\"call_time\":\"23:56\",\"call_dttm\":\"2019-11-22T23:56:00.000\",\"disposition\":\"GOA\",\"address\":\"700 Block Of Golden Gate Av\",\"city\":\"San Francisco\",\"state\":\"CA\",\"agency_id\":\"1\",\"address_type\":\"Premise Address\"}\\n,{\"crime_id\":\"190152397\",\"original_crimetype_name\":\"Passing Call\",\"report_date\":\"2019-01-15T00:00:00.000\",\"call_date\":\"2019-01-15T00:00:00.000\",\"offense_date\":\"2019-01-15T00:00:00.000\",\"call_time\":\"15:08\",\"call_dttm\":\"2019-01-15T15:08:00.000\",\"disposition\":\"HAN\",\"address\":\"1000 Block Of Great Hy\",\"city\":\"San Francisco\",\"state\":\"CA\",\"agency_id\":\"1\",\"address_type\":\"Common Location\",\"common_location\":\"Beach Chalet, Sf\"}\\n,{\"crime_id\":\"190170119\",\"original_crimetype_name\":\"Audible Alarm\",\"report_date\":\"2019-01-17T00:00:00.000\",\"call_date\":\"2019-01-17T00:00:00.000\",\"offense_date\":\"2019-01-17T00:00:00.000\",\"call_time\":\"00:55\",\"call_dttm\":\"2019-01-17T00:55:00.000\",\"disposition\":\"UTL\",\"address\":\"1600 Blk Yosemite Av\",\"city\":\"San Francisco\",\"state\":\"CA\",\"agency_id\":\"1\",\"address_type\":\"Geo-Override\"}\\n,{\"crime_id\":\"190070062\",\"original_crimetype_name\":\"Passing Call\",\"report_date\":\"2019-01-07T00:00:00.000\",\"call_date\":\"2019-01-07T00:00:00.000\",\"offense_date\":\"2019-01-07T00:00:00.000\",\"call_time\":\"00:29\",\"call_dttm\":\"2019-01-07T00:29:00.000\",\"disposition\":\"HAN\",\"address\":\"2500 Block Of Sutter St\",\"city\":\"San Francisco\",\"state\":\"CA\",\"agency_id\":\"1\",\"address_type\":\"Common Location\",\"common_location\":\"Westside Housing Projects\"}\\n,{\"crime_id\":\"190082166\",\"original_crimetype_name\":\"Physical\",\"report_date\":\"2019-01-08T00:00:00.000\",\"call_date\":\"2019-01-08T00:00:00.000\",\"offense_date\":\"2019-01-08T00:00:00.000\",\"call_time\":\"15:01\",\"call_dttm\":\"2019-01-08T15:01:00.000\",\"disposition\":\"CAN\",\"address\":\"200 Block Of Front St\",\"city\":\"San Francisco\",\"state\":\"CA\",\"agency_id\":\"1\",\"address_type\":\"Premise Address\"}\\n,{\"crime_id\":\"190160915\",\"original_crimetype_name\":\"Trespasser\",\"report_date\":\"2019-01-16T00:00:00.000\",\"call_date\":\"2019-01-16T00:00:00.000\",\"offense_date\":\"2019-01-16T00:00:00.000\",\"call_time\":\"08:56\",\"call_dttm\":\"2019-01-16T08:56:00.000\",\"disposition\":\"Not recorded\",\"address\":\"200 Block Of Font Bl\",\"city\":\"San Francisco\",\"state\":\"CA\",\"agency_id\":\"1\",\"address_type\":\"Premise Address\"}\\n,{\"crime_id\":\"190184126\",\"original_crimetype_name\":\"Passing Call\",\"report_date\":\"2019-01-18T00:00:00.000\",\"call_date\":\"2019-01-18T00:00:00.000\",\"offense_date\":\"2019-01-18T00:00:00.000\",\"call_time\":\"22:18\",\"call_dttm\":\"2019-01-18T22:18:00.000\",\"disposition\":\"HAN\",\"address\":\"Broderick St/grove St\",\"city\":\"San Francisco\",\"state\":\"CA\",\"agency_id\":\"1\",\"address_type\":\"Intersection\"}\\n,{\"crime_id\":\"190332031\",\"original_crimetype_name\":\"Passing Call\",\"report_date\":\"2019-02-02T00:00:00.000\",\"call_date\":\"2019-02-02T00:00:00.000\",\"offense_date\":\"2019-02-02T00:00:00.000\",\"call_time\":\"14:14\",\"call_dttm\":\"2019-02-02T14:14:00.000\",\"disposition\":\"HAN\",\"address\":\"Pier 1 1/2\",\"state\":\"CA\",\"agency_id\":\"1\",\"address_type\":\"Geo-Override\"}\\n,{\"crime_id\":\"193051360\",\"original_crimetype_name\":\"601\",\"report_date\":\"2019-11-01T00:00:00.000\",\"call_date\":\"2019-11-01T00:00:00.000\",\"offense_date\":\"2019-11-01T00:00:00.000\",\"call_time\":\"09:59\",\"call_dttm\":\"2019-11-01T09:59:00.000\",\"disposition\":\"GOA\",\"address\":\"1400 Block Of Divisadero St\",\"city\":\"San Francisco\",\"state\":\"CA\",\"agency_id\":\"1\",\"address_type\":\"Premise Address\"}\\n,{\"crime_id\":\"193281771\",\"original_crimetype_name\":\"Fight No Weapon\",\"report_date\":\"2019-11-24T00:00:00.000\",\"call_date\":\"2019-11-24T00:00:00.000\",\"offense_date\":\"2019-11-24T00:00:00.000\",\"call_time\":\"13:38\",\"call_dttm\":\"2019-11-24T13:38:00.000\",\"disposition\":\"ABA\",\"address\":\"900 Block Of Market St\",\"city\":\"San Francisco\",\"state\":\"CA\",\"agency_id\":\"1\",\"address_type\":\"Premise Address\"}\\n,{\"crime_id\":\"193360580\",\"original_crimetype_name\":\"Traf Violation Cite\",\"report_date\":\"2019-12-02T00:00:00.000\",\"call_date\":\"2019-12-02T00:00:00.000\",\"offense_date\":\"2019-12-02T00:00:00.000\",\"call_time\":\"07:29\",\"call_dttm\":\"2019-12-02T07:29:00.000\",\"disposition\":\"NOM\",\"address\":\"1800 Block Of Broadway\",\"city\":\"San Francisco\",\"state\":\"CA\",\"agency_id\":\"1\",\"address_type\":\"Premise Address\"}\\n,{\"crime_id\":\"190152399\",\"original_crimetype_name\":\"Fight No Weapon\",\"report_date\":\"2019-01-15T00:00:00.000\",\"call_date\":\"2019-01-15T00:00:00.000\",\"offense_date\":\"2019-01-15T00:00:00.000\",\"call_time\":\"15:07\",\"call_dttm\":\"2019-01-15T15:07:00.000\",\"disposition\":\"ADV\",\"address\":\"3400 Block Of 17th St\",\"city\":\"San Francisco\",\"state\":\"CA\",\"agency_id\":\"1\",\"address_type\":\"Premise Address\"}\\n,{\"crime_id\":\"190221148\",\"original_crimetype_name\":\"Suspicious Person\",\"report_date\":\"2019-01-22T00:00:00.000\",\"call_date\":\"2019-01-22T00:00:00.000\",\"offense_date\":\"2019-01-22T00:00:00.000\",\"call_time\":\"09:55\",\"call_dttm\":\"2019-01-22T09:55:00.000\",\"disposition\":\"ADV\",\"address\":\"600 Block Of Eddy St\",\"city\":\"San Francisco\",\"state\":\"CA\",\"agency_id\":\"1\",\"address_type\":\"Premise Address\"}\\n,{\"crime_id\":\"161000220\",\"original_crimetype_name\":\"Stabbing\",\"report_date\":\"2016-04-09T00:00:00.000\",\"call_date\":\"2016-04-09T00:00:00.000\",\"offense_date\":\"2016-04-09T00:00:00.000\",\"call_time\":\"01:27\",\"call_dttm\":\"2016-04-09T01:27:00.000\",\"disposition\":\"ND\",\"address\":\"200 Block Of Sutter St\",\"city\":\"San Francisco\",\"state\":\"CA\",\"agency_id\":\"1\",\"address_type\":\"Premise Address\"}\\n,{\"crime_id\":\"193051363\",\"original_crimetype_name\":\"Static\",\"report_date\":\"2019-11-01T00:00:00.000\",\"call_date\":\"2019-11-01T00:00:00.000\",\"offense_date\":\"2019-11-01T00:00:00.000\",\"call_time\":\"10:00\",\"call_dttm\":\"2019-11-01T10:00:00.000\",\"disposition\":\"NCR\",\"address\":\"900 Block Of Howard St\",\"city\":\"San Francisco\",\"state\":\"CA\",\"agency_id\":\"1\",\"address_type\":\"Premise Address\"}\\n,{\"crime_id\":\"193333520\",\"original_crimetype_name\":\"Fight No Weapon\",\"report_date\":\"2019-11-29T00:00:00.000\",\"call_date\":\"2019-11-29T00:00:00.000\",\"offense_date\":\"2019-11-29T00:00:00.000\",\"call_time\":\"23:42\",\"call_dttm\":\"2019-11-29T23:42:00.000\",\"disposition\":\"ND\",\"address\":\"400 Block Of Fremont St\",\"city\":\"San Francisco\",\"state\":\"CA\",\"agency_id\":\"1\",\"address_type\":\"Premise Address\"}\\n,{\"crime_id\":\"190152404\",\"original_crimetype_name\":\"Fight No Weapon\",\"report_date\":\"2019-01-15T00:00:00.000\",\"call_date\":\"2019-01-15T00:00:00.000\",\"offense_date\":\"2019-01-15T00:00:00.000\",\"call_time\":\"15:06\",\"call_dttm\":\"2019-01-15T15:06:00.000\",\"disposition\":\"HAN\",\"address\":\"1100 Block Of Oakdale Av\",\"city\":\"San Francisco\",\"state\":\"CA\",\"agency_id\":\"1\",\"address_type\":\"Premise Address\"}\\n,{\"crime_id\":\"160940910\",\"original_crimetype_name\":\"H&r Veh Accident\",\"report_date\":\"2016-04-03T00:00:00.000\",\"call_date\":\"2016-04-03T00:00:00.000\",\"offense_date\":\"2016-04-03T00:00:00.000\",\"call_time\":\"08:14\",\"call_dttm\":\"2016-04-03T08:14:00.000\",\"disposition\":\"REP\",\"address\":\"Jamestown Av/hawes St\",\"city\":\"San Francisco\",\"state\":\"CA\",\"agency_id\":\"1\",\"address_type\":\"Intersection\"}\\n,{\"crime_id\":\"160961074\",\"original_crimetype_name\":\"Auto Boost / Strip\",\"report_date\":\"2016-04-05T00:00:00.000\",\"call_date\":\"2016-04-05T00:00:00.000\",\"offense_date\":\"2016-04-05T00:00:00.000\",\"call_time\":\"09:57\",\"call_dttm\":\"2016-04-05T09:57:00.000\",\"disposition\":\"REP\",\"address\":\"2300 Block Of 16th St\",\"city\":\"San Francisco\",\"state\":\"CA\",\"agency_id\":\"1\",\"address_type\":\"Premise Address\"}\\n,{\"crime_id\":\"161122923\",\"original_crimetype_name\":\"Poss\",\"report_date\":\"2016-04-21T00:00:00.000\",\"call_date\":\"2016-04-21T00:00:00.000\",\"offense_date\":\"2016-04-21T00:00:00.000\",\"call_time\":\"17:07\",\"call_dttm\":\"2016-04-21T17:07:00.000\",\"disposition\":\"ADV\",\"address\":\"Geary Bl/steiner St\",\"city\":\"San Francisco\",\"state\":\"CA\",\"agency_id\":\"1\",\"address_type\":\"Intersection\"}\\n,{\"crime_id\":\"193051371\",\"original_crimetype_name\":\"Homeless Complaint\",\"report_date\":\"2019-11-01T00:00:00.000\",\"call_date\":\"2019-11-01T00:00:00.000\",\"offense_date\":\"2019-11-01T00:00:00.000\",\"call_time\":\"10:03\",\"call_dttm\":\"2019-11-01T10:03:00.000\",\"disposition\":\"GOA\",\"address\":\"2400 Block Of Bush St\",\"city\":\"San Francisco\",\"state\":\"CA\",\"agency_id\":\"1\",\"address_type\":\"Premise Address\"}\\n,{\"crime_id\":\"193051376\",\"original_crimetype_name\":\"22500e\",\"report_date\":\"2019-11-01T00:00:00.000\",\"call_date\":\"2019-11-01T00:00:00.000\",\"offense_date\":\"2019-11-01T00:00:00.000\",\"call_time\":\"10:03\",\"call_dttm\":\"2019-11-01T10:03:00.000\",\"disposition\":\"CAN\",\"address\":\"700 Block Of 37th Av\",\"city\":\"San Francisco\",\"state\":\"CA\",\"agency_id\":\"1\",\"address_type\":\"Premise Address\"}\\n,{\"crime_id\":\"193051380\",\"original_crimetype_name\":\"Citizen Standby\",\"report_date\":\"2019-11-01T00:00:00.000\",\"call_date\":\"2019-11-01T00:00:00.000\",\"offense_date\":\"2019-11-01T00:00:00.000\",\"call_time\":\"10:05\",\"call_dttm\":\"2019-11-01T10:05:00.000\",\"disposition\":\"HAN\",\"address\":\"0 Block Of Cargo Wy\",\"city\":\"San Francisco\",\"state\":\"CA\",\"agency_id\":\"1\",\"address_type\":\"Common Location\",\"common_location\":\"Pier 96-Gatehouse\"}\\n,{\"crime_id\":\"193293120\",\"original_crimetype_name\":\"Fight No Weapon\",\"report_date\":\"2019-11-25T00:00:00.000\",\"call_date\":\"2019-11-25T00:00:00.000\",\"offense_date\":\"2019-11-25T00:00:00.000\",\"call_time\":\"18:30\",\"call_dttm\":\"2019-11-25T18:30:00.000\",\"disposition\":\"HAN\",\"address\":\"2200 Block Of Mission St\",\"city\":\"San Francisco\",\"state\":\"CA\",\"agency_id\":\"1\",\"address_type\":\"Premise Address\"}\\n,{\"crime_id\":\"190021428\",\"original_crimetype_name\":\"Passing Call\",\"report_date\":\"2019-01-02T00:00:00.000\",\"call_date\":\"2019-01-02T00:00:00.000\",\"offense_date\":\"2019-01-02T00:00:00.000\",\"call_time\":\"11:25\",\"call_dttm\":\"2019-01-02T11:25:00.000\",\"disposition\":\"HAN\",\"address\":\"1000 Block Of Polk St\",\"city\":\"San Francisco\",\"state\":\"CA\",\"agency_id\":\"1\",\"address_type\":\"Premise Address\"}\\n,{\"crime_id\":\"190101743\",\"original_crimetype_name\":\"Suspicious Person\",\"report_date\":\"2019-01-10T00:00:00.000\",\"call_date\":\"2019-01-10T00:00:00.000\",\"offense_date\":\"2019-01-10T00:00:00.000\",\"call_time\":\"12:10\",\"call_dttm\":\"2019-01-10T12:10:00.000\",\"disposition\":\"GOA\",\"address\":\"1500 Block Of 7th Av\",\"city\":\"San Francisco\",\"state\":\"CA\",\"agency_id\":\"1\",\"address_type\":\"Premise Address\"}\\n,{\"crime_id\":\"190184129\",\"original_crimetype_name\":\"Suspicious Vehicle\",\"report_date\":\"2019-01-18T00:00:00.000\",\"call_date\":\"2019-01-18T00:00:00.000\",\"offense_date\":\"2019-01-18T00:00:00.000\",\"call_time\":\"22:20\",\"call_dttm\":\"2019-01-18T22:20:00.000\",\"disposition\":\"ADV\",\"address\":\"Montgomery St/pacific Av\",\"city\":\"San Francisco\",\"state\":\"CA\",\"agency_id\":\"1\",\"address_type\":\"Intersection\"}\\n,{\"crime_id\":\"190221150\",\"original_crimetype_name\":\"Trespasser\",\"report_date\":\"2019-01-22T00:00:00.000\",\"call_date\":\"2019-01-22T00:00:00.000\",\"offense_date\":\"2019-01-22T00:00:00.000\",\"call_time\":\"09:56\",\"call_dttm\":\"2019-01-22T09:56:00.000\",\"disposition\":\"CAN\",\"address\":\"800 Block Of 2nd St\",\"city\":\"San Francisco\",\"state\":\"CA\",\"agency_id\":\"1\",\"address_type\":\"Premise Address\"}\\n,{\"crime_id\":\"190021430\",\"original_crimetype_name\":\"Passing Call\",\"report_date\":\"2019-01-02T00:00:00.000\",\"call_date\":\"2019-01-02T00:00:00.000\",\"offense_date\":\"2019-01-02T00:00:00.000\",\"call_time\":\"11:26\",\"call_dttm\":\"2019-01-02T11:26:00.000\",\"disposition\":\"HAN\",\"address\":\"Turk St/hyde St\",\"city\":\"San Francisco\",\"state\":\"CA\",\"agency_id\":\"1\",\"address_type\":\"Intersection\"}\\n,{\"crime_id\":\"190101744\",\"original_crimetype_name\":\"22500e\",\"report_date\":\"2019-01-10T00:00:00.000\",\"call_date\":\"2019-01-10T00:00:00.000\",\"offense_date\":\"2019-01-10T00:00:00.000\",\"call_time\":\"12:12\",\"call_dttm\":\"2019-01-10T12:12:00.000\",\"disposition\":\"CIT\",\"address\":\"0 Block Of Scott St\",\"city\":\"San Francisco\",\"state\":\"CA\",\"agency_id\":\"1\",\"address_type\":\"Premise Address\"}\\n,{\"crime_id\":\"190112334\",\"original_crimetype_name\":\"Male\",\"report_date\":\"2019-01-11T00:00:00.000\",\"call_date\":\"2019-01-11T00:00:00.000\",\"offense_date\":\"2019-01-11T00:00:00.000\",\"call_time\":\"15:00\",\"call_dttm\":\"2019-01-11T15:00:00.000\",\"disposition\":\"ADV\",\"address\":\"4th St/townsend St\",\"city\":\"San Francisco\",\"state\":\"CA\",\"agency_id\":\"1\",\"address_type\":\"Intersection\"}\\n,{\"crime_id\":\"190131852\",\"original_crimetype_name\":\"911 Drop\",\"report_date\":\"2019-01-13T00:00:00.000\",\"call_date\":\"2019-01-13T00:00:00.000\",\"offense_date\":\"2019-01-13T00:00:00.000\",\"call_time\":\"13:54\",\"call_dttm\":\"2019-01-13T13:54:00.000\",\"disposition\":\"NCR\",\"address\":\"800 Block Of Market St\",\"city\":\"San Francisco\",\"state\":\"CA\",\"agency_id\":\"1\",\"address_type\":\"Premise Address\"}\\n,{\"crime_id\":\"160940914\",\"original_crimetype_name\":\"Homeless Complaint\",\"report_date\":\"2016-04-03T00:00:00.000\",\"call_date\":\"2016-04-03T00:00:00.000\",\"offense_date\":\"2016-04-03T00:00:00.000\",\"call_time\":\"08:14\",\"call_dttm\":\"2016-04-03T08:14:00.000\",\"disposition\":\"ADV\",\"address\":\"0 Block Of Elgin Pk\",\"city\":\"San Francisco\",\"state\":\"CA\",\"agency_id\":\"1\",\"address_type\":\"Premise Address\"}\\n,{\"crime_id\":\"161080583\",\"original_crimetype_name\":\"Suspicious Person\",\"report_date\":\"2016-04-17T00:00:00.000\",\"call_date\":\"2016-04-17T00:00:00.000\",\"offense_date\":\"2016-04-17T00:00:00.000\",\"call_time\":\"05:23\",\"call_dttm\":\"2016-04-17T05:23:00.000\",\"disposition\":\"UTL\",\"address\":\"500 Block Of Precita Av\",\"city\":\"San Francisco\",\"state\":\"CA\",\"agency_id\":\"1\",\"address_type\":\"Common Location\",\"common_location\":\"Precita Park, Sf\"}\\n,{\"crime_id\":\"193133097\",\"original_crimetype_name\":\"7,2,27\",\"report_date\":\"2019-11-09T00:00:00.000\",\"call_date\":\"2019-11-09T00:00:00.000\",\"offense_date\":\"2019-11-09T00:00:00.000\",\"call_time\":\"18:01\",\"call_dttm\":\"2019-11-09T18:01:00.000\",\"disposition\":\"HAN\",\"address\":\"2600 Block Of Mission St\",\"city\":\"San Francisco\",\"state\":\"CA\",\"agency_id\":\"1\",\"address_type\":\"Premise Address\"}\\n,{\"crime_id\":\"190033354\",\"original_crimetype_name\":\"Auto Boost / Strip\",\"report_date\":\"2019-01-03T00:00:00.000\",\"call_date\":\"2019-01-03T00:00:00.000\",\"offense_date\":\"2019-01-03T00:00:00.000\",\"call_time\":\"19:53\",\"call_dttm\":\"2019-01-03T19:53:00.000\",\"disposition\":\"REP\",\"address\":\"Lombard St/leavenworth St\",\"city\":\"San Francisco\",\"state\":\"CA\",\"agency_id\":\"1\",\"address_type\":\"Intersection\"}\\n,{\"crime_id\":\"161000223\",\"original_crimetype_name\":\"Person W/gun\",\"report_date\":\"2016-04-09T00:00:00.000\",\"call_date\":\"2016-04-09T00:00:00.000\",\"offense_date\":\"2016-04-09T00:00:00.000\",\"call_time\":\"01:26\",\"call_dttm\":\"2016-04-09T01:26:00.000\",\"disposition\":\"GOA\",\"address\":\"Golden Gate Av/leavenworth St\",\"city\":\"San Francisco\",\"state\":\"CA\",\"agency_id\":\"1\",\"address_type\":\"Intersection\"}\\n,{\"crime_id\":\"190160917\",\"original_crimetype_name\":\"Passing Call\",\"report_date\":\"2019-01-16T00:00:00.000\",\"call_date\":\"2019-01-16T00:00:00.000\",\"offense_date\":\"2019-01-16T00:00:00.000\",\"call_time\":\"08:59\",\"call_dttm\":\"2019-01-16T08:59:00.000\",\"disposition\":\"Not recorded\",\"address\":\"600 Blk Minna St\",\"city\":\"San Francisco\",\"state\":\"CA\",\"agency_id\":\"1\",\"address_type\":\"Geo-Override\"}\\n,{\"crime_id\":\"160961075\",\"original_crimetype_name\":\"Passing Call\",\"report_date\":\"2016-04-05T00:00:00.000\",\"call_date\":\"2016-04-05T00:00:00.000\",\"offense_date\":\"2016-04-05T00:00:00.000\",\"call_time\":\"09:58\",\"call_dttm\":\"2016-04-05T09:58:00.000\",\"disposition\":\"HAN\",\"address\":\"1200 Blk Eddy St\",\"city\":\"San Francisco\",\"state\":\"CA\",\"agency_id\":\"1\",\"address_type\":\"Geo-Override\"}\\n,{\"crime_id\":\"193051390\",\"original_crimetype_name\":\"Homeless Complaint\",\"report_date\":\"2019-11-01T00:00:00.000\",\"call_date\":\"2019-11-01T00:00:00.000\",\"offense_date\":\"2019-11-01T00:00:00.000\",\"call_time\":\"10:08\",\"call_dttm\":\"2019-11-01T10:08:00.000\",\"disposition\":\"ADV\",\"address\":\"100 Block Of Minna St\",\"city\":\"San Francisco\",\"state\":\"CA\",\"agency_id\":\"1\",\"address_type\":\"Premise Address\"}\\n,{\"crime_id\":\"193051392\",\"original_crimetype_name\":\"Suspicious Vehicle\",\"report_date\":\"2019-11-01T00:00:00.000\",\"call_date\":\"2019-11-01T00:00:00.000\",\"offense_date\":\"2019-11-01T00:00:00.000\",\"call_time\":\"10:08\",\"call_dttm\":\"2019-11-01T10:08:00.000\",\"disposition\":\"HAN\",\"address\":\"Grove St/larkin St\",\"city\":\"San Francisco\",\"state\":\"CA\",\"agency_id\":\"1\",\"address_type\":\"Intersection\"}\\n,{\"crime_id\":\"193051404\",\"original_crimetype_name\":\"Aided Case\",\"report_date\":\"2019-11-01T00:00:00.000\",\"call_date\":\"2019-11-01T00:00:00.000\",\"offense_date\":\"2019-11-01T00:00:00.000\",\"call_time\":\"10:11\",\"call_dttm\":\"2019-11-01T10:11:00.000\",\"disposition\":\"HAN\",\"address\":\"800 Block Of South Van Ness Av\",\"city\":\"San Francisco\",\"state\":\"CA\",\"agency_id\":\"1\",\"address_type\":\"Premise Address\"}\\n,{\"crime_id\":\"190051434\",\"original_crimetype_name\":\"500e\",\"report_date\":\"2019-01-05T00:00:00.000\",\"call_date\":\"2019-01-05T00:00:00.000\",\"offense_date\":\"2019-01-05T00:00:00.000\",\"call_time\":\"12:25\",\"call_dttm\":\"2019-01-05T12:25:00.000\",\"disposition\":\"CAN\",\"address\":\"3800 Block Of Cesar Chavez St\",\"city\":\"San Francisco\",\"state\":\"CA\",\"agency_id\":\"1\",\"address_type\":\"Premise Address\"}\\n,{\"crime_id\":\"190104230\",\"original_crimetype_name\":\"Traffic Stop\",\"report_date\":\"2019-01-10T00:00:00.000\",\"call_date\":\"2019-01-10T00:00:00.000\",\"offense_date\":\"2019-01-10T00:00:00.000\",\"call_time\":\"22:40\",\"call_dttm\":\"2019-01-10T22:40:00.000\",\"disposition\":\"CIT\",\"address\":\"Fell St/ashbury St\",\"city\":\"San Francisco\",\"state\":\"CA\",\"agency_id\":\"1\",\"address_type\":\"Intersection\"}\\n,{\"crime_id\":\"190131853\",\"original_crimetype_name\":\"Suicide Attempt\",\"report_date\":\"2019-01-13T00:00:00.000\",\"call_date\":\"2019-01-13T00:00:00.000\",\"offense_date\":\"2019-01-13T00:00:00.000\",\"call_time\":\"13:54\",\"call_dttm\":\"2019-01-13T13:54:00.000\",\"disposition\":\"HAN\",\"address\":\"1600 Block Of Market St\",\"city\":\"San Francisco\",\"state\":\"CA\",\"agency_id\":\"1\",\"address_type\":\"Premise Address\"}\\n,{\"crime_id\":\"193051409\",\"original_crimetype_name\":\"Suspicious Person\",\"report_date\":\"2019-11-01T00:00:00.000\",\"call_date\":\"2019-11-01T00:00:00.000\",\"offense_date\":\"2019-11-01T00:00:00.000\",\"call_time\":\"10:13\",\"call_dttm\":\"2019-11-01T10:13:00.000\",\"disposition\":\"ADV\",\"address\":\"400 Block Of Larkin St\",\"city\":\"San Francisco\",\"state\":\"CA\",\"agency_id\":\"1\",\"address_type\":\"Premise Address\"}\\n,{\"crime_id\":\"193051411\",\"original_crimetype_name\":\"Fight No Weapon\",\"report_date\":\"2019-11-01T00:00:00.000\",\"call_date\":\"2019-11-01T00:00:00.000\",\"offense_date\":\"2019-11-01T00:00:00.000\",\"call_time\":\"10:11\",\"call_dttm\":\"2019-11-01T10:11:00.000\",\"disposition\":\"REP\",\"address\":\"17th St/potrero Av\",\"city\":\"San Francisco\",\"state\":\"CA\",\"agency_id\":\"1\",\"address_type\":\"Intersection\"}\\n,{\"crime_id\":\"190010942\",\"original_crimetype_name\":\"Passing Call\",\"report_date\":\"2019-01-01T00:00:00.000\",\"call_date\":\"2019-01-01T00:00:00.000\",\"offense_date\":\"2019-01-01T00:00:00.000\",\"call_time\":\"05:14\",\"call_dttm\":\"2019-01-01T05:14:00.000\",\"disposition\":\"HAN\",\"address\":\"100 Block Of Hampshire St\",\"city\":\"San Francisco\",\"state\":\"CA\",\"agency_id\":\"1\",\"address_type\":\"Premise Address\"}\\n,{\"crime_id\":\"190082168\",\"original_crimetype_name\":\"Traffic Stop\",\"report_date\":\"2019-01-08T00:00:00.000\",\"call_date\":\"2019-01-08T00:00:00.000\",\"offense_date\":\"2019-01-08T00:00:00.000\",\"call_time\":\"15:03\",\"call_dttm\":\"2019-01-08T15:03:00.000\",\"disposition\":\"CIT\",\"address\":\"Essex St/harrison St\",\"city\":\"San Francisco\",\"state\":\"CA\",\"agency_id\":\"1\",\"address_type\":\"Intersection\"}\\n,{\"crime_id\":\"193051420\",\"original_crimetype_name\":\"Passing Call\",\"report_date\":\"2019-11-01T00:00:00.000\",\"call_date\":\"2019-11-01T00:00:00.000\",\"offense_date\":\"2019-11-01T00:00:00.000\",\"call_time\":\"10:15\",\"call_dttm\":\"2019-11-01T10:15:00.000\",\"disposition\":\"Not recorded\",\"address\":\"700 Blk Broadway\",\"city\":\"San Francisco\",\"state\":\"CA\",\"agency_id\":\"1\",\"address_type\":\"Geo-Override\"}\\n,{\"crime_id\":\"193051431\",\"original_crimetype_name\":\"Traf Violation Cite\",\"report_date\":\"2019-11-01T00:00:00.000\",\"call_date\":\"2019-11-01T00:00:00.000\",\"offense_date\":\"2019-11-01T00:00:00.000\",\"call_time\":\"10:18\",\"call_dttm\":\"2019-11-01T10:18:00.000\",\"disposition\":\"CIT\",\"address\":\"2000 Block Of 41st Av\",\"city\":\"San Francisco\",\"state\":\"CA\",\"agency_id\":\"1\",\"address_type\":\"Premise Address\"}\\n,{\"crime_id\":\"193051432\",\"original_crimetype_name\":\"Passing Call\",\"report_date\":\"2019-11-01T00:00:00.000\",\"call_date\":\"2019-11-01T00:00:00.000\",\"offense_date\":\"2019-11-01T00:00:00.000\",\"call_time\":\"10:18\",\"call_dttm\":\"2019-11-01T10:18:00.000\",\"disposition\":\"CIT\",\"address\":\"500 Block Of Minna St\",\"city\":\"San Francisco\",\"state\":\"CA\",\"agency_id\":\"1\",\"address_type\":\"Premise Address\"}\\n,{\"crime_id\":\"193301573\",\"original_crimetype_name\":\"Audible Alarm\",\"report_date\":\"2019-11-26T00:00:00.000\",\"call_date\":\"2019-11-26T00:00:00.000\",\"offense_date\":\"2019-11-26T00:00:00.000\",\"call_time\":\"11:28\",\"call_dttm\":\"2019-11-26T11:28:00.000\",\"disposition\":\"PAS\",\"address\":\"1400 Block Of Page St\",\"city\":\"San Francisco\",\"state\":\"CA\",\"agency_id\":\"1\",\"address_type\":\"Premise Address\"}\\n,{\"crime_id\":\"193361611\",\"original_crimetype_name\":\"7.2.46\",\"report_date\":\"2019-12-02T00:00:00.000\",\"call_date\":\"2019-12-02T00:00:00.000\",\"offense_date\":\"2019-12-02T00:00:00.000\",\"call_time\":\"11:48\",\"call_dttm\":\"2019-12-02T11:48:00.000\",\"disposition\":\"HAN\",\"address\":\"2500 Block Of Jackson St\",\"city\":\"San Francisco\",\"state\":\"CA\",\"agency_id\":\"1\",\"address_type\":\"Premise Address\"}\\n,{\"crime_id\":\"193382417\",\"original_crimetype_name\":\"Strongarm Robbery\",\"report_date\":\"2019-12-04T00:00:00.000\",\"call_date\":\"2019-12-04T00:00:00.000\",\"offense_date\":\"2019-12-04T00:00:00.000\",\"call_time\":\"14:17\",\"call_dttm\":\"2019-12-04T14:17:00.000\",\"disposition\":\"UTL\",\"address\":\"Bryant St/17th St\",\"city\":\"San Francisco\",\"state\":\"CA\",\"agency_id\":\"1\",\"address_type\":\"Intersection\"}\\n,{\"crime_id\":\"193411565\",\"original_crimetype_name\":\"Passing Call\",\"report_date\":\"2019-12-07T00:00:00.000\",\"call_date\":\"2019-12-07T00:00:00.000\",\"offense_date\":\"2019-12-07T00:00:00.000\",\"call_time\":\"11:54\",\"call_dttm\":\"2019-12-07T11:54:00.000\",\"disposition\":\"HAN\",\"address\":\"Jerrold Av/upton St\",\"city\":\"San Francisco\",\"state\":\"CA\",\"agency_id\":\"1\",\"address_type\":\"Intersection\"}\\n,{\"crime_id\":\"190181269\",\"original_crimetype_name\":\"1030 Poss\",\"report_date\":\"2019-01-18T00:00:00.000\",\"call_date\":\"2019-01-18T00:00:00.000\",\"offense_date\":\"2019-01-18T00:00:00.000\",\"call_time\":\"10:26\",\"call_dttm\":\"2019-01-18T10:26:00.000\",\"disposition\":\"HAN\",\"address\":\"1200 Block Of Thomas Av\",\"city\":\"San Francisco\",\"state\":\"CA\",\"agency_id\":\"1\",\"address_type\":\"Premise Address\"}\\n,{\"crime_id\":\"161021335\",\"original_crimetype_name\":\"Audible Alarm\",\"report_date\":\"2016-04-11T00:00:00.000\",\"call_date\":\"2016-04-11T00:00:00.000\",\"offense_date\":\"2016-04-11T00:00:00.000\",\"call_time\":\"10:36\",\"call_dttm\":\"2016-04-11T10:36:00.000\",\"disposition\":\"NCR\",\"address\":\"600 Block Of Miramar Av\",\"city\":\"San Francisco\",\"state\":\"CA\",\"agency_id\":\"1\",\"address_type\":\"Premise Address\"}\\n,{\"crime_id\":\"190121003\",\"original_crimetype_name\":\"Fire\",\"report_date\":\"2019-01-12T00:00:00.000\",\"call_date\":\"2019-01-12T00:00:00.000\",\"offense_date\":\"2019-01-12T00:00:00.000\",\"call_time\":\"09:22\",\"call_dttm\":\"2019-01-12T09:22:00.000\",\"disposition\":\"GOA\",\"address\":\"4700 Block Of 18th St\",\"city\":\"San Francisco\",\"state\":\"CA\",\"agency_id\":\"1\",\"address_type\":\"Premise Address\"}\\n,{\"crime_id\":\"190332973\",\"original_crimetype_name\":\"Wz\",\"report_date\":\"2019-02-02T00:00:00.000\",\"call_date\":\"2019-02-02T00:00:00.000\",\"offense_date\":\"2019-02-02T00:00:00.000\",\"call_time\":\"18:00\",\"call_dttm\":\"2019-02-02T18:00:00.000\",\"disposition\":\"CAN\",\"address\":\"1800 Block Of Clay St\",\"city\":\"San Francisco\",\"state\":\"CA\",\"agency_id\":\"1\",\"address_type\":\"Premise Address\"}\\n,{\"crime_id\":\"193051434\",\"original_crimetype_name\":\"Assault / Battery\",\"report_date\":\"2019-11-01T00:00:00.000\",\"call_date\":\"2019-11-01T00:00:00.000\",\"offense_date\":\"2019-11-01T00:00:00.000\",\"call_time\":\"10:14\",\"call_dttm\":\"2019-11-01T10:14:00.000\",\"disposition\":\"NOM\",\"address\":\"600 Block Of Market St\",\"city\":\"San Francisco\",\"state\":\"CA\",\"agency_id\":\"1\",\"address_type\":\"Common Location\",\"common_location\":\"Mcdonalds - Market St, Sf\"}\\n,{\"crime_id\":\"193051438\",\"original_crimetype_name\":\"Meet W/citizen\",\"report_date\":\"2019-11-01T00:00:00.000\",\"call_date\":\"2019-11-01T00:00:00.000\",\"offense_date\":\"2019-11-01T00:00:00.000\",\"call_time\":\"10:21\",\"call_dttm\":\"2019-11-01T10:21:00.000\",\"disposition\":\"REP\",\"address\":\"600 Block Of Valencia St\",\"city\":\"San Francisco\",\"state\":\"CA\",\"agency_id\":\"1\",\"address_type\":\"Premise Address\"}\\n,{\"crime_id\":\"190010944\",\"original_crimetype_name\":\"Mentally Disturbed\",\"report_date\":\"2019-01-01T00:00:00.000\",\"call_date\":\"2019-01-01T00:00:00.000\",\"offense_date\":\"2019-01-01T00:00:00.000\",\"call_time\":\"05:15\",\"call_dttm\":\"2019-01-01T05:15:00.000\",\"disposition\":\"UTL\",\"address\":\"19th Av/noriega St\",\"city\":\"San Francisco\",\"state\":\"CA\",\"agency_id\":\"1\",\"address_type\":\"Intersection\"}\\n,{\"crime_id\":\"161021336\",\"original_crimetype_name\":\"Traffic Stop\",\"report_date\":\"2016-04-11T00:00:00.000\",\"call_date\":\"2016-04-11T00:00:00.000\",\"offense_date\":\"2016-04-11T00:00:00.000\",\"call_time\":\"10:38\",\"call_dttm\":\"2016-04-11T10:38:00.000\",\"disposition\":\"HAN\",\"address\":\"2nd St/brannan St\",\"city\":\"San Francisco\",\"state\":\"CA\",\"agency_id\":\"1\",\"address_type\":\"Intersection\"}\\n,{\"crime_id\":\"190042625\",\"original_crimetype_name\":\"Muni Inspection\",\"report_date\":\"2019-01-04T00:00:00.000\",\"call_date\":\"2019-01-04T00:00:00.000\",\"offense_date\":\"2019-01-04T00:00:00.000\",\"call_time\":\"16:50\",\"call_dttm\":\"2019-01-04T16:50:00.000\",\"disposition\":\"Not recorded\",\"address\":\"600 Block Of Market St\",\"city\":\"San Francisco\",\"state\":\"CA\",\"agency_id\":\"1\",\"address_type\":\"Common Location\",\"common_location\":\"Montgomery Muni, Sf\"}\\n,{\"crime_id\":\"190092655\",\"original_crimetype_name\":\"Fraud\",\"report_date\":\"2019-01-09T00:00:00.000\",\"call_date\":\"2019-01-09T00:00:00.000\",\"offense_date\":\"2019-01-09T00:00:00.000\",\"call_time\":\"16:06\",\"call_dttm\":\"2019-01-09T16:06:00.000\",\"disposition\":\"REP\",\"address\":\"3600 Block Of Ulloa St\",\"city\":\"San Francisco\",\"state\":\"CA\",\"agency_id\":\"1\",\"address_type\":\"Premise Address\"}\\n,{\"crime_id\":\"190112336\",\"original_crimetype_name\":\"Passing Call\",\"report_date\":\"2019-01-11T00:00:00.000\",\"call_date\":\"2019-01-11T00:00:00.000\",\"offense_date\":\"2019-01-11T00:00:00.000\",\"call_time\":\"15:01\",\"call_dttm\":\"2019-01-11T15:01:00.000\",\"disposition\":\"HAN\",\"address\":\"1100 Blk Mason Ct\",\"city\":\"Treasure Isla\",\"state\":\"CA\",\"agency_id\":\"1\",\"address_type\":\"Geo-Override\"}\\n,{\"crime_id\":\"193051441\",\"original_crimetype_name\":\"Well Being Check\",\"report_date\":\"2019-11-01T00:00:00.000\",\"call_date\":\"2019-11-01T00:00:00.000\",\"offense_date\":\"2019-11-01T00:00:00.000\",\"call_time\":\"10:18\",\"call_dttm\":\"2019-11-01T10:18:00.000\",\"disposition\":\"UTL\",\"address\":\"300 Block Of Channel St\",\"city\":\"San Francisco\",\"state\":\"CA\",\"agency_id\":\"1\",\"address_type\":\"Premise Address\"}\\n,{\"crime_id\":\"190042627\",\"original_crimetype_name\":\"Audible Alarm\",\"report_date\":\"2019-01-04T00:00:00.000\",\"call_date\":\"2019-01-04T00:00:00.000\",\"offense_date\":\"2019-01-04T00:00:00.000\",\"call_time\":\"16:51\",\"call_dttm\":\"2019-01-04T16:51:00.000\",\"disposition\":\"NCR\",\"address\":\"100 Block Of Saint Elmo Wy\",\"city\":\"San Francisco\",\"state\":\"CA\",\"agency_id\":\"1\",\"address_type\":\"Premise Address\"}\\n,{\"crime_id\":\"160980509\",\"original_crimetype_name\":\"Meet W/officer\",\"report_date\":\"2016-04-07T00:00:00.000\",\"call_date\":\"2016-04-07T00:00:00.000\",\"offense_date\":\"2016-04-07T00:00:00.000\",\"call_time\":\"05:15\",\"call_dttm\":\"2016-04-07T05:15:00.000\",\"disposition\":\"HAN\",\"address\":\"200 Block Of Mcallister St\",\"city\":\"San Francisco\",\"state\":\"CA\",\"agency_id\":\"1\",\"address_type\":\"Common Location\",\"common_location\":\"Hastings Law School, Sf\"}\\n,{\"crime_id\":\"161021337\",\"original_crimetype_name\":\"Suspicious Person\",\"report_date\":\"2016-04-11T00:00:00.000\",\"call_date\":\"2016-04-11T00:00:00.000\",\"offense_date\":\"2016-04-11T00:00:00.000\",\"call_time\":\"10:36\",\"call_dttm\":\"2016-04-11T10:36:00.000\",\"disposition\":\"GOA\",\"address\":\"300 Block Of California St\",\"city\":\"San Francisco\",\"state\":\"CA\",\"agency_id\":\"1\",\"address_type\":\"Premise Address\"}\\n,{\"crime_id\":\"161100662\",\"original_crimetype_name\":\"Homeless Complaint\",\"report_date\":\"2016-04-19T00:00:00.000\",\"call_date\":\"2016-04-19T00:00:00.000\",\"offense_date\":\"2016-04-19T00:00:00.000\",\"call_time\":\"07:31\",\"call_dttm\":\"2016-04-19T07:31:00.000\",\"disposition\":\"GOA\",\"address\":\"300 Block Of Clinton Park St\",\"city\":\"San Francisco\",\"state\":\"CA\",\"agency_id\":\"1\",\"address_type\":\"Premise Address\"}\\n,{\"crime_id\":\"190070063\",\"original_crimetype_name\":\"Person W/knife\",\"report_date\":\"2019-01-07T00:00:00.000\",\"call_date\":\"2019-01-07T00:00:00.000\",\"offense_date\":\"2019-01-07T00:00:00.000\",\"call_time\":\"00:26\",\"call_dttm\":\"2019-01-07T00:26:00.000\",\"disposition\":\"ND\",\"address\":\"0 Block Of Essex St\",\"city\":\"San Francisco\",\"state\":\"CA\",\"agency_id\":\"1\",\"address_type\":\"Premise Address\"}\\n,{\"crime_id\":\"190193742\",\"original_crimetype_name\":\"Mentally Disturbed\",\"report_date\":\"2019-01-19T00:00:00.000\",\"call_date\":\"2019-01-19T00:00:00.000\",\"offense_date\":\"2019-01-19T00:00:00.000\",\"call_time\":\"20:49\",\"call_dttm\":\"2019-01-19T20:49:00.000\",\"disposition\":\"HAN\",\"address\":\"800 Block Of La Playa\",\"city\":\"San Francisco\",\"state\":\"CA\",\"agency_id\":\"1\",\"address_type\":\"Premise Address\"}\\n,{\"crime_id\":\"161100664\",\"original_crimetype_name\":\"Traffic Stop\",\"report_date\":\"2016-04-19T00:00:00.000\",\"call_date\":\"2016-04-19T00:00:00.000\",\"offense_date\":\"2016-04-19T00:00:00.000\",\"call_time\":\"07:34\",\"call_dttm\":\"2016-04-19T07:34:00.000\",\"disposition\":\"ADV\",\"address\":\"Bryant St/16th St\",\"city\":\"San Francisco\",\"state\":\"CA\",\"agency_id\":\"1\",\"address_type\":\"Intersection\"}\\n,{\"crime_id\":\"190210883\",\"original_crimetype_name\":\"Trespasser\",\"report_date\":\"2019-01-21T00:00:00.000\",\"call_date\":\"2019-01-21T00:00:00.000\",\"offense_date\":\"2019-01-21T00:00:00.000\",\"call_time\":\"08:45\",\"call_dttm\":\"2019-01-21T08:45:00.000\",\"disposition\":\"CAN\",\"address\":\"200 Block Of Waverly Pl\",\"city\":\"San Francisco\",\"state\":\"CA\",\"agency_id\":\"1\",\"address_type\":\"Premise Address\"}\\n,{\"crime_id\":\"190072936\",\"original_crimetype_name\":\"Meet W/officer\",\"report_date\":\"2019-01-07T00:00:00.000\",\"call_date\":\"2019-01-07T00:00:00.000\",\"offense_date\":\"2019-01-07T00:00:00.000\",\"call_time\":\"18:02\",\"call_dttm\":\"2019-01-07T18:02:00.000\",\"disposition\":\"CAN\",\"address\":\"1000 Block Of Potrero Av\",\"city\":\"San Francisco\",\"state\":\"CA\",\"agency_id\":\"1\",\"address_type\":\"Common Location\",\"common_location\":\"Sf General Hospital, Sf\"}\\n,{\"crime_id\":\"190092657\",\"original_crimetype_name\":\"Aggresssive\",\"report_date\":\"2019-01-09T00:00:00.000\",\"call_date\":\"2019-01-09T00:00:00.000\",\"offense_date\":\"2019-01-09T00:00:00.000\",\"call_time\":\"16:01\",\"call_dttm\":\"2019-01-09T16:01:00.000\",\"disposition\":\"GOA\",\"address\":\"700 Block Of Lombard St\",\"city\":\"San Francisco\",\"state\":\"CA\",\"agency_id\":\"1\",\"address_type\":\"Common Location\",\"common_location\":\"Joe Dimaggio Plgd, Sf\"}\\n,{\"crime_id\":\"190181270\",\"original_crimetype_name\":\"Passing Call\",\"report_date\":\"2019-01-18T00:00:00.000\",\"call_date\":\"2019-01-18T00:00:00.000\",\"offense_date\":\"2019-01-18T00:00:00.000\",\"call_time\":\"10:28\",\"call_dttm\":\"2019-01-18T10:28:00.000\",\"disposition\":\"HAN\",\"address\":\"300 Block Of Jefferson St\",\"city\":\"San Francisco\",\"state\":\"CA\",\"agency_id\":\"1\",\"address_type\":\"Common Location\",\"common_location\":\"Pier 47\"}\\n,{\"crime_id\":\"161021338\",\"original_crimetype_name\":\"Traffic Stop\",\"report_date\":\"2016-04-11T00:00:00.000\",\"call_date\":\"2016-04-11T00:00:00.000\",\"offense_date\":\"2016-04-11T00:00:00.000\",\"call_time\":\"10:39\",\"call_dttm\":\"2016-04-11T10:39:00.000\",\"disposition\":\"CIT\",\"address\":\"Vicente St/36th Av\",\"city\":\"San Francisco\",\"state\":\"CA\",\"agency_id\":\"1\",\"address_type\":\"Intersection\"}\\n,{\"crime_id\":\"161021344\",\"original_crimetype_name\":\"Traffic Stop\",\"report_date\":\"2016-04-11T00:00:00.000\",\"call_date\":\"2016-04-11T00:00:00.000\",\"offense_date\":\"2016-04-11T00:00:00.000\",\"call_time\":\"10:40\",\"call_dttm\":\"2016-04-11T10:40:00.000\",\"disposition\":\"HAN\",\"address\":\"5th St/mission St\",\"city\":\"San Francisco\",\"state\":\"CA\",\"agency_id\":\"1\",\"address_type\":\"Intersection\"}\\n,{\"crime_id\":\"190201449\",\"original_crimetype_name\":\"Traf Violation Cite\",\"report_date\":\"2019-01-20T00:00:00.000\",\"call_date\":\"2019-01-20T00:00:00.000\",\"offense_date\":\"2019-01-20T00:00:00.000\",\"call_time\":\"11:54\",\"call_dttm\":\"2019-01-20T11:54:00.000\",\"disposition\":\"CIT\",\"address\":\"1600 Block Of 8th Av\",\"city\":\"San Francisco\",\"state\":\"CA\",\"agency_id\":\"1\",\"address_type\":\"Premise Address\"}\\n,{\"crime_id\":\"190033355\",\"original_crimetype_name\":\"Traffic Stop\",\"report_date\":\"2019-01-03T00:00:00.000\",\"call_date\":\"2019-01-03T00:00:00.000\",\"offense_date\":\"2019-01-03T00:00:00.000\",\"call_time\":\"19:59\",\"call_dttm\":\"2019-01-03T19:59:00.000\",\"disposition\":\"ADV\",\"address\":\"Mission St/francis St\",\"city\":\"San Francisco\",\"state\":\"CA\",\"agency_id\":\"1\",\"address_type\":\"Intersection\"}\\n,{\"crime_id\":\"190060706\",\"original_crimetype_name\":\"Homeless Complaint\",\"report_date\":\"2019-01-06T00:00:00.000\",\"call_date\":\"2019-01-06T00:00:00.000\",\"offense_date\":\"2019-01-06T00:00:00.000\",\"call_time\":\"08:43\",\"call_dttm\":\"2019-01-06T08:43:00.000\",\"disposition\":\"ADV\",\"address\":\"600 Block Of North Point St\",\"city\":\"San Francisco\",\"state\":\"CA\",\"agency_id\":\"1\",\"address_type\":\"Premise Address\"}\\n,{\"crime_id\":\"190131854\",\"original_crimetype_name\":\"Passing Call\",\"report_date\":\"2019-01-13T00:00:00.000\",\"call_date\":\"2019-01-13T00:00:00.000\",\"offense_date\":\"2019-01-13T00:00:00.000\",\"call_time\":\"13:57\",\"call_dttm\":\"2019-01-13T13:57:00.000\",\"disposition\":\"Not recorded\",\"address\":\"600 Block Of Columbus Av\",\"city\":\"San Francisco\",\"state\":\"CA\",\"agency_id\":\"1\",\"address_type\":\"Common Location\",\"common_location\":\"Washington Square, Sf\"}\\n,{\"crime_id\":\"160940915\",\"original_crimetype_name\":\"Audible Alarm\",\"report_date\":\"2016-04-03T00:00:00.000\",\"call_date\":\"2016-04-03T00:00:00.000\",\"offense_date\":\"2016-04-03T00:00:00.000\",\"call_time\":\"08:14\",\"call_dttm\":\"2016-04-03T08:14:00.000\",\"disposition\":\"CAN\",\"address\":\"3000 Block Of Mission St\",\"city\":\"San Francisco\",\"state\":\"CA\",\"agency_id\":\"1\",\"address_type\":\"Premise Address\"}\\n,{\"crime_id\":\"160980511\",\"original_crimetype_name\":\"Neighbor/594\",\"report_date\":\"2016-04-07T00:00:00.000\",\"call_date\":\"2016-04-07T00:00:00.000\",\"offense_date\":\"2016-04-07T00:00:00.000\",\"call_time\":\"05:16\",\"call_dttm\":\"2016-04-07T05:16:00.000\",\"disposition\":\"UTL\",\"address\":\"700 Block Of 22nd St\",\"city\":\"San Francisco\",\"state\":\"CA\",\"agency_id\":\"1\",\"address_type\":\"Premise Address\"}\\n,{\"crime_id\":\"190193746\",\"original_crimetype_name\":\"Strongarm Robbery\",\"report_date\":\"2019-01-19T00:00:00.000\",\"call_date\":\"2019-01-19T00:00:00.000\",\"offense_date\":\"2019-01-19T00:00:00.000\",\"call_time\":\"20:49\",\"call_dttm\":\"2019-01-19T20:49:00.000\",\"disposition\":\"GOA\",\"address\":\"Golden Gate Av/larkin St\",\"city\":\"San Francisco\",\"state\":\"CA\",\"agency_id\":\"1\",\"address_type\":\"Intersection\"}\\n,{\"crime_id\":\"190333286\",\"original_crimetype_name\":\"22500e\",\"report_date\":\"2019-02-02T00:00:00.000\",\"call_date\":\"2019-02-02T00:00:00.000\",\"offense_date\":\"2019-02-02T00:00:00.000\",\"call_time\":\"19:18\",\"call_dttm\":\"2019-02-02T19:18:00.000\",\"disposition\":\"CIT\",\"address\":\"0 Block Of Wilder St\",\"city\":\"San Francisco\",\"state\":\"CA\",\"agency_id\":\"1\",\"address_type\":\"Premise Address\"}\\n,{\"crime_id\":\"193051446\",\"original_crimetype_name\":\"Passing Call\",\"report_date\":\"2019-11-01T00:00:00.000\",\"call_date\":\"2019-11-01T00:00:00.000\",\"offense_date\":\"2019-11-01T00:00:00.000\",\"call_time\":\"10:23\",\"call_dttm\":\"2019-11-01T10:23:00.000\",\"disposition\":\"HAN\",\"address\":\"13th St/harrison St\",\"city\":\"San Francisco\",\"state\":\"CA\",\"agency_id\":\"1\",\"address_type\":\"Intersection\"}\\n,{\"crime_id\":\"193051453\",\"original_crimetype_name\":\"488\",\"report_date\":\"2019-11-01T00:00:00.000\",\"call_date\":\"2019-11-01T00:00:00.000\",\"offense_date\":\"2019-11-01T00:00:00.000\",\"call_time\":\"10:24\",\"call_dttm\":\"2019-11-01T10:24:00.000\",\"disposition\":\"GOA\",\"address\":\"400 Block Of Sutter St\",\"city\":\"San Francisco\",\"state\":\"CA\",\"agency_id\":\"1\",\"address_type\":\"Premise Address\"}\\n,{\"crime_id\":\"193051455\",\"original_crimetype_name\":\"222 Poss\",\"report_date\":\"2019-11-01T00:00:00.000\",\"call_date\":\"2019-11-01T00:00:00.000\",\"offense_date\":\"2019-11-01T00:00:00.000\",\"call_time\":\"10:24\",\"call_dttm\":\"2019-11-01T10:24:00.000\",\"disposition\":\"ADV\",\"address\":\"700 Block Of Sunnydale Av\",\"city\":\"San Francisco\",\"state\":\"CA\",\"agency_id\":\"1\",\"address_type\":\"Premise Address\"}\\n,{\"crime_id\":\"193051458\",\"original_crimetype_name\":\"Muni Inspection\",\"report_date\":\"2019-11-01T00:00:00.000\",\"call_date\":\"2019-11-01T00:00:00.000\",\"offense_date\":\"2019-11-01T00:00:00.000\",\"call_time\":\"10:27\",\"call_dttm\":\"2019-11-01T10:27:00.000\",\"disposition\":\"HAN\",\"address\":\"Haight St/shrader St\",\"city\":\"San Francisco\",\"state\":\"CA\",\"agency_id\":\"1\",\"address_type\":\"Intersection\"}\\n,{\"crime_id\":\"193293122\",\"original_crimetype_name\":\"Passing Call\",\"report_date\":\"2019-11-25T00:00:00.000\",\"call_date\":\"2019-11-25T00:00:00.000\",\"offense_date\":\"2019-11-25T00:00:00.000\",\"call_time\":\"18:32\",\"call_dttm\":\"2019-11-25T18:32:00.000\",\"disposition\":\"Not recorded\",\"address\":\"0 Block Of Powell St\",\"city\":\"San Francisco\",\"state\":\"CA\",\"agency_id\":\"1\",\"address_type\":\"Common Location\",\"common_location\":\"Cable Car Turnaround, Sf\"}\\n,{\"crime_id\":\"193364035\",\"original_crimetype_name\":\"Neighbors\",\"report_date\":\"2019-12-02T00:00:00.000\",\"call_date\":\"2019-12-02T00:00:00.000\",\"offense_date\":\"2019-12-02T00:00:00.000\",\"call_time\":\"22:28\",\"call_dttm\":\"2019-12-02T22:28:00.000\",\"disposition\":\"HAN\",\"address\":\"1400 Block Of 42nd Av\",\"city\":\"San Francisco\",\"state\":\"CA\",\"agency_id\":\"1\",\"address_type\":\"Premise Address\"}\\n,{\"crime_id\":\"193382421\",\"original_crimetype_name\":\"500e\",\"report_date\":\"2019-12-04T00:00:00.000\",\"call_date\":\"2019-12-04T00:00:00.000\",\"offense_date\":\"2019-12-04T00:00:00.000\",\"call_time\":\"14:20\",\"call_dttm\":\"2019-12-04T14:20:00.000\",\"disposition\":\"Not recorded\",\"address\":\"100 Block Of Lupine Av\",\"city\":\"San Francisco\",\"state\":\"CA\",\"agency_id\":\"1\",\"address_type\":\"Premise Address\"}\\n,{\"crime_id\":\"190160918\",\"original_crimetype_name\":\"Trespasser\",\"report_date\":\"2019-01-16T00:00:00.000\",\"call_date\":\"2019-01-16T00:00:00.000\",\"offense_date\":\"2019-01-16T00:00:00.000\",\"call_time\":\"08:56\",\"call_dttm\":\"2019-01-16T08:56:00.000\",\"disposition\":\"HAN\",\"address\":\"700 Block Of Polk St\",\"city\":\"San Francisco\",\"state\":\"CA\",\"agency_id\":\"1\",\"address_type\":\"Premise Address\"}\\n,{\"crime_id\":\"161021341\",\"original_crimetype_name\":\"Suspicious Person\",\"report_date\":\"2016-04-11T00:00:00.000\",\"call_date\":\"2016-04-11T00:00:00.000\",\"offense_date\":\"2016-04-11T00:00:00.000\",\"call_time\":\"10:40\",\"call_dttm\":\"2016-04-11T10:40:00.000\",\"disposition\":\"ADV\",\"address\":\"Claude Ln/sutter St\",\"city\":\"San Francisco\",\"state\":\"CA\",\"agency_id\":\"1\",\"address_type\":\"Intersection\"}\\n,{\"crime_id\":\"190173115\",\"original_crimetype_name\":\"Traffic Stop\",\"report_date\":\"2019-01-17T00:00:00.000\",\"call_date\":\"2019-01-17T00:00:00.000\",\"offense_date\":\"2019-01-17T00:00:00.000\",\"call_time\":\"17:37\",\"call_dttm\":\"2019-01-17T17:37:00.000\",\"disposition\":\"CIT\",\"address\":\"300 Block Of Vallejo St\",\"city\":\"San Francisco\",\"state\":\"CA\",\"agency_id\":\"1\",\"address_type\":\"Premise Address\"}\\n,{\"crime_id\":\"190033356\",\"original_crimetype_name\":\"Traffic Stop\",\"report_date\":\"2019-01-03T00:00:00.000\",\"call_date\":\"2019-01-03T00:00:00.000\",\"offense_date\":\"2019-01-03T00:00:00.000\",\"call_time\":\"19:59\",\"call_dttm\":\"2019-01-03T19:59:00.000\",\"disposition\":\"CIT\",\"address\":\"700 Blk Fulton St\",\"city\":\"San Francisco\",\"state\":\"CA\",\"agency_id\":\"1\",\"address_type\":\"Geo-Override\"}\\n,{\"crime_id\":\"190123819\",\"original_crimetype_name\":\"Suspicious Vehicle\",\"report_date\":\"2019-01-12T00:00:00.000\",\"call_date\":\"2019-01-12T00:00:00.000\",\"offense_date\":\"2019-01-12T00:00:00.000\",\"call_time\":\"22:18\",\"call_dttm\":\"2019-01-12T22:18:00.000\",\"disposition\":\"UTL\",\"address\":\"San Jose Av/arlington St\",\"city\":\"San Francisco\",\"state\":\"CA\",\"agency_id\":\"1\",\"address_type\":\"Intersection\"}\\n,{\"crime_id\":\"190173123\",\"original_crimetype_name\":\"Traffic Stop\",\"report_date\":\"2019-01-17T00:00:00.000\",\"call_date\":\"2019-01-17T00:00:00.000\",\"offense_date\":\"2019-01-17T00:00:00.000\",\"call_time\":\"17:39\",\"call_dttm\":\"2019-01-17T17:39:00.000\",\"disposition\":\"CIT\",\"address\":\"Brannan St/4th St\",\"city\":\"San Francisco\",\"state\":\"CA\",\"agency_id\":\"1\",\"address_type\":\"Intersection\"}\\n,{\"crime_id\":\"190181272\",\"original_crimetype_name\":\"Well Being Check\",\"report_date\":\"2019-01-18T00:00:00.000\",\"call_date\":\"2019-01-18T00:00:00.000\",\"offense_date\":\"2019-01-18T00:00:00.000\",\"call_time\":\"10:16\",\"call_dttm\":\"2019-01-18T10:16:00.000\",\"disposition\":\"NOM\",\"address\":\"Highland Av/mission St\",\"city\":\"San Francisco\",\"state\":\"CA\",\"agency_id\":\"1\",\"address_type\":\"Intersection\"}\\n,{\"crime_id\":\"190070064\",\"original_crimetype_name\":\"Passing Call\",\"report_date\":\"2019-01-07T00:00:00.000\",\"call_date\":\"2019-01-07T00:00:00.000\",\"offense_date\":\"2019-01-07T00:00:00.000\",\"call_time\":\"00:30\",\"call_dttm\":\"2019-01-07T00:30:00.000\",\"disposition\":\"HAN\",\"address\":\"1700 Block Of Broderick St\",\"city\":\"San Francisco\",\"state\":\"CA\",\"agency_id\":\"1\",\"address_type\":\"Premise Address\"}\\n,{\"crime_id\":\"193051460\",\"original_crimetype_name\":\"Audible Alarm\",\"report_date\":\"2019-11-01T00:00:00.000\",\"call_date\":\"2019-11-01T00:00:00.000\",\"offense_date\":\"2019-11-01T00:00:00.000\",\"call_time\":\"10:25\",\"call_dttm\":\"2019-11-01T10:25:00.000\",\"disposition\":\"CAN\",\"address\":\"100 Block Of Arnold Av\",\"city\":\"San Francisco\",\"state\":\"CA\",\"agency_id\":\"1\",\"address_type\":\"Premise Address\"}\\n,{\"crime_id\":\"193051470\",\"original_crimetype_name\":\"Trespasser\",\"report_date\":\"2019-11-01T00:00:00.000\",\"call_date\":\"2019-11-01T00:00:00.000\",\"offense_date\":\"2019-11-01T00:00:00.000\",\"call_time\":\"10:28\",\"call_dttm\":\"2019-11-01T10:28:00.000\",\"disposition\":\"UTL\",\"address\":\"800 Block Of Ellis St\",\"city\":\"San Francisco\",\"state\":\"CA\",\"agency_id\":\"1\",\"address_type\":\"Premise Address\"}\\n,{\"crime_id\":\"190173119\",\"original_crimetype_name\":\"Traf Violation Cite\",\"report_date\":\"2019-01-17T00:00:00.000\",\"call_date\":\"2019-01-17T00:00:00.000\",\"offense_date\":\"2019-01-17T00:00:00.000\",\"call_time\":\"17:37\",\"call_dttm\":\"2019-01-17T17:37:00.000\",\"disposition\":\"ADV\",\"address\":\"500 Block Of Folsom St\",\"city\":\"San Francisco\",\"state\":\"CA\",\"agency_id\":\"1\",\"address_type\":\"Premise Address\"}\\n,{\"crime_id\":\"190042630\",\"original_crimetype_name\":\"Passing Call\",\"report_date\":\"2019-01-04T00:00:00.000\",\"call_date\":\"2019-01-04T00:00:00.000\",\"offense_date\":\"2019-01-04T00:00:00.000\",\"call_time\":\"16:52\",\"call_dttm\":\"2019-01-04T16:52:00.000\",\"disposition\":\"HAN\",\"address\":\"Saint Francis Bl/portola Dr\",\"city\":\"San Francisco\",\"state\":\"CA\",\"agency_id\":\"1\",\"address_type\":\"Intersection\"}\\n,{\"crime_id\":\"190101745\",\"original_crimetype_name\":\"Passing Call\",\"report_date\":\"2019-01-10T00:00:00.000\",\"call_date\":\"2019-01-10T00:00:00.000\",\"offense_date\":\"2019-01-10T00:00:00.000\",\"call_time\":\"12:13\",\"call_dttm\":\"2019-01-10T12:13:00.000\",\"disposition\":\"Not recorded\",\"address\":\"0 Blk 6th St\",\"city\":\"San Francisco\",\"state\":\"CA\",\"agency_id\":\"1\",\"address_type\":\"Geo-Override\"}\\n,{\"crime_id\":\"160940917\",\"original_crimetype_name\":\"Male\",\"report_date\":\"2016-04-03T00:00:00.000\",\"call_date\":\"2016-04-03T00:00:00.000\",\"offense_date\":\"2016-04-03T00:00:00.000\",\"call_time\":\"08:13\",\"call_dttm\":\"2016-04-03T08:13:00.000\",\"disposition\":\"ADV\",\"address\":\"1600 Block Of Jackson St\",\"city\":\"San Francisco\",\"state\":\"CA\",\"agency_id\":\"1\",\"address_type\":\"Premise Address\"}\\n,{\"crime_id\":\"190160921\",\"original_crimetype_name\":\"Npat\",\"report_date\":\"2019-01-16T00:00:00.000\",\"call_date\":\"2019-01-16T00:00:00.000\",\"offense_date\":\"2019-01-16T00:00:00.000\",\"call_time\":\"08:59\",\"call_dttm\":\"2019-01-16T08:59:00.000\",\"disposition\":\"GOA\",\"address\":\"100 Block Of Spencer St\",\"city\":\"San Francisco\",\"state\":\"CA\",\"agency_id\":\"1\",\"address_type\":\"Premise Address\"}\\n,{\"crime_id\":\"161080585\",\"original_crimetype_name\":\"Homeless Complaint\",\"report_date\":\"2016-04-17T00:00:00.000\",\"call_date\":\"2016-04-17T00:00:00.000\",\"offense_date\":\"2016-04-17T00:00:00.000\",\"call_time\":\"05:30\",\"call_dttm\":\"2016-04-17T05:30:00.000\",\"disposition\":\"ADV\",\"address\":\"3700 Block Of Buchanan St\",\"city\":\"San Francisco\",\"state\":\"CA\",\"agency_id\":\"1\",\"address_type\":\"Premise Address\"}\\n,{\"crime_id\":\"193051473\",\"original_crimetype_name\":\"Person Screaming\",\"report_date\":\"2019-11-01T00:00:00.000\",\"call_date\":\"2019-11-01T00:00:00.000\",\"offense_date\":\"2019-11-01T00:00:00.000\",\"call_time\":\"10:30\",\"call_dttm\":\"2019-11-01T10:30:00.000\",\"disposition\":\"NOM\",\"address\":\"3300 Block Of 26th St\",\"city\":\"San Francisco\",\"state\":\"CA\",\"agency_id\":\"1\",\"address_type\":\"Premise Address\"}\\n,{\"crime_id\":\"193051474\",\"original_crimetype_name\":\"Homeless Complaint\",\"report_date\":\"2019-11-01T00:00:00.000\",\"call_date\":\"2019-11-01T00:00:00.000\",\"offense_date\":\"2019-11-01T00:00:00.000\",\"call_time\":\"10:31\",\"call_dttm\":\"2019-11-01T10:31:00.000\",\"disposition\":\"GOA\",\"address\":\"2400 Block Of Market St\",\"city\":\"San Francisco\",\"state\":\"CA\",\"agency_id\":\"1\",\"address_type\":\"Common Location\",\"common_location\":\"Harvey Milk Pz, Sf\"}\\n,{\"crime_id\":\"193051487\",\"original_crimetype_name\":\"Susp Info\",\"report_date\":\"2019-11-01T00:00:00.000\",\"call_date\":\"2019-11-01T00:00:00.000\",\"offense_date\":\"2019-11-01T00:00:00.000\",\"call_time\":\"10:33\",\"call_dttm\":\"2019-11-01T10:33:00.000\",\"disposition\":\"REP\",\"address\":\"1100 Block Of Howard St\",\"city\":\"San Francisco\",\"state\":\"CA\",\"agency_id\":\"1\",\"address_type\":\"Premise Address\"}\\n,{\"crime_id\":\"193304425\",\"original_crimetype_name\":\"Noise Nuisance\",\"report_date\":\"2019-11-26T00:00:00.000\",\"call_date\":\"2019-11-26T00:00:00.000\",\"offense_date\":\"2019-11-26T00:00:00.000\",\"call_time\":\"23:45\",\"call_dttm\":\"2019-11-26T23:45:00.000\",\"disposition\":\"UTL\",\"address\":\"2000 Block Of Pacific Av\",\"city\":\"San Francisco\",\"state\":\"CA\",\"agency_id\":\"1\",\"address_type\":\"Premise Address\"}\\n,{\"crime_id\":\"190021432\",\"original_crimetype_name\":\"Homeless Complaint\",\"report_date\":\"2019-01-02T00:00:00.000\",\"call_date\":\"2019-01-02T00:00:00.000\",\"offense_date\":\"2019-01-02T00:00:00.000\",\"call_time\":\"11:27\",\"call_dttm\":\"2019-01-02T11:27:00.000\",\"disposition\":\"HAN\",\"address\":\"Waller St/octavia St\",\"city\":\"San Francisco\",\"state\":\"CA\",\"agency_id\":\"1\",\"address_type\":\"Intersection\"}\\n,{\"crime_id\":\"190060707\",\"original_crimetype_name\":\"Well Being Check\",\"report_date\":\"2019-01-06T00:00:00.000\",\"call_date\":\"2019-01-06T00:00:00.000\",\"offense_date\":\"2019-01-06T00:00:00.000\",\"call_time\":\"08:41\",\"call_dttm\":\"2019-01-06T08:41:00.000\",\"disposition\":\"ADV\",\"address\":\"500 Block Of Valencia St #208\",\"city\":\"San Francisco\",\"state\":\"CA\",\"agency_id\":\"1\",\"address_type\":\"Common Location\",\"common_location\":\"Crown Hotel #208, Sf\"}\\n,{\"crime_id\":\"190170120\",\"original_crimetype_name\":\"Traf Violation Cite\",\"report_date\":\"2019-01-17T00:00:00.000\",\"call_date\":\"2019-01-17T00:00:00.000\",\"offense_date\":\"2019-01-17T00:00:00.000\",\"call_time\":\"00:57\",\"call_dttm\":\"2019-01-17T00:57:00.000\",\"disposition\":\"CIT\",\"address\":\"2800 Block Of Polk St\",\"city\":\"San Francisco\",\"state\":\"CA\",\"agency_id\":\"1\",\"address_type\":\"Premise Address\"}\\n,{\"crime_id\":\"190193748\",\"original_crimetype_name\":\"Traffic Stop\",\"report_date\":\"2019-01-19T00:00:00.000\",\"call_date\":\"2019-01-19T00:00:00.000\",\"offense_date\":\"2019-01-19T00:00:00.000\",\"call_time\":\"20:51\",\"call_dttm\":\"2019-01-19T20:51:00.000\",\"disposition\":\"ADV\",\"address\":\"Ashbury St/clayton St\",\"city\":\"San Francisco\",\"state\":\"CA\",\"agency_id\":\"1\",\"address_type\":\"Intersection\"}\\n,{\"crime_id\":\"190201451\",\"original_crimetype_name\":\"Passing Call\",\"report_date\":\"2019-01-20T00:00:00.000\",\"call_date\":\"2019-01-20T00:00:00.000\",\"offense_date\":\"2019-01-20T00:00:00.000\",\"call_time\":\"11:55\",\"call_dttm\":\"2019-01-20T11:55:00.000\",\"disposition\":\"HAN\",\"address\":\"1000 Block Of 3rd St\",\"city\":\"San Francisco\",\"state\":\"CA\",\"agency_id\":\"1\",\"address_type\":\"Common Location\",\"common_location\":\"3rd St Bridge-Mission Creek, Sf\"}\\n,{\"crime_id\":\"190033359\",\"original_crimetype_name\":\"Wreckless\",\"report_date\":\"2019-01-03T00:00:00.000\",\"call_date\":\"2019-01-03T00:00:00.000\",\"offense_date\":\"2019-01-03T00:00:00.000\",\"call_time\":\"19:58\",\"call_dttm\":\"2019-01-03T19:58:00.000\",\"disposition\":\"ND\",\"address\":\"18th St/diamond St\",\"city\":\"San Francisco\",\"state\":\"CA\",\"agency_id\":\"1\",\"address_type\":\"Intersection\"}\\n,{\"crime_id\":\"193051488\",\"original_crimetype_name\":\"Passing Call\",\"report_date\":\"2019-11-01T00:00:00.000\",\"call_date\":\"2019-11-01T00:00:00.000\",\"offense_date\":\"2019-11-01T00:00:00.000\",\"call_time\":\"10:35\",\"call_dttm\":\"2019-11-01T10:35:00.000\",\"disposition\":\"Not recorded\",\"address\":\"100 Block Of Mcallister St\",\"city\":\"San Francisco\",\"state\":\"CA\",\"agency_id\":\"1\",\"address_type\":\"Premise Address\"}\\n,{\"crime_id\":\"193051491\",\"original_crimetype_name\":\"Auto Boost / Strip\",\"report_date\":\"2019-11-01T00:00:00.000\",\"call_date\":\"2019-11-01T00:00:00.000\",\"offense_date\":\"2019-11-01T00:00:00.000\",\"call_time\":\"10:32\",\"call_dttm\":\"2019-11-01T10:32:00.000\",\"disposition\":\"HAN\",\"address\":\"Princeton St/bacon St\",\"city\":\"San Francisco\",\"state\":\"CA\",\"agency_id\":\"1\",\"address_type\":\"Intersection\"}\\n,{\"crime_id\":\"193051492\",\"original_crimetype_name\":\"22500f\",\"report_date\":\"2019-11-01T00:00:00.000\",\"call_date\":\"2019-11-01T00:00:00.000\",\"offense_date\":\"2019-11-01T00:00:00.000\",\"call_time\":\"10:30\",\"call_dttm\":\"2019-11-01T10:30:00.000\",\"disposition\":\"GOA\",\"address\":\"Kirkham St/27th Av\",\"city\":\"San Francisco\",\"state\":\"CA\",\"agency_id\":\"1\",\"address_type\":\"Intersection\"}\\n,{\"crime_id\":\"193330060\",\"original_crimetype_name\":\"Dog\",\"report_date\":\"2019-11-29T00:00:00.000\",\"call_date\":\"2019-11-29T00:00:00.000\",\"offense_date\":\"2019-11-29T00:00:00.000\",\"call_time\":\"00:35\",\"call_dttm\":\"2019-11-29T00:35:00.000\",\"disposition\":\"UTL\",\"address\":\"900 Block Of Ingerson Av\",\"city\":\"San Francisco\",\"state\":\"CA\",\"agency_id\":\"1\",\"address_type\":\"Premise Address\"}\\n,{\"crime_id\":\"193361614\",\"original_crimetype_name\":\"Passing Call\",\"report_date\":\"2019-12-02T00:00:00.000\",\"call_date\":\"2019-12-02T00:00:00.000\",\"offense_date\":\"2019-12-02T00:00:00.000\",\"call_time\":\"11:51\",\"call_dttm\":\"2019-12-02T11:51:00.000\",\"disposition\":\"HAN\",\"address\":\"24th St/mission St\",\"city\":\"San Francisco\",\"state\":\"CA\",\"agency_id\":\"1\",\"address_type\":\"Intersection\"}\\n,{\"crime_id\":\"190021433\",\"original_crimetype_name\":\"Homeless Complaint\",\"report_date\":\"2019-01-02T00:00:00.000\",\"call_date\":\"2019-01-02T00:00:00.000\",\"offense_date\":\"2019-01-02T00:00:00.000\",\"call_time\":\"11:27\",\"call_dttm\":\"2019-01-02T11:27:00.000\",\"disposition\":\"ADV\",\"address\":\"Cesar Chavez St/101sb C Chavez On\",\"city\":\"San Francisco\",\"state\":\"CA\",\"agency_id\":\"1\",\"address_type\":\"Intersection\"}\\n,{\"crime_id\":\"190160924\",\"original_crimetype_name\":\"Traf Violation Cite\",\"report_date\":\"2019-01-16T00:00:00.000\",\"call_date\":\"2019-01-16T00:00:00.000\",\"offense_date\":\"2019-01-16T00:00:00.000\",\"call_time\":\"09:01\",\"call_dttm\":\"2019-01-16T09:01:00.000\",\"disposition\":\"CAN\",\"address\":\"300 Block Of Mississippi St\",\"city\":\"San Francisco\",\"state\":\"CA\",\"agency_id\":\"1\",\"address_type\":\"Premise Address\"}\\n,{\"crime_id\":\"193051498\",\"original_crimetype_name\":\"Homeless Complaint\",\"report_date\":\"2019-11-01T00:00:00.000\",\"call_date\":\"2019-11-01T00:00:00.000\",\"offense_date\":\"2019-11-01T00:00:00.000\",\"call_time\":\"10:37\",\"call_dttm\":\"2019-11-01T10:37:00.000\",\"disposition\":\"ADV\",\"address\":\"800 Block Of Folsom St\",\"city\":\"San Francisco\",\"state\":\"CA\",\"agency_id\":\"1\",\"address_type\":\"Premise Address\"}\\n,{\"crime_id\":\"193051521\",\"original_crimetype_name\":\"Suspicious Vehicle\",\"report_date\":\"2019-11-01T00:00:00.000\",\"call_date\":\"2019-11-01T00:00:00.000\",\"offense_date\":\"2019-11-01T00:00:00.000\",\"call_time\":\"10:41\",\"call_dttm\":\"2019-11-01T10:41:00.000\",\"disposition\":\"ND\",\"address\":\"1100 Block Of Hollister Av\",\"city\":\"San Francisco\",\"state\":\"CA\",\"agency_id\":\"1\",\"address_type\":\"Premise Address\"}\\n,{\"crime_id\":\"193051524\",\"original_crimetype_name\":\"Assault / Battery\",\"report_date\":\"2019-11-01T00:00:00.000\",\"call_date\":\"2019-11-01T00:00:00.000\",\"offense_date\":\"2019-11-01T00:00:00.000\",\"call_time\":\"10:40\",\"call_dttm\":\"2019-11-01T10:40:00.000\",\"disposition\":\"REP\",\"address\":\"1400 Block Of Market St\",\"city\":\"San Francisco\",\"state\":\"CA\",\"agency_id\":\"1\",\"address_type\":\"Premise Address\"}\\n,{\"crime_id\":\"193281772\",\"original_crimetype_name\":\"Passing Call\",\"report_date\":\"2019-11-24T00:00:00.000\",\"call_date\":\"2019-11-24T00:00:00.000\",\"offense_date\":\"2019-11-24T00:00:00.000\",\"call_time\":\"13:38\",\"call_dttm\":\"2019-11-24T13:38:00.000\",\"disposition\":\"HAN\",\"address\":\"0 Block Of The Embarcadero Sou\",\"city\":\"San Francisco\",\"state\":\"CA\",\"agency_id\":\"1\",\"address_type\":\"Common Location\",\"common_location\":\"Ferry Bldg, Sf\"}\\n,{\"crime_id\":\"190193749\",\"original_crimetype_name\":\"Found\",\"report_date\":\"2019-01-19T00:00:00.000\",\"call_date\":\"2019-01-19T00:00:00.000\",\"offense_date\":\"2019-01-19T00:00:00.000\",\"call_time\":\"20:50\",\"call_dttm\":\"2019-01-19T20:50:00.000\",\"disposition\":\"REP\",\"address\":\"1400 Block Of Sacramento St\",\"city\":\"San Francisco\",\"state\":\"CA\",\"agency_id\":\"1\",\"address_type\":\"Premise Address\"}\\n,{\"crime_id\":\"190082170\",\"original_crimetype_name\":\"Passing Call\",\"report_date\":\"2019-01-08T00:00:00.000\",\"call_date\":\"2019-01-08T00:00:00.000\",\"offense_date\":\"2019-01-08T00:00:00.000\",\"call_time\":\"15:03\",\"call_dttm\":\"2019-01-08T15:03:00.000\",\"disposition\":\"Not recorded\",\"address\":\"4800 Block Of 3rd St\",\"city\":\"San Francisco\",\"state\":\"CA\",\"agency_id\":\"1\",\"address_type\":\"Premise Address\"}\\n,{\"crime_id\":\"190104231\",\"original_crimetype_name\":\"Passing Call\",\"report_date\":\"2019-01-10T00:00:00.000\",\"call_date\":\"2019-01-10T00:00:00.000\",\"offense_date\":\"2019-01-10T00:00:00.000\",\"call_time\":\"22:40\",\"call_dttm\":\"2019-01-10T22:40:00.000\",\"disposition\":\"HAN\",\"address\":\"Irving St/20th Av\",\"city\":\"San Francisco\",\"state\":\"CA\",\"agency_id\":\"1\",\"address_type\":\"Intersection\"}\\n,{\"crime_id\":\"190131855\",\"original_crimetype_name\":\"415\",\"report_date\":\"2019-01-13T00:00:00.000\",\"call_date\":\"2019-01-13T00:00:00.000\",\"offense_date\":\"2019-01-13T00:00:00.000\",\"call_time\":\"13:56\",\"call_dttm\":\"2019-01-13T13:56:00.000\",\"disposition\":\"CIT\",\"address\":\"Haight St/ashbury St\",\"city\":\"San Francisco\",\"state\":\"CA\",\"agency_id\":\"1\",\"address_type\":\"Intersection\"}\\n,{\"crime_id\":\"190170124\",\"original_crimetype_name\":\"Passing Call\",\"report_date\":\"2019-01-17T00:00:00.000\",\"call_date\":\"2019-01-17T00:00:00.000\",\"offense_date\":\"2019-01-17T00:00:00.000\",\"call_time\":\"01:00\",\"call_dttm\":\"2019-01-17T01:00:00.000\",\"disposition\":\"HAN\",\"address\":\"2100 Block Of Union St\",\"city\":\"San Francisco\",\"state\":\"CA\",\"agency_id\":\"1\",\"address_type\":\"Premise Address\"}\\n,{\"crime_id\":\"193051041\",\"original_crimetype_name\":\"Audible Alarm\",\"report_date\":\"2019-11-01T00:00:00.000\",\"call_date\":\"2019-11-01T00:00:00.000\",\"offense_date\":\"2019-11-01T00:00:00.000\",\"call_time\":\"08:35\",\"call_dttm\":\"2019-11-01T08:35:00.000\",\"disposition\":\"NOM\",\"address\":\"0 Block Of Geary St\",\"city\":\"San Francisco\",\"state\":\"CA\",\"agency_id\":\"1\",\"address_type\":\"Premise Address\"}\\n,{\"crime_id\":\"193051525\",\"original_crimetype_name\":\"Suspicious Vehicle\",\"report_date\":\"2019-11-01T00:00:00.000\",\"call_date\":\"2019-11-01T00:00:00.000\",\"offense_date\":\"2019-11-01T00:00:00.000\",\"call_time\":\"10:42\",\"call_dttm\":\"2019-11-01T10:42:00.000\",\"disposition\":\"HAN\",\"address\":\"1100 Block Of Hollister Av\",\"city\":\"San Francisco\",\"state\":\"CA\",\"agency_id\":\"1\",\"address_type\":\"Premise Address\"}\\n,{\"crime_id\":\"193051528\",\"original_crimetype_name\":\"H&r Veh Accident\",\"report_date\":\"2019-11-01T00:00:00.000\",\"call_date\":\"2019-11-01T00:00:00.000\",\"offense_date\":\"2019-11-01T00:00:00.000\",\"call_time\":\"10:42\",\"call_dttm\":\"2019-11-01T10:42:00.000\",\"disposition\":\"REP\",\"address\":\"2300 Block Of 16th St\",\"city\":\"San Francisco\",\"state\":\"CA\",\"agency_id\":\"1\",\"address_type\":\"Premise Address\"}\\n,{\"crime_id\":\"193333523\",\"original_crimetype_name\":\"Well Being Check\",\"report_date\":\"2019-11-29T00:00:00.000\",\"call_date\":\"2019-11-29T00:00:00.000\",\"offense_date\":\"2019-11-29T00:00:00.000\",\"call_time\":\"23:39\",\"call_dttm\":\"2019-11-29T23:39:00.000\",\"disposition\":\"HAN\",\"address\":\"Folsom St/columbia Square St\",\"city\":\"San Francisco\",\"state\":\"CA\",\"agency_id\":\"1\",\"address_type\":\"Intersection\"}\\n,{\"crime_id\":\"193360472\",\"original_crimetype_name\":\"Passing Call\",\"report_date\":\"2019-12-02T00:00:00.000\",\"call_date\":\"2019-12-02T00:00:00.000\",\"offense_date\":\"2019-12-02T00:00:00.000\",\"call_time\":\"06:43\",\"call_dttm\":\"2019-12-02T06:43:00.000\",\"disposition\":\"HAN\",\"address\":\"400 Block Of 24th St\",\"city\":\"San Francisco\",\"state\":\"CA\",\"agency_id\":\"1\",\"address_type\":\"Common Location\",\"common_location\":\"Warm Water Cove Park\"}\\n,{\"crime_id\":\"190051435\",\"original_crimetype_name\":\"Intoxicated Person\",\"report_date\":\"2019-01-05T00:00:00.000\",\"call_date\":\"2019-01-05T00:00:00.000\",\"offense_date\":\"2019-01-05T00:00:00.000\",\"call_time\":\"12:26\",\"call_dttm\":\"2019-01-05T12:26:00.000\",\"disposition\":\"ADV\",\"address\":\"400 Block Of Jones St\",\"city\":\"San Francisco\",\"state\":\"CA\",\"agency_id\":\"1\",\"address_type\":\"Premise Address\"}\\n,{\"crime_id\":\"190082171\",\"original_crimetype_name\":\"Passing Call\",\"report_date\":\"2019-01-08T00:00:00.000\",\"call_date\":\"2019-01-08T00:00:00.000\",\"offense_date\":\"2019-01-08T00:00:00.000\",\"call_time\":\"15:04\",\"call_dttm\":\"2019-01-08T15:04:00.000\",\"disposition\":\"HAN\",\"address\":\"Post St/stockton St\",\"city\":\"San Francisco\",\"state\":\"CA\",\"agency_id\":\"1\",\"address_type\":\"Intersection\"}\\n,{\"crime_id\":\"190121004\",\"original_crimetype_name\":\"Fight No Weapon\",\"report_date\":\"2019-01-12T00:00:00.000\",\"call_date\":\"2019-01-12T00:00:00.000\",\"offense_date\":\"2019-01-12T00:00:00.000\",\"call_time\":\"09:23\",\"call_dttm\":\"2019-01-12T09:23:00.000\",\"disposition\":\"GOA\",\"address\":\"1800 Block Of Market St\",\"city\":\"San Francisco\",\"state\":\"CA\",\"agency_id\":\"1\",\"address_type\":\"Premise Address\"}\\n,{\"crime_id\":\"161021342\",\"original_crimetype_name\":\"Wanted Vehicle / Sub\",\"report_date\":\"2016-04-11T00:00:00.000\",\"call_date\":\"2016-04-11T00:00:00.000\",\"offense_date\":\"2016-04-11T00:00:00.000\",\"call_time\":\"10:40\",\"call_dttm\":\"2016-04-11T10:40:00.000\",\"disposition\":\"REP\",\"address\":\"500 Block Of 7th St\",\"city\":\"San Francisco\",\"state\":\"CA\",\"agency_id\":\"1\",\"address_type\":\"Premise Address\"}\\n,{\"crime_id\":\"190140697\",\"original_crimetype_name\":\"Traffic Stop\",\"report_date\":\"2019-01-14T00:00:00.000\",\"call_date\":\"2019-01-14T00:00:00.000\",\"offense_date\":\"2019-01-14T00:00:00.000\",\"call_time\":\"07:54\",\"call_dttm\":\"2019-01-14T07:54:00.000\",\"disposition\":\"ND\",\"address\":\"5th St/jessie St\",\"city\":\"San Francisco\",\"state\":\"CA\",\"agency_id\":\"1\",\"address_type\":\"Intersection\"}\\n,{\"crime_id\":\"190143926\",\"original_crimetype_name\":\"Passing Call\",\"report_date\":\"2019-01-14T00:00:00.000\",\"call_date\":\"2019-01-14T00:00:00.000\",\"offense_date\":\"2019-01-14T00:00:00.000\",\"call_time\":\"22:37\",\"call_dttm\":\"2019-01-14T22:37:00.000\",\"disposition\":\"Not recorded\",\"address\":\"100 Block Of Christmas Tree Point Rd\",\"city\":\"San Francisco\",\"state\":\"CA\",\"agency_id\":\"1\",\"address_type\":\"Common Location\",\"common_location\":\"Twin Peaks Viewpoint\"}\\n,{\"crime_id\":\"190170125\",\"original_crimetype_name\":\"Passing Call\",\"report_date\":\"2019-01-17T00:00:00.000\",\"call_date\":\"2019-01-17T00:00:00.000\",\"offense_date\":\"2019-01-17T00:00:00.000\",\"call_time\":\"01:00\",\"call_dttm\":\"2019-01-17T01:00:00.000\",\"disposition\":\"HAN\",\"address\":\"Lakeshore Plaza\",\"state\":\"CA\",\"agency_id\":\"1\",\"address_type\":\"Geo-Override\"}\\n,{\"crime_id\":\"190181274\",\"original_crimetype_name\":\"Threats / Harassment\",\"report_date\":\"2019-01-18T00:00:00.000\",\"call_date\":\"2019-01-18T00:00:00.000\",\"offense_date\":\"2019-01-18T00:00:00.000\",\"call_time\":\"10:23\",\"call_dttm\":\"2019-01-18T10:23:00.000\",\"disposition\":\"CAN\",\"address\":\"Franklin St/eddy St\",\"city\":\"San Francisco\",\"state\":\"CA\",\"agency_id\":\"1\",\"address_type\":\"Intersection\"}\\n,{\"crime_id\":\"160940918\",\"original_crimetype_name\":\"Sw\",\"report_date\":\"2016-04-03T00:00:00.000\",\"call_date\":\"2016-04-03T00:00:00.000\",\"offense_date\":\"2016-04-03T00:00:00.000\",\"call_time\":\"08:15\",\"call_dttm\":\"2016-04-03T08:15:00.000\",\"disposition\":\"CIT\",\"address\":\"500 Block Of 35th Av\",\"city\":\"San Francisco\",\"state\":\"CA\",\"agency_id\":\"1\",\"address_type\":\"Premise Address\"}\\n,{\"crime_id\":\"193051529\",\"original_crimetype_name\":\"7.2.46\",\"report_date\":\"2019-11-01T00:00:00.000\",\"call_date\":\"2019-11-01T00:00:00.000\",\"offense_date\":\"2019-11-01T00:00:00.000\",\"call_time\":\"10:41\",\"call_dttm\":\"2019-11-01T10:41:00.000\",\"disposition\":\"HAN\",\"address\":\"1600 Block Of Shrader St\",\"city\":\"San Francisco\",\"state\":\"CA\",\"agency_id\":\"1\",\"address_type\":\"Premise Address\"}\\n,{\"crime_id\":\"193051531\",\"original_crimetype_name\":\"Well Being Check\",\"report_date\":\"2019-11-01T00:00:00.000\",\"call_date\":\"2019-11-01T00:00:00.000\",\"offense_date\":\"2019-11-01T00:00:00.000\",\"call_time\":\"10:42\",\"call_dttm\":\"2019-11-01T10:42:00.000\",\"disposition\":\"ND\",\"address\":\"Church St/market St\",\"city\":\"San Francisco\",\"state\":\"CA\",\"agency_id\":\"1\",\"address_type\":\"Intersection\"}\\n,{\"crime_id\":\"193051540\",\"original_crimetype_name\":\"Passing Call\",\"report_date\":\"2019-11-01T00:00:00.000\",\"call_date\":\"2019-11-01T00:00:00.000\",\"offense_date\":\"2019-11-01T00:00:00.000\",\"call_time\":\"10:46\",\"call_dttm\":\"2019-11-01T10:46:00.000\",\"disposition\":\"HAN\",\"address\":\"Beach St/taylor St\",\"city\":\"San Francisco\",\"state\":\"CA\",\"agency_id\":\"1\",\"address_type\":\"Intersection\"}\\n,{\"crime_id\":\"193330062\",\"original_crimetype_name\":\"Family\",\"report_date\":\"2019-11-29T00:00:00.000\",\"call_date\":\"2019-11-29T00:00:00.000\",\"offense_date\":\"2019-11-29T00:00:00.000\",\"call_time\":\"00:38\",\"call_dttm\":\"2019-11-29T00:38:00.000\",\"disposition\":\"ND\",\"address\":\"800 Block Of Rolph St\",\"city\":\"San Francisco\",\"state\":\"CA\",\"agency_id\":\"1\",\"address_type\":\"Premise Address\"}\\n,{\"crime_id\":\"190051439\",\"original_crimetype_name\":\"Suspicious Person\",\"report_date\":\"2019-01-05T00:00:00.000\",\"call_date\":\"2019-01-05T00:00:00.000\",\"offense_date\":\"2019-01-05T00:00:00.000\",\"call_time\":\"12:27\",\"call_dttm\":\"2019-01-05T12:27:00.000\",\"disposition\":\"ADV\",\"address\":\"500 Block Of Natoma St\",\"city\":\"San Francisco\",\"state\":\"CA\",\"agency_id\":\"1\",\"address_type\":\"Premise Address\"}\\n,{\"crime_id\":\"161021347\",\"original_crimetype_name\":\"Traffic Stop\",\"report_date\":\"2016-04-11T00:00:00.000\",\"call_date\":\"2016-04-11T00:00:00.000\",\"offense_date\":\"2016-04-11T00:00:00.000\",\"call_time\":\"10:41\",\"call_dttm\":\"2016-04-11T10:41:00.000\",\"disposition\":\"HAN\",\"address\":\"Market St/mcallister St\",\"city\":\"San Francisco\",\"state\":\"CA\",\"agency_id\":\"1\",\"address_type\":\"Intersection\"}\\n,{\"crime_id\":\"190210886\",\"original_crimetype_name\":\"22500e\",\"report_date\":\"2019-01-21T00:00:00.000\",\"call_date\":\"2019-01-21T00:00:00.000\",\"offense_date\":\"2019-01-21T00:00:00.000\",\"call_time\":\"08:46\",\"call_dttm\":\"2019-01-21T08:46:00.000\",\"disposition\":\"HAN\",\"address\":\"300 Block Of Prospect Av\",\"city\":\"San Francisco\",\"state\":\"CA\",\"agency_id\":\"1\",\"address_type\":\"Premise Address\"}\\n,{\"crime_id\":\"190101746\",\"original_crimetype_name\":\"Passing Call\",\"report_date\":\"2019-01-10T00:00:00.000\",\"call_date\":\"2019-01-10T00:00:00.000\",\"offense_date\":\"2019-01-10T00:00:00.000\",\"call_time\":\"12:13\",\"call_dttm\":\"2019-01-10T12:13:00.000\",\"disposition\":\"HAN\",\"address\":\"Tiffany Av/duncan St\",\"city\":\"San Francisco\",\"state\":\"CA\",\"agency_id\":\"1\",\"address_type\":\"Intersection\"}\\n,{\"crime_id\":\"190104234\",\"original_crimetype_name\":\"Dw\",\"report_date\":\"2019-01-10T00:00:00.000\",\"call_date\":\"2019-01-10T00:00:00.000\",\"offense_date\":\"2019-01-10T00:00:00.000\",\"call_time\":\"22:41\",\"call_dttm\":\"2019-01-10T22:41:00.000\",\"disposition\":\"HAN\",\"address\":\"400 Block Of Noe St\",\"city\":\"San Francisco\",\"state\":\"CA\",\"agency_id\":\"1\",\"address_type\":\"Premise Address\"}\\n,{\"crime_id\":\"160961076\",\"original_crimetype_name\":\"Auto Boost / Strip\",\"report_date\":\"2016-04-05T00:00:00.000\",\"call_date\":\"2016-04-05T00:00:00.000\",\"offense_date\":\"2016-04-05T00:00:00.000\",\"call_time\":\"09:54\",\"call_dttm\":\"2016-04-05T09:54:00.000\",\"disposition\":\"REP\",\"address\":\"500 Block Of Illinois St\",\"city\":\"San Francisco\",\"state\":\"CA\",\"agency_id\":\"1\",\"address_type\":\"Premise Address\"}\\n,{\"crime_id\":\"190184132\",\"original_crimetype_name\":\"Strongarm Robbery\",\"report_date\":\"2019-01-18T00:00:00.000\",\"call_date\":\"2019-01-18T00:00:00.000\",\"offense_date\":\"2019-01-18T00:00:00.000\",\"call_time\":\"22:22\",\"call_dttm\":\"2019-01-18T22:22:00.000\",\"disposition\":\"REP\",\"address\":\"Grant Av/pine St\",\"city\":\"San Francisco\",\"state\":\"CA\",\"agency_id\":\"1\",\"address_type\":\"Intersection\"}\\n,{\"crime_id\":\"193051548\",\"original_crimetype_name\":\"Traffic Stop\",\"report_date\":\"2019-11-01T00:00:00.000\",\"call_date\":\"2019-11-01T00:00:00.000\",\"offense_date\":\"2019-11-01T00:00:00.000\",\"call_time\":\"10:48\",\"call_dttm\":\"2019-11-01T10:48:00.000\",\"disposition\":\"CIT\",\"address\":\"Taraval St/44th Av\",\"city\":\"San Francisco\",\"state\":\"CA\",\"agency_id\":\"1\",\"address_type\":\"Intersection\"}\\n,{\"crime_id\":\"193051555\",\"original_crimetype_name\":\"Complaint Unkn\",\"report_date\":\"2019-11-01T00:00:00.000\",\"call_date\":\"2019-11-01T00:00:00.000\",\"offense_date\":\"2019-11-01T00:00:00.000\",\"call_time\":\"10:50\",\"call_dttm\":\"2019-11-01T10:50:00.000\",\"disposition\":\"HAN\",\"address\":\"1100 Block Of Market St\",\"city\":\"San Francisco\",\"state\":\"CA\",\"agency_id\":\"1\",\"address_type\":\"Premise Address\"}\\n,{\"crime_id\":\"193293291\",\"original_crimetype_name\":\"Traf Violation Cite\",\"report_date\":\"2019-11-25T00:00:00.000\",\"call_date\":\"2019-11-25T00:00:00.000\",\"offense_date\":\"2019-11-25T00:00:00.000\",\"call_time\":\"19:20\",\"call_dttm\":\"2019-11-25T19:20:00.000\",\"disposition\":\"CIT\",\"address\":\"900 Block Of Turk St\",\"city\":\"San Francisco\",\"state\":\"CA\",\"agency_id\":\"1\",\"address_type\":\"Premise Address\"}\\n,{\"crime_id\":\"193330130\",\"original_crimetype_name\":\"Living\",\"report_date\":\"2019-11-29T00:00:00.000\",\"call_date\":\"2019-11-29T00:00:00.000\",\"offense_date\":\"2019-11-29T00:00:00.000\",\"call_time\":\"01:36\",\"call_dttm\":\"2019-11-29T01:36:00.000\",\"disposition\":\"ADV\",\"address\":\"800 Block Of Bowdoin St\",\"city\":\"San Francisco\",\"state\":\"CA\",\"agency_id\":\"1\",\"address_type\":\"Premise Address\"}\\n,{\"crime_id\":\"193383658\",\"original_crimetype_name\":\"Traf Violation Cite\",\"report_date\":\"2019-12-04T00:00:00.000\",\"call_date\":\"2019-12-04T00:00:00.000\",\"offense_date\":\"2019-12-04T00:00:00.000\",\"call_time\":\"19:03\",\"call_dttm\":\"2019-12-04T19:03:00.000\",\"disposition\":\"GOA\",\"address\":\"1600 Block Of Greenwich St\",\"city\":\"San Francisco\",\"state\":\"CA\",\"agency_id\":\"1\",\"address_type\":\"Premise Address\"}\\n,{\"crime_id\":\"190060710\",\"original_crimetype_name\":\"7.2.27\",\"report_date\":\"2019-01-06T00:00:00.000\",\"call_date\":\"2019-01-06T00:00:00.000\",\"offense_date\":\"2019-01-06T00:00:00.000\",\"call_time\":\"08:44\",\"call_dttm\":\"2019-01-06T08:44:00.000\",\"disposition\":\"CIT\",\"address\":\"1300 Block Of Hyde St\",\"city\":\"San Francisco\",\"state\":\"CA\",\"agency_id\":\"1\",\"address_type\":\"Premise Address\"}\\n,{\"crime_id\":\"190070065\",\"original_crimetype_name\":\"Passing Call\",\"report_date\":\"2019-01-07T00:00:00.000\",\"call_date\":\"2019-01-07T00:00:00.000\",\"offense_date\":\"2019-01-07T00:00:00.000\",\"call_time\":\"00:31\",\"call_dttm\":\"2019-01-07T00:31:00.000\",\"disposition\":\"HAN\",\"address\":\"24th St/shotwell St\",\"city\":\"San Francisco\",\"state\":\"CA\",\"agency_id\":\"1\",\"address_type\":\"Intersection\"}\\n,{\"crime_id\":\"190170126\",\"original_crimetype_name\":\"Passing Call\",\"report_date\":\"2019-01-17T00:00:00.000\",\"call_date\":\"2019-01-17T00:00:00.000\",\"offense_date\":\"2019-01-17T00:00:00.000\",\"call_time\":\"01:00\",\"call_dttm\":\"2019-01-17T01:00:00.000\",\"disposition\":\"Not recorded\",\"address\":\"Block Of Park St\",\"city\":\"San Francisco\",\"state\":\"CA\",\"agency_id\":\"1\",\"address_type\":\"Premise Address\"}\\n,{\"crime_id\":\"190221151\",\"original_crimetype_name\":\"Auto Boost / Strip\",\"report_date\":\"2019-01-22T00:00:00.000\",\"call_date\":\"2019-01-22T00:00:00.000\",\"offense_date\":\"2019-01-22T00:00:00.000\",\"call_time\":\"09:58\",\"call_dttm\":\"2019-01-22T09:58:00.000\",\"disposition\":\"REP\",\"address\":\"1400 Block Of Powell St\",\"city\":\"San Francisco\",\"state\":\"CA\",\"agency_id\":\"1\",\"address_type\":\"Premise Address\"}\\n,{\"crime_id\":\"160920290\",\"original_crimetype_name\":\"Fight No Weapon\",\"report_date\":\"2016-04-01T00:00:00.000\",\"call_date\":\"2016-04-01T00:00:00.000\",\"offense_date\":\"2016-04-01T00:00:00.000\",\"call_time\":\"03:11\",\"call_dttm\":\"2016-04-01T03:11:00.000\",\"disposition\":\"ABA\",\"address\":\"100 Block Of Santos St\",\"city\":\"San Francisco\",\"state\":\"CA\",\"agency_id\":\"1\",\"address_type\":\"Premise Address\"}\\n,{\"crime_id\":\"190101747\",\"original_crimetype_name\":\"Attempt\",\"report_date\":\"2019-01-10T00:00:00.000\",\"call_date\":\"2019-01-10T00:00:00.000\",\"offense_date\":\"2019-01-10T00:00:00.000\",\"call_time\":\"12:10\",\"call_dttm\":\"2019-01-10T12:10:00.000\",\"disposition\":\"22\",\"address\":\"800 Block Of Market St\",\"city\":\"San Francisco\",\"state\":\"CA\",\"agency_id\":\"1\",\"address_type\":\"Premise Address\"}\\n,{\"crime_id\":\"190221152\",\"original_crimetype_name\":\"Rz/500e\",\"report_date\":\"2019-01-22T00:00:00.000\",\"call_date\":\"2019-01-22T00:00:00.000\",\"offense_date\":\"2019-01-22T00:00:00.000\",\"call_time\":\"09:57\",\"call_dttm\":\"2019-01-22T09:57:00.000\",\"disposition\":\"GOA\",\"address\":\"500 Block Of Persia Av\",\"city\":\"San Francisco\",\"state\":\"CA\",\"agency_id\":\"1\",\"address_type\":\"Premise Address\"}\\n,{\"crime_id\":\"190042631\",\"original_crimetype_name\":\"Vandalism\",\"report_date\":\"2019-01-04T00:00:00.000\",\"call_date\":\"2019-01-04T00:00:00.000\",\"offense_date\":\"2019-01-04T00:00:00.000\",\"call_time\":\"16:51\",\"call_dttm\":\"2019-01-04T16:51:00.000\",\"disposition\":\"HAN\",\"address\":\"2000 Block Of Union St\",\"city\":\"San Francisco\",\"state\":\"CA\",\"agency_id\":\"1\",\"address_type\":\"Premise Address\"}\\n,{\"crime_id\":\"193051557\",\"original_crimetype_name\":\"Burglary\",\"report_date\":\"2019-11-01T00:00:00.000\",\"call_date\":\"2019-11-01T00:00:00.000\",\"offense_date\":\"2019-11-01T00:00:00.000\",\"call_time\":\"10:50\",\"call_dttm\":\"2019-11-01T10:50:00.000\",\"disposition\":\"REP\",\"address\":\"600 Block Of Ofarrell St\",\"city\":\"San Francisco\",\"state\":\"CA\",\"agency_id\":\"1\",\"address_type\":\"Premise Address\"}\\n,{\"crime_id\":\"193051565\",\"original_crimetype_name\":\"Auto Boost / Strip\",\"report_date\":\"2019-11-01T00:00:00.000\",\"call_date\":\"2019-11-01T00:00:00.000\",\"offense_date\":\"2019-11-01T00:00:00.000\",\"call_time\":\"10:55\",\"call_dttm\":\"2019-11-01T10:55:00.000\",\"disposition\":\"ND\",\"address\":\"1100 Block Of Point Lobos Av\",\"city\":\"San Francisco\",\"state\":\"CA\",\"agency_id\":\"1\",\"address_type\":\"Common Location\",\"common_location\":\"Cliff House, Sf\"}\\n,{\"crime_id\":\"193051568\",\"original_crimetype_name\":\"Person Dumping\",\"report_date\":\"2019-11-01T00:00:00.000\",\"call_date\":\"2019-11-01T00:00:00.000\",\"offense_date\":\"2019-11-01T00:00:00.000\",\"call_time\":\"10:56\",\"call_dttm\":\"2019-11-01T10:56:00.000\",\"disposition\":\"ADV\",\"address\":\"Harrison St/18th St\",\"city\":\"San Francisco\",\"state\":\"CA\",\"agency_id\":\"1\",\"address_type\":\"Intersection\"}\\n,{\"crime_id\":\"193272085\",\"original_crimetype_name\":\"Homeless Complaint\",\"report_date\":\"2019-11-23T00:00:00.000\",\"call_date\":\"2019-11-23T00:00:00.000\",\"offense_date\":\"2019-11-23T00:00:00.000\",\"call_time\":\"14:18\",\"call_dttm\":\"2019-11-23T14:18:00.000\",\"disposition\":\"ND\",\"address\":\"5th St/bryant St\",\"city\":\"San Francisco\",\"state\":\"CA\",\"agency_id\":\"1\",\"address_type\":\"Intersection\"}\\n,{\"crime_id\":\"193382422\",\"original_crimetype_name\":\"Mentally Disturbed\",\"report_date\":\"2019-12-04T00:00:00.000\",\"call_date\":\"2019-12-04T00:00:00.000\",\"offense_date\":\"2019-12-04T00:00:00.000\",\"call_time\":\"14:10\",\"call_dttm\":\"2019-12-04T14:10:00.000\",\"disposition\":\"HAN\",\"address\":\"Jackson St/grant Av\",\"city\":\"San Francisco\",\"state\":\"CA\",\"agency_id\":\"1\",\"address_type\":\"Intersection\"}\\n,{\"crime_id\":\"190092658\",\"original_crimetype_name\":\"Traffic Stop\",\"report_date\":\"2019-01-09T00:00:00.000\",\"call_date\":\"2019-01-09T00:00:00.000\",\"offense_date\":\"2019-01-09T00:00:00.000\",\"call_time\":\"16:07\",\"call_dttm\":\"2019-01-09T16:07:00.000\",\"disposition\":\"CIT\",\"address\":\"500 Block Of Frederick St\",\"city\":\"San Francisco\",\"state\":\"CA\",\"agency_id\":\"1\",\"address_type\":\"Premise Address\"}\\n,{\"crime_id\":\"190131857\",\"original_crimetype_name\":\"Traffic Stop\",\"report_date\":\"2019-01-13T00:00:00.000\",\"call_date\":\"2019-01-13T00:00:00.000\",\"offense_date\":\"2019-01-13T00:00:00.000\",\"call_time\":\"13:57\",\"call_dttm\":\"2019-01-13T13:57:00.000\",\"disposition\":\"CIT\",\"address\":\"7th St/bryant St\",\"city\":\"San Francisco\",\"state\":\"CA\",\"agency_id\":\"1\",\"address_type\":\"Intersection\"}\\n,{\"crime_id\":\"161100667\",\"original_crimetype_name\":\"Person W/knife\",\"report_date\":\"2016-04-19T00:00:00.000\",\"call_date\":\"2016-04-19T00:00:00.000\",\"offense_date\":\"2016-04-19T00:00:00.000\",\"call_time\":\"07:34\",\"call_dttm\":\"2016-04-19T07:34:00.000\",\"disposition\":\"HAN\",\"address\":\"300 Block Of 3rd St\",\"city\":\"San Francisco\",\"state\":\"CA\",\"agency_id\":\"1\",\"address_type\":\"Premise Address\"}\\n,{\"crime_id\":\"190143928\",\"original_crimetype_name\":\"Passing Call\",\"report_date\":\"2019-01-14T00:00:00.000\",\"call_date\":\"2019-01-14T00:00:00.000\",\"offense_date\":\"2019-01-14T00:00:00.000\",\"call_time\":\"22:37\",\"call_dttm\":\"2019-01-14T22:37:00.000\",\"disposition\":\"HAN\",\"address\":\"100 Block Of Christmas Tree Point Rd\",\"city\":\"San Francisco\",\"state\":\"CA\",\"agency_id\":\"1\",\"address_type\":\"Common Location\",\"common_location\":\"Twin Peaks Viewpoint, Sf\"}\\n,{\"crime_id\":\"190221155\",\"original_crimetype_name\":\"Homeless Complaint\",\"report_date\":\"2019-01-22T00:00:00.000\",\"call_date\":\"2019-01-22T00:00:00.000\",\"offense_date\":\"2019-01-22T00:00:00.000\",\"call_time\":\"10:00\",\"call_dttm\":\"2019-01-22T10:00:00.000\",\"disposition\":\"HAN\",\"address\":\"0 Block Of Langton St\",\"city\":\"San Francisco\",\"state\":\"CA\",\"agency_id\":\"1\",\"address_type\":\"Premise Address\"}\\n,{\"crime_id\":\"193051578\",\"original_crimetype_name\":\"Traffic Stop\",\"report_date\":\"2019-11-01T00:00:00.000\",\"call_date\":\"2019-11-01T00:00:00.000\",\"offense_date\":\"2019-11-01T00:00:00.000\",\"call_time\":\"11:01\",\"call_dttm\":\"2019-11-01T11:01:00.000\",\"disposition\":\"CIT\",\"address\":\"Sansome St/merchant St\",\"city\":\"San Francisco\",\"state\":\"CA\",\"agency_id\":\"1\",\"address_type\":\"Intersection\"}\\n,{\"crime_id\":\"190072937\",\"original_crimetype_name\":\"Aggr Soliciting\",\"report_date\":\"2019-01-07T00:00:00.000\",\"call_date\":\"2019-01-07T00:00:00.000\",\"offense_date\":\"2019-01-07T00:00:00.000\",\"call_time\":\"18:01\",\"call_dttm\":\"2019-01-07T18:01:00.000\",\"disposition\":\"GOA\",\"address\":\"500 Block Of Geary St\",\"city\":\"San Francisco\",\"state\":\"CA\",\"agency_id\":\"1\",\"address_type\":\"Premise Address\"}\\n,{\"crime_id\":\"190201453\",\"original_crimetype_name\":\"Fight No Weapon\",\"report_date\":\"2019-01-20T00:00:00.000\",\"call_date\":\"2019-01-20T00:00:00.000\",\"offense_date\":\"2019-01-20T00:00:00.000\",\"call_time\":\"11:52\",\"call_dttm\":\"2019-01-20T11:52:00.000\",\"disposition\":\"HAN\",\"address\":\"3800 Block Of 3rd St\",\"city\":\"San Francisco\",\"state\":\"CA\",\"agency_id\":\"1\",\"address_type\":\"Common Location\",\"common_location\":\"Bayview Pz, Sf\"}\\n,{\"crime_id\":\"161021348\",\"original_crimetype_name\":\"Well Being Check\",\"report_date\":\"2016-04-11T00:00:00.000\",\"call_date\":\"2016-04-11T00:00:00.000\",\"offense_date\":\"2016-04-11T00:00:00.000\",\"call_time\":\"10:41\",\"call_dttm\":\"2016-04-11T10:41:00.000\",\"disposition\":\"UTL\",\"address\":\"0 Block Of 6th St\",\"city\":\"San Francisco\",\"state\":\"CA\",\"agency_id\":\"1\",\"address_type\":\"Premise Address\"}\\n,{\"crime_id\":\"190184136\",\"original_crimetype_name\":\"Audible Alarm\",\"report_date\":\"2019-01-18T00:00:00.000\",\"call_date\":\"2019-01-18T00:00:00.000\",\"offense_date\":\"2019-01-18T00:00:00.000\",\"call_time\":\"22:21\",\"call_dttm\":\"2019-01-18T22:21:00.000\",\"disposition\":\"NCR\",\"address\":\"200 Block Of Post St\",\"city\":\"San Francisco\",\"state\":\"CA\",\"agency_id\":\"1\",\"address_type\":\"Premise Address\"}\\n,{\"crime_id\":\"193051585\",\"original_crimetype_name\":\"Well Being Check\",\"report_date\":\"2019-11-01T00:00:00.000\",\"call_date\":\"2019-11-01T00:00:00.000\",\"offense_date\":\"2019-11-01T00:00:00.000\",\"call_time\":\"11:01\",\"call_dttm\":\"2019-11-01T11:01:00.000\",\"disposition\":\"GOA\",\"address\":\"1000 Block Of Market St\",\"city\":\"San Francisco\",\"state\":\"CA\",\"agency_id\":\"1\",\"address_type\":\"Premise Address\"}\\n,{\"crime_id\":\"193280374\",\"original_crimetype_name\":\"Meet W/citizen\",\"report_date\":\"2019-11-24T00:00:00.000\",\"call_date\":\"2019-11-24T00:00:00.000\",\"offense_date\":\"2019-11-24T00:00:00.000\",\"call_time\":\"03:03\",\"call_dttm\":\"2019-11-24T03:03:00.000\",\"disposition\":\"UTL\",\"address\":\"3400 Block Of Mission St\",\"city\":\"San Francisco\",\"state\":\"CA\",\"agency_id\":\"1\",\"address_type\":\"Premise Address\"}\\n,{\"crime_id\":\"193382423\",\"original_crimetype_name\":\"Audible Alarm\",\"report_date\":\"2019-12-04T00:00:00.000\",\"call_date\":\"2019-12-04T00:00:00.000\",\"offense_date\":\"2019-12-04T00:00:00.000\",\"call_time\":\"14:19\",\"call_dttm\":\"2019-12-04T14:19:00.000\",\"disposition\":\"REP\",\"address\":\"500 Block Of Raymond Av\",\"city\":\"San Francisco\",\"state\":\"CA\",\"agency_id\":\"1\",\"address_type\":\"Premise Address\"}\\n,{\"crime_id\":\"190201454\",\"original_crimetype_name\":\"Passing Call\",\"report_date\":\"2019-01-20T00:00:00.000\",\"call_date\":\"2019-01-20T00:00:00.000\",\"offense_date\":\"2019-01-20T00:00:00.000\",\"call_time\":\"11:55\",\"call_dttm\":\"2019-01-20T11:55:00.000\",\"disposition\":\"Not recorded\",\"address\":\"500 Blk Grant Av\",\"city\":\"San Francisco\",\"state\":\"CA\",\"agency_id\":\"1\",\"address_type\":\"Geo-Override\"}\\n,{\"crime_id\":\"193051587\",\"original_crimetype_name\":\"Living In Rv\\'s\",\"report_date\":\"2019-11-01T00:00:00.000\",\"call_date\":\"2019-11-01T00:00:00.000\",\"offense_date\":\"2019-11-01T00:00:00.000\",\"call_time\":\"11:00\",\"call_dttm\":\"2019-11-01T11:00:00.000\",\"disposition\":\"ADV\",\"address\":\"Executive Park Bl/alana Wy\",\"city\":\"San Francisco\",\"state\":\"CA\",\"agency_id\":\"1\",\"address_type\":\"Intersection\"}\\n,{\"crime_id\":\"193361615\",\"original_crimetype_name\":\"Assault / Battery Dv\",\"report_date\":\"2019-12-02T00:00:00.000\",\"call_date\":\"2019-12-02T00:00:00.000\",\"offense_date\":\"2019-12-02T00:00:00.000\",\"call_time\":\"11:49\",\"call_dttm\":\"2019-12-02T11:49:00.000\",\"disposition\":\"REP\",\"address\":\"500 Block Of Parnassus Av #Er\",\"city\":\"San Francisco\",\"state\":\"CA\",\"agency_id\":\"1\",\"address_type\":\"Common Location\",\"common_location\":\"Ucsf Hospital - Parnassus (Ucm) #Er, Sf\"}\\n,{\"crime_id\":\"193412869\",\"original_crimetype_name\":\"Passing Call\",\"report_date\":\"2019-12-07T00:00:00.000\",\"call_date\":\"2019-12-07T00:00:00.000\",\"offense_date\":\"2019-12-07T00:00:00.000\",\"call_time\":\"16:47\",\"call_dttm\":\"2019-12-07T16:47:00.000\",\"disposition\":\"ND\",\"address\":\"3rd St/paul Av\",\"city\":\"San Francisco\",\"state\":\"CA\",\"agency_id\":\"1\",\"address_type\":\"Intersection\"}\\n,{\"crime_id\":\"190152405\",\"original_crimetype_name\":\"Mentally Disturbed\",\"report_date\":\"2019-01-15T00:00:00.000\",\"call_date\":\"2019-01-15T00:00:00.000\",\"offense_date\":\"2019-01-15T00:00:00.000\",\"call_time\":\"15:09\",\"call_dttm\":\"2019-01-15T15:09:00.000\",\"disposition\":\"GOA\",\"address\":\"600 Block Of Mission St\",\"city\":\"San Francisco\",\"state\":\"CA\",\"agency_id\":\"1\",\"address_type\":\"Premise Address\"}\\n,{\"crime_id\":\"161000225\",\"original_crimetype_name\":\"Traf Violation Tow\",\"report_date\":\"2016-04-09T00:00:00.000\",\"call_date\":\"2016-04-09T00:00:00.000\",\"offense_date\":\"2016-04-09T00:00:00.000\",\"call_time\":\"01:26\",\"call_dttm\":\"2016-04-09T01:26:00.000\",\"disposition\":\"CAN\",\"address\":\"1200 Block Of Revere Av\",\"city\":\"San Francisco\",\"state\":\"CA\",\"agency_id\":\"1\",\"address_type\":\"Premise Address\"}\\n,{\"crime_id\":\"190021434\",\"original_crimetype_name\":\"Assault / Battery Dv\",\"report_date\":\"2019-01-02T00:00:00.000\",\"call_date\":\"2019-01-02T00:00:00.000\",\"offense_date\":\"2019-01-02T00:00:00.000\",\"call_time\":\"11:27\",\"call_dttm\":\"2019-01-02T11:27:00.000\",\"disposition\":\"GOA\",\"address\":\"400 Block Of 3rd Av\",\"city\":\"San Francisco\",\"state\":\"CA\",\"agency_id\":\"1\",\"address_type\":\"Premise Address\"}\\n,{\"crime_id\":\"193051589\",\"original_crimetype_name\":\"800 Poss\",\"report_date\":\"2019-11-01T00:00:00.000\",\"call_date\":\"2019-11-01T00:00:00.000\",\"offense_date\":\"2019-11-01T00:00:00.000\",\"call_time\":\"11:02\",\"call_dttm\":\"2019-11-01T11:02:00.000\",\"disposition\":\"Not recorded\",\"address\":\"300 Block Of Sutter St\",\"city\":\"San Francisco\",\"state\":\"CA\",\"agency_id\":\"1\",\"address_type\":\"Premise Address\"}\\n,{\"crime_id\":\"193051593\",\"original_crimetype_name\":\"Open\",\"report_date\":\"2019-11-01T00:00:00.000\",\"call_date\":\"2019-11-01T00:00:00.000\",\"offense_date\":\"2019-11-01T00:00:00.000\",\"call_time\":\"11:04\",\"call_dttm\":\"2019-11-01T11:04:00.000\",\"disposition\":\"HAN\",\"address\":\"100 Block Of Kearny St\",\"city\":\"San Francisco\",\"state\":\"CA\",\"agency_id\":\"1\",\"address_type\":\"Premise Address\"}\\n,{\"crime_id\":\"193051598\",\"original_crimetype_name\":\"Mentally Disturbed\",\"report_date\":\"2019-11-01T00:00:00.000\",\"call_date\":\"2019-11-01T00:00:00.000\",\"offense_date\":\"2019-11-01T00:00:00.000\",\"call_time\":\"11:05\",\"call_dttm\":\"2019-11-01T11:05:00.000\",\"disposition\":\"UTL\",\"address\":\"Sutter St/montgomery St\",\"city\":\"San Francisco\",\"state\":\"CA\",\"agency_id\":\"1\",\"address_type\":\"Intersection\"}\\n,{\"crime_id\":\"193051615\",\"original_crimetype_name\":\"Passing Call\",\"report_date\":\"2019-11-01T00:00:00.000\",\"call_date\":\"2019-11-01T00:00:00.000\",\"offense_date\":\"2019-11-01T00:00:00.000\",\"call_time\":\"11:10\",\"call_dttm\":\"2019-11-01T11:10:00.000\",\"disposition\":\"HAN\",\"address\":\"100 Block Of Christmas Tree Point Rd\",\"city\":\"San Francisco\",\"state\":\"CA\",\"agency_id\":\"1\",\"address_type\":\"Common Location\",\"common_location\":\"Twin Peaks Viewpoint, Sf\"}\\n,{\"crime_id\":\"193051620\",\"original_crimetype_name\":\"Homeless Complaint\",\"report_date\":\"2019-11-01T00:00:00.000\",\"call_date\":\"2019-11-01T00:00:00.000\",\"offense_date\":\"2019-11-01T00:00:00.000\",\"call_time\":\"11:10\",\"call_dttm\":\"2019-11-01T11:10:00.000\",\"disposition\":\"HAN\",\"address\":\"0 Block Of Cedar St\",\"city\":\"San Francisco\",\"state\":\"CA\",\"agency_id\":\"1\",\"address_type\":\"Premise Address\"}\\n,{\"crime_id\":\"193280378\",\"original_crimetype_name\":\"Ringing Doorbell\",\"report_date\":\"2019-11-24T00:00:00.000\",\"call_date\":\"2019-11-24T00:00:00.000\",\"offense_date\":\"2019-11-24T00:00:00.000\",\"call_time\":\"03:23\",\"call_dttm\":\"2019-11-24T03:23:00.000\",\"disposition\":\"GOA\",\"address\":\"900 Block Of Haight St\",\"city\":\"San Francisco\",\"state\":\"CA\",\"agency_id\":\"1\",\"address_type\":\"Premise Address\"}\\n,{\"crime_id\":\"190042637\",\"original_crimetype_name\":\"Petty Theft\",\"report_date\":\"2019-01-04T00:00:00.000\",\"call_date\":\"2019-01-04T00:00:00.000\",\"offense_date\":\"2019-01-04T00:00:00.000\",\"call_time\":\"16:50\",\"call_dttm\":\"2019-01-04T16:50:00.000\",\"disposition\":\"GOA\",\"address\":\"1800 Block Of Noriega St\",\"city\":\"San Francisco\",\"state\":\"CA\",\"agency_id\":\"1\",\"address_type\":\"Premise Address\"}\\n,{\"crime_id\":\"190060712\",\"original_crimetype_name\":\"Passing Call\",\"report_date\":\"2019-01-06T00:00:00.000\",\"call_date\":\"2019-01-06T00:00:00.000\",\"offense_date\":\"2019-01-06T00:00:00.000\",\"call_time\":\"08:46\",\"call_dttm\":\"2019-01-06T08:46:00.000\",\"disposition\":\"HAN\",\"address\":\"0 Block Of The Embarcadero Sou\",\"city\":\"San Francisco\",\"state\":\"CA\",\"agency_id\":\"1\",\"address_type\":\"Common Location\",\"common_location\":\"Ferry Bldg, Sf\"}\\n,{\"crime_id\":\"190092659\",\"original_crimetype_name\":\"Passing Call\",\"report_date\":\"2019-01-09T00:00:00.000\",\"call_date\":\"2019-01-09T00:00:00.000\",\"offense_date\":\"2019-01-09T00:00:00.000\",\"call_time\":\"16:08\",\"call_dttm\":\"2019-01-09T16:08:00.000\",\"disposition\":\"HAN\",\"address\":\"St Francis Woods\",\"state\":\"CA\",\"agency_id\":\"1\",\"address_type\":\"Geo-Override\"}\\n,{\"crime_id\":\"161080587\",\"original_crimetype_name\":\"Audible Alarm\",\"report_date\":\"2016-04-17T00:00:00.000\",\"call_date\":\"2016-04-17T00:00:00.000\",\"offense_date\":\"2016-04-17T00:00:00.000\",\"call_time\":\"05:30\",\"call_dttm\":\"2016-04-17T05:30:00.000\",\"disposition\":\"PAS\",\"address\":\"2300 Block Of Polk St\",\"city\":\"San Francisco\",\"state\":\"CA\",\"agency_id\":\"1\",\"address_type\":\"Premise Address\"}\\n,{\"crime_id\":\"190152406\",\"original_crimetype_name\":\"22500e\",\"report_date\":\"2019-01-15T00:00:00.000\",\"call_date\":\"2019-01-15T00:00:00.000\",\"offense_date\":\"2019-01-15T00:00:00.000\",\"call_time\":\"15:11\",\"call_dttm\":\"2019-01-15T15:11:00.000\",\"disposition\":\"GOA\",\"address\":\"1500 Block Of 38th Av\",\"city\":\"San Francisco\",\"state\":\"CA\",\"agency_id\":\"1\",\"address_type\":\"Premise Address\"}\\n,{\"crime_id\":\"190152407\",\"original_crimetype_name\":\"Audible Alarm\",\"report_date\":\"2019-01-15T00:00:00.000\",\"call_date\":\"2019-01-15T00:00:00.000\",\"offense_date\":\"2019-01-15T00:00:00.000\",\"call_time\":\"15:09\",\"call_dttm\":\"2019-01-15T15:09:00.000\",\"disposition\":\"NCR\",\"address\":\"100 Block Of Forest Side Av\",\"city\":\"San Francisco\",\"state\":\"CA\",\"agency_id\":\"1\",\"address_type\":\"Premise Address\"}\\n,{\"crime_id\":\"190201457\",\"original_crimetype_name\":\"Vandalism\",\"report_date\":\"2019-01-20T00:00:00.000\",\"call_date\":\"2019-01-20T00:00:00.000\",\"offense_date\":\"2019-01-20T00:00:00.000\",\"call_time\":\"11:55\",\"call_dttm\":\"2019-01-20T11:55:00.000\",\"disposition\":\"REP\",\"address\":\"2800 Block Of Diamond St\",\"city\":\"San Francisco\",\"state\":\"CA\",\"agency_id\":\"1\",\"address_type\":\"Premise Address\"}\\n,{\"crime_id\":\"190042638\",\"original_crimetype_name\":\"Poss\",\"report_date\":\"2019-01-04T00:00:00.000\",\"call_date\":\"2019-01-04T00:00:00.000\",\"offense_date\":\"2019-01-04T00:00:00.000\",\"call_time\":\"16:53\",\"call_dttm\":\"2019-01-04T16:53:00.000\",\"disposition\":\"ARR\",\"address\":\"16th St/potrero Av\",\"city\":\"San Francisco\",\"state\":\"CA\",\"agency_id\":\"1\",\"address_type\":\"Intersection\"}\\n,{\"crime_id\":\"193051622\",\"original_crimetype_name\":\"Threats / Harassment\",\"report_date\":\"2019-11-01T00:00:00.000\",\"call_date\":\"2019-11-01T00:00:00.000\",\"offense_date\":\"2019-11-01T00:00:00.000\",\"call_time\":\"11:06\",\"call_dttm\":\"2019-11-01T11:06:00.000\",\"disposition\":\"UTL\",\"address\":\"Golden Gate Av/jones St\",\"city\":\"San Francisco\",\"state\":\"CA\",\"agency_id\":\"1\",\"address_type\":\"Intersection\"}\\n,{\"crime_id\":\"193051626\",\"original_crimetype_name\":\"Traffic Stop\",\"report_date\":\"2019-11-01T00:00:00.000\",\"call_date\":\"2019-11-01T00:00:00.000\",\"offense_date\":\"2019-11-01T00:00:00.000\",\"call_time\":\"11:13\",\"call_dttm\":\"2019-11-01T11:13:00.000\",\"disposition\":\"CIT\",\"address\":\"Haight St/ashbury St\",\"city\":\"San Francisco\",\"state\":\"CA\",\"agency_id\":\"1\",\"address_type\":\"Intersection\"}\\n,{\"crime_id\":\"193280380\",\"original_crimetype_name\":\"Robbery\",\"report_date\":\"2019-11-24T00:00:00.000\",\"call_date\":\"2019-11-24T00:00:00.000\",\"offense_date\":\"2019-11-24T00:00:00.000\",\"call_time\":\"03:27\",\"call_dttm\":\"2019-11-24T03:27:00.000\",\"disposition\":\"REP\",\"address\":\"2300 Block Of 24th Av\",\"city\":\"San Francisco\",\"state\":\"CA\",\"agency_id\":\"1\",\"address_type\":\"Common Location\",\"common_location\":\"Taraval Station, Sf\"}\\n,{\"crime_id\":\"190131859\",\"original_crimetype_name\":\"Trespasser\",\"report_date\":\"2019-01-13T00:00:00.000\",\"call_date\":\"2019-01-13T00:00:00.000\",\"offense_date\":\"2019-01-13T00:00:00.000\",\"call_time\":\"13:55\",\"call_dttm\":\"2019-01-13T13:55:00.000\",\"disposition\":\"ND\",\"address\":\"800 Block Of Van Ness Av\",\"city\":\"San Francisco\",\"state\":\"CA\",\"agency_id\":\"1\",\"address_type\":\"Premise Address\"}\\n,{\"crime_id\":\"190184137\",\"original_crimetype_name\":\"Traffic Stop\",\"report_date\":\"2019-01-18T00:00:00.000\",\"call_date\":\"2019-01-18T00:00:00.000\",\"offense_date\":\"2019-01-18T00:00:00.000\",\"call_time\":\"22:23\",\"call_dttm\":\"2019-01-18T22:23:00.000\",\"disposition\":\"ADV\",\"address\":\"Bay St/mason St\",\"city\":\"San Francisco\",\"state\":\"CA\",\"agency_id\":\"1\",\"address_type\":\"Intersection\"}\\n,{\"crime_id\":\"160940919\",\"original_crimetype_name\":\"Petty Theft\",\"report_date\":\"2016-04-03T00:00:00.000\",\"call_date\":\"2016-04-03T00:00:00.000\",\"offense_date\":\"2016-04-03T00:00:00.000\",\"call_time\":\"08:15\",\"call_dttm\":\"2016-04-03T08:15:00.000\",\"disposition\":\"REP\",\"address\":\"700 Block Of Shotwell St\",\"city\":\"San Francisco\",\"state\":\"CA\",\"agency_id\":\"1\",\"address_type\":\"Premise Address\"}\\n,{\"crime_id\":\"190210888\",\"original_crimetype_name\":\"Homeless Complaint\",\"report_date\":\"2019-01-21T00:00:00.000\",\"call_date\":\"2019-01-21T00:00:00.000\",\"offense_date\":\"2019-01-21T00:00:00.000\",\"call_time\":\"08:47\",\"call_dttm\":\"2019-01-21T08:47:00.000\",\"disposition\":\"GOA\",\"address\":\"300 Block Of Dorland St\",\"city\":\"San Francisco\",\"state\":\"CA\",\"agency_id\":\"1\",\"address_type\":\"Premise Address\"}\\n,{\"crime_id\":\"190160925\",\"original_crimetype_name\":\"Traf Violation Cite\",\"report_date\":\"2019-01-16T00:00:00.000\",\"call_date\":\"2019-01-16T00:00:00.000\",\"offense_date\":\"2019-01-16T00:00:00.000\",\"call_time\":\"09:01\",\"call_dttm\":\"2019-01-16T09:01:00.000\",\"disposition\":\"CIT\",\"address\":\"3400 Block Of Pierce St\",\"city\":\"San Francisco\",\"state\":\"CA\",\"agency_id\":\"1\",\"address_type\":\"Premise Address\"}\\n,{\"crime_id\":\"161000226\",\"original_crimetype_name\":\"415\",\"report_date\":\"2016-04-09T00:00:00.000\",\"call_date\":\"2016-04-09T00:00:00.000\",\"offense_date\":\"2016-04-09T00:00:00.000\",\"call_time\":\"01:27\",\"call_dttm\":\"2016-04-09T01:27:00.000\",\"disposition\":\"HAN\",\"address\":\"1200 Block Of Howard St\",\"city\":\"San Francisco\",\"state\":\"CA\",\"agency_id\":\"1\",\"address_type\":\"Premise Address\"}\\n,{\"crime_id\":\"193051627\",\"original_crimetype_name\":\"Complaint Unkn\",\"report_date\":\"2019-11-01T00:00:00.000\",\"call_date\":\"2019-11-01T00:00:00.000\",\"offense_date\":\"2019-11-01T00:00:00.000\",\"call_time\":\"11:12\",\"call_dttm\":\"2019-11-01T11:12:00.000\",\"disposition\":\"HAN\",\"address\":\"700 Block Of Mansell St\",\"city\":\"San Francisco\",\"state\":\"CA\",\"agency_id\":\"1\",\"address_type\":\"Premise Address\"}\\n,{\"crime_id\":\"190051440\",\"original_crimetype_name\":\"Well Being Check\",\"report_date\":\"2019-01-05T00:00:00.000\",\"call_date\":\"2019-01-05T00:00:00.000\",\"offense_date\":\"2019-01-05T00:00:00.000\",\"call_time\":\"12:26\",\"call_dttm\":\"2019-01-05T12:26:00.000\",\"disposition\":\"HAN\",\"address\":\"200 Block Of Hyde St\",\"city\":\"San Francisco\",\"state\":\"CA\",\"agency_id\":\"1\",\"address_type\":\"Premise Address\"}\\n,{\"crime_id\":\"190112337\",\"original_crimetype_name\":\"7.2.25\",\"report_date\":\"2019-01-11T00:00:00.000\",\"call_date\":\"2019-01-11T00:00:00.000\",\"offense_date\":\"2019-01-11T00:00:00.000\",\"call_time\":\"15:00\",\"call_dttm\":\"2019-01-11T15:00:00.000\",\"disposition\":\"CIT\",\"address\":\"400 Block Of Orizaba Av\",\"city\":\"San Francisco\",\"state\":\"CA\",\"agency_id\":\"1\",\"address_type\":\"Premise Address\"}\\n,{\"crime_id\":\"160940920\",\"original_crimetype_name\":\"Passing Call\",\"report_date\":\"2016-04-03T00:00:00.000\",\"call_date\":\"2016-04-03T00:00:00.000\",\"offense_date\":\"2016-04-03T00:00:00.000\",\"call_time\":\"08:16\",\"call_dttm\":\"2016-04-03T08:16:00.000\",\"disposition\":\"HAN\",\"address\":\"Delancey St/bryant St\",\"city\":\"San Francisco\",\"state\":\"CA\",\"agency_id\":\"1\",\"address_type\":\"Intersection\"}\\n,{\"crime_id\":\"193272087\",\"original_crimetype_name\":\"Passing Call\",\"report_date\":\"2019-11-23T00:00:00.000\",\"call_date\":\"2019-11-23T00:00:00.000\",\"offense_date\":\"2019-11-23T00:00:00.000\",\"call_time\":\"14:20\",\"call_dttm\":\"2019-11-23T14:20:00.000\",\"disposition\":\"HAN\",\"address\":\"500 Block Of The Embarcadero Sou\",\"city\":\"San Francisco\",\"state\":\"CA\",\"agency_id\":\"1\",\"address_type\":\"Common Location\",\"common_location\":\"Pier 30, Sf\"}\\n,{\"crime_id\":\"193413129\",\"original_crimetype_name\":\"Casers\",\"report_date\":\"2019-12-07T00:00:00.000\",\"call_date\":\"2019-12-07T00:00:00.000\",\"offense_date\":\"2019-12-07T00:00:00.000\",\"call_time\":\"17:51\",\"call_dttm\":\"2019-12-07T17:51:00.000\",\"disposition\":\"ADV\",\"address\":\"1600 Block Of Fell St\",\"city\":\"San Francisco\",\"state\":\"CA\",\"agency_id\":\"1\",\"address_type\":\"Premise Address\"}\\n,{\"crime_id\":\"190104252\",\"original_crimetype_name\":\"Passing Call\",\"report_date\":\"2019-01-10T00:00:00.000\",\"call_date\":\"2019-01-10T00:00:00.000\",\"offense_date\":\"2019-01-10T00:00:00.000\",\"call_time\":\"22:47\",\"call_dttm\":\"2019-01-10T22:47:00.000\",\"disposition\":\"HAN\",\"address\":\"1500 Block Of Haight St\",\"city\":\"San Francisco\",\"state\":\"CA\",\"agency_id\":\"1\",\"address_type\":\"Common Location\",\"common_location\":\"Haight St Corridor\"}\\n,{\"crime_id\":\"160940922\",\"original_crimetype_name\":\"Indecent Exposure\",\"report_date\":\"2016-04-03T00:00:00.000\",\"call_date\":\"2016-04-03T00:00:00.000\",\"offense_date\":\"2016-04-03T00:00:00.000\",\"call_time\":\"08:13\",\"call_dttm\":\"2016-04-03T08:13:00.000\",\"disposition\":\"ADM\",\"address\":\"18th St/castro St\",\"city\":\"San Francisco\",\"state\":\"CA\",\"agency_id\":\"1\",\"address_type\":\"Intersection\"}\\n,{\"crime_id\":\"190143930\",\"original_crimetype_name\":\"Passing Call\",\"report_date\":\"2019-01-14T00:00:00.000\",\"call_date\":\"2019-01-14T00:00:00.000\",\"offense_date\":\"2019-01-14T00:00:00.000\",\"call_time\":\"22:38\",\"call_dttm\":\"2019-01-14T22:38:00.000\",\"disposition\":\"HAN\",\"address\":\"500 Block Of Clement St\",\"city\":\"San Francisco\",\"state\":\"CA\",\"agency_id\":\"1\",\"address_type\":\"Common Location\",\"common_location\":\"Clement St Corridor\"}\\n,{\"crime_id\":\"193051633\",\"original_crimetype_name\":\"Fraud\",\"report_date\":\"2019-11-01T00:00:00.000\",\"call_date\":\"2019-11-01T00:00:00.000\",\"offense_date\":\"2019-11-01T00:00:00.000\",\"call_time\":\"11:12\",\"call_dttm\":\"2019-11-01T11:12:00.000\",\"disposition\":\"REP\",\"address\":\"1400 Block Of 18th St\",\"city\":\"San Francisco\",\"state\":\"CA\",\"agency_id\":\"1\",\"address_type\":\"Premise Address\"}\\n,{\"crime_id\":\"193051637\",\"original_crimetype_name\":\"Trespasser\",\"report_date\":\"2019-11-01T00:00:00.000\",\"call_date\":\"2019-11-01T00:00:00.000\",\"offense_date\":\"2019-11-01T00:00:00.000\",\"call_time\":\"11:13\",\"call_dttm\":\"2019-11-01T11:13:00.000\",\"disposition\":\"GOA\",\"address\":\"600 Block Of Mission St\",\"city\":\"San Francisco\",\"state\":\"CA\",\"agency_id\":\"1\",\"address_type\":\"Premise Address\"}\\n,{\"crime_id\":\"193051641\",\"original_crimetype_name\":\"Silent Holdup Alarm\",\"report_date\":\"2019-11-01T00:00:00.000\",\"call_date\":\"2019-11-01T00:00:00.000\",\"offense_date\":\"2019-11-01T00:00:00.000\",\"call_time\":\"11:17\",\"call_dttm\":\"2019-11-01T11:17:00.000\",\"disposition\":\"REP\",\"address\":\"1500 Block Of Thomas Av\",\"city\":\"San Francisco\",\"state\":\"CA\",\"agency_id\":\"1\",\"address_type\":\"Premise Address\"}\\n,{\"crime_id\":\"190170127\",\"original_crimetype_name\":\"5150\",\"report_date\":\"2019-01-17T00:00:00.000\",\"call_date\":\"2019-01-17T00:00:00.000\",\"offense_date\":\"2019-01-17T00:00:00.000\",\"call_time\":\"00:57\",\"call_dttm\":\"2019-01-17T00:57:00.000\",\"disposition\":\"HAN\",\"address\":\"400 Block Of Jones St\",\"city\":\"San Francisco\",\"state\":\"CA\",\"agency_id\":\"1\",\"address_type\":\"Premise Address\"}\\n,{\"crime_id\":\"161100668\",\"original_crimetype_name\":\"Traffic Stop\",\"report_date\":\"2016-04-19T00:00:00.000\",\"call_date\":\"2016-04-19T00:00:00.000\",\"offense_date\":\"2016-04-19T00:00:00.000\",\"call_time\":\"07:38\",\"call_dttm\":\"2016-04-19T07:38:00.000\",\"disposition\":\"CIT\",\"address\":\"Jefferson St/baker St\",\"city\":\"San Francisco\",\"state\":\"CA\",\"agency_id\":\"1\",\"address_type\":\"Intersection\"}\\n,{\"crime_id\":\"193051645\",\"original_crimetype_name\":\"Masturbator\",\"report_date\":\"2019-11-01T00:00:00.000\",\"call_date\":\"2019-11-01T00:00:00.000\",\"offense_date\":\"2019-11-01T00:00:00.000\",\"call_time\":\"11:12\",\"call_dttm\":\"2019-11-01T11:12:00.000\",\"disposition\":\"ND\",\"address\":\"4000 Block Of 24th St\",\"city\":\"San Francisco\",\"state\":\"CA\",\"agency_id\":\"1\",\"address_type\":\"Common Location\",\"common_location\":\"Whole Foods Mkt-Noe Valley, Sf\"}\\n,{\"crime_id\":\"190070066\",\"original_crimetype_name\":\"Passing Call\",\"report_date\":\"2019-01-07T00:00:00.000\",\"call_date\":\"2019-01-07T00:00:00.000\",\"offense_date\":\"2019-01-07T00:00:00.000\",\"call_time\":\"00:32\",\"call_dttm\":\"2019-01-07T00:32:00.000\",\"disposition\":\"HAN\",\"address\":\"100 Block Of Christmas Tree Point Rd\",\"city\":\"San Francisco\",\"state\":\"CA\",\"agency_id\":\"1\",\"address_type\":\"Common Location\",\"common_location\":\"Twin Peaks Viewpoint, Sf\"}\\n,{\"crime_id\":\"190082172\",\"original_crimetype_name\":\"Passing Call\",\"report_date\":\"2019-01-08T00:00:00.000\",\"call_date\":\"2019-01-08T00:00:00.000\",\"offense_date\":\"2019-01-08T00:00:00.000\",\"call_time\":\"15:04\",\"call_dttm\":\"2019-01-08T15:04:00.000\",\"disposition\":\"Not recorded\",\"address\":\"2600 Block Of San Bruno Av\",\"city\":\"San Francisco\",\"state\":\"CA\",\"agency_id\":\"1\",\"address_type\":\"Common Location\",\"common_location\":\"San Bruno Av Corridor, Sf\"}\\n,{\"crime_id\":\"190131860\",\"original_crimetype_name\":\"Traffic Stop\",\"report_date\":\"2019-01-13T00:00:00.000\",\"call_date\":\"2019-01-13T00:00:00.000\",\"offense_date\":\"2019-01-13T00:00:00.000\",\"call_time\":\"13:58\",\"call_dttm\":\"2019-01-13T13:58:00.000\",\"disposition\":\"CIT\",\"address\":\"Howard St/new Montgomery St\",\"city\":\"San Francisco\",\"state\":\"CA\",\"agency_id\":\"1\",\"address_type\":\"Intersection\"}\\n,{\"crime_id\":\"190201458\",\"original_crimetype_name\":\"Reckless\",\"report_date\":\"2019-01-20T00:00:00.000\",\"call_date\":\"2019-01-20T00:00:00.000\",\"offense_date\":\"2019-01-20T00:00:00.000\",\"call_time\":\"11:55\",\"call_dttm\":\"2019-01-20T11:55:00.000\",\"disposition\":\"ND\",\"address\":\"Fulton St/park Presidio Bl\",\"city\":\"San Francisco\",\"state\":\"CA\",\"agency_id\":\"1\",\"address_type\":\"Intersection\"}\\n,{\"crime_id\":\"193293292\",\"original_crimetype_name\":\"Traf Violation Cite\",\"report_date\":\"2019-11-25T00:00:00.000\",\"call_date\":\"2019-11-25T00:00:00.000\",\"offense_date\":\"2019-11-25T00:00:00.000\",\"call_time\":\"19:20\",\"call_dttm\":\"2019-11-25T19:20:00.000\",\"disposition\":\"ADV\",\"address\":\"800 Block Of Wisconsin St\",\"city\":\"San Francisco\",\"state\":\"CA\",\"agency_id\":\"1\",\"address_type\":\"Premise Address\"}\\n,{\"crime_id\":\"193304426\",\"original_crimetype_name\":\"Audible Alarm\",\"report_date\":\"2019-11-26T00:00:00.000\",\"call_date\":\"2019-11-26T00:00:00.000\",\"offense_date\":\"2019-11-26T00:00:00.000\",\"call_time\":\"23:45\",\"call_dttm\":\"2019-11-26T23:45:00.000\",\"disposition\":\"HAN\",\"address\":\"2600 Block Of 18th St\",\"city\":\"San Francisco\",\"state\":\"CA\",\"agency_id\":\"1\",\"address_type\":\"Premise Address\"}\\n,{\"crime_id\":\"190173120\",\"original_crimetype_name\":\"Passing Call\",\"report_date\":\"2019-01-17T00:00:00.000\",\"call_date\":\"2019-01-17T00:00:00.000\",\"offense_date\":\"2019-01-17T00:00:00.000\",\"call_time\":\"17:37\",\"call_dttm\":\"2019-01-17T17:37:00.000\",\"disposition\":\"Not recorded\",\"address\":\"6th St/jessie St\",\"city\":\"San Francisco\",\"state\":\"CA\",\"agency_id\":\"1\",\"address_type\":\"Intersection\"}\\n,{\"crime_id\":\"190140700\",\"original_crimetype_name\":\"Passing Call\",\"report_date\":\"2019-01-14T00:00:00.000\",\"call_date\":\"2019-01-14T00:00:00.000\",\"offense_date\":\"2019-01-14T00:00:00.000\",\"call_time\":\"07:55\",\"call_dttm\":\"2019-01-14T07:55:00.000\",\"disposition\":\"HAN\",\"address\":\"2200 Block Of 24th Av\",\"city\":\"San Francisco\",\"state\":\"CA\",\"agency_id\":\"1\",\"address_type\":\"Common Location\",\"common_location\":\"Lincoln Hs\"}\\n,{\"crime_id\":\"193051650\",\"original_crimetype_name\":\"Aided Case\",\"report_date\":\"2019-11-01T00:00:00.000\",\"call_date\":\"2019-11-01T00:00:00.000\",\"offense_date\":\"2019-11-01T00:00:00.000\",\"call_time\":\"11:20\",\"call_dttm\":\"2019-11-01T11:20:00.000\",\"disposition\":\"HAN\",\"address\":\"300 Block Of Post St\",\"city\":\"San Francisco\",\"state\":\"CA\",\"agency_id\":\"1\",\"address_type\":\"Common Location\",\"common_location\":\"Union Sq Garage, Sf\"}\\n,{\"crime_id\":\"193051667\",\"original_crimetype_name\":\"Passing Call\",\"report_date\":\"2019-11-01T00:00:00.000\",\"call_date\":\"2019-11-01T00:00:00.000\",\"offense_date\":\"2019-11-01T00:00:00.000\",\"call_time\":\"11:24\",\"call_dttm\":\"2019-11-01T11:24:00.000\",\"disposition\":\"HAN\",\"address\":\"Delancey St/beale St\",\"city\":\"San Francisco\",\"state\":\"CA\",\"agency_id\":\"1\",\"address_type\":\"Intersection\"}\\n,{\"crime_id\":\"193051669\",\"original_crimetype_name\":\"Veh Accident\",\"report_date\":\"2019-11-01T00:00:00.000\",\"call_date\":\"2019-11-01T00:00:00.000\",\"offense_date\":\"2019-11-01T00:00:00.000\",\"call_time\":\"11:24\",\"call_dttm\":\"2019-11-01T11:24:00.000\",\"disposition\":\"REP\",\"address\":\"400 Block Of Oak St\",\"city\":\"San Francisco\",\"state\":\"CA\",\"agency_id\":\"1\",\"address_type\":\"Premise Address\"}\\n,{\"crime_id\":\"193051670\",\"original_crimetype_name\":\"Passing Call\",\"report_date\":\"2019-11-01T00:00:00.000\",\"call_date\":\"2019-11-01T00:00:00.000\",\"offense_date\":\"2019-11-01T00:00:00.000\",\"call_time\":\"11:24\",\"call_dttm\":\"2019-11-01T11:24:00.000\",\"disposition\":\"Not recorded\",\"address\":\"200 Block Of West Portal Av\",\"city\":\"San Francisco\",\"state\":\"CA\",\"agency_id\":\"1\",\"address_type\":\"Common Location\",\"common_location\":\"West Portal Corridor\"}\\n,{\"crime_id\":\"193380963\",\"original_crimetype_name\":\"Passing Call\",\"report_date\":\"2019-12-04T00:00:00.000\",\"call_date\":\"2019-12-04T00:00:00.000\",\"offense_date\":\"2019-12-04T00:00:00.000\",\"call_time\":\"08:51\",\"call_dttm\":\"2019-12-04T08:51:00.000\",\"disposition\":\"Not recorded\",\"address\":\"1500 Block Of Haight St\",\"city\":\"San Francisco\",\"state\":\"CA\",\"agency_id\":\"1\",\"address_type\":\"Common Location\",\"common_location\":\"Haight St Corridor, Sf\"}\\n,{\"crime_id\":\"190010945\",\"original_crimetype_name\":\"Prowler\",\"report_date\":\"2019-01-01T00:00:00.000\",\"call_date\":\"2019-01-01T00:00:00.000\",\"offense_date\":\"2019-01-01T00:00:00.000\",\"call_time\":\"05:16\",\"call_dttm\":\"2019-01-01T05:16:00.000\",\"disposition\":\"ND\",\"address\":\"700 Block Of San Jose Av\",\"city\":\"San Francisco\",\"state\":\"CA\",\"agency_id\":\"1\",\"address_type\":\"Premise Address\"}\\n,{\"crime_id\":\"190112338\",\"original_crimetype_name\":\"500e/rz\",\"report_date\":\"2019-01-11T00:00:00.000\",\"call_date\":\"2019-01-11T00:00:00.000\",\"offense_date\":\"2019-01-11T00:00:00.000\",\"call_time\":\"15:01\",\"call_dttm\":\"2019-01-11T15:01:00.000\",\"disposition\":\"CIT\",\"address\":\"1500 Block Of Masonic Av\",\"city\":\"San Francisco\",\"state\":\"CA\",\"agency_id\":\"1\",\"address_type\":\"Premise Address\"}\\n,{\"crime_id\":\"190140701\",\"original_crimetype_name\":\"22654e\",\"report_date\":\"2019-01-14T00:00:00.000\",\"call_date\":\"2019-01-14T00:00:00.000\",\"offense_date\":\"2019-01-14T00:00:00.000\",\"call_time\":\"07:53\",\"call_dttm\":\"2019-01-14T07:53:00.000\",\"disposition\":\"HAN\",\"address\":\"100 Block Of Dolores St\",\"city\":\"San Francisco\",\"state\":\"CA\",\"agency_id\":\"1\",\"address_type\":\"Premise Address\"}\\n,{\"crime_id\":\"190170132\",\"original_crimetype_name\":\"Traffic Stop\",\"report_date\":\"2019-01-17T00:00:00.000\",\"call_date\":\"2019-01-17T00:00:00.000\",\"offense_date\":\"2019-01-17T00:00:00.000\",\"call_time\":\"01:05\",\"call_dttm\":\"2019-01-17T01:05:00.000\",\"disposition\":\"ADV\",\"address\":\"21st St/south Van Ness Av\",\"city\":\"San Francisco\",\"state\":\"CA\",\"agency_id\":\"1\",\"address_type\":\"Intersection\"}\\n,{\"crime_id\":\"190140702\",\"original_crimetype_name\":\"Dw\",\"report_date\":\"2019-01-14T00:00:00.000\",\"call_date\":\"2019-01-14T00:00:00.000\",\"offense_date\":\"2019-01-14T00:00:00.000\",\"call_time\":\"07:54\",\"call_dttm\":\"2019-01-14T07:54:00.000\",\"disposition\":\"CIT\",\"address\":\"500 Block Of Clementina St\",\"city\":\"San Francisco\",\"state\":\"CA\",\"agency_id\":\"1\",\"address_type\":\"Premise Address\"}\\n,{\"crime_id\":\"190152408\",\"original_crimetype_name\":\"Suspicious Person\",\"report_date\":\"2019-01-15T00:00:00.000\",\"call_date\":\"2019-01-15T00:00:00.000\",\"offense_date\":\"2019-01-15T00:00:00.000\",\"call_time\":\"15:11\",\"call_dttm\":\"2019-01-15T15:11:00.000\",\"disposition\":\"ADV\",\"address\":\"Turk St/leavenworth St\",\"city\":\"San Francisco\",\"state\":\"CA\",\"agency_id\":\"1\",\"address_type\":\"Intersection\"}\\n,{\"crime_id\":\"190201459\",\"original_crimetype_name\":\"Poss\",\"report_date\":\"2019-01-20T00:00:00.000\",\"call_date\":\"2019-01-20T00:00:00.000\",\"offense_date\":\"2019-01-20T00:00:00.000\",\"call_time\":\"11:54\",\"call_dttm\":\"2019-01-20T11:54:00.000\",\"disposition\":\"GOA\",\"address\":\"3400 Block Of Mission St\",\"city\":\"San Francisco\",\"state\":\"CA\",\"agency_id\":\"1\",\"address_type\":\"Premise Address\"}\\n,{\"crime_id\":\"193041665\",\"original_crimetype_name\":\"22500f\",\"report_date\":\"2019-10-31T00:00:00.000\",\"call_date\":\"2019-10-31T00:00:00.000\",\"offense_date\":\"2019-10-31T00:00:00.000\",\"call_time\":\"12:01\",\"call_dttm\":\"2019-10-31T12:01:00.000\",\"disposition\":\"CIT\",\"address\":\"Block Of Lisbon St\",\"city\":\"San Francisco\",\"state\":\"CA\",\"agency_id\":\"1\",\"address_type\":\"Premise Address\"}\\n,{\"crime_id\":\"193051680\",\"original_crimetype_name\":\"Assault / Battery\",\"report_date\":\"2019-11-01T00:00:00.000\",\"call_date\":\"2019-11-01T00:00:00.000\",\"offense_date\":\"2019-11-01T00:00:00.000\",\"call_time\":\"11:20\",\"call_dttm\":\"2019-11-01T11:20:00.000\",\"disposition\":\"HAN\",\"address\":\"0 Block Of Clarence Pl\",\"city\":\"San Francisco\",\"state\":\"CA\",\"agency_id\":\"1\",\"address_type\":\"Premise Address\"}\\n,{\"crime_id\":\"193051681\",\"original_crimetype_name\":\"Passing Call\",\"report_date\":\"2019-11-01T00:00:00.000\",\"call_date\":\"2019-11-01T00:00:00.000\",\"offense_date\":\"2019-11-01T00:00:00.000\",\"call_time\":\"11:26\",\"call_dttm\":\"2019-11-01T11:26:00.000\",\"disposition\":\"Not recorded\",\"address\":\"18th St/mission St\",\"city\":\"San Francisco\",\"state\":\"CA\",\"agency_id\":\"1\",\"address_type\":\"Intersection\"}\\n,{\"crime_id\":\"193051690\",\"original_crimetype_name\":\"Suspicious Vehicle\",\"report_date\":\"2019-11-01T00:00:00.000\",\"call_date\":\"2019-11-01T00:00:00.000\",\"offense_date\":\"2019-11-01T00:00:00.000\",\"call_time\":\"11:26\",\"call_dttm\":\"2019-11-01T11:26:00.000\",\"disposition\":\"HAN\",\"address\":\"400 Block Of Barneveld Av\",\"city\":\"San Francisco\",\"state\":\"CA\",\"agency_id\":\"1\",\"address_type\":\"Premise Address\"}\\n,{\"crime_id\":\"193333525\",\"original_crimetype_name\":\"415\",\"report_date\":\"2019-11-29T00:00:00.000\",\"call_date\":\"2019-11-29T00:00:00.000\",\"offense_date\":\"2019-11-29T00:00:00.000\",\"call_time\":\"23:46\",\"call_dttm\":\"2019-11-29T23:46:00.000\",\"disposition\":\"CAN\",\"address\":\"1700 Block Of Waller St\",\"city\":\"San Francisco\",\"state\":\"CA\",\"agency_id\":\"1\",\"address_type\":\"Premise Address\"}\\n,{\"crime_id\":\"190010949\",\"original_crimetype_name\":\"Sexual Assault Juve\",\"report_date\":\"2019-01-01T00:00:00.000\",\"call_date\":\"2019-01-01T00:00:00.000\",\"offense_date\":\"2019-01-01T00:00:00.000\",\"call_time\":\"05:11\",\"call_dttm\":\"2019-01-01T05:11:00.000\",\"disposition\":\"ND\",\"address\":\"0 Block Of Beideman St\",\"city\":\"San Francisco\",\"state\":\"CA\",\"agency_id\":\"1\",\"address_type\":\"Premise Address\"}\\n,{\"crime_id\":\"190082173\",\"original_crimetype_name\":\"Passing Call\",\"report_date\":\"2019-01-08T00:00:00.000\",\"call_date\":\"2019-01-08T00:00:00.000\",\"offense_date\":\"2019-01-08T00:00:00.000\",\"call_time\":\"15:04\",\"call_dttm\":\"2019-01-08T15:04:00.000\",\"disposition\":\"Not recorded\",\"address\":\"17th St/south Van Ness Av\",\"city\":\"San Francisco\",\"state\":\"CA\",\"agency_id\":\"1\",\"address_type\":\"Intersection\"}\\n,{\"crime_id\":\"190112339\",\"original_crimetype_name\":\"Auto Boost / Strip\",\"report_date\":\"2019-01-11T00:00:00.000\",\"call_date\":\"2019-01-11T00:00:00.000\",\"offense_date\":\"2019-01-11T00:00:00.000\",\"call_time\":\"15:02\",\"call_dttm\":\"2019-01-11T15:02:00.000\",\"disposition\":\"REP\",\"address\":\"1100 Block Of Lake Merced Bl\",\"city\":\"San Francisco\",\"state\":\"CA\",\"agency_id\":\"1\",\"address_type\":\"Premise Address\"}\\n,{\"crime_id\":\"161100669\",\"original_crimetype_name\":\"Dw\",\"report_date\":\"2016-04-19T00:00:00.000\",\"call_date\":\"2016-04-19T00:00:00.000\",\"offense_date\":\"2016-04-19T00:00:00.000\",\"call_time\":\"07:39\",\"call_dttm\":\"2016-04-19T07:39:00.000\",\"disposition\":\"CIT\",\"address\":\"200 Block Of Ortega St\",\"city\":\"San Francisco\",\"state\":\"CA\",\"agency_id\":\"1\",\"address_type\":\"Premise Address\"}\\n,{\"crime_id\":\"193382427\",\"original_crimetype_name\":\"Trespasser\",\"report_date\":\"2019-12-04T00:00:00.000\",\"call_date\":\"2019-12-04T00:00:00.000\",\"offense_date\":\"2019-12-04T00:00:00.000\",\"call_time\":\"14:18\",\"call_dttm\":\"2019-12-04T14:18:00.000\",\"disposition\":\"GOA\",\"address\":\"California St/parker Av\",\"city\":\"San Francisco\",\"state\":\"CA\",\"agency_id\":\"1\",\"address_type\":\"Intersection\"}\\n,{\"crime_id\":\"190030162\",\"original_crimetype_name\":\"Fight No Weapon\",\"report_date\":\"2019-01-03T00:00:00.000\",\"call_date\":\"2019-01-03T00:00:00.000\",\"offense_date\":\"2019-01-03T00:00:00.000\",\"call_time\":\"02:01\",\"call_dttm\":\"2019-01-03T02:01:00.000\",\"disposition\":\"ADV\",\"address\":\"100 Block Of Eddy St\",\"city\":\"San Francisco\",\"state\":\"CA\",\"agency_id\":\"1\",\"address_type\":\"Premise Address\"}\\n,{\"crime_id\":\"190173122\",\"original_crimetype_name\":\"Passing Call\",\"report_date\":\"2019-01-17T00:00:00.000\",\"call_date\":\"2019-01-17T00:00:00.000\",\"offense_date\":\"2019-01-17T00:00:00.000\",\"call_time\":\"17:38\",\"call_dttm\":\"2019-01-17T17:38:00.000\",\"disposition\":\"HAN\",\"address\":\"1100 Block Of Fairfax Av\",\"city\":\"San Francisco\",\"state\":\"CA\",\"agency_id\":\"1\",\"address_type\":\"Premise Address\"}\\n,{\"crime_id\":\"190201461\",\"original_crimetype_name\":\"Suspicious Person\",\"report_date\":\"2019-01-20T00:00:00.000\",\"call_date\":\"2019-01-20T00:00:00.000\",\"offense_date\":\"2019-01-20T00:00:00.000\",\"call_time\":\"11:59\",\"call_dttm\":\"2019-01-20T11:59:00.000\",\"disposition\":\"CIT\",\"address\":\"300 Block Of Post St\",\"city\":\"San Francisco\",\"state\":\"CA\",\"agency_id\":\"1\",\"address_type\":\"Premise Address\"}\\n,{\"crime_id\":\"160920291\",\"original_crimetype_name\":\"Poss Ip\",\"report_date\":\"2016-04-01T00:00:00.000\",\"call_date\":\"2016-04-01T00:00:00.000\",\"offense_date\":\"2016-04-01T00:00:00.000\",\"call_time\":\"03:13\",\"call_dttm\":\"2016-04-01T03:13:00.000\",\"disposition\":\"HAN\",\"address\":\"25th St/folsom St\",\"city\":\"San Francisco\",\"state\":\"CA\",\"agency_id\":\"1\",\"address_type\":\"Intersection\"}\\n,{\"crime_id\":\"190010950\",\"original_crimetype_name\":\"Trespasser\",\"report_date\":\"2019-01-01T00:00:00.000\",\"call_date\":\"2019-01-01T00:00:00.000\",\"offense_date\":\"2019-01-01T00:00:00.000\",\"call_time\":\"05:15\",\"call_dttm\":\"2019-01-01T05:15:00.000\",\"disposition\":\"CAN\",\"address\":\"100 Block Of Drumm St\",\"city\":\"San Francisco\",\"state\":\"CA\",\"agency_id\":\"1\",\"address_type\":\"Premise Address\"}\\n,{\"crime_id\":\"193051692\",\"original_crimetype_name\":\"Fight No Weapon\",\"report_date\":\"2019-11-01T00:00:00.000\",\"call_date\":\"2019-11-01T00:00:00.000\",\"offense_date\":\"2019-11-01T00:00:00.000\",\"call_time\":\"11:30\",\"call_dttm\":\"2019-11-01T11:30:00.000\",\"disposition\":\"CAN\",\"address\":\"17th St/valencia St\",\"city\":\"San Francisco\",\"state\":\"CA\",\"agency_id\":\"1\",\"address_type\":\"Intersection\"}\\n,{\"crime_id\":\"193133148\",\"original_crimetype_name\":\"Audible Alarm\",\"report_date\":\"2019-11-09T00:00:00.000\",\"call_date\":\"2019-11-09T00:00:00.000\",\"offense_date\":\"2019-11-09T00:00:00.000\",\"call_time\":\"18:12\",\"call_dttm\":\"2019-11-09T18:12:00.000\",\"disposition\":\"PAS\",\"address\":\"0 Block Of Wawona St\",\"city\":\"San Francisco\",\"state\":\"CA\",\"agency_id\":\"1\",\"address_type\":\"Premise Address\"}\\n,{\"crime_id\":\"190101749\",\"original_crimetype_name\":\"Complaint Unkn\",\"report_date\":\"2019-01-10T00:00:00.000\",\"call_date\":\"2019-01-10T00:00:00.000\",\"offense_date\":\"2019-01-10T00:00:00.000\",\"call_time\":\"12:12\",\"call_dttm\":\"2019-01-10T12:12:00.000\",\"disposition\":\"Not recorded\",\"address\":\"600 Block Of 7th St\",\"city\":\"San Francisco\",\"state\":\"CA\",\"agency_id\":\"1\",\"address_type\":\"Premise Address\"}\\n,{\"crime_id\":\"193272088\",\"original_crimetype_name\":\"Rep\",\"report_date\":\"2019-11-23T00:00:00.000\",\"call_date\":\"2019-11-23T00:00:00.000\",\"offense_date\":\"2019-11-23T00:00:00.000\",\"call_time\":\"14:18\",\"call_dttm\":\"2019-11-23T14:18:00.000\",\"disposition\":\"REP\",\"address\":\"900 Block Of Steiner St\",\"city\":\"San Francisco\",\"state\":\"CA\",\"agency_id\":\"1\",\"address_type\":\"Premise Address\"}\\n,{\"crime_id\":\"193290755\",\"original_crimetype_name\":\"Unoccupied\",\"report_date\":\"2019-11-25T00:00:00.000\",\"call_date\":\"2019-11-25T00:00:00.000\",\"offense_date\":\"2019-11-25T00:00:00.000\",\"call_time\":\"08:37\",\"call_dttm\":\"2019-11-25T08:37:00.000\",\"disposition\":\"REP\",\"address\":\"500 Block Of 7th St\",\"city\":\"San Francisco\",\"state\":\"CA\",\"agency_id\":\"1\",\"address_type\":\"Common Location\",\"common_location\":\"Auto Return - 450 7th St, Sf\"}\\n,{\"crime_id\":\"160961078\",\"original_crimetype_name\":\"Jo\",\"report_date\":\"2016-04-05T00:00:00.000\",\"call_date\":\"2016-04-05T00:00:00.000\",\"offense_date\":\"2016-04-05T00:00:00.000\",\"call_time\":\"09:57\",\"call_dttm\":\"2016-04-05T09:57:00.000\",\"disposition\":\"REP\",\"address\":\"4000 Block Of 18th St\",\"city\":\"San Francisco\",\"state\":\"CA\",\"agency_id\":\"1\",\"address_type\":\"Premise Address\"}\\n,{\"crime_id\":\"161021349\",\"original_crimetype_name\":\"Suspicious Person\",\"report_date\":\"2016-04-11T00:00:00.000\",\"call_date\":\"2016-04-11T00:00:00.000\",\"offense_date\":\"2016-04-11T00:00:00.000\",\"call_time\":\"10:38\",\"call_dttm\":\"2016-04-11T10:38:00.000\",\"disposition\":\"GOA\",\"address\":\"Steiner St/greenwich St\",\"city\":\"San Francisco\",\"state\":\"CA\",\"agency_id\":\"1\",\"address_type\":\"Intersection\"}\\n,{\"crime_id\":\"161021350\",\"original_crimetype_name\":\"Assault / Battery Dv\",\"report_date\":\"2016-04-11T00:00:00.000\",\"call_date\":\"2016-04-11T00:00:00.000\",\"offense_date\":\"2016-04-11T00:00:00.000\",\"call_time\":\"10:41\",\"call_dttm\":\"2016-04-11T10:41:00.000\",\"disposition\":\"HAN\",\"address\":\"600 Block Of Arguello Bl\",\"city\":\"San Francisco\",\"state\":\"CA\",\"agency_id\":\"1\",\"address_type\":\"Premise Address\"}\\n,{\"crime_id\":\"190201462\",\"original_crimetype_name\":\"Suspicious Person\",\"report_date\":\"2019-01-20T00:00:00.000\",\"call_date\":\"2019-01-20T00:00:00.000\",\"offense_date\":\"2019-01-20T00:00:00.000\",\"call_time\":\"11:57\",\"call_dttm\":\"2019-01-20T11:57:00.000\",\"disposition\":\"UTL\",\"address\":\"Laguna St/bay St\",\"city\":\"San Francisco\",\"state\":\"CA\",\"agency_id\":\"1\",\"address_type\":\"Intersection\"}\\n,{\"crime_id\":\"161080589\",\"original_crimetype_name\":\"Audible Alarm\",\"report_date\":\"2016-04-17T00:00:00.000\",\"call_date\":\"2016-04-17T00:00:00.000\",\"offense_date\":\"2016-04-17T00:00:00.000\",\"call_time\":\"05:34\",\"call_dttm\":\"2016-04-17T05:34:00.000\",\"disposition\":\"PAS\",\"address\":\"1000 Block Of Hyde St\",\"city\":\"San Francisco\",\"state\":\"CA\",\"agency_id\":\"1\",\"address_type\":\"Premise Address\"}\\n,{\"crime_id\":\"190010952\",\"original_crimetype_name\":\"Passing Call\",\"report_date\":\"2019-01-01T00:00:00.000\",\"call_date\":\"2019-01-01T00:00:00.000\",\"offense_date\":\"2019-01-01T00:00:00.000\",\"call_time\":\"05:20\",\"call_dttm\":\"2019-01-01T05:20:00.000\",\"disposition\":\"Not recorded\",\"address\":\"3rd St/stillman St\",\"city\":\"San Francisco\",\"state\":\"CA\",\"agency_id\":\"1\",\"address_type\":\"Intersection\"}\\n,{\"crime_id\":\"193051699\",\"original_crimetype_name\":\"Complaint Unkn\",\"report_date\":\"2019-11-01T00:00:00.000\",\"call_date\":\"2019-11-01T00:00:00.000\",\"offense_date\":\"2019-11-01T00:00:00.000\",\"call_time\":\"11:28\",\"call_dttm\":\"2019-11-01T11:28:00.000\",\"disposition\":\"HAN\",\"address\":\"1800 Block Of Carroll Av\",\"city\":\"San Francisco\",\"state\":\"CA\",\"agency_id\":\"1\",\"address_type\":\"Premise Address\"}\\n,{\"crime_id\":\"193272089\",\"original_crimetype_name\":\"Suspicious Vehicle\",\"report_date\":\"2019-11-23T00:00:00.000\",\"call_date\":\"2019-11-23T00:00:00.000\",\"offense_date\":\"2019-11-23T00:00:00.000\",\"call_time\":\"14:21\",\"call_dttm\":\"2019-11-23T14:21:00.000\",\"disposition\":\"HAN\",\"address\":\"Fern St/polk St\",\"city\":\"San Francisco\",\"state\":\"CA\",\"agency_id\":\"1\",\"address_type\":\"Intersection\"}\\n,{\"crime_id\":\"193290756\",\"original_crimetype_name\":\"Suspicious Vehicle\",\"report_date\":\"2019-11-25T00:00:00.000\",\"call_date\":\"2019-11-25T00:00:00.000\",\"offense_date\":\"2019-11-25T00:00:00.000\",\"call_time\":\"08:36\",\"call_dttm\":\"2019-11-25T08:36:00.000\",\"disposition\":\"ND\",\"address\":\"19th Av/kirkham St\",\"city\":\"San Francisco\",\"state\":\"CA\",\"agency_id\":\"1\",\"address_type\":\"Intersection\"}\\n,{\"crime_id\":\"190131861\",\"original_crimetype_name\":\"Passing Call\",\"report_date\":\"2019-01-13T00:00:00.000\",\"call_date\":\"2019-01-13T00:00:00.000\",\"offense_date\":\"2019-01-13T00:00:00.000\",\"call_time\":\"13:59\",\"call_dttm\":\"2019-01-13T13:59:00.000\",\"disposition\":\"Not recorded\",\"address\":\"24th St/treat Av\",\"city\":\"San Francisco\",\"state\":\"CA\",\"agency_id\":\"1\",\"address_type\":\"Intersection\"}\\n,{\"crime_id\":\"190152417\",\"original_crimetype_name\":\"Mop\",\"report_date\":\"2019-01-15T00:00:00.000\",\"call_date\":\"2019-01-15T00:00:00.000\",\"offense_date\":\"2019-01-15T00:00:00.000\",\"call_time\":\"15:12\",\"call_dttm\":\"2019-01-15T15:12:00.000\",\"disposition\":\"HAN\",\"address\":\"500 Block Of 23rd Av\",\"city\":\"San Francisco\",\"state\":\"CA\",\"agency_id\":\"1\",\"address_type\":\"Premise Address\"}\\n,{\"crime_id\":\"161132682\",\"original_crimetype_name\":\"Passing Call\",\"report_date\":\"2016-04-22T00:00:00.000\",\"call_date\":\"2016-04-22T00:00:00.000\",\"offense_date\":\"2016-04-22T00:00:00.000\",\"call_time\":\"16:45\",\"call_dttm\":\"2016-04-22T16:45:00.000\",\"disposition\":\"HAN\",\"address\":\"Duboce Park\",\"state\":\"CA\",\"agency_id\":\"1\",\"address_type\":\"Geo-Override\"}\\n,{\"crime_id\":\"190221156\",\"original_crimetype_name\":\"601\",\"report_date\":\"2019-01-22T00:00:00.000\",\"call_date\":\"2019-01-22T00:00:00.000\",\"offense_date\":\"2019-01-22T00:00:00.000\",\"call_time\":\"09:58\",\"call_dttm\":\"2019-01-22T09:58:00.000\",\"disposition\":\"CAN\",\"address\":\"100 Block Of Leavenworth St\",\"city\":\"San Francisco\",\"state\":\"CA\",\"agency_id\":\"1\",\"address_type\":\"Premise Address\"}\\n,{\"crime_id\":\"190042639\",\"original_crimetype_name\":\"Suspicious Person\",\"report_date\":\"2019-01-04T00:00:00.000\",\"call_date\":\"2019-01-04T00:00:00.000\",\"offense_date\":\"2019-01-04T00:00:00.000\",\"call_time\":\"16:54\",\"call_dttm\":\"2019-01-04T16:54:00.000\",\"disposition\":\"CIT\",\"address\":\"Haight St/belvedere St\",\"city\":\"San Francisco\",\"state\":\"CA\",\"agency_id\":\"1\",\"address_type\":\"Intersection\"}\\n,{\"crime_id\":\"193051704\",\"original_crimetype_name\":\"Suspicious Person\",\"report_date\":\"2019-11-01T00:00:00.000\",\"call_date\":\"2019-11-01T00:00:00.000\",\"offense_date\":\"2019-11-01T00:00:00.000\",\"call_time\":\"11:33\",\"call_dttm\":\"2019-11-01T11:33:00.000\",\"disposition\":\"HAN\",\"address\":\"7th St/market St\",\"city\":\"San Francisco\",\"state\":\"CA\",\"agency_id\":\"1\",\"address_type\":\"Intersection\"}]\\n'"
      ]
     },
     "execution_count": 11,
     "metadata": {},
     "output_type": "execute_result"
    }
   ],
   "source": [
    "response.text"
   ]
  },
  {
   "cell_type": "code",
   "execution_count": 15,
   "metadata": {
    "scrolled": false
   },
   "outputs": [
    {
     "data": {
      "text/html": [
       "<div>\n",
       "<style scoped>\n",
       "    .dataframe tbody tr th:only-of-type {\n",
       "        vertical-align: middle;\n",
       "    }\n",
       "\n",
       "    .dataframe tbody tr th {\n",
       "        vertical-align: top;\n",
       "    }\n",
       "\n",
       "    .dataframe thead th {\n",
       "        text-align: right;\n",
       "    }\n",
       "</style>\n",
       "<table border=\"1\" class=\"dataframe\">\n",
       "  <thead>\n",
       "    <tr style=\"text-align: right;\">\n",
       "      <th></th>\n",
       "      <th>crime_id</th>\n",
       "      <th>original_crimetype_name</th>\n",
       "      <th>report_date</th>\n",
       "      <th>disposition</th>\n",
       "      <th>agency_id</th>\n",
       "    </tr>\n",
       "  </thead>\n",
       "  <tbody>\n",
       "    <tr>\n",
       "      <th>0</th>\n",
       "      <td>161080584</td>\n",
       "      <td>Poss</td>\n",
       "      <td>2016-04-17T00:00:00.000</td>\n",
       "      <td>NOM</td>\n",
       "      <td>1</td>\n",
       "    </tr>\n",
       "    <tr>\n",
       "      <th>1</th>\n",
       "      <td>190123549</td>\n",
       "      <td>Rep</td>\n",
       "      <td>2019-01-12T00:00:00.000</td>\n",
       "      <td>HAN</td>\n",
       "      <td>1</td>\n",
       "    </tr>\n",
       "    <tr>\n",
       "      <th>2</th>\n",
       "      <td>161100690</td>\n",
       "      <td>911</td>\n",
       "      <td>2016-04-19T00:00:00.000</td>\n",
       "      <td>ADV</td>\n",
       "      <td>1</td>\n",
       "    </tr>\n",
       "    <tr>\n",
       "      <th>3</th>\n",
       "      <td>193040567</td>\n",
       "      <td>Traf Violation Cite</td>\n",
       "      <td>2019-10-31T00:00:00.000</td>\n",
       "      <td>GOA</td>\n",
       "      <td>1</td>\n",
       "    </tr>\n",
       "    <tr>\n",
       "      <th>4</th>\n",
       "      <td>193041338</td>\n",
       "      <td>Traf Violation Cite</td>\n",
       "      <td>2019-10-31T00:00:00.000</td>\n",
       "      <td>GOA</td>\n",
       "      <td>1</td>\n",
       "    </tr>\n",
       "  </tbody>\n",
       "</table>\n",
       "</div>"
      ],
      "text/plain": [
       "    crime_id original_crimetype_name              report_date disposition  \\\n",
       "0  161080584                    Poss  2016-04-17T00:00:00.000         NOM   \n",
       "1  190123549                     Rep  2019-01-12T00:00:00.000         HAN   \n",
       "2  161100690                     911  2016-04-19T00:00:00.000         ADV   \n",
       "3  193040567     Traf Violation Cite  2019-10-31T00:00:00.000         GOA   \n",
       "4  193041338     Traf Violation Cite  2019-10-31T00:00:00.000         GOA   \n",
       "\n",
       "   agency_id  \n",
       "0          1  \n",
       "1          1  \n",
       "2          1  \n",
       "3          1  \n",
       "4          1  "
      ]
     },
     "execution_count": 15,
     "metadata": {},
     "output_type": "execute_result"
    }
   ],
   "source": [
    "df = pd.read_json(police_stop_url)[['crime_id', 'original_crimetype_name','report_date', 'disposition', 'agency_id']]\n",
    "df.head()"
   ]
  },
  {
   "cell_type": "code",
   "execution_count": 25,
   "metadata": {},
   "outputs": [
    {
     "data": {
      "text/html": [
       "<div>\n",
       "<style scoped>\n",
       "    .dataframe tbody tr th:only-of-type {\n",
       "        vertical-align: middle;\n",
       "    }\n",
       "\n",
       "    .dataframe tbody tr th {\n",
       "        vertical-align: top;\n",
       "    }\n",
       "\n",
       "    .dataframe thead th {\n",
       "        text-align: right;\n",
       "    }\n",
       "</style>\n",
       "<table border=\"1\" class=\"dataframe\">\n",
       "  <thead>\n",
       "    <tr style=\"text-align: right;\">\n",
       "      <th></th>\n",
       "      <th>original_crimetype_name</th>\n",
       "      <th>count</th>\n",
       "    </tr>\n",
       "  </thead>\n",
       "  <tbody>\n",
       "    <tr>\n",
       "      <th>60</th>\n",
       "      <td>Caser</td>\n",
       "      <td>1</td>\n",
       "    </tr>\n",
       "    <tr>\n",
       "      <th>129</th>\n",
       "      <td>Rep</td>\n",
       "      <td>5</td>\n",
       "    </tr>\n",
       "    <tr>\n",
       "      <th>39</th>\n",
       "      <td>911 Drop</td>\n",
       "      <td>2</td>\n",
       "    </tr>\n",
       "    <tr>\n",
       "      <th>135</th>\n",
       "      <td>Rz</td>\n",
       "      <td>1</td>\n",
       "    </tr>\n",
       "    <tr>\n",
       "      <th>104</th>\n",
       "      <td>Neighbor/594</td>\n",
       "      <td>1</td>\n",
       "    </tr>\n",
       "  </tbody>\n",
       "</table>\n",
       "</div>"
      ],
      "text/plain": [
       "    original_crimetype_name  count\n",
       "60                    Caser      1\n",
       "129                     Rep      5\n",
       "39                 911 Drop      2\n",
       "135                      Rz      1\n",
       "104            Neighbor/594      1"
      ]
     },
     "execution_count": 25,
     "metadata": {},
     "output_type": "execute_result"
    }
   ],
   "source": [
    "df['count'] = 1\n",
    "df_by_name = df[['original_crimetype_name', 'count']].groupby('original_crimetype_name').sum().reset_index()\n",
    "df_by_name.sample(5)"
   ]
  },
  {
   "cell_type": "code",
   "execution_count": 26,
   "metadata": {},
   "outputs": [
    {
     "data": {
      "application/vnd.plotly.v1+json": {
       "config": {
        "plotlyServerURL": "https://plot.ly"
       },
       "data": [
        {
         "alignmentgroup": "True",
         "hovertemplate": "original_crimetype_name=%{x}<br>count=%{y}<extra></extra>",
         "legendgroup": "",
         "marker": {
          "color": "#636efa"
         },
         "name": "",
         "offsetgroup": "",
         "orientation": "v",
         "showlegend": false,
         "textposition": "auto",
         "type": "bar",
         "x": [
          "22500e",
          "22500f",
          "601",
          "Audible Alarm",
          "Auto Boost / Strip",
          "Fight No Weapon",
          "Homeless Complaint",
          "Meet W/citizen",
          "Mentally Disturbed",
          "Muni Inspection",
          "Noise Nuisance",
          "Passing Call",
          "Petty Theft",
          "Poss",
          "Suspicious Person",
          "Suspicious Vehicle",
          "Traf Violation Cite",
          "Traffic Stop",
          "Trespasser",
          "Vandalism",
          "Well Being Check"
         ],
         "xaxis": "x",
         "y": [
          28,
          11,
          10,
          33,
          18,
          19,
          49,
          11,
          17,
          17,
          11,
          193,
          13,
          14,
          42,
          22,
          36,
          79,
          27,
          12,
          30
         ],
         "yaxis": "y"
        }
       ],
       "layout": {
        "barmode": "relative",
        "legend": {
         "tracegroupgap": 0
        },
        "margin": {
         "t": 60
        },
        "template": {
         "data": {
          "bar": [
           {
            "error_x": {
             "color": "#2a3f5f"
            },
            "error_y": {
             "color": "#2a3f5f"
            },
            "marker": {
             "line": {
              "color": "#E5ECF6",
              "width": 0.5
             }
            },
            "type": "bar"
           }
          ],
          "barpolar": [
           {
            "marker": {
             "line": {
              "color": "#E5ECF6",
              "width": 0.5
             }
            },
            "type": "barpolar"
           }
          ],
          "carpet": [
           {
            "aaxis": {
             "endlinecolor": "#2a3f5f",
             "gridcolor": "white",
             "linecolor": "white",
             "minorgridcolor": "white",
             "startlinecolor": "#2a3f5f"
            },
            "baxis": {
             "endlinecolor": "#2a3f5f",
             "gridcolor": "white",
             "linecolor": "white",
             "minorgridcolor": "white",
             "startlinecolor": "#2a3f5f"
            },
            "type": "carpet"
           }
          ],
          "choropleth": [
           {
            "colorbar": {
             "outlinewidth": 0,
             "ticks": ""
            },
            "type": "choropleth"
           }
          ],
          "contour": [
           {
            "colorbar": {
             "outlinewidth": 0,
             "ticks": ""
            },
            "colorscale": [
             [
              0,
              "#0d0887"
             ],
             [
              0.1111111111111111,
              "#46039f"
             ],
             [
              0.2222222222222222,
              "#7201a8"
             ],
             [
              0.3333333333333333,
              "#9c179e"
             ],
             [
              0.4444444444444444,
              "#bd3786"
             ],
             [
              0.5555555555555556,
              "#d8576b"
             ],
             [
              0.6666666666666666,
              "#ed7953"
             ],
             [
              0.7777777777777778,
              "#fb9f3a"
             ],
             [
              0.8888888888888888,
              "#fdca26"
             ],
             [
              1,
              "#f0f921"
             ]
            ],
            "type": "contour"
           }
          ],
          "contourcarpet": [
           {
            "colorbar": {
             "outlinewidth": 0,
             "ticks": ""
            },
            "type": "contourcarpet"
           }
          ],
          "heatmap": [
           {
            "colorbar": {
             "outlinewidth": 0,
             "ticks": ""
            },
            "colorscale": [
             [
              0,
              "#0d0887"
             ],
             [
              0.1111111111111111,
              "#46039f"
             ],
             [
              0.2222222222222222,
              "#7201a8"
             ],
             [
              0.3333333333333333,
              "#9c179e"
             ],
             [
              0.4444444444444444,
              "#bd3786"
             ],
             [
              0.5555555555555556,
              "#d8576b"
             ],
             [
              0.6666666666666666,
              "#ed7953"
             ],
             [
              0.7777777777777778,
              "#fb9f3a"
             ],
             [
              0.8888888888888888,
              "#fdca26"
             ],
             [
              1,
              "#f0f921"
             ]
            ],
            "type": "heatmap"
           }
          ],
          "heatmapgl": [
           {
            "colorbar": {
             "outlinewidth": 0,
             "ticks": ""
            },
            "colorscale": [
             [
              0,
              "#0d0887"
             ],
             [
              0.1111111111111111,
              "#46039f"
             ],
             [
              0.2222222222222222,
              "#7201a8"
             ],
             [
              0.3333333333333333,
              "#9c179e"
             ],
             [
              0.4444444444444444,
              "#bd3786"
             ],
             [
              0.5555555555555556,
              "#d8576b"
             ],
             [
              0.6666666666666666,
              "#ed7953"
             ],
             [
              0.7777777777777778,
              "#fb9f3a"
             ],
             [
              0.8888888888888888,
              "#fdca26"
             ],
             [
              1,
              "#f0f921"
             ]
            ],
            "type": "heatmapgl"
           }
          ],
          "histogram": [
           {
            "marker": {
             "colorbar": {
              "outlinewidth": 0,
              "ticks": ""
             }
            },
            "type": "histogram"
           }
          ],
          "histogram2d": [
           {
            "colorbar": {
             "outlinewidth": 0,
             "ticks": ""
            },
            "colorscale": [
             [
              0,
              "#0d0887"
             ],
             [
              0.1111111111111111,
              "#46039f"
             ],
             [
              0.2222222222222222,
              "#7201a8"
             ],
             [
              0.3333333333333333,
              "#9c179e"
             ],
             [
              0.4444444444444444,
              "#bd3786"
             ],
             [
              0.5555555555555556,
              "#d8576b"
             ],
             [
              0.6666666666666666,
              "#ed7953"
             ],
             [
              0.7777777777777778,
              "#fb9f3a"
             ],
             [
              0.8888888888888888,
              "#fdca26"
             ],
             [
              1,
              "#f0f921"
             ]
            ],
            "type": "histogram2d"
           }
          ],
          "histogram2dcontour": [
           {
            "colorbar": {
             "outlinewidth": 0,
             "ticks": ""
            },
            "colorscale": [
             [
              0,
              "#0d0887"
             ],
             [
              0.1111111111111111,
              "#46039f"
             ],
             [
              0.2222222222222222,
              "#7201a8"
             ],
             [
              0.3333333333333333,
              "#9c179e"
             ],
             [
              0.4444444444444444,
              "#bd3786"
             ],
             [
              0.5555555555555556,
              "#d8576b"
             ],
             [
              0.6666666666666666,
              "#ed7953"
             ],
             [
              0.7777777777777778,
              "#fb9f3a"
             ],
             [
              0.8888888888888888,
              "#fdca26"
             ],
             [
              1,
              "#f0f921"
             ]
            ],
            "type": "histogram2dcontour"
           }
          ],
          "mesh3d": [
           {
            "colorbar": {
             "outlinewidth": 0,
             "ticks": ""
            },
            "type": "mesh3d"
           }
          ],
          "parcoords": [
           {
            "line": {
             "colorbar": {
              "outlinewidth": 0,
              "ticks": ""
             }
            },
            "type": "parcoords"
           }
          ],
          "pie": [
           {
            "automargin": true,
            "type": "pie"
           }
          ],
          "scatter": [
           {
            "marker": {
             "colorbar": {
              "outlinewidth": 0,
              "ticks": ""
             }
            },
            "type": "scatter"
           }
          ],
          "scatter3d": [
           {
            "line": {
             "colorbar": {
              "outlinewidth": 0,
              "ticks": ""
             }
            },
            "marker": {
             "colorbar": {
              "outlinewidth": 0,
              "ticks": ""
             }
            },
            "type": "scatter3d"
           }
          ],
          "scattercarpet": [
           {
            "marker": {
             "colorbar": {
              "outlinewidth": 0,
              "ticks": ""
             }
            },
            "type": "scattercarpet"
           }
          ],
          "scattergeo": [
           {
            "marker": {
             "colorbar": {
              "outlinewidth": 0,
              "ticks": ""
             }
            },
            "type": "scattergeo"
           }
          ],
          "scattergl": [
           {
            "marker": {
             "colorbar": {
              "outlinewidth": 0,
              "ticks": ""
             }
            },
            "type": "scattergl"
           }
          ],
          "scattermapbox": [
           {
            "marker": {
             "colorbar": {
              "outlinewidth": 0,
              "ticks": ""
             }
            },
            "type": "scattermapbox"
           }
          ],
          "scatterpolar": [
           {
            "marker": {
             "colorbar": {
              "outlinewidth": 0,
              "ticks": ""
             }
            },
            "type": "scatterpolar"
           }
          ],
          "scatterpolargl": [
           {
            "marker": {
             "colorbar": {
              "outlinewidth": 0,
              "ticks": ""
             }
            },
            "type": "scatterpolargl"
           }
          ],
          "scatterternary": [
           {
            "marker": {
             "colorbar": {
              "outlinewidth": 0,
              "ticks": ""
             }
            },
            "type": "scatterternary"
           }
          ],
          "surface": [
           {
            "colorbar": {
             "outlinewidth": 0,
             "ticks": ""
            },
            "colorscale": [
             [
              0,
              "#0d0887"
             ],
             [
              0.1111111111111111,
              "#46039f"
             ],
             [
              0.2222222222222222,
              "#7201a8"
             ],
             [
              0.3333333333333333,
              "#9c179e"
             ],
             [
              0.4444444444444444,
              "#bd3786"
             ],
             [
              0.5555555555555556,
              "#d8576b"
             ],
             [
              0.6666666666666666,
              "#ed7953"
             ],
             [
              0.7777777777777778,
              "#fb9f3a"
             ],
             [
              0.8888888888888888,
              "#fdca26"
             ],
             [
              1,
              "#f0f921"
             ]
            ],
            "type": "surface"
           }
          ],
          "table": [
           {
            "cells": {
             "fill": {
              "color": "#EBF0F8"
             },
             "line": {
              "color": "white"
             }
            },
            "header": {
             "fill": {
              "color": "#C8D4E3"
             },
             "line": {
              "color": "white"
             }
            },
            "type": "table"
           }
          ]
         },
         "layout": {
          "annotationdefaults": {
           "arrowcolor": "#2a3f5f",
           "arrowhead": 0,
           "arrowwidth": 1
          },
          "coloraxis": {
           "colorbar": {
            "outlinewidth": 0,
            "ticks": ""
           }
          },
          "colorscale": {
           "diverging": [
            [
             0,
             "#8e0152"
            ],
            [
             0.1,
             "#c51b7d"
            ],
            [
             0.2,
             "#de77ae"
            ],
            [
             0.3,
             "#f1b6da"
            ],
            [
             0.4,
             "#fde0ef"
            ],
            [
             0.5,
             "#f7f7f7"
            ],
            [
             0.6,
             "#e6f5d0"
            ],
            [
             0.7,
             "#b8e186"
            ],
            [
             0.8,
             "#7fbc41"
            ],
            [
             0.9,
             "#4d9221"
            ],
            [
             1,
             "#276419"
            ]
           ],
           "sequential": [
            [
             0,
             "#0d0887"
            ],
            [
             0.1111111111111111,
             "#46039f"
            ],
            [
             0.2222222222222222,
             "#7201a8"
            ],
            [
             0.3333333333333333,
             "#9c179e"
            ],
            [
             0.4444444444444444,
             "#bd3786"
            ],
            [
             0.5555555555555556,
             "#d8576b"
            ],
            [
             0.6666666666666666,
             "#ed7953"
            ],
            [
             0.7777777777777778,
             "#fb9f3a"
            ],
            [
             0.8888888888888888,
             "#fdca26"
            ],
            [
             1,
             "#f0f921"
            ]
           ],
           "sequentialminus": [
            [
             0,
             "#0d0887"
            ],
            [
             0.1111111111111111,
             "#46039f"
            ],
            [
             0.2222222222222222,
             "#7201a8"
            ],
            [
             0.3333333333333333,
             "#9c179e"
            ],
            [
             0.4444444444444444,
             "#bd3786"
            ],
            [
             0.5555555555555556,
             "#d8576b"
            ],
            [
             0.6666666666666666,
             "#ed7953"
            ],
            [
             0.7777777777777778,
             "#fb9f3a"
            ],
            [
             0.8888888888888888,
             "#fdca26"
            ],
            [
             1,
             "#f0f921"
            ]
           ]
          },
          "colorway": [
           "#636efa",
           "#EF553B",
           "#00cc96",
           "#ab63fa",
           "#FFA15A",
           "#19d3f3",
           "#FF6692",
           "#B6E880",
           "#FF97FF",
           "#FECB52"
          ],
          "font": {
           "color": "#2a3f5f"
          },
          "geo": {
           "bgcolor": "white",
           "lakecolor": "white",
           "landcolor": "#E5ECF6",
           "showlakes": true,
           "showland": true,
           "subunitcolor": "white"
          },
          "hoverlabel": {
           "align": "left"
          },
          "hovermode": "closest",
          "mapbox": {
           "style": "light"
          },
          "paper_bgcolor": "white",
          "plot_bgcolor": "#E5ECF6",
          "polar": {
           "angularaxis": {
            "gridcolor": "white",
            "linecolor": "white",
            "ticks": ""
           },
           "bgcolor": "#E5ECF6",
           "radialaxis": {
            "gridcolor": "white",
            "linecolor": "white",
            "ticks": ""
           }
          },
          "scene": {
           "xaxis": {
            "backgroundcolor": "#E5ECF6",
            "gridcolor": "white",
            "gridwidth": 2,
            "linecolor": "white",
            "showbackground": true,
            "ticks": "",
            "zerolinecolor": "white"
           },
           "yaxis": {
            "backgroundcolor": "#E5ECF6",
            "gridcolor": "white",
            "gridwidth": 2,
            "linecolor": "white",
            "showbackground": true,
            "ticks": "",
            "zerolinecolor": "white"
           },
           "zaxis": {
            "backgroundcolor": "#E5ECF6",
            "gridcolor": "white",
            "gridwidth": 2,
            "linecolor": "white",
            "showbackground": true,
            "ticks": "",
            "zerolinecolor": "white"
           }
          },
          "shapedefaults": {
           "line": {
            "color": "#2a3f5f"
           }
          },
          "ternary": {
           "aaxis": {
            "gridcolor": "white",
            "linecolor": "white",
            "ticks": ""
           },
           "baxis": {
            "gridcolor": "white",
            "linecolor": "white",
            "ticks": ""
           },
           "bgcolor": "#E5ECF6",
           "caxis": {
            "gridcolor": "white",
            "linecolor": "white",
            "ticks": ""
           }
          },
          "title": {
           "x": 0.05
          },
          "xaxis": {
           "automargin": true,
           "gridcolor": "white",
           "linecolor": "white",
           "ticks": "",
           "title": {
            "standoff": 15
           },
           "zerolinecolor": "white",
           "zerolinewidth": 2
          },
          "yaxis": {
           "automargin": true,
           "gridcolor": "white",
           "linecolor": "white",
           "ticks": "",
           "title": {
            "standoff": 15
           },
           "zerolinecolor": "white",
           "zerolinewidth": 2
          }
         }
        },
        "xaxis": {
         "anchor": "y",
         "domain": [
          0,
          1
         ],
         "title": {
          "text": "original_crimetype_name"
         }
        },
        "yaxis": {
         "anchor": "x",
         "domain": [
          0,
          1
         ],
         "title": {
          "text": "count"
         }
        }
       }
      },
      "text/html": [
       "<div>\n",
       "        \n",
       "        \n",
       "            <div id=\"097a64a6-d2d9-438a-a579-61bcccfeb072\" class=\"plotly-graph-div\" style=\"height:525px; width:100%;\"></div>\n",
       "            <script type=\"text/javascript\">\n",
       "                require([\"plotly\"], function(Plotly) {\n",
       "                    window.PLOTLYENV=window.PLOTLYENV || {};\n",
       "                    \n",
       "                if (document.getElementById(\"097a64a6-d2d9-438a-a579-61bcccfeb072\")) {\n",
       "                    Plotly.newPlot(\n",
       "                        '097a64a6-d2d9-438a-a579-61bcccfeb072',\n",
       "                        [{\"alignmentgroup\": \"True\", \"hovertemplate\": \"original_crimetype_name=%{x}<br>count=%{y}<extra></extra>\", \"legendgroup\": \"\", \"marker\": {\"color\": \"#636efa\"}, \"name\": \"\", \"offsetgroup\": \"\", \"orientation\": \"v\", \"showlegend\": false, \"textposition\": \"auto\", \"type\": \"bar\", \"x\": [\"22500e\", \"22500f\", \"601\", \"Audible Alarm\", \"Auto Boost / Strip\", \"Fight No Weapon\", \"Homeless Complaint\", \"Meet W/citizen\", \"Mentally Disturbed\", \"Muni Inspection\", \"Noise Nuisance\", \"Passing Call\", \"Petty Theft\", \"Poss\", \"Suspicious Person\", \"Suspicious Vehicle\", \"Traf Violation Cite\", \"Traffic Stop\", \"Trespasser\", \"Vandalism\", \"Well Being Check\"], \"xaxis\": \"x\", \"y\": [28, 11, 10, 33, 18, 19, 49, 11, 17, 17, 11, 193, 13, 14, 42, 22, 36, 79, 27, 12, 30], \"yaxis\": \"y\"}],\n",
       "                        {\"barmode\": \"relative\", \"legend\": {\"tracegroupgap\": 0}, \"margin\": {\"t\": 60}, \"template\": {\"data\": {\"bar\": [{\"error_x\": {\"color\": \"#2a3f5f\"}, \"error_y\": {\"color\": \"#2a3f5f\"}, \"marker\": {\"line\": {\"color\": \"#E5ECF6\", \"width\": 0.5}}, \"type\": \"bar\"}], \"barpolar\": [{\"marker\": {\"line\": {\"color\": \"#E5ECF6\", \"width\": 0.5}}, \"type\": \"barpolar\"}], \"carpet\": [{\"aaxis\": {\"endlinecolor\": \"#2a3f5f\", \"gridcolor\": \"white\", \"linecolor\": \"white\", \"minorgridcolor\": \"white\", \"startlinecolor\": \"#2a3f5f\"}, \"baxis\": {\"endlinecolor\": \"#2a3f5f\", \"gridcolor\": \"white\", \"linecolor\": \"white\", \"minorgridcolor\": \"white\", \"startlinecolor\": \"#2a3f5f\"}, \"type\": \"carpet\"}], \"choropleth\": [{\"colorbar\": {\"outlinewidth\": 0, \"ticks\": \"\"}, \"type\": \"choropleth\"}], \"contour\": [{\"colorbar\": {\"outlinewidth\": 0, \"ticks\": \"\"}, \"colorscale\": [[0.0, \"#0d0887\"], [0.1111111111111111, \"#46039f\"], [0.2222222222222222, \"#7201a8\"], [0.3333333333333333, \"#9c179e\"], [0.4444444444444444, \"#bd3786\"], [0.5555555555555556, \"#d8576b\"], [0.6666666666666666, \"#ed7953\"], [0.7777777777777778, \"#fb9f3a\"], [0.8888888888888888, \"#fdca26\"], [1.0, \"#f0f921\"]], \"type\": \"contour\"}], \"contourcarpet\": [{\"colorbar\": {\"outlinewidth\": 0, \"ticks\": \"\"}, \"type\": \"contourcarpet\"}], \"heatmap\": [{\"colorbar\": {\"outlinewidth\": 0, \"ticks\": \"\"}, \"colorscale\": [[0.0, \"#0d0887\"], [0.1111111111111111, \"#46039f\"], [0.2222222222222222, \"#7201a8\"], [0.3333333333333333, \"#9c179e\"], [0.4444444444444444, \"#bd3786\"], [0.5555555555555556, \"#d8576b\"], [0.6666666666666666, \"#ed7953\"], [0.7777777777777778, \"#fb9f3a\"], [0.8888888888888888, \"#fdca26\"], [1.0, \"#f0f921\"]], \"type\": \"heatmap\"}], \"heatmapgl\": [{\"colorbar\": {\"outlinewidth\": 0, \"ticks\": \"\"}, \"colorscale\": [[0.0, \"#0d0887\"], [0.1111111111111111, \"#46039f\"], [0.2222222222222222, \"#7201a8\"], [0.3333333333333333, \"#9c179e\"], [0.4444444444444444, \"#bd3786\"], [0.5555555555555556, \"#d8576b\"], [0.6666666666666666, \"#ed7953\"], [0.7777777777777778, \"#fb9f3a\"], [0.8888888888888888, \"#fdca26\"], [1.0, \"#f0f921\"]], \"type\": \"heatmapgl\"}], \"histogram\": [{\"marker\": {\"colorbar\": {\"outlinewidth\": 0, \"ticks\": \"\"}}, \"type\": \"histogram\"}], \"histogram2d\": [{\"colorbar\": {\"outlinewidth\": 0, \"ticks\": \"\"}, \"colorscale\": [[0.0, \"#0d0887\"], [0.1111111111111111, \"#46039f\"], [0.2222222222222222, \"#7201a8\"], [0.3333333333333333, \"#9c179e\"], [0.4444444444444444, \"#bd3786\"], [0.5555555555555556, \"#d8576b\"], [0.6666666666666666, \"#ed7953\"], [0.7777777777777778, \"#fb9f3a\"], [0.8888888888888888, \"#fdca26\"], [1.0, \"#f0f921\"]], \"type\": \"histogram2d\"}], \"histogram2dcontour\": [{\"colorbar\": {\"outlinewidth\": 0, \"ticks\": \"\"}, \"colorscale\": [[0.0, \"#0d0887\"], [0.1111111111111111, \"#46039f\"], [0.2222222222222222, \"#7201a8\"], [0.3333333333333333, \"#9c179e\"], [0.4444444444444444, \"#bd3786\"], [0.5555555555555556, \"#d8576b\"], [0.6666666666666666, \"#ed7953\"], [0.7777777777777778, \"#fb9f3a\"], [0.8888888888888888, \"#fdca26\"], [1.0, \"#f0f921\"]], \"type\": \"histogram2dcontour\"}], \"mesh3d\": [{\"colorbar\": {\"outlinewidth\": 0, \"ticks\": \"\"}, \"type\": \"mesh3d\"}], \"parcoords\": [{\"line\": {\"colorbar\": {\"outlinewidth\": 0, \"ticks\": \"\"}}, \"type\": \"parcoords\"}], \"pie\": [{\"automargin\": true, \"type\": \"pie\"}], \"scatter\": [{\"marker\": {\"colorbar\": {\"outlinewidth\": 0, \"ticks\": \"\"}}, \"type\": \"scatter\"}], \"scatter3d\": [{\"line\": {\"colorbar\": {\"outlinewidth\": 0, \"ticks\": \"\"}}, \"marker\": {\"colorbar\": {\"outlinewidth\": 0, \"ticks\": \"\"}}, \"type\": \"scatter3d\"}], \"scattercarpet\": [{\"marker\": {\"colorbar\": {\"outlinewidth\": 0, \"ticks\": \"\"}}, \"type\": \"scattercarpet\"}], \"scattergeo\": [{\"marker\": {\"colorbar\": {\"outlinewidth\": 0, \"ticks\": \"\"}}, \"type\": \"scattergeo\"}], \"scattergl\": [{\"marker\": {\"colorbar\": {\"outlinewidth\": 0, \"ticks\": \"\"}}, \"type\": \"scattergl\"}], \"scattermapbox\": [{\"marker\": {\"colorbar\": {\"outlinewidth\": 0, \"ticks\": \"\"}}, \"type\": \"scattermapbox\"}], \"scatterpolar\": [{\"marker\": {\"colorbar\": {\"outlinewidth\": 0, \"ticks\": \"\"}}, \"type\": \"scatterpolar\"}], \"scatterpolargl\": [{\"marker\": {\"colorbar\": {\"outlinewidth\": 0, \"ticks\": \"\"}}, \"type\": \"scatterpolargl\"}], \"scatterternary\": [{\"marker\": {\"colorbar\": {\"outlinewidth\": 0, \"ticks\": \"\"}}, \"type\": \"scatterternary\"}], \"surface\": [{\"colorbar\": {\"outlinewidth\": 0, \"ticks\": \"\"}, \"colorscale\": [[0.0, \"#0d0887\"], [0.1111111111111111, \"#46039f\"], [0.2222222222222222, \"#7201a8\"], [0.3333333333333333, \"#9c179e\"], [0.4444444444444444, \"#bd3786\"], [0.5555555555555556, \"#d8576b\"], [0.6666666666666666, \"#ed7953\"], [0.7777777777777778, \"#fb9f3a\"], [0.8888888888888888, \"#fdca26\"], [1.0, \"#f0f921\"]], \"type\": \"surface\"}], \"table\": [{\"cells\": {\"fill\": {\"color\": \"#EBF0F8\"}, \"line\": {\"color\": \"white\"}}, \"header\": {\"fill\": {\"color\": \"#C8D4E3\"}, \"line\": {\"color\": \"white\"}}, \"type\": \"table\"}]}, \"layout\": {\"annotationdefaults\": {\"arrowcolor\": \"#2a3f5f\", \"arrowhead\": 0, \"arrowwidth\": 1}, \"coloraxis\": {\"colorbar\": {\"outlinewidth\": 0, \"ticks\": \"\"}}, \"colorscale\": {\"diverging\": [[0, \"#8e0152\"], [0.1, \"#c51b7d\"], [0.2, \"#de77ae\"], [0.3, \"#f1b6da\"], [0.4, \"#fde0ef\"], [0.5, \"#f7f7f7\"], [0.6, \"#e6f5d0\"], [0.7, \"#b8e186\"], [0.8, \"#7fbc41\"], [0.9, \"#4d9221\"], [1, \"#276419\"]], \"sequential\": [[0.0, \"#0d0887\"], [0.1111111111111111, \"#46039f\"], [0.2222222222222222, \"#7201a8\"], [0.3333333333333333, \"#9c179e\"], [0.4444444444444444, \"#bd3786\"], [0.5555555555555556, \"#d8576b\"], [0.6666666666666666, \"#ed7953\"], [0.7777777777777778, \"#fb9f3a\"], [0.8888888888888888, \"#fdca26\"], [1.0, \"#f0f921\"]], \"sequentialminus\": [[0.0, \"#0d0887\"], [0.1111111111111111, \"#46039f\"], [0.2222222222222222, \"#7201a8\"], [0.3333333333333333, \"#9c179e\"], [0.4444444444444444, \"#bd3786\"], [0.5555555555555556, \"#d8576b\"], [0.6666666666666666, \"#ed7953\"], [0.7777777777777778, \"#fb9f3a\"], [0.8888888888888888, \"#fdca26\"], [1.0, \"#f0f921\"]]}, \"colorway\": [\"#636efa\", \"#EF553B\", \"#00cc96\", \"#ab63fa\", \"#FFA15A\", \"#19d3f3\", \"#FF6692\", \"#B6E880\", \"#FF97FF\", \"#FECB52\"], \"font\": {\"color\": \"#2a3f5f\"}, \"geo\": {\"bgcolor\": \"white\", \"lakecolor\": \"white\", \"landcolor\": \"#E5ECF6\", \"showlakes\": true, \"showland\": true, \"subunitcolor\": \"white\"}, \"hoverlabel\": {\"align\": \"left\"}, \"hovermode\": \"closest\", \"mapbox\": {\"style\": \"light\"}, \"paper_bgcolor\": \"white\", \"plot_bgcolor\": \"#E5ECF6\", \"polar\": {\"angularaxis\": {\"gridcolor\": \"white\", \"linecolor\": \"white\", \"ticks\": \"\"}, \"bgcolor\": \"#E5ECF6\", \"radialaxis\": {\"gridcolor\": \"white\", \"linecolor\": \"white\", \"ticks\": \"\"}}, \"scene\": {\"xaxis\": {\"backgroundcolor\": \"#E5ECF6\", \"gridcolor\": \"white\", \"gridwidth\": 2, \"linecolor\": \"white\", \"showbackground\": true, \"ticks\": \"\", \"zerolinecolor\": \"white\"}, \"yaxis\": {\"backgroundcolor\": \"#E5ECF6\", \"gridcolor\": \"white\", \"gridwidth\": 2, \"linecolor\": \"white\", \"showbackground\": true, \"ticks\": \"\", \"zerolinecolor\": \"white\"}, \"zaxis\": {\"backgroundcolor\": \"#E5ECF6\", \"gridcolor\": \"white\", \"gridwidth\": 2, \"linecolor\": \"white\", \"showbackground\": true, \"ticks\": \"\", \"zerolinecolor\": \"white\"}}, \"shapedefaults\": {\"line\": {\"color\": \"#2a3f5f\"}}, \"ternary\": {\"aaxis\": {\"gridcolor\": \"white\", \"linecolor\": \"white\", \"ticks\": \"\"}, \"baxis\": {\"gridcolor\": \"white\", \"linecolor\": \"white\", \"ticks\": \"\"}, \"bgcolor\": \"#E5ECF6\", \"caxis\": {\"gridcolor\": \"white\", \"linecolor\": \"white\", \"ticks\": \"\"}}, \"title\": {\"x\": 0.05}, \"xaxis\": {\"automargin\": true, \"gridcolor\": \"white\", \"linecolor\": \"white\", \"ticks\": \"\", \"title\": {\"standoff\": 15}, \"zerolinecolor\": \"white\", \"zerolinewidth\": 2}, \"yaxis\": {\"automargin\": true, \"gridcolor\": \"white\", \"linecolor\": \"white\", \"ticks\": \"\", \"title\": {\"standoff\": 15}, \"zerolinecolor\": \"white\", \"zerolinewidth\": 2}}}, \"xaxis\": {\"anchor\": \"y\", \"domain\": [0.0, 1.0], \"title\": {\"text\": \"original_crimetype_name\"}}, \"yaxis\": {\"anchor\": \"x\", \"domain\": [0.0, 1.0], \"title\": {\"text\": \"count\"}}},\n",
       "                        {\"responsive\": true}\n",
       "                    ).then(function(){\n",
       "                            \n",
       "var gd = document.getElementById('097a64a6-d2d9-438a-a579-61bcccfeb072');\n",
       "var x = new MutationObserver(function (mutations, observer) {{\n",
       "        var display = window.getComputedStyle(gd).display;\n",
       "        if (!display || display === 'none') {{\n",
       "            console.log([gd, 'removed!']);\n",
       "            Plotly.purge(gd);\n",
       "            observer.disconnect();\n",
       "        }}\n",
       "}});\n",
       "\n",
       "// Listen for the removal of the full notebook cells\n",
       "var notebookContainer = gd.closest('#notebook-container');\n",
       "if (notebookContainer) {{\n",
       "    x.observe(notebookContainer, {childList: true});\n",
       "}}\n",
       "\n",
       "// Listen for the clearing of the current output cell\n",
       "var outputEl = gd.closest('.output');\n",
       "if (outputEl) {{\n",
       "    x.observe(outputEl, {childList: true});\n",
       "}}\n",
       "\n",
       "                        })\n",
       "                };\n",
       "                });\n",
       "            </script>\n",
       "        </div>"
      ]
     },
     "metadata": {},
     "output_type": "display_data"
    }
   ],
   "source": [
    "import plotly.express as px\n",
    "fig = px.bar(df_by_name[df_by_name['count']>=10], x='original_crimetype_name', y='count')\n",
    "fig.show()"
   ]
  },
  {
   "cell_type": "code",
   "execution_count": 31,
   "metadata": {},
   "outputs": [],
   "source": [
    "df['year'] = [x[:4] for x in df['report_date']]\n",
    "df_by_year = df[['year', 'count']].groupby('yebar').sum().reset_index()"
   ]
  },
  {
   "cell_type": "code",
   "execution_count": 33,
   "metadata": {},
   "outputs": [
    {
     "data": {
      "application/vnd.plotly.v1+json": {
       "config": {
        "plotlyServerURL": "https://plot.ly"
       },
       "data": [
        {
         "hovertemplate": "year=%{x}<br>count=%{y}<extra></extra>",
         "legendgroup": "",
         "line": {
          "color": "#636efa",
          "dash": "solid"
         },
         "mode": "lines",
         "name": "",
         "orientation": "v",
         "showlegend": false,
         "type": "scatter",
         "x": [
          "2016",
          "2018",
          "2019"
         ],
         "xaxis": "x",
         "y": [
          149,
          3,
          848
         ],
         "yaxis": "y"
        }
       ],
       "layout": {
        "legend": {
         "tracegroupgap": 0
        },
        "margin": {
         "t": 60
        },
        "template": {
         "data": {
          "bar": [
           {
            "error_x": {
             "color": "#2a3f5f"
            },
            "error_y": {
             "color": "#2a3f5f"
            },
            "marker": {
             "line": {
              "color": "#E5ECF6",
              "width": 0.5
             }
            },
            "type": "bar"
           }
          ],
          "barpolar": [
           {
            "marker": {
             "line": {
              "color": "#E5ECF6",
              "width": 0.5
             }
            },
            "type": "barpolar"
           }
          ],
          "carpet": [
           {
            "aaxis": {
             "endlinecolor": "#2a3f5f",
             "gridcolor": "white",
             "linecolor": "white",
             "minorgridcolor": "white",
             "startlinecolor": "#2a3f5f"
            },
            "baxis": {
             "endlinecolor": "#2a3f5f",
             "gridcolor": "white",
             "linecolor": "white",
             "minorgridcolor": "white",
             "startlinecolor": "#2a3f5f"
            },
            "type": "carpet"
           }
          ],
          "choropleth": [
           {
            "colorbar": {
             "outlinewidth": 0,
             "ticks": ""
            },
            "type": "choropleth"
           }
          ],
          "contour": [
           {
            "colorbar": {
             "outlinewidth": 0,
             "ticks": ""
            },
            "colorscale": [
             [
              0,
              "#0d0887"
             ],
             [
              0.1111111111111111,
              "#46039f"
             ],
             [
              0.2222222222222222,
              "#7201a8"
             ],
             [
              0.3333333333333333,
              "#9c179e"
             ],
             [
              0.4444444444444444,
              "#bd3786"
             ],
             [
              0.5555555555555556,
              "#d8576b"
             ],
             [
              0.6666666666666666,
              "#ed7953"
             ],
             [
              0.7777777777777778,
              "#fb9f3a"
             ],
             [
              0.8888888888888888,
              "#fdca26"
             ],
             [
              1,
              "#f0f921"
             ]
            ],
            "type": "contour"
           }
          ],
          "contourcarpet": [
           {
            "colorbar": {
             "outlinewidth": 0,
             "ticks": ""
            },
            "type": "contourcarpet"
           }
          ],
          "heatmap": [
           {
            "colorbar": {
             "outlinewidth": 0,
             "ticks": ""
            },
            "colorscale": [
             [
              0,
              "#0d0887"
             ],
             [
              0.1111111111111111,
              "#46039f"
             ],
             [
              0.2222222222222222,
              "#7201a8"
             ],
             [
              0.3333333333333333,
              "#9c179e"
             ],
             [
              0.4444444444444444,
              "#bd3786"
             ],
             [
              0.5555555555555556,
              "#d8576b"
             ],
             [
              0.6666666666666666,
              "#ed7953"
             ],
             [
              0.7777777777777778,
              "#fb9f3a"
             ],
             [
              0.8888888888888888,
              "#fdca26"
             ],
             [
              1,
              "#f0f921"
             ]
            ],
            "type": "heatmap"
           }
          ],
          "heatmapgl": [
           {
            "colorbar": {
             "outlinewidth": 0,
             "ticks": ""
            },
            "colorscale": [
             [
              0,
              "#0d0887"
             ],
             [
              0.1111111111111111,
              "#46039f"
             ],
             [
              0.2222222222222222,
              "#7201a8"
             ],
             [
              0.3333333333333333,
              "#9c179e"
             ],
             [
              0.4444444444444444,
              "#bd3786"
             ],
             [
              0.5555555555555556,
              "#d8576b"
             ],
             [
              0.6666666666666666,
              "#ed7953"
             ],
             [
              0.7777777777777778,
              "#fb9f3a"
             ],
             [
              0.8888888888888888,
              "#fdca26"
             ],
             [
              1,
              "#f0f921"
             ]
            ],
            "type": "heatmapgl"
           }
          ],
          "histogram": [
           {
            "marker": {
             "colorbar": {
              "outlinewidth": 0,
              "ticks": ""
             }
            },
            "type": "histogram"
           }
          ],
          "histogram2d": [
           {
            "colorbar": {
             "outlinewidth": 0,
             "ticks": ""
            },
            "colorscale": [
             [
              0,
              "#0d0887"
             ],
             [
              0.1111111111111111,
              "#46039f"
             ],
             [
              0.2222222222222222,
              "#7201a8"
             ],
             [
              0.3333333333333333,
              "#9c179e"
             ],
             [
              0.4444444444444444,
              "#bd3786"
             ],
             [
              0.5555555555555556,
              "#d8576b"
             ],
             [
              0.6666666666666666,
              "#ed7953"
             ],
             [
              0.7777777777777778,
              "#fb9f3a"
             ],
             [
              0.8888888888888888,
              "#fdca26"
             ],
             [
              1,
              "#f0f921"
             ]
            ],
            "type": "histogram2d"
           }
          ],
          "histogram2dcontour": [
           {
            "colorbar": {
             "outlinewidth": 0,
             "ticks": ""
            },
            "colorscale": [
             [
              0,
              "#0d0887"
             ],
             [
              0.1111111111111111,
              "#46039f"
             ],
             [
              0.2222222222222222,
              "#7201a8"
             ],
             [
              0.3333333333333333,
              "#9c179e"
             ],
             [
              0.4444444444444444,
              "#bd3786"
             ],
             [
              0.5555555555555556,
              "#d8576b"
             ],
             [
              0.6666666666666666,
              "#ed7953"
             ],
             [
              0.7777777777777778,
              "#fb9f3a"
             ],
             [
              0.8888888888888888,
              "#fdca26"
             ],
             [
              1,
              "#f0f921"
             ]
            ],
            "type": "histogram2dcontour"
           }
          ],
          "mesh3d": [
           {
            "colorbar": {
             "outlinewidth": 0,
             "ticks": ""
            },
            "type": "mesh3d"
           }
          ],
          "parcoords": [
           {
            "line": {
             "colorbar": {
              "outlinewidth": 0,
              "ticks": ""
             }
            },
            "type": "parcoords"
           }
          ],
          "pie": [
           {
            "automargin": true,
            "type": "pie"
           }
          ],
          "scatter": [
           {
            "marker": {
             "colorbar": {
              "outlinewidth": 0,
              "ticks": ""
             }
            },
            "type": "scatter"
           }
          ],
          "scatter3d": [
           {
            "line": {
             "colorbar": {
              "outlinewidth": 0,
              "ticks": ""
             }
            },
            "marker": {
             "colorbar": {
              "outlinewidth": 0,
              "ticks": ""
             }
            },
            "type": "scatter3d"
           }
          ],
          "scattercarpet": [
           {
            "marker": {
             "colorbar": {
              "outlinewidth": 0,
              "ticks": ""
             }
            },
            "type": "scattercarpet"
           }
          ],
          "scattergeo": [
           {
            "marker": {
             "colorbar": {
              "outlinewidth": 0,
              "ticks": ""
             }
            },
            "type": "scattergeo"
           }
          ],
          "scattergl": [
           {
            "marker": {
             "colorbar": {
              "outlinewidth": 0,
              "ticks": ""
             }
            },
            "type": "scattergl"
           }
          ],
          "scattermapbox": [
           {
            "marker": {
             "colorbar": {
              "outlinewidth": 0,
              "ticks": ""
             }
            },
            "type": "scattermapbox"
           }
          ],
          "scatterpolar": [
           {
            "marker": {
             "colorbar": {
              "outlinewidth": 0,
              "ticks": ""
             }
            },
            "type": "scatterpolar"
           }
          ],
          "scatterpolargl": [
           {
            "marker": {
             "colorbar": {
              "outlinewidth": 0,
              "ticks": ""
             }
            },
            "type": "scatterpolargl"
           }
          ],
          "scatterternary": [
           {
            "marker": {
             "colorbar": {
              "outlinewidth": 0,
              "ticks": ""
             }
            },
            "type": "scatterternary"
           }
          ],
          "surface": [
           {
            "colorbar": {
             "outlinewidth": 0,
             "ticks": ""
            },
            "colorscale": [
             [
              0,
              "#0d0887"
             ],
             [
              0.1111111111111111,
              "#46039f"
             ],
             [
              0.2222222222222222,
              "#7201a8"
             ],
             [
              0.3333333333333333,
              "#9c179e"
             ],
             [
              0.4444444444444444,
              "#bd3786"
             ],
             [
              0.5555555555555556,
              "#d8576b"
             ],
             [
              0.6666666666666666,
              "#ed7953"
             ],
             [
              0.7777777777777778,
              "#fb9f3a"
             ],
             [
              0.8888888888888888,
              "#fdca26"
             ],
             [
              1,
              "#f0f921"
             ]
            ],
            "type": "surface"
           }
          ],
          "table": [
           {
            "cells": {
             "fill": {
              "color": "#EBF0F8"
             },
             "line": {
              "color": "white"
             }
            },
            "header": {
             "fill": {
              "color": "#C8D4E3"
             },
             "line": {
              "color": "white"
             }
            },
            "type": "table"
           }
          ]
         },
         "layout": {
          "annotationdefaults": {
           "arrowcolor": "#2a3f5f",
           "arrowhead": 0,
           "arrowwidth": 1
          },
          "coloraxis": {
           "colorbar": {
            "outlinewidth": 0,
            "ticks": ""
           }
          },
          "colorscale": {
           "diverging": [
            [
             0,
             "#8e0152"
            ],
            [
             0.1,
             "#c51b7d"
            ],
            [
             0.2,
             "#de77ae"
            ],
            [
             0.3,
             "#f1b6da"
            ],
            [
             0.4,
             "#fde0ef"
            ],
            [
             0.5,
             "#f7f7f7"
            ],
            [
             0.6,
             "#e6f5d0"
            ],
            [
             0.7,
             "#b8e186"
            ],
            [
             0.8,
             "#7fbc41"
            ],
            [
             0.9,
             "#4d9221"
            ],
            [
             1,
             "#276419"
            ]
           ],
           "sequential": [
            [
             0,
             "#0d0887"
            ],
            [
             0.1111111111111111,
             "#46039f"
            ],
            [
             0.2222222222222222,
             "#7201a8"
            ],
            [
             0.3333333333333333,
             "#9c179e"
            ],
            [
             0.4444444444444444,
             "#bd3786"
            ],
            [
             0.5555555555555556,
             "#d8576b"
            ],
            [
             0.6666666666666666,
             "#ed7953"
            ],
            [
             0.7777777777777778,
             "#fb9f3a"
            ],
            [
             0.8888888888888888,
             "#fdca26"
            ],
            [
             1,
             "#f0f921"
            ]
           ],
           "sequentialminus": [
            [
             0,
             "#0d0887"
            ],
            [
             0.1111111111111111,
             "#46039f"
            ],
            [
             0.2222222222222222,
             "#7201a8"
            ],
            [
             0.3333333333333333,
             "#9c179e"
            ],
            [
             0.4444444444444444,
             "#bd3786"
            ],
            [
             0.5555555555555556,
             "#d8576b"
            ],
            [
             0.6666666666666666,
             "#ed7953"
            ],
            [
             0.7777777777777778,
             "#fb9f3a"
            ],
            [
             0.8888888888888888,
             "#fdca26"
            ],
            [
             1,
             "#f0f921"
            ]
           ]
          },
          "colorway": [
           "#636efa",
           "#EF553B",
           "#00cc96",
           "#ab63fa",
           "#FFA15A",
           "#19d3f3",
           "#FF6692",
           "#B6E880",
           "#FF97FF",
           "#FECB52"
          ],
          "font": {
           "color": "#2a3f5f"
          },
          "geo": {
           "bgcolor": "white",
           "lakecolor": "white",
           "landcolor": "#E5ECF6",
           "showlakes": true,
           "showland": true,
           "subunitcolor": "white"
          },
          "hoverlabel": {
           "align": "left"
          },
          "hovermode": "closest",
          "mapbox": {
           "style": "light"
          },
          "paper_bgcolor": "white",
          "plot_bgcolor": "#E5ECF6",
          "polar": {
           "angularaxis": {
            "gridcolor": "white",
            "linecolor": "white",
            "ticks": ""
           },
           "bgcolor": "#E5ECF6",
           "radialaxis": {
            "gridcolor": "white",
            "linecolor": "white",
            "ticks": ""
           }
          },
          "scene": {
           "xaxis": {
            "backgroundcolor": "#E5ECF6",
            "gridcolor": "white",
            "gridwidth": 2,
            "linecolor": "white",
            "showbackground": true,
            "ticks": "",
            "zerolinecolor": "white"
           },
           "yaxis": {
            "backgroundcolor": "#E5ECF6",
            "gridcolor": "white",
            "gridwidth": 2,
            "linecolor": "white",
            "showbackground": true,
            "ticks": "",
            "zerolinecolor": "white"
           },
           "zaxis": {
            "backgroundcolor": "#E5ECF6",
            "gridcolor": "white",
            "gridwidth": 2,
            "linecolor": "white",
            "showbackground": true,
            "ticks": "",
            "zerolinecolor": "white"
           }
          },
          "shapedefaults": {
           "line": {
            "color": "#2a3f5f"
           }
          },
          "ternary": {
           "aaxis": {
            "gridcolor": "white",
            "linecolor": "white",
            "ticks": ""
           },
           "baxis": {
            "gridcolor": "white",
            "linecolor": "white",
            "ticks": ""
           },
           "bgcolor": "#E5ECF6",
           "caxis": {
            "gridcolor": "white",
            "linecolor": "white",
            "ticks": ""
           }
          },
          "title": {
           "x": 0.05
          },
          "xaxis": {
           "automargin": true,
           "gridcolor": "white",
           "linecolor": "white",
           "ticks": "",
           "title": {
            "standoff": 15
           },
           "zerolinecolor": "white",
           "zerolinewidth": 2
          },
          "yaxis": {
           "automargin": true,
           "gridcolor": "white",
           "linecolor": "white",
           "ticks": "",
           "title": {
            "standoff": 15
           },
           "zerolinecolor": "white",
           "zerolinewidth": 2
          }
         }
        },
        "xaxis": {
         "anchor": "y",
         "domain": [
          0,
          1
         ],
         "title": {
          "text": "year"
         }
        },
        "yaxis": {
         "anchor": "x",
         "domain": [
          0,
          1
         ],
         "title": {
          "text": "count"
         }
        }
       }
      },
      "text/html": [
       "<div>\n",
       "        \n",
       "        \n",
       "            <div id=\"fb08056b-a192-4511-bd6f-bf24e050cd68\" class=\"plotly-graph-div\" style=\"height:525px; width:100%;\"></div>\n",
       "            <script type=\"text/javascript\">\n",
       "                require([\"plotly\"], function(Plotly) {\n",
       "                    window.PLOTLYENV=window.PLOTLYENV || {};\n",
       "                    \n",
       "                if (document.getElementById(\"fb08056b-a192-4511-bd6f-bf24e050cd68\")) {\n",
       "                    Plotly.newPlot(\n",
       "                        'fb08056b-a192-4511-bd6f-bf24e050cd68',\n",
       "                        [{\"hovertemplate\": \"year=%{x}<br>count=%{y}<extra></extra>\", \"legendgroup\": \"\", \"line\": {\"color\": \"#636efa\", \"dash\": \"solid\"}, \"mode\": \"lines\", \"name\": \"\", \"orientation\": \"v\", \"showlegend\": false, \"type\": \"scatter\", \"x\": [\"2016\", \"2018\", \"2019\"], \"xaxis\": \"x\", \"y\": [149, 3, 848], \"yaxis\": \"y\"}],\n",
       "                        {\"legend\": {\"tracegroupgap\": 0}, \"margin\": {\"t\": 60}, \"template\": {\"data\": {\"bar\": [{\"error_x\": {\"color\": \"#2a3f5f\"}, \"error_y\": {\"color\": \"#2a3f5f\"}, \"marker\": {\"line\": {\"color\": \"#E5ECF6\", \"width\": 0.5}}, \"type\": \"bar\"}], \"barpolar\": [{\"marker\": {\"line\": {\"color\": \"#E5ECF6\", \"width\": 0.5}}, \"type\": \"barpolar\"}], \"carpet\": [{\"aaxis\": {\"endlinecolor\": \"#2a3f5f\", \"gridcolor\": \"white\", \"linecolor\": \"white\", \"minorgridcolor\": \"white\", \"startlinecolor\": \"#2a3f5f\"}, \"baxis\": {\"endlinecolor\": \"#2a3f5f\", \"gridcolor\": \"white\", \"linecolor\": \"white\", \"minorgridcolor\": \"white\", \"startlinecolor\": \"#2a3f5f\"}, \"type\": \"carpet\"}], \"choropleth\": [{\"colorbar\": {\"outlinewidth\": 0, \"ticks\": \"\"}, \"type\": \"choropleth\"}], \"contour\": [{\"colorbar\": {\"outlinewidth\": 0, \"ticks\": \"\"}, \"colorscale\": [[0.0, \"#0d0887\"], [0.1111111111111111, \"#46039f\"], [0.2222222222222222, \"#7201a8\"], [0.3333333333333333, \"#9c179e\"], [0.4444444444444444, \"#bd3786\"], [0.5555555555555556, \"#d8576b\"], [0.6666666666666666, \"#ed7953\"], [0.7777777777777778, \"#fb9f3a\"], [0.8888888888888888, \"#fdca26\"], [1.0, \"#f0f921\"]], \"type\": \"contour\"}], \"contourcarpet\": [{\"colorbar\": {\"outlinewidth\": 0, \"ticks\": \"\"}, \"type\": \"contourcarpet\"}], \"heatmap\": [{\"colorbar\": {\"outlinewidth\": 0, \"ticks\": \"\"}, \"colorscale\": [[0.0, \"#0d0887\"], [0.1111111111111111, \"#46039f\"], [0.2222222222222222, \"#7201a8\"], [0.3333333333333333, \"#9c179e\"], [0.4444444444444444, \"#bd3786\"], [0.5555555555555556, \"#d8576b\"], [0.6666666666666666, \"#ed7953\"], [0.7777777777777778, \"#fb9f3a\"], [0.8888888888888888, \"#fdca26\"], [1.0, \"#f0f921\"]], \"type\": \"heatmap\"}], \"heatmapgl\": [{\"colorbar\": {\"outlinewidth\": 0, \"ticks\": \"\"}, \"colorscale\": [[0.0, \"#0d0887\"], [0.1111111111111111, \"#46039f\"], [0.2222222222222222, \"#7201a8\"], [0.3333333333333333, \"#9c179e\"], [0.4444444444444444, \"#bd3786\"], [0.5555555555555556, \"#d8576b\"], [0.6666666666666666, \"#ed7953\"], [0.7777777777777778, \"#fb9f3a\"], [0.8888888888888888, \"#fdca26\"], [1.0, \"#f0f921\"]], \"type\": \"heatmapgl\"}], \"histogram\": [{\"marker\": {\"colorbar\": {\"outlinewidth\": 0, \"ticks\": \"\"}}, \"type\": \"histogram\"}], \"histogram2d\": [{\"colorbar\": {\"outlinewidth\": 0, \"ticks\": \"\"}, \"colorscale\": [[0.0, \"#0d0887\"], [0.1111111111111111, \"#46039f\"], [0.2222222222222222, \"#7201a8\"], [0.3333333333333333, \"#9c179e\"], [0.4444444444444444, \"#bd3786\"], [0.5555555555555556, \"#d8576b\"], [0.6666666666666666, \"#ed7953\"], [0.7777777777777778, \"#fb9f3a\"], [0.8888888888888888, \"#fdca26\"], [1.0, \"#f0f921\"]], \"type\": \"histogram2d\"}], \"histogram2dcontour\": [{\"colorbar\": {\"outlinewidth\": 0, \"ticks\": \"\"}, \"colorscale\": [[0.0, \"#0d0887\"], [0.1111111111111111, \"#46039f\"], [0.2222222222222222, \"#7201a8\"], [0.3333333333333333, \"#9c179e\"], [0.4444444444444444, \"#bd3786\"], [0.5555555555555556, \"#d8576b\"], [0.6666666666666666, \"#ed7953\"], [0.7777777777777778, \"#fb9f3a\"], [0.8888888888888888, \"#fdca26\"], [1.0, \"#f0f921\"]], \"type\": \"histogram2dcontour\"}], \"mesh3d\": [{\"colorbar\": {\"outlinewidth\": 0, \"ticks\": \"\"}, \"type\": \"mesh3d\"}], \"parcoords\": [{\"line\": {\"colorbar\": {\"outlinewidth\": 0, \"ticks\": \"\"}}, \"type\": \"parcoords\"}], \"pie\": [{\"automargin\": true, \"type\": \"pie\"}], \"scatter\": [{\"marker\": {\"colorbar\": {\"outlinewidth\": 0, \"ticks\": \"\"}}, \"type\": \"scatter\"}], \"scatter3d\": [{\"line\": {\"colorbar\": {\"outlinewidth\": 0, \"ticks\": \"\"}}, \"marker\": {\"colorbar\": {\"outlinewidth\": 0, \"ticks\": \"\"}}, \"type\": \"scatter3d\"}], \"scattercarpet\": [{\"marker\": {\"colorbar\": {\"outlinewidth\": 0, \"ticks\": \"\"}}, \"type\": \"scattercarpet\"}], \"scattergeo\": [{\"marker\": {\"colorbar\": {\"outlinewidth\": 0, \"ticks\": \"\"}}, \"type\": \"scattergeo\"}], \"scattergl\": [{\"marker\": {\"colorbar\": {\"outlinewidth\": 0, \"ticks\": \"\"}}, \"type\": \"scattergl\"}], \"scattermapbox\": [{\"marker\": {\"colorbar\": {\"outlinewidth\": 0, \"ticks\": \"\"}}, \"type\": \"scattermapbox\"}], \"scatterpolar\": [{\"marker\": {\"colorbar\": {\"outlinewidth\": 0, \"ticks\": \"\"}}, \"type\": \"scatterpolar\"}], \"scatterpolargl\": [{\"marker\": {\"colorbar\": {\"outlinewidth\": 0, \"ticks\": \"\"}}, \"type\": \"scatterpolargl\"}], \"scatterternary\": [{\"marker\": {\"colorbar\": {\"outlinewidth\": 0, \"ticks\": \"\"}}, \"type\": \"scatterternary\"}], \"surface\": [{\"colorbar\": {\"outlinewidth\": 0, \"ticks\": \"\"}, \"colorscale\": [[0.0, \"#0d0887\"], [0.1111111111111111, \"#46039f\"], [0.2222222222222222, \"#7201a8\"], [0.3333333333333333, \"#9c179e\"], [0.4444444444444444, \"#bd3786\"], [0.5555555555555556, \"#d8576b\"], [0.6666666666666666, \"#ed7953\"], [0.7777777777777778, \"#fb9f3a\"], [0.8888888888888888, \"#fdca26\"], [1.0, \"#f0f921\"]], \"type\": \"surface\"}], \"table\": [{\"cells\": {\"fill\": {\"color\": \"#EBF0F8\"}, \"line\": {\"color\": \"white\"}}, \"header\": {\"fill\": {\"color\": \"#C8D4E3\"}, \"line\": {\"color\": \"white\"}}, \"type\": \"table\"}]}, \"layout\": {\"annotationdefaults\": {\"arrowcolor\": \"#2a3f5f\", \"arrowhead\": 0, \"arrowwidth\": 1}, \"coloraxis\": {\"colorbar\": {\"outlinewidth\": 0, \"ticks\": \"\"}}, \"colorscale\": {\"diverging\": [[0, \"#8e0152\"], [0.1, \"#c51b7d\"], [0.2, \"#de77ae\"], [0.3, \"#f1b6da\"], [0.4, \"#fde0ef\"], [0.5, \"#f7f7f7\"], [0.6, \"#e6f5d0\"], [0.7, \"#b8e186\"], [0.8, \"#7fbc41\"], [0.9, \"#4d9221\"], [1, \"#276419\"]], \"sequential\": [[0.0, \"#0d0887\"], [0.1111111111111111, \"#46039f\"], [0.2222222222222222, \"#7201a8\"], [0.3333333333333333, \"#9c179e\"], [0.4444444444444444, \"#bd3786\"], [0.5555555555555556, \"#d8576b\"], [0.6666666666666666, \"#ed7953\"], [0.7777777777777778, \"#fb9f3a\"], [0.8888888888888888, \"#fdca26\"], [1.0, \"#f0f921\"]], \"sequentialminus\": [[0.0, \"#0d0887\"], [0.1111111111111111, \"#46039f\"], [0.2222222222222222, \"#7201a8\"], [0.3333333333333333, \"#9c179e\"], [0.4444444444444444, \"#bd3786\"], [0.5555555555555556, \"#d8576b\"], [0.6666666666666666, \"#ed7953\"], [0.7777777777777778, \"#fb9f3a\"], [0.8888888888888888, \"#fdca26\"], [1.0, \"#f0f921\"]]}, \"colorway\": [\"#636efa\", \"#EF553B\", \"#00cc96\", \"#ab63fa\", \"#FFA15A\", \"#19d3f3\", \"#FF6692\", \"#B6E880\", \"#FF97FF\", \"#FECB52\"], \"font\": {\"color\": \"#2a3f5f\"}, \"geo\": {\"bgcolor\": \"white\", \"lakecolor\": \"white\", \"landcolor\": \"#E5ECF6\", \"showlakes\": true, \"showland\": true, \"subunitcolor\": \"white\"}, \"hoverlabel\": {\"align\": \"left\"}, \"hovermode\": \"closest\", \"mapbox\": {\"style\": \"light\"}, \"paper_bgcolor\": \"white\", \"plot_bgcolor\": \"#E5ECF6\", \"polar\": {\"angularaxis\": {\"gridcolor\": \"white\", \"linecolor\": \"white\", \"ticks\": \"\"}, \"bgcolor\": \"#E5ECF6\", \"radialaxis\": {\"gridcolor\": \"white\", \"linecolor\": \"white\", \"ticks\": \"\"}}, \"scene\": {\"xaxis\": {\"backgroundcolor\": \"#E5ECF6\", \"gridcolor\": \"white\", \"gridwidth\": 2, \"linecolor\": \"white\", \"showbackground\": true, \"ticks\": \"\", \"zerolinecolor\": \"white\"}, \"yaxis\": {\"backgroundcolor\": \"#E5ECF6\", \"gridcolor\": \"white\", \"gridwidth\": 2, \"linecolor\": \"white\", \"showbackground\": true, \"ticks\": \"\", \"zerolinecolor\": \"white\"}, \"zaxis\": {\"backgroundcolor\": \"#E5ECF6\", \"gridcolor\": \"white\", \"gridwidth\": 2, \"linecolor\": \"white\", \"showbackground\": true, \"ticks\": \"\", \"zerolinecolor\": \"white\"}}, \"shapedefaults\": {\"line\": {\"color\": \"#2a3f5f\"}}, \"ternary\": {\"aaxis\": {\"gridcolor\": \"white\", \"linecolor\": \"white\", \"ticks\": \"\"}, \"baxis\": {\"gridcolor\": \"white\", \"linecolor\": \"white\", \"ticks\": \"\"}, \"bgcolor\": \"#E5ECF6\", \"caxis\": {\"gridcolor\": \"white\", \"linecolor\": \"white\", \"ticks\": \"\"}}, \"title\": {\"x\": 0.05}, \"xaxis\": {\"automargin\": true, \"gridcolor\": \"white\", \"linecolor\": \"white\", \"ticks\": \"\", \"title\": {\"standoff\": 15}, \"zerolinecolor\": \"white\", \"zerolinewidth\": 2}, \"yaxis\": {\"automargin\": true, \"gridcolor\": \"white\", \"linecolor\": \"white\", \"ticks\": \"\", \"title\": {\"standoff\": 15}, \"zerolinecolor\": \"white\", \"zerolinewidth\": 2}}}, \"xaxis\": {\"anchor\": \"y\", \"domain\": [0.0, 1.0], \"title\": {\"text\": \"year\"}}, \"yaxis\": {\"anchor\": \"x\", \"domain\": [0.0, 1.0], \"title\": {\"text\": \"count\"}}},\n",
       "                        {\"responsive\": true}\n",
       "                    ).then(function(){\n",
       "                            \n",
       "var gd = document.getElementById('fb08056b-a192-4511-bd6f-bf24e050cd68');\n",
       "var x = new MutationObserver(function (mutations, observer) {{\n",
       "        var display = window.getComputedStyle(gd).display;\n",
       "        if (!display || display === 'none') {{\n",
       "            console.log([gd, 'removed!']);\n",
       "            Plotly.purge(gd);\n",
       "            observer.disconnect();\n",
       "        }}\n",
       "}});\n",
       "\n",
       "// Listen for the removal of the full notebook cells\n",
       "var notebookContainer = gd.closest('#notebook-container');\n",
       "if (notebookContainer) {{\n",
       "    x.observe(notebookContainer, {childList: true});\n",
       "}}\n",
       "\n",
       "// Listen for the clearing of the current output cell\n",
       "var outputEl = gd.closest('.output');\n",
       "if (outputEl) {{\n",
       "    x.observe(outputEl, {childList: true});\n",
       "}}\n",
       "\n",
       "                        })\n",
       "                };\n",
       "                });\n",
       "            </script>\n",
       "        </div>"
      ]
     },
     "metadata": {},
     "output_type": "display_data"
    }
   ],
   "source": [
    "fig = px.line(df_by_year, x='year', y='count')\n",
    "fig.show()"
   ]
  },
  {
   "cell_type": "markdown",
   "metadata": {
    "slideshow": {
     "slide_type": "slide"
    }
   },
   "source": [
    "# 4. For next time"
   ]
  },
  {
   "cell_type": "markdown",
   "metadata": {
    "slideshow": {
     "slide_type": "fragment"
    }
   },
   "source": [
    "1. Create an Mapbox account: https://account.mapbox.com/auth/signup/\n",
    "2. Generate a Mapbox API token: https://account.mapbox.com/access-tokens"
   ]
  },
  {
   "cell_type": "markdown",
   "metadata": {
    "slideshow": {
     "slide_type": "slide"
    }
   },
   "source": [
    "# 5. Questions? "
   ]
  }
 ],
 "metadata": {
  "celltoolbar": "Slideshow",
  "kernelspec": {
   "display_name": "Python 3",
   "language": "python",
   "name": "python3"
  },
  "language_info": {
   "codemirror_mode": {
    "name": "ipython",
    "version": 3
   },
   "file_extension": ".py",
   "mimetype": "text/x-python",
   "name": "python",
   "nbconvert_exporter": "python",
   "pygments_lexer": "ipython3",
   "version": "3.7.6"
  },
  "toc": {
   "base_numbering": 1,
   "nav_menu": {},
   "number_sections": false,
   "sideBar": false,
   "skip_h1_title": false,
   "title_cell": "Table of Contents",
   "title_sidebar": "Contents",
   "toc_cell": false,
   "toc_position": {},
   "toc_section_display": true,
   "toc_window_display": false
  }
 },
 "nbformat": 4,
 "nbformat_minor": 5
}
